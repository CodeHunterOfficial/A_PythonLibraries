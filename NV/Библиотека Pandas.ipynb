{
  "nbformat": 4,
  "nbformat_minor": 0,
  "metadata": {
    "colab": {
      "provenance": [],
      "include_colab_link": true
    },
    "kernelspec": {
      "name": "python3",
      "display_name": "Python 3"
    },
    "language_info": {
      "name": "python"
    }
  },
  "cells": [
    {
      "cell_type": "markdown",
      "metadata": {
        "id": "view-in-github",
        "colab_type": "text"
      },
      "source": [
        "<a href=\"https://colab.research.google.com/github/CodeHunterOfficial/A_PythonLibraries/blob/main/NV/%D0%91%D0%B8%D0%B1%D0%BB%D0%B8%D0%BE%D1%82%D0%B5%D0%BA%D0%B0%20Pandas.ipynb\" target=\"_parent\"><img src=\"https://colab.research.google.com/assets/colab-badge.svg\" alt=\"Open In Colab\"/></a>"
      ]
    },
    {
      "cell_type": "markdown",
      "source": [
        "# Библиотека Pandas\n",
        "\n",
        "## Введение\n",
        "\n",
        "**Pandas** — это библиотека для анализа данных в языке программирования Python. Она обеспечивает высокоэффективные, удобные и гибкие инструменты для работы с данными, а также поддерживает различные форматы хранения данных. Pandas отлично подходит для работы с таблицами и временными рядами, а также для выполнения различных операций над данными, таких как фильтрация, сортировка, группировка, агрегация и многое другое.\n",
        "\n",
        "### Основные концепции Pandas\n",
        "\n",
        "#### 1. **Основные структуры данных**\n",
        "Pandas предоставляет две ключевые структуры данных:\n",
        "\n",
        "- **Series** — одномерный массив, похожий на колонку данных в таблице. Это может быть массив чисел, строк, дат и т.д.\n",
        "- **DataFrame** — двумерная таблица данных, которая представляет собой коллекцию объектов Series. Каждый столбец DataFrame является объектом Series.\n",
        "\n",
        "#### 2. **Зачем использовать Pandas?**\n",
        "\n",
        "- **Удобная работа с данными**: Pandas предоставляет методы для удобного манипулирования табличными данными (чтение, фильтрация, сортировка, группировка).\n",
        "- **Работа с различными источниками данных**: Pandas поддерживает CSV, Excel, SQL, JSON и многие другие форматы.\n",
        "- **Быстрое выполнение вычислений**: Под капотом используется библиотека NumPy, что позволяет работать с данными эффективно.\n",
        "  \n",
        "Теперь рассмотрим на примерах, как использовать Pandas для обработки и анализа данных.\n",
        "\n",
        "## Установка библиотеки\n",
        "\n",
        "Прежде чем начать, нужно установить библиотеку Pandas, если она у вас еще не установлена. Это можно сделать с помощью pip:\n",
        "\n",
        "bash\n",
        "pip install pandas\n",
        "\n",
        "\n",
        "После установки можно импортировать библиотеку и приступить к работе:\n",
        "\n",
        "\n",
        "import pandas as pd\n",
        "\n"
      ],
      "metadata": {
        "id": "r2AfYZxzId6o"
      }
    },
    {
      "cell_type": "markdown",
      "source": [
        "\n",
        "## 1. Структура данных **Series**\n",
        "\n",
        "**Pandas Series** — это одна из ключевых структур данных в библиотеке Pandas. Это одномерный массив, который может содержать данные различных типов: целые числа, числа с плавающей запятой, строки, объекты Python, даты, временные метки и многое другое. Series можно рассматривать как упорядоченный словарь, так как он сопоставляет значения с индексами. К каждому элементу можно обращаться по индексу, как по номерному, так и по именованному.\n",
        "\n",
        "Основные черты Pandas Series:\n",
        "- **Одномерная структура**: В отличие от DataFrame (двумерной структуры), Series является одномерным объектом.\n",
        "- **Гибкость типов данных**: Series поддерживает хранение данных различных типов в одном столбце.\n",
        "- **Наличие индекса**: Каждый элемент Series связан с индексом, который может быть как числовым, так и строковым.\n",
        "\n",
        "### Пример создания Series\n",
        "\n",
        "Для начала создадим простую Series из списка чисел. Это позволит нам увидеть, как Pandas автоматически создает индексы для каждого элемента.\n"
      ],
      "metadata": {
        "id": "BHokgp7CVaPm"
      }
    },
    {
      "cell_type": "code",
      "source": [
        "\n",
        "import pandas as pd\n",
        "\n",
        "# Создание Series из списка\n",
        "data = [1, 2, 3, 4, 5]\n",
        "s = pd.Series(data)\n",
        "\n",
        "# Выводим на экран созданную Series\n",
        "print(s)\n",
        "\n"
      ],
      "metadata": {
        "id": "fUGPXnI-lupL",
        "colab": {
          "base_uri": "https://localhost:8080/"
        },
        "outputId": "94de10b0-40a0-4397-b9e4-51f8c7642d08"
      },
      "execution_count": null,
      "outputs": [
        {
          "output_type": "stream",
          "name": "stdout",
          "text": [
            "0    1\n",
            "1    2\n",
            "2    3\n",
            "3    4\n",
            "4    5\n",
            "dtype: int64\n"
          ]
        }
      ]
    },
    {
      "cell_type": "markdown",
      "source": [
        "\n",
        "\n",
        "Как видно из результата, каждый элемент Series имеет свой числовой индекс, который автоматически присваивается Pandas.\n",
        "\n",
        "## Основные способы создания Series\n",
        "\n",
        "### 1. Series из списка\n",
        "\n",
        "Первый и самый простой способ создать Series — это передать Python список или массив. Давайте создадим Series, состоящую из целых чисел.\n"
      ],
      "metadata": {
        "id": "PhPPAmkilzoc"
      }
    },
    {
      "cell_type": "code",
      "source": [
        "\n",
        "\n",
        "# Создаем Series из списка целых чисел\n",
        "data = [10, 20, 30, 40]\n",
        "s = pd.Series(data)\n",
        "\n",
        "# Выводим Series на экран\n",
        "print(s)\n",
        "\n",
        "\n"
      ],
      "metadata": {
        "id": "agHpytQql15y",
        "colab": {
          "base_uri": "https://localhost:8080/"
        },
        "outputId": "afeced36-d700-4a07-cb76-e95ae425a41c"
      },
      "execution_count": null,
      "outputs": [
        {
          "output_type": "stream",
          "name": "stdout",
          "text": [
            "0    10\n",
            "1    20\n",
            "2    30\n",
            "3    40\n",
            "dtype: int64\n"
          ]
        }
      ]
    },
    {
      "cell_type": "markdown",
      "source": [
        "\n",
        "Теперь мы видим, что каждый элемент списка представлен в Series с присвоенным ему индексом.\n",
        "\n",
        "### 2. Series из словаря\n",
        "\n",
        "Другой способ создания Series — это использование словаря. В этом случае ключи словаря станут индексами, а значения — данными Series. Давайте посмотрим на этот пример.\n"
      ],
      "metadata": {
        "id": "Bgzs1Hz0l3Ma"
      }
    },
    {
      "cell_type": "code",
      "source": [
        "\n",
        "# Создаем Series из словаря\n",
        "data = {'a': 1, 'b': 2, 'c': 3}\n",
        "s = pd.Series(data)\n",
        "\n",
        "# Выводим на экран\n",
        "print(s)\n",
        "\n"
      ],
      "metadata": {
        "id": "-eSJt2mil73i",
        "colab": {
          "base_uri": "https://localhost:8080/"
        },
        "outputId": "e6f3d7e7-7dc4-438d-b403-8eb811cf4767"
      },
      "execution_count": null,
      "outputs": [
        {
          "output_type": "stream",
          "name": "stdout",
          "text": [
            "a    1\n",
            "b    2\n",
            "c    3\n",
            "dtype: int64\n"
          ]
        }
      ]
    },
    {
      "cell_type": "markdown",
      "source": [
        "\n",
        "Как видно, индексы теперь являются строками, что позволяет более удобно работать с данными.\n",
        "\n",
        "### 3. Series с явным указанием индекса\n",
        "\n",
        "Вы можете создать Series, указав свои индексы. Это удобно, когда вы хотите, чтобы индексы имели определенные значения, которые имеют смысл в контексте ваших данных.\n",
        "\n"
      ],
      "metadata": {
        "id": "aeVM5NY8l-UC"
      }
    },
    {
      "cell_type": "code",
      "source": [
        "\n",
        "# Создаем Series с явным указанием индексов\n",
        "data = [100, 200, 300]\n",
        "index = ['apple', 'banana', 'cherry']\n",
        "s = pd.Series(data, index=index)\n",
        "\n",
        "# Выводим на экран\n",
        "print(s)\n"
      ],
      "metadata": {
        "id": "J_Rcw5yEmAC1",
        "colab": {
          "base_uri": "https://localhost:8080/"
        },
        "outputId": "cdd17c12-c361-44bc-f695-2e7548165797"
      },
      "execution_count": null,
      "outputs": [
        {
          "output_type": "stream",
          "name": "stdout",
          "text": [
            "apple     100\n",
            "banana    200\n",
            "cherry    300\n",
            "dtype: int64\n"
          ]
        }
      ]
    },
    {
      "cell_type": "markdown",
      "source": [
        "\n",
        "\n",
        "Теперь каждый элемент имеет собственный индекс, который представляет собой строку, что может облегчить обращение к данным.\n",
        "\n",
        "### 4. Series с константным значением\n",
        "\n",
        "Иногда может потребоваться создать Series, состоящую из одного значения, которое будет повторяться. Это можно сделать с помощью функции `pd.Series()`.\n",
        "\n"
      ],
      "metadata": {
        "id": "JR0SfxdemBrq"
      }
    },
    {
      "cell_type": "code",
      "source": [
        "\n",
        "# Создаем Series с константным значением\n",
        "s = pd.Series(5, index=[0, 1, 2, 3])\n",
        "\n",
        "# Выводим Series на экран\n",
        "print(s)\n"
      ],
      "metadata": {
        "id": "APcDNyWmmDia",
        "colab": {
          "base_uri": "https://localhost:8080/"
        },
        "outputId": "fceb2ac3-dd71-4fee-b6bd-60d50ea7fbad"
      },
      "execution_count": null,
      "outputs": [
        {
          "output_type": "stream",
          "name": "stdout",
          "text": [
            "0    5\n",
            "1    5\n",
            "2    5\n",
            "3    5\n",
            "dtype: int64\n"
          ]
        }
      ]
    },
    {
      "cell_type": "markdown",
      "source": [
        "\n",
        "\n",
        "Каждый элемент Series равен 5, и они имеют индексы от 0 до 3.\n",
        "\n",
        "### 5. Series с NaN (отсутствующими значениями)\n",
        "\n",
        "Вы можете создать Series, содержащую отсутствующие значения (NaN). Это полезно для работы с неполными наборами данных.\n"
      ],
      "metadata": {
        "id": "qfZwLj5GmFQ6"
      }
    },
    {
      "cell_type": "code",
      "source": [
        "\n",
        "import numpy as np\n",
        "\n",
        "# Создаем Series с пропущенными значениями\n",
        "data = [1, np.nan, 3, 4]\n",
        "s = pd.Series(data)\n",
        "\n",
        "# Выводим Series на экран\n",
        "print(s)\n"
      ],
      "metadata": {
        "id": "xPJGUde7mKB6",
        "colab": {
          "base_uri": "https://localhost:8080/"
        },
        "outputId": "81e0739d-ea87-44b9-dfaa-77284c8b38a3"
      },
      "execution_count": null,
      "outputs": [
        {
          "output_type": "stream",
          "name": "stdout",
          "text": [
            "0    1.0\n",
            "1    NaN\n",
            "2    3.0\n",
            "3    4.0\n",
            "dtype: float64\n"
          ]
        }
      ]
    },
    {
      "cell_type": "markdown",
      "source": [
        "\n",
        "\n",
        "Пропущенные значения отображаются как NaN, что позволяет легко идентифицировать их.\n",
        "\n",
        "## Индексы Series\n",
        "\n",
        "Pandas автоматически создает числовой индекс для каждого элемента Series, если вы не указываете его явно. Индекс можно задать и вручную, что дает больше гибкости.\n",
        "\n",
        "### Доступ по индексу\n",
        "\n",
        "Вы можете обращаться к элементам Series по их индексам. Например, для доступа к элементу по умолчанию (числовому индексу):\n",
        "\n"
      ],
      "metadata": {
        "id": "BH5Xa_Z_mLYy"
      }
    },
    {
      "cell_type": "code",
      "source": [
        "\n",
        "# Доступ к первому элементу Series по числовому индексу\n",
        "print(s[0])  # Первый элемент Series\n"
      ],
      "metadata": {
        "id": "MLdX4wnQmNM6",
        "colab": {
          "base_uri": "https://localhost:8080/"
        },
        "outputId": "7cea46d3-fffb-4f32-fc60-f98fa0b5ff66"
      },
      "execution_count": null,
      "outputs": [
        {
          "output_type": "stream",
          "name": "stdout",
          "text": [
            "1.0\n"
          ]
        }
      ]
    },
    {
      "cell_type": "markdown",
      "source": [
        "\n",
        "\n",
        "Вывод будет следующим:\n",
        "\n",
        "\n",
        "1.0\n",
        "\n",
        "\n",
        "Теперь обратимся к элементу с использованием явного индекса, если мы создали Series с пользовательскими индексами.\n",
        "\n"
      ],
      "metadata": {
        "id": "MuCuVjXpmsYq"
      }
    },
    {
      "cell_type": "code",
      "source": [
        "\n",
        "# Создаем Series с пользовательскими индексами\n",
        "s = pd.Series([100, 200, 300], index=['apple', 'banana', 'cherry'])\n",
        "\n",
        "# Доступ к элементу по пользовательскому индексу\n",
        "print(s['banana'])  # Получаем значение по индексу 'banana'\n",
        "\n"
      ],
      "metadata": {
        "id": "fykSkGOMm8eC",
        "colab": {
          "base_uri": "https://localhost:8080/"
        },
        "outputId": "dca4381a-0b80-4697-e471-971c7952627e"
      },
      "execution_count": null,
      "outputs": [
        {
          "output_type": "stream",
          "name": "stdout",
          "text": [
            "200\n"
          ]
        }
      ]
    },
    {
      "cell_type": "markdown",
      "source": [
        "\n",
        "### Модификация индекса\n",
        "\n",
        "Если вам нужно изменить индексы в уже существующей Series, это можно сделать с помощью метода `.index`.\n"
      ],
      "metadata": {
        "id": "XG5OzXKDm_0x"
      }
    },
    {
      "cell_type": "code",
      "source": [
        "\n",
        "# Создаем Series\n",
        "s = pd.Series([1, 2, 3, 4], index=['a', 'b', 'c', 'd'])\n",
        "\n",
        "# Меняем индексы на новые\n",
        "s.index = ['A', 'B', 'C', 'D']\n",
        "\n",
        "# Выводим Series с новыми индексами\n",
        "print(s)\n"
      ],
      "metadata": {
        "id": "BpcO7eX1nBN5",
        "colab": {
          "base_uri": "https://localhost:8080/"
        },
        "outputId": "1fc76633-e929-4bec-a22e-a76d134e57c9"
      },
      "execution_count": null,
      "outputs": [
        {
          "output_type": "stream",
          "name": "stdout",
          "text": [
            "A    1\n",
            "B    2\n",
            "C    3\n",
            "D    4\n",
            "dtype: int64\n"
          ]
        }
      ]
    },
    {
      "cell_type": "markdown",
      "source": [
        "\n",
        "\n",
        "Теперь Series имеет новые индексы, которые мы задали.\n",
        "\n",
        "## Основные методы Series\n",
        "\n",
        "### 1. Операции над элементами Series\n",
        "\n",
        "Series позволяет выполнять элементарные математические операции с каждым элементом. Например, давайте добавим к каждому элементу Series число 10.\n",
        "\n"
      ],
      "metadata": {
        "id": "mVtcDPaCnC7Z"
      }
    },
    {
      "cell_type": "code",
      "source": [
        "\n",
        "# Создаем Series из чисел\n",
        "s = pd.Series([1, 2, 3, 4])\n",
        "\n",
        "# Добавляем 10 ко всем элементам Series\n",
        "result = s + 10\n",
        "\n",
        "# Выводим результат\n",
        "print(result)\n"
      ],
      "metadata": {
        "id": "0eK_5BxXnGYJ",
        "colab": {
          "base_uri": "https://localhost:8080/"
        },
        "outputId": "300408a8-cbf0-4e1a-fb19-576a5ee68100"
      },
      "execution_count": null,
      "outputs": [
        {
          "output_type": "stream",
          "name": "stdout",
          "text": [
            "0    11\n",
            "1    12\n",
            "2    13\n",
            "3    14\n",
            "dtype: int64\n"
          ]
        }
      ]
    },
    {
      "cell_type": "markdown",
      "source": [
        "\n",
        "\n",
        "Мы видим, что 10 было добавлено ко всем элементам Series.\n",
        "\n",
        "### 2. Методы для обработки данных\n",
        "\n",
        "#### 2.1. **`head()` и `tail()`**\n",
        "\n",
        "Методы `head()` и `tail()` позволяют быстро получить первые или последние несколько элементов Series. Это полезно для предварительного просмотра данных.\n",
        "\n"
      ],
      "metadata": {
        "id": "NIsTBNvpnH5J"
      }
    },
    {
      "cell_type": "code",
      "source": [
        "\n",
        "# Создаем Series\n",
        "s = pd.Series([1, 2, 3, 4, 5, 6])\n",
        "\n",
        "# Получаем первые два элемента\n",
        "print(s.head(2))  # Первые два элемента\n",
        "\n",
        "# Получаем последние два элемента\n",
        "print(s.tail(2))  # Последние два элемента\n"
      ],
      "metadata": {
        "id": "2UDwowwynJWR",
        "colab": {
          "base_uri": "https://localhost:8080/"
        },
        "outputId": "f4b4746f-c601-4096-f75f-a17227748f62"
      },
      "execution_count": null,
      "outputs": [
        {
          "output_type": "stream",
          "name": "stdout",
          "text": [
            "0    1\n",
            "1    2\n",
            "dtype: int64\n",
            "4    5\n",
            "5    6\n",
            "dtype: int64\n"
          ]
        }
      ]
    },
    {
      "cell_type": "markdown",
      "source": [
        "\n",
        "\n",
        "#### 2.2. **`describe()`**\n",
        "\n",
        "Метод `describe()` возвращает сводную статистику по данным в Series, включая такие показатели, как среднее, стандартное отклонение, минимальное и максимальное значения.\n",
        "\n"
      ],
      "metadata": {
        "id": "QnQnLO84nLIB"
      }
    },
    {
      "cell_type": "code",
      "source": [
        "\n",
        "# Создаем Series\n",
        "s = pd.Series([1, 2, 3, 4, 5])\n",
        "\n",
        "# Получаем сводную статистику\n",
        "print(s.describe())\n"
      ],
      "metadata": {
        "id": "PaKmGk_xnMfJ",
        "colab": {
          "base_uri": "https://localhost:8080/"
        },
        "outputId": "4cd0a4f5-8872-4d07-a82d-c9b15700a8e5"
      },
      "execution_count": null,
      "outputs": [
        {
          "output_type": "stream",
          "name": "stdout",
          "text": [
            "count    5.000000\n",
            "mean     3.000000\n",
            "std      1.581139\n",
            "min      1.000000\n",
            "25%      2.000000\n",
            "50%      3.000000\n",
            "75%      4.000000\n",
            "max      5.000000\n",
            "dtype: float64\n"
          ]
        }
      ]
    },
    {
      "cell_type": "markdown",
      "source": [
        "\n",
        "\n",
        "Этот метод полезен для быстрого анализа характеристик данных.\n",
        "\n",
        "#### 2.3. **`value_counts()`**\n",
        "\n",
        "Метод `value_counts()`\n",
        "\n",
        " показывает количество уникальных значений в Series и их частоту. Это полезно для анализа распределения данных.\n",
        "\n"
      ],
      "metadata": {
        "id": "fpNoGrePnOOR"
      }
    },
    {
      "cell_type": "code",
      "source": [
        "\n",
        "# Создаем Series с повторяющимися значениями\n",
        "s = pd.Series([1, 2, 2, 3, 3, 3])\n",
        "\n",
        "# Получаем частоту уникальных значений\n",
        "print(s.value_counts())\n"
      ],
      "metadata": {
        "id": "fyrlAs9XnQly",
        "colab": {
          "base_uri": "https://localhost:8080/"
        },
        "outputId": "d5a3e7c8-4b0c-4697-ac2b-870e6f812c79"
      },
      "execution_count": null,
      "outputs": [
        {
          "output_type": "stream",
          "name": "stdout",
          "text": [
            "3    3\n",
            "2    2\n",
            "1    1\n",
            "Name: count, dtype: int64\n"
          ]
        }
      ]
    },
    {
      "cell_type": "markdown",
      "source": [
        "\n",
        "\n",
        "#### 2.4. **`unique()` и `nunique()`**\n",
        "\n",
        "- `unique()` возвращает массив уникальных значений в Series.\n",
        "- `nunique()` возвращает количество уникальных значений.\n"
      ],
      "metadata": {
        "id": "9Y8U62GonSGy"
      }
    },
    {
      "cell_type": "code",
      "source": [
        "\n",
        "# Получаем уникальные значения\n",
        "print(s.unique())    # Уникальные значения\n",
        "\n",
        "# Получаем количество уникальных значений\n",
        "print(s.nunique())   # Количество уникальных значений\n"
      ],
      "metadata": {
        "id": "d6AbETVhnTeS",
        "colab": {
          "base_uri": "https://localhost:8080/"
        },
        "outputId": "44bc7e98-f305-49ae-bfaf-50cdc4dc7d23"
      },
      "execution_count": null,
      "outputs": [
        {
          "output_type": "stream",
          "name": "stdout",
          "text": [
            "[1 2 3]\n",
            "3\n"
          ]
        }
      ]
    },
    {
      "cell_type": "markdown",
      "source": [
        "\n",
        "\n",
        "### 3. Манипуляции с данными\n",
        "\n",
        "#### 3.1. **`drop()`**\n",
        "\n",
        "Метод `drop()` позволяет удалять элементы из Series по их индексу. Это полезно, когда вам нужно избавиться от ненужных данных.\n",
        "\n"
      ],
      "metadata": {
        "id": "QnsPrcW9nVWS"
      }
    },
    {
      "cell_type": "code",
      "source": [
        "\n",
        "# Создаем Series\n",
        "s = pd.Series([1, 2, 3, 4], index=['a', 'b', 'c', 'd'])\n",
        "\n",
        "# Удаляем элемент с индексом 'b'\n",
        "s_dropped = s.drop('b')\n",
        "\n",
        "# Выводим результат\n",
        "print(s_dropped)\n"
      ],
      "metadata": {
        "id": "z_9fl7kQnWxC",
        "colab": {
          "base_uri": "https://localhost:8080/"
        },
        "outputId": "fad6a945-f6d9-4924-f9a3-e2c4c37b00de"
      },
      "execution_count": null,
      "outputs": [
        {
          "output_type": "stream",
          "name": "stdout",
          "text": [
            "a    1\n",
            "c    3\n",
            "d    4\n",
            "dtype: int64\n"
          ]
        }
      ]
    },
    {
      "cell_type": "markdown",
      "source": [
        "\n",
        "Теперь элемент с индексом 'b' был успешно удален.\n",
        "\n",
        "#### 3.2. **`sort_values()`**\n",
        "\n",
        "Метод `sort_values()` сортирует Series по значениям, что может быть полезно для анализа данных.\n",
        "\n"
      ],
      "metadata": {
        "id": "aOuAH19ynX_q"
      }
    },
    {
      "cell_type": "code",
      "source": [
        "\n",
        "# Создаем Series\n",
        "s = pd.Series([10, 3, 5, 1])\n",
        "\n",
        "# Сортируем Series по значениям\n",
        "s_sorted = s.sort_values()\n",
        "\n",
        "# Выводим отсортированную Series\n",
        "print(s_sorted)\n"
      ],
      "metadata": {
        "id": "TO_BqKqSnaAq",
        "colab": {
          "base_uri": "https://localhost:8080/"
        },
        "outputId": "0ed6305e-d70f-43c7-e4b9-83913ee78a77"
      },
      "execution_count": null,
      "outputs": [
        {
          "output_type": "stream",
          "name": "stdout",
          "text": [
            "3     1\n",
            "1     3\n",
            "2     5\n",
            "0    10\n",
            "dtype: int64\n"
          ]
        }
      ]
    },
    {
      "cell_type": "markdown",
      "source": [
        "\n",
        "\n",
        "#### 3.3. **`sort_index()`**\n",
        "\n",
        "Метод `sort_index()` сортирует Series по индексу. Это может быть полезно для упорядочивания данных.\n",
        "\n"
      ],
      "metadata": {
        "id": "sQ3AwmOInbE6"
      }
    },
    {
      "cell_type": "code",
      "source": [
        "\n",
        "# Создаем Series с неупорядоченными индексами\n",
        "s = pd.Series([1, 2, 3], index=['b', 'c', 'a'])\n",
        "\n",
        "# Сортируем Series по индексам\n",
        "s_sorted = s.sort_index()\n",
        "\n",
        "# Выводим отсортированную Series\n",
        "print(s_sorted)\n"
      ],
      "metadata": {
        "id": "uoL250gJncgy",
        "colab": {
          "base_uri": "https://localhost:8080/"
        },
        "outputId": "efeaa598-4e4a-4415-b38b-5ad878dd2ec8"
      },
      "execution_count": null,
      "outputs": [
        {
          "output_type": "stream",
          "name": "stdout",
          "text": [
            "a    3\n",
            "b    1\n",
            "c    2\n",
            "dtype: int64\n"
          ]
        }
      ]
    },
    {
      "cell_type": "markdown",
      "source": [
        "\n",
        "\n",
        "#### 3.4. **`apply()`**\n",
        "\n",
        "Метод `apply()` позволяет применить функцию к каждому элементу Series. Это полезно для выполнения операций над всеми элементами.\n",
        "\n"
      ],
      "metadata": {
        "id": "9SVSlr3vndui"
      }
    },
    {
      "cell_type": "code",
      "source": [
        "\n",
        "# Создаем Series\n",
        "s = pd.Series([1, 2, 3, 4])\n",
        "\n",
        "# Применяем функцию, возводящую в квадрат\n",
        "s_applied = s.apply(lambda x: x ** 2)\n",
        "\n",
        "# Выводим результат\n",
        "print(s_applied)\n"
      ],
      "metadata": {
        "id": "QMrHBtE3nfBy",
        "colab": {
          "base_uri": "https://localhost:8080/"
        },
        "outputId": "cf242c86-c9e9-4518-91ac-8fcf9285cbcb"
      },
      "execution_count": null,
      "outputs": [
        {
          "output_type": "stream",
          "name": "stdout",
          "text": [
            "0     1\n",
            "1     4\n",
            "2     9\n",
            "3    16\n",
            "dtype: int64\n"
          ]
        }
      ]
    },
    {
      "cell_type": "markdown",
      "source": [
        "\n",
        "\n",
        "#### 3.5. **`map()`**\n",
        "\n",
        "Метод `map()` позволяет заменять значения на основе отображения (словаря или функции). Это удобно для трансформации данных.\n",
        "\n"
      ],
      "metadata": {
        "id": "ZDP9Yzy0ngrK"
      }
    },
    {
      "cell_type": "code",
      "source": [
        "\n",
        "# Создаем Series\n",
        "s = pd.Series([1, 2, 3, 4])\n",
        "\n",
        "# Заменяем значения с помощью словаря\n",
        "s_mapped = s.map({1: 'A', 2: 'B'})\n",
        "\n",
        "# Выводим результат\n",
        "print(s_mapped)\n"
      ],
      "metadata": {
        "id": "uFUioyO1nihq",
        "colab": {
          "base_uri": "https://localhost:8080/"
        },
        "outputId": "b6acd681-cb74-4e33-f156-a23fac01fdbf"
      },
      "execution_count": null,
      "outputs": [
        {
          "output_type": "stream",
          "name": "stdout",
          "text": [
            "0      A\n",
            "1      B\n",
            "2    NaN\n",
            "3    NaN\n",
            "dtype: object\n"
          ]
        }
      ]
    },
    {
      "cell_type": "markdown",
      "source": [
        "\n",
        "Значения 1 и 2 были заменены, а остальные элементы стали NaN.\n",
        "\n",
        "### 4. Работа с пропущенными значениями\n",
        "\n",
        "#### 4.1. **`isnull()` и `notnull()`**\n",
        "\n",
        "Эти методы возвращают булевы значения, указывающие на наличие или отсутствие пропущенных данных в Series.\n",
        "\n"
      ],
      "metadata": {
        "id": "4m8fwgfrnkHi"
      }
    },
    {
      "cell_type": "code",
      "source": [
        "\n",
        "# Создаем Series с пропущенными значениями\n",
        "s = pd.Series([1, None, 3, None])\n",
        "\n",
        "# Проверяем на пропущенные значения\n",
        "print(s.isnull())    # Проверка на пропущенные значения\n",
        "\n",
        "# Проверяем на ненулевые значения\n",
        "print(s.notnull())   # Проверка на ненулевые значения\n"
      ],
      "metadata": {
        "id": "hNar9q5bnmXE",
        "colab": {
          "base_uri": "https://localhost:8080/"
        },
        "outputId": "be3439a5-2593-4e1d-970f-d75b2a702287"
      },
      "execution_count": null,
      "outputs": [
        {
          "output_type": "stream",
          "name": "stdout",
          "text": [
            "0    False\n",
            "1     True\n",
            "2    False\n",
            "3     True\n",
            "dtype: bool\n",
            "0     True\n",
            "1    False\n",
            "2     True\n",
            "3    False\n",
            "dtype: bool\n"
          ]
        }
      ]
    },
    {
      "cell_type": "markdown",
      "source": [
        "\n",
        "\n",
        "#### 4.2. **`fillna()`**\n",
        "\n",
        "Метод `fillna()` заполняет пропущенные значения указанным значением, что может быть полезно для обработки неполных данных.\n",
        "\n"
      ],
      "metadata": {
        "id": "JsRVNkNknoTa"
      }
    },
    {
      "cell_type": "code",
      "source": [
        "\n",
        "# Заполняем NaN нулями\n",
        "s_filled = s.fillna(0)\n",
        "\n",
        "# Выводим результат\n",
        "print(s_filled)\n"
      ],
      "metadata": {
        "id": "gROoe7bRnpfS",
        "colab": {
          "base_uri": "https://localhost:8080/"
        },
        "outputId": "d7d948ad-7b91-461e-b444-ea9c50bf4927"
      },
      "execution_count": null,
      "outputs": [
        {
          "output_type": "stream",
          "name": "stdout",
          "text": [
            "0    1.0\n",
            "1    0.0\n",
            "2    3.0\n",
            "3    0.0\n",
            "dtype: float64\n"
          ]
        }
      ]
    },
    {
      "cell_type": "markdown",
      "source": [
        "\n",
        "\n",
        "#### 4.3. **`dropna()`**\n",
        "\n",
        "Метод `dropna()` удаляет элементы с пропущенными значениями (NaN), что может быть полезно для очистки данных.\n",
        "\n"
      ],
      "metadata": {
        "id": "9DQmXEfenrIx"
      }
    },
    {
      "cell_type": "code",
      "source": [
        "\n",
        "# Удаляем элементы с NaN\n",
        "s_dropped = s.dropna()\n",
        "\n",
        "# Выводим результат\n",
        "print(s_dropped)\n"
      ],
      "metadata": {
        "id": "Hp8jZQGAntCq",
        "colab": {
          "base_uri": "https://localhost:8080/"
        },
        "outputId": "7da5694e-537b-4e59-b053-ca2fc3aa5e28"
      },
      "execution_count": null,
      "outputs": [
        {
          "output_type": "stream",
          "name": "stdout",
          "text": [
            "0    1.0\n",
            "2    3.0\n",
            "dtype: float64\n"
          ]
        }
      ]
    },
    {
      "cell_type": "markdown",
      "source": [
        "\n",
        "\n",
        "\n",
        "\n",
        "## Сравнение с другими структурами данных\n",
        "\n",
        "### Series vs. Списки и кортежи\n",
        "\n",
        "- **Списки и кортежи**: Это стандартные структуры данных в Python, которые могут хранить элементы различных типов. Однако они не предоставляют удобных методов для анализа данных, таких как фильтрация, группировка и агрегация.\n",
        "- **Series**: Имеет встроенные функции и методы, которые позволяют легко выполнять операции на данных, а также предоставляет возможность использовать именованные индексы для удобного доступа к элементам.\n",
        "\n",
        "### Series vs. Массивы NumPy\n",
        "\n",
        "- **NumPy**: Массивы NumPy обеспечивают высокую производительность и позволяют эффективно выполнять математические операции. Однако они не поддерживают нечисловые данные и не имеют встроенной поддержки пропущенных значений.\n",
        "- **Series**: Может хранить данные различных типов и автоматически обрабатывать пропуски (NaN), что делает её более удобной для анализа данных.\n",
        "\n",
        "## Индексация и срезы\n",
        "\n",
        "### Индексация\n",
        "\n",
        "Индексация в Series позволяет извлекать отдельные элементы или подмножества данных. Рассмотрим несколько способов индексации.\n",
        "\n",
        "#### Числовая индексация\n",
        "\n"
      ],
      "metadata": {
        "id": "pR5Ua_y-nuyb"
      }
    },
    {
      "cell_type": "code",
      "source": [
        "\n",
        "s = pd.Series([10, 20, 30, 40, 50])\n",
        "\n",
        "# Доступ к элементу по числовому индексу\n",
        "print(s[2])  # Третий элемент\n"
      ],
      "metadata": {
        "id": "82mE8DRVnx17",
        "colab": {
          "base_uri": "https://localhost:8080/"
        },
        "outputId": "16b3cfde-db31-40a8-b119-0b84ba1d31ab"
      },
      "execution_count": null,
      "outputs": [
        {
          "output_type": "stream",
          "name": "stdout",
          "text": [
            "30\n"
          ]
        }
      ]
    },
    {
      "cell_type": "markdown",
      "source": [
        "\n",
        "\n",
        "#### Именная индексация\n",
        "\n"
      ],
      "metadata": {
        "id": "tw4UEyibnz-T"
      }
    },
    {
      "cell_type": "code",
      "source": [
        "\n",
        "s = pd.Series([100, 200, 300], index=['a', 'b', 'c'])\n",
        "\n",
        "# Доступ к элементу по имени индекса\n",
        "print(s['b'])\n"
      ],
      "metadata": {
        "id": "IkppDfvSn1Uy",
        "colab": {
          "base_uri": "https://localhost:8080/"
        },
        "outputId": "a4166f38-15e7-41d2-f126-6788baf2cdb6"
      },
      "execution_count": null,
      "outputs": [
        {
          "output_type": "stream",
          "name": "stdout",
          "text": [
            "200\n"
          ]
        }
      ]
    },
    {
      "cell_type": "markdown",
      "source": [
        "\n",
        "\n",
        "### Срезы\n",
        "\n",
        "Вы можете использовать срезы, чтобы извлекать группы элементов.\n",
        "\n"
      ],
      "metadata": {
        "id": "4ncJm2DAn3GK"
      }
    },
    {
      "cell_type": "code",
      "source": [
        "\n",
        "# Срез элементов с 1 по 3\n",
        "print(s[1:3])\n"
      ],
      "metadata": {
        "id": "ArQMo_Fen49D",
        "colab": {
          "base_uri": "https://localhost:8080/"
        },
        "outputId": "c38d1789-83a0-4e43-db95-c971534a1ae5"
      },
      "execution_count": null,
      "outputs": [
        {
          "output_type": "stream",
          "name": "stdout",
          "text": [
            "b    200\n",
            "c    300\n",
            "dtype: int64\n"
          ]
        }
      ]
    },
    {
      "cell_type": "markdown",
      "source": [
        "\n",
        "\n",
        "### Логическая индексация\n",
        "\n",
        "Логическая индексация позволяет фильтровать данные на основе условий.\n",
        "\n"
      ],
      "metadata": {
        "id": "G__lFXlUn6iC"
      }
    },
    {
      "cell_type": "code",
      "source": [
        "\n",
        "s = pd.Series([1, 2, 3, 4, 5])\n",
        "\n",
        "# Фильтруем элементы, большие 3\n",
        "filtered = s[s > 3]\n",
        "print(filtered)\n"
      ],
      "metadata": {
        "id": "nXHYuUJen8Ri",
        "colab": {
          "base_uri": "https://localhost:8080/"
        },
        "outputId": "66854708-59dd-40e6-d9d8-8b7292b10077"
      },
      "execution_count": null,
      "outputs": [
        {
          "output_type": "stream",
          "name": "stdout",
          "text": [
            "3    4\n",
            "4    5\n",
            "dtype: int64\n"
          ]
        }
      ]
    },
    {
      "cell_type": "markdown",
      "source": [
        "\n",
        "\n",
        "## Группировка данных\n",
        "\n",
        "Группировка позволяет объединять данные по определённому критерию. Хотя это чаще используется с DataFrame, вы также можете применить `groupby()` к Series.\n",
        "\n",
        "### Пример группировки\n",
        "\n"
      ],
      "metadata": {
        "id": "bpXnb9DBn-Ea"
      }
    },
    {
      "cell_type": "code",
      "source": [
        "\n",
        "# Создаем Series с категориями\n",
        "data = pd.Series([1, 2, 2, 3, 3, 3], index=['a', 'b', 'c', 'd', 'e', 'f'])\n",
        "\n",
        "# Группируем и суммируем значения\n",
        "grouped = data.groupby(data).sum()\n",
        "print(grouped)\n"
      ],
      "metadata": {
        "id": "rajVh25pn_fa",
        "colab": {
          "base_uri": "https://localhost:8080/"
        },
        "outputId": "da55d583-b0b3-4217-b433-6f1e92645865"
      },
      "execution_count": null,
      "outputs": [
        {
          "output_type": "stream",
          "name": "stdout",
          "text": [
            "1    1\n",
            "2    4\n",
            "3    9\n",
            "dtype: int64\n"
          ]
        }
      ]
    },
    {
      "cell_type": "markdown",
      "source": [
        "\n",
        "\n",
        "## Преобразование данных\n",
        "\n",
        "### Изменение типа данных\n",
        "\n",
        "Метод `astype()` позволяет менять тип данных в Series, что полезно, если вы хотите провести определенные операции.\n",
        "\n"
      ],
      "metadata": {
        "id": "TEvOrCW0oB69"
      }
    },
    {
      "cell_type": "code",
      "source": [
        "\n",
        "s = pd.Series([1, 2, 3], dtype='int')\n",
        "s_float = s.astype('float')\n",
        "print(s_float)\n"
      ],
      "metadata": {
        "id": "Tc94KmgQoFRi",
        "colab": {
          "base_uri": "https://localhost:8080/"
        },
        "outputId": "6c330110-7880-4f90-c8d9-b06553af1526"
      },
      "execution_count": null,
      "outputs": [
        {
          "output_type": "stream",
          "name": "stdout",
          "text": [
            "0    1.0\n",
            "1    2.0\n",
            "2    3.0\n",
            "dtype: float64\n"
          ]
        }
      ]
    },
    {
      "cell_type": "markdown",
      "source": [
        "\n",
        "\n",
        "## Построение графиков\n",
        "\n",
        "Pandas Series легко визуализируются с использованием Matplotlib или Seaborn. Это помогает лучше понять данные.\n",
        "\n",
        "### Пример построения графика\n",
        "\n"
      ],
      "metadata": {
        "id": "wGiS2E1koG7C"
      }
    },
    {
      "cell_type": "code",
      "source": [
        "\n",
        "import matplotlib.pyplot as plt\n",
        "\n",
        "# Создаем Series\n",
        "s = pd.Series([1, 3, 2, 5, 4])\n",
        "\n",
        "# Строим линейный график\n",
        "s.plot(kind='line')\n",
        "plt.title('Пример линейного графика')\n",
        "plt.xlabel('Индекс')\n",
        "plt.ylabel('Значение')\n",
        "plt.show()\n"
      ],
      "metadata": {
        "id": "vwqQn6rroJ5g",
        "colab": {
          "base_uri": "https://localhost:8080/",
          "height": 472
        },
        "outputId": "7a4eaf6a-fca4-4821-f9c8-d5986c36acb8"
      },
      "execution_count": null,
      "outputs": [
        {
          "output_type": "display_data",
          "data": {
            "text/plain": [
              "<Figure size 640x480 with 1 Axes>"
            ],
            "image/png": "[encoded data removed]"
          },
          "metadata": {}
        }
      ]
    },
    {
      "cell_type": "markdown",
      "source": [
        "\n",
        "\n",
        "Этот код создаст простой линейный график, отображающий значения Series.\n",
        "\n",
        "## Примеры реальных задач\n",
        "\n",
        "### Анализ временных рядов\n",
        "\n",
        "Pandas Series часто используются для работы с временными рядами. Например, вы можете создать Series с временными метками.\n"
      ],
      "metadata": {
        "id": "aptagQzmoLeB"
      }
    },
    {
      "cell_type": "code",
      "source": [
        "\n",
        "dates = pd.date_range('2023-01-01', periods=5)\n",
        "s = pd.Series([10, 20, 30, 40, 50], index=dates)\n",
        "\n",
        "print(s)\n"
      ],
      "metadata": {
        "id": "oyNFaYZ5oNPZ",
        "colab": {
          "base_uri": "https://localhost:8080/"
        },
        "outputId": "c096f2a6-e575-4732-99e7-e4613e1a3b3c"
      },
      "execution_count": null,
      "outputs": [
        {
          "output_type": "stream",
          "name": "stdout",
          "text": [
            "2023-01-01    10\n",
            "2023-01-02    20\n",
            "2023-01-03    30\n",
            "2023-01-04    40\n",
            "2023-01-05    50\n",
            "Freq: D, dtype: int64\n"
          ]
        }
      ]
    },
    {
      "cell_type": "markdown",
      "source": [
        "\n",
        "\n",
        "### Работа с данными о продажах\n",
        "\n",
        "Вы можете использовать Series для анализа данных о продажах, чтобы подсчитать общие продажи за определенный период.\n",
        "\n"
      ],
      "metadata": {
        "id": "5QCcelnjoO8p"
      }
    },
    {
      "cell_type": "code",
      "source": [
        "\n",
        "sales = pd.Series([100, 150, 200, 130], index=['2023-01-01', '2023-01-02', '2023-01-03', '2023-01-04'])\n",
        "total_sales = sales.sum()\n",
        "print(f'Общие продажи: {total_sales}')\n"
      ],
      "metadata": {
        "id": "iJpccSpxoQVh",
        "colab": {
          "base_uri": "https://localhost:8080/"
        },
        "outputId": "f0f680ea-eb0e-4a1d-f5d2-6e5b065e37eb"
      },
      "execution_count": null,
      "outputs": [
        {
          "output_type": "stream",
          "name": "stdout",
          "text": [
            "Общие продажи: 580\n"
          ]
        }
      ]
    },
    {
      "cell_type": "markdown",
      "source": [
        "\n",
        "## Оптимизация производительности\n",
        "\n",
        "При работе с большими наборами данных важно учитывать производительность. Вот несколько советов:\n",
        "\n",
        "- **Используйте категории**: Если у вас есть Series с повторяющимися строковыми значениями, преобразуйте её в категориальный тип, чтобы сэкономить память.\n",
        "\n"
      ],
      "metadata": {
        "id": "y0BN3GNgoR2B"
      }
    },
    {
      "cell_type": "code",
      "source": [
        "\n",
        "s = pd.Series(['apple', 'banana', 'apple', 'orange'])\n",
        "s = s.astype('category')\n",
        "print(s.memory_usage())\n",
        "\n"
      ],
      "metadata": {
        "id": "1Kr48PJwoWgR",
        "colab": {
          "base_uri": "https://localhost:8080/"
        },
        "outputId": "994d41b4-61fa-4966-d079-7c11b3461c7f"
      },
      "execution_count": null,
      "outputs": [
        {
          "output_type": "stream",
          "name": "stdout",
          "text": [
            "264\n"
          ]
        }
      ]
    },
    {
      "cell_type": "markdown",
      "source": [
        "Метод astype('category') преобразует Series в категориальный тип данных. Категориальный тип данных — это специализированный тип данных в Pandas, который оптимизирован для работы с ограниченным числом уникальных значений (категорий)."
      ],
      "metadata": {
        "id": "eJCgPiUHEfAj"
      }
    },
    {
      "cell_type": "markdown",
      "source": [
        "\n",
        "- **Избегайте циклов**: Используйте векторизованные операции, которые быстрее выполняются на уровне C, чем обычные циклы Python.\n",
        "\n",
        "## Советы и рекомендации\n",
        "\n",
        "1. **Используйте метод `info()`**: Этот метод предоставляет краткую информацию о Series, включая тип данных и количество ненулевых значений.\n",
        "   \n"
      ],
      "metadata": {
        "id": "zUFO3f02oXy5"
      }
    },
    {
      "cell_type": "code",
      "source": [
        "\n",
        "s = pd.Series([1, 2, np.nan])\n",
        "print(s.info())\n"
      ],
      "metadata": {
        "id": "BHY1Z_hRoZnt",
        "colab": {
          "base_uri": "https://localhost:8080/"
        },
        "outputId": "3ffdc60c-d223-47d5-837f-1cc4e9552171"
      },
      "execution_count": null,
      "outputs": [
        {
          "output_type": "stream",
          "name": "stdout",
          "text": [
            "<class 'pandas.core.series.Series'>\n",
            "RangeIndex: 3 entries, 0 to 2\n",
            "Series name: None\n",
            "Non-Null Count  Dtype  \n",
            "--------------  -----  \n",
            "2 non-null      float64\n",
            "dtypes: float64(1)\n",
            "memory usage: 152.0 bytes\n",
            "None\n"
          ]
        }
      ]
    },
    {
      "cell_type": "markdown",
      "source": [
        "1. <class 'pandas.core.series.Series'>\n",
        "Это указывает на тип объекта. В данном случае это pandas.Series, что означает, что объект является одномерной структурой данных Pandas, аналогичной списку, но с дополнительными возможностями, такими как индексы и типы данных.\n",
        "\n",
        "2. RangeIndex: 3 entries, 0 to 2\n",
        "Это информация об индексе объекта:\n",
        "\n",
        "RangeIndex — тип индекса, который является диапазоном целых чисел (начиная с 0).\n",
        "3 entries — объект имеет 3 элемента (или строки).\n",
        "0 to 2 — индекс начинается с 0 и заканчивается на 2 (то есть элементы имеют индексы 0, 1 и 2).\n",
        "3. Series name: None\n",
        "Эта строка указывает, что у серии нет имени. Обычно у Series можно задать имя с помощью параметра name, например: s.name = 'some_name'. Если оно не задано, то выводится None.\n",
        "\n",
        "4. Non-Null Count Dtype\n",
        "Этот раздел сообщает о количестве ненулевых значений и типе данных:\n",
        "\n",
        "2 non-null — из 3 элементов в серии 2 значения являются ненулевыми (то есть не NaN).\n",
        "float64 — тип данных элементов в серии — float64, что означает, что значения представлены числами с плавающей запятой с 64-битной точностью.\n",
        "5. dtypes: float64(1)\n",
        "Это подтверждает, что все элементы в серии имеют тип данных float64. В данном случае это один тип данных, и количество таких элементов в серии — 1.\n",
        "\n",
        "6. memory usage: 152.0 bytes\n",
        "Здесь указано, сколько памяти использует серия. В данном случае она использует 152 байта.\n",
        "\n",
        "7. None\n",
        "Этот вывод указывает, что метод info() не возвращает никаких значений, а только печатает информацию."
      ],
      "metadata": {
        "id": "4lIJiKKoErai"
      }
    },
    {
      "cell_type": "markdown",
      "source": [
        "\n",
        "\n",
        "## Вычисление квантилей в Pandas Series\n",
        "\n",
        "Квантили — это точки в распределении данных, которые делят данные на равные части. Они используются для анализа распределения и выявления выбросов. В Pandas вы можете вычислять квантили с помощью метода `quantile()`.\n",
        "\n",
        "### Пример вычисления квантили\n",
        "\n",
        "Рассмотрим, как вычислить квантили для Series.\n"
      ],
      "metadata": {
        "id": "N8zPy8JUobCA"
      }
    },
    {
      "cell_type": "code",
      "source": [
        "\n",
        "import pandas as pd\n",
        "\n",
        "# Создаем Series с набором данных\n",
        "data = pd.Series([10, 20, 30, 40, 50, 60, 70])\n",
        "\n",
        "# Вычисляем 25-й, 50-й и 75-й квантили\n",
        "q1 = data.quantile(0.25)  # 25-й процентиль\n",
        "q2 = data.quantile(0.50)  # 50-й процентиль (медиана)\n",
        "q3 = data.quantile(0.75)  # 75-й процентиль\n",
        "\n",
        "print(f\"25-й процентиль (Q1): {q1}\")\n",
        "print(f\"50-й процентиль (Q2): {q2}\")\n",
        "print(f\"75-й процентиль (Q3): {q3}\")\n"
      ],
      "metadata": {
        "id": "2Ct58SGgok4Z",
        "colab": {
          "base_uri": "https://localhost:8080/"
        },
        "outputId": "2a438bfe-035f-4435-ea8c-65e7c7e9ac6f"
      },
      "execution_count": null,
      "outputs": [
        {
          "output_type": "stream",
          "name": "stdout",
          "text": [
            "25-й процентиль (Q1): 25.0\n",
            "50-й процентиль (Q2): 40.0\n",
            "75-й процентиль (Q3): 55.0\n"
          ]
        }
      ]
    },
    {
      "cell_type": "markdown",
      "source": [
        "\n",
        "### Объяснение\n",
        "\n",
        "- **`quantile(0.25)`**: Вычисляет 25-й процентиль, который разделяет нижние 25% данных от верхних 75%.\n",
        "- **`quantile(0.50)`**: Вычисляет медиану (50-й процентиль), которая делит данные пополам.\n",
        "- **`quantile(0.75)`**: Вычисляет 75-й процентиль, который отделяет верхние 25% данных от нижних 75%."
      ],
      "metadata": {
        "id": "J4VNjvX_omNx"
      }
    },
    {
      "cell_type": "markdown",
      "source": [
        "## 2. Структура данных **DataFrame**\n",
        "\n",
        "\n",
        "`DataFrame` в Pandas — это таблица данных с метками для строк и столбцов. Это как таблица, где данные представлены в виде рядов (строк) и колонок (столбцов). Каждая колонка может содержать данные разного типа, например, числа, строки или даже временные метки.\n",
        "\n",
        "#### Пример создания DataFrame из словаря данных\n",
        "\n",
        "Для начала рассмотрим пример создания DataFrame из словаря. В Pandas DataFrame можно создать из различных источников данных, одним из самых распространенных является словарь, где ключи — это названия столбцов, а значения — данные.\n"
      ],
      "metadata": {
        "id": "L6GLhxWsNp1G"
      }
    },
    {
      "cell_type": "code",
      "source": [
        "\n",
        "\n",
        "import pandas as pd\n",
        "\n",
        "# Создаем DataFrame из словаря данных\n",
        "data = {\n",
        "    'Name': ['Alice', 'Bob', 'Charlie'],\n",
        "    'Age': [25, 30, 35],\n",
        "    'City': ['New York', 'Los Angeles', 'Chicago']\n",
        "}\n",
        "\n",
        "df = pd.DataFrame(data)\n",
        "print(df)\n",
        "\n"
      ],
      "metadata": {
        "id": "FOSiqXXXuONA",
        "colab": {
          "base_uri": "https://localhost:8080/"
        },
        "outputId": "80f9f800-aa16-4b26-e9f6-d1a473893058"
      },
      "execution_count": null,
      "outputs": [
        {
          "output_type": "stream",
          "name": "stdout",
          "text": [
            "      Name  Age         City\n",
            "0    Alice   25     New York\n",
            "1      Bob   30  Los Angeles\n",
            "2  Charlie   35      Chicago\n"
          ]
        }
      ]
    },
    {
      "cell_type": "markdown",
      "source": [
        "\n",
        "**Объяснение:**\n",
        "- В данном примере мы создаем DataFrame из словаря `data`, где ключами являются имена столбцов: `'Name'`, `'Age'`, и `'City'`.\n",
        "- Значениями для каждого ключа являются списки с данными, которые будут размещены по строкам.\n",
        "- В итоге создается таблица, где строки автоматически индексируются (индексы 0, 1, 2), а столбцы содержат данные из словаря.\n",
        "\n",
        "### 2. Способы создания DataFrame\n",
        "\n",
        "В Pandas существует несколько различных способов создания DataFrame. Вы можете создавать его из:\n",
        "- словарей списков,\n",
        "- списков списков,\n",
        "- массивов NumPy,\n",
        "- других DataFrame.\n",
        "\n",
        "#### 2.1 Создание DataFrame из словаря списков\n",
        "\n",
        "Чаще всего DataFrame создается из словаря, где ключи — это имена столбцов, а значения — это списки данных.\n"
      ],
      "metadata": {
        "id": "6T_oOTfzuMXH"
      }
    },
    {
      "cell_type": "code",
      "source": [
        "\n",
        "\n",
        "# Создание DataFrame из словаря списков\n",
        "data = {\n",
        "    'Product': ['Apple', 'Banana', 'Mango'],\n",
        "    'Price': [100, 50, 75]\n",
        "}\n",
        "df = pd.DataFrame(data)\n",
        "print(df)\n"
      ],
      "metadata": {
        "id": "cPGx9IK6uH8f",
        "colab": {
          "base_uri": "https://localhost:8080/"
        },
        "outputId": "72567e88-6531-4563-a212-b0a89613cd99"
      },
      "execution_count": null,
      "outputs": [
        {
          "output_type": "stream",
          "name": "stdout",
          "text": [
            "  Product  Price\n",
            "0   Apple    100\n",
            "1  Banana     50\n",
            "2   Mango     75\n"
          ]
        }
      ]
    },
    {
      "cell_type": "markdown",
      "source": [
        "\n",
        "\n",
        "**Объяснение:**\n",
        "- Мы создали DataFrame, в котором два столбца: `Product` (название продукта) и `Price` (цена).\n",
        "- В данном случае данные организованы в виде словаря, где для каждого столбца (ключа) указан список значений.\n",
        "\n",
        "#### 2.2 Создание DataFrame из списка списков\n",
        "\n",
        "Вы можете создать DataFrame и из списка списков, где каждая внутренняя структура представляет строку данных.\n"
      ],
      "metadata": {
        "id": "0IU47jX5uF5n"
      }
    },
    {
      "cell_type": "code",
      "source": [
        "\n",
        "\n",
        "# Создание DataFrame из списка списков\n",
        "data = [\n",
        "    ['Alice', 25, 'New York'],\n",
        "    ['Bob', 30, 'Los Angeles'],\n",
        "    ['Charlie', 35, 'Chicago']\n",
        "]\n",
        "df = pd.DataFrame(data, columns=['Name', 'Age', 'City'])\n",
        "print(df)\n"
      ],
      "metadata": {
        "id": "olYUe8uauCj3",
        "colab": {
          "base_uri": "https://localhost:8080/"
        },
        "outputId": "99e7e9e2-a644-42fa-a72c-451383d74bc8"
      },
      "execution_count": null,
      "outputs": [
        {
          "output_type": "stream",
          "name": "stdout",
          "text": [
            "      Name  Age         City\n",
            "0    Alice   25     New York\n",
            "1      Bob   30  Los Angeles\n",
            "2  Charlie   35      Chicago\n"
          ]
        }
      ]
    },
    {
      "cell_type": "markdown",
      "source": [
        "\n",
        "\n",
        "**Объяснение:**\n",
        "- В этом примере каждая строка таблицы представлена отдельным списком, который содержит данные по каждому столбцу.\n",
        "- Мы явно задаем имена столбцов через параметр `columns`, чтобы дать понять, что данные в этих столбцах представляют имя, возраст и город.\n",
        "\n",
        "#### 2.3 Создание DataFrame из массива NumPy\n",
        "\n",
        "Если данные уже представлены в виде массива NumPy, вы можете использовать их для создания DataFrame.\n"
      ],
      "metadata": {
        "id": "4DJpm54EuA43"
      }
    },
    {
      "cell_type": "code",
      "source": [
        "\n",
        "\n",
        "import numpy as np\n",
        "\n",
        "# Создание DataFrame из массива NumPy\n",
        "data = np.array([[10, 20, 30], [40, 50, 60]])\n",
        "df = pd.DataFrame(data, columns=['A', 'B', 'C'])\n",
        "print(df)\n",
        "\n"
      ],
      "metadata": {
        "id": "N3QTRKfet_G3",
        "colab": {
          "base_uri": "https://localhost:8080/"
        },
        "outputId": "6c112666-105a-4f86-fcb7-1c6dd482e40a"
      },
      "execution_count": null,
      "outputs": [
        {
          "output_type": "stream",
          "name": "stdout",
          "text": [
            "    A   B   C\n",
            "0  10  20  30\n",
            "1  40  50  60\n"
          ]
        }
      ]
    },
    {
      "cell_type": "markdown",
      "source": [
        "\n",
        "**Объяснение:**\n",
        "- Здесь мы создали двумерный массив NumPy и передали его в Pandas DataFrame.\n",
        "- Каждая строка в массиве становится строкой в DataFrame, а столбцам мы присвоили названия `A`, `B`, и `C`.\n",
        "\n",
        "### 3. Основные атрибуты DataFrame\n",
        "\n",
        "Когда мы создаем DataFrame, важно понимать, как извлекать информацию о его структуре. Pandas предоставляет несколько полезных атрибутов для этой цели.\n",
        "\n",
        "- **`df.shape`**: Возвращает количество строк и столбцов DataFrame.\n",
        "- **`df.columns`**: Возвращает список названий столбцов.\n",
        "- **`df.index`**: Возвращает метки строк (индексы).\n",
        "- **`df.dtypes`**: Показывает типы данных каждого столбца.\n",
        "\n",
        "#### Пример использования атрибутов DataFrame\n"
      ],
      "metadata": {
        "id": "8qxoz-pot6qP"
      }
    },
    {
      "cell_type": "code",
      "source": [
        "\n",
        "data = np.array([[10, 20, 30], [40, 50, 60]])\n",
        "df = pd.DataFrame(data, columns=['A', 'B', 'C'])\n",
        "# Получение основных атрибутов DataFrame\n",
        "print(\"Форма DataFrame:\", df.shape)\n",
        "print(\"Названия столбцов:\", df.columns)\n",
        "print(\"Индексы строк:\", df.index)\n",
        "print(\"Типы данных:\", df.dtypes)\n",
        "\n"
      ],
      "metadata": {
        "id": "fR22P-fMt9J3",
        "colab": {
          "base_uri": "https://localhost:8080/"
        },
        "outputId": "655818b2-e52d-4f2c-d939-e106c34efbd1"
      },
      "execution_count": null,
      "outputs": [
        {
          "output_type": "stream",
          "name": "stdout",
          "text": [
            "Форма DataFrame: (2, 3)\n",
            "Названия столбцов: Index(['A', 'B', 'C'], dtype='object')\n",
            "Индексы строк: RangeIndex(start=0, stop=2, step=1)\n",
            "Типы данных: A    int64\n",
            "B    int64\n",
            "C    int64\n",
            "dtype: object\n"
          ]
        }
      ]
    },
    {
      "cell_type": "markdown",
      "source": [
        "\n",
        "**Объяснение:**\n",
        "- `shape` возвращает кортеж (число строк, число столбцов), что позволяет быстро оценить размер таблицы.\n",
        "- `columns` возвращает названия всех столбцов DataFrame.\n",
        "- `index` показывает метки строк (индексы), которые по умолчанию числовые, начиная с 0.\n",
        "- `dtypes` показывает тип данных каждого столбца, что помогает понимать, как данные представлены в каждом столбце.\n",
        "\n",
        "\n",
        "### 4. Индексация и выбор данных в Pandas DataFrame\n",
        "\n",
        "В Pandas DataFrame предусмотрено множество способов выбора данных, которые обеспечивают гибкость при работе с таблицами. Вы можете выбирать данные по именам столбцов, индексам строк, а также с помощью специализированных методов `.loc[]` и `.iloc[]`. Ниже рассмотрим каждый из этих способов более подробно.\n",
        "\n",
        "#### 4.1 Выбор данных по названиям столбцов\n",
        "\n",
        "Один из самых простых способов выбрать данные — это обращение к столбцам DataFrame по их названиям, как к ключам в словаре. Вы можете выбрать как один, так и несколько столбцов одновременно.\n",
        "\n"
      ],
      "metadata": {
        "id": "tm1iOj85t28z"
      }
    },
    {
      "cell_type": "code",
      "source": [
        "data = [\n",
        "    ['Alice', 25, 'New York'],\n",
        "    ['Bob', 30, 'Los Angeles'],\n",
        "    ['Charlie', 35, 'Chicago']\n",
        "]\n",
        "df = pd.DataFrame(data, columns=['Name', 'Age', 'City'])\n",
        "# Выбор одного столбца\n",
        "print(df['Name'])\n",
        "\n",
        "# Выбор нескольких столбцов\n",
        "print(df[['Name', 'Age']])\n",
        "\n"
      ],
      "metadata": {
        "id": "LND6g0y2t0eL",
        "colab": {
          "base_uri": "https://localhost:8080/"
        },
        "outputId": "4ece35f3-876d-4173-b100-b5b429aa9684"
      },
      "execution_count": null,
      "outputs": [
        {
          "output_type": "stream",
          "name": "stdout",
          "text": [
            "0      Alice\n",
            "1        Bob\n",
            "2    Charlie\n",
            "Name: Name, dtype: object\n",
            "      Name  Age\n",
            "0    Alice   25\n",
            "1      Bob   30\n",
            "2  Charlie   35\n"
          ]
        }
      ]
    },
    {
      "cell_type": "markdown",
      "source": [
        "\n",
        "**Пояснение:**\n",
        "- Когда вы выбираете один столбец по его имени, Pandas возвращает объект типа `Series`, который представляет собой одномерную структуру данных (похожую на массив). В этом примере `df['Name']` вернет все значения столбца `Name`.\n",
        "- Для выбора нескольких столбцов необходимо передать список с их названиями, заключенный в двойные квадратные скобки. Например, `df[['Name', 'Age']]` вернет новый DataFrame, содержащий только столбцы `Name` и `Age`.\n",
        "\n",
        "#### 4.2 Выбор данных с помощью `.loc[]`\n",
        "\n",
        "Метод `.loc[]` используется для выборки данных на основе меток индексов строк и имен столбцов. Этот способ полезен, когда вам нужно точно указать строки и столбцы по их названиям, а не по позициям.\n",
        "\n"
      ],
      "metadata": {
        "id": "R8qXvskYty1j"
      }
    },
    {
      "cell_type": "code",
      "source": [
        "\n",
        "# Выбор строки по метке индекса\n",
        "print(df.loc[1])\n",
        "\n",
        "# Выбор конкретного значения по меткам строки и столбца\n",
        "print(df.loc[1, 'Age'])\n",
        "\n"
      ],
      "metadata": {
        "id": "apdeaAMOtxZi",
        "colab": {
          "base_uri": "https://localhost:8080/"
        },
        "outputId": "b4dac8e7-3020-4683-f47e-20689d42604c"
      },
      "execution_count": null,
      "outputs": [
        {
          "output_type": "stream",
          "name": "stdout",
          "text": [
            "Name            Bob\n",
            "Age              30\n",
            "City    Los Angeles\n",
            "Name: 1, dtype: object\n",
            "30\n"
          ]
        }
      ]
    },
    {
      "cell_type": "markdown",
      "source": [
        "\n",
        "**Пояснение:**\n",
        "- Вызов `df.loc[1]` выбирает строку с меткой индекса `1`, возвращая значения всех столбцов для этой строки.\n",
        "- Если вам нужно выбрать конкретное значение в пересечении строки и столбца, вы можете указать оба — как в случае `df.loc[1, 'Age']`, что вернет значение в строке с индексом `1` и столбце `Age`.\n",
        "- Метод `.loc[]` удобен, когда вы работаете с метками строк или именами столбцов, особенно если они не совпадают с порядковыми номерами.\n",
        "\n",
        "#### 4.3 Выбор данных с помощью `.iloc[]`\n",
        "\n",
        "Метод `.iloc[]` позволяет выбирать данные по их числовым индексам — как строк, так и столбцов. Это похоже на индексацию массивов в Python, где для каждой строки и столбца используется порядковый номер, начиная с нуля.\n"
      ],
      "metadata": {
        "id": "zInYZwR0twBL"
      }
    },
    {
      "cell_type": "code",
      "source": [
        "\n",
        "\n",
        "# Выбор строки по позиции\n",
        "print(df.iloc[0])\n",
        "\n",
        "# Выбор конкретного значения по индексу строки и столбца\n",
        "print(df.iloc[0, 1])\n",
        "\n"
      ],
      "metadata": {
        "id": "69j1mjhGts1j",
        "colab": {
          "base_uri": "https://localhost:8080/"
        },
        "outputId": "845ab031-0a49-4341-980e-83fca705653d"
      },
      "execution_count": null,
      "outputs": [
        {
          "output_type": "stream",
          "name": "stdout",
          "text": [
            "Name       Alice\n",
            "Age           25\n",
            "City    New York\n",
            "Name: 0, dtype: object\n",
            "25\n"
          ]
        }
      ]
    },
    {
      "cell_type": "markdown",
      "source": [
        "\n",
        "**Пояснение:**\n",
        "- В отличие от `.loc[]`, метод `.iloc[]` не опирается на метки строк и столбцов. Он работает исключительно с их порядковыми номерами, начиная с 0. Например, `df.iloc[0]` выберет первую строку в DataFrame.\n",
        "- Для доступа к конкретному значению по его позиции в строке и столбце, вы можете указать два индекса: строку и столбец. Например, `df.iloc[0, 1]` вернет значение из первой строки и второго столбца.\n",
        "- Этот метод полезен, когда вы не знаете или не хотите работать с метками, а только с позициями данных.\n",
        "\n",
        "\n",
        "\n",
        "### 5. Фильтрация данных\n",
        "\n",
        "Фильтрация данных является одним из важнейших инструментов работы с данными в Pandas, который позволяет выбирать строки, удовлетворяющие определенным условиям. Это особенно полезно, когда требуется работать только с определенными подмножествами данных.\n",
        "\n",
        "#### 5.1 Фильтрация по одному условию\n",
        "\n",
        "Pandas предоставляет возможность фильтровать строки DataFrame на основе логических условий. Для этого достаточно указать условие фильтрации через логическое выражение.\n",
        "\n",
        "**Пример:**\n"
      ],
      "metadata": {
        "id": "yidlY8h8tqtT"
      }
    },
    {
      "cell_type": "code",
      "source": [
        "\n",
        "\n",
        "# Фильтрация строк, где Age больше 30\n",
        "filtered_df = df[df['Age'] > 30]\n",
        "print(filtered_df)\n"
      ],
      "metadata": {
        "id": "XzMW5vWQtmLf",
        "colab": {
          "base_uri": "https://localhost:8080/"
        },
        "outputId": "1992a93c-1e42-45cc-8e83-df8b36437713"
      },
      "execution_count": null,
      "outputs": [
        {
          "output_type": "stream",
          "name": "stdout",
          "text": [
            "      Name  Age     City\n",
            "2  Charlie   35  Chicago\n"
          ]
        }
      ]
    },
    {
      "cell_type": "markdown",
      "source": [
        "\n",
        "\n",
        "**Объяснение:**\n",
        "- Логическое выражение `df['Age'] > 30` создает булев массив (True для строк, где возраст больше 30, и False для остальных).\n",
        "- Pandas использует этот булев массив для фильтрации строк, возвращая только те строки, где условие выполняется. В данном примере мы получим все строки, в которых значение столбца `Age` больше 30.\n",
        "\n"
      ],
      "metadata": {
        "id": "Po6GgIdxtkyn"
      }
    },
    {
      "cell_type": "markdown",
      "source": [
        "\n",
        "\n",
        "#### 5.2 Фильтрация по нескольким условиям\n",
        "\n",
        "Иногда необходимо фильтровать данные сразу по нескольким условиям. В Pandas это делается с использованием логических операторов:\n",
        "- `&` — логическое \"И\" (AND)\n",
        "- `|` — логическое \"ИЛИ\" (OR)\n",
        "\n",
        "**Пример:**\n"
      ],
      "metadata": {
        "id": "EqHz4Fx2thov"
      }
    },
    {
      "cell_type": "code",
      "source": [
        "\n",
        "# Фильтрация строк, где Age больше 30 и City равно 'Chicago'\n",
        "filtered_df = df[(df['Age'] > 30) & (df['City'] == 'Chicago')]\n",
        "print(filtered_df)"
      ],
      "metadata": {
        "id": "qjYsUUa0tfWP",
        "colab": {
          "base_uri": "https://localhost:8080/"
        },
        "outputId": "6c857ac9-1f05-463c-e53b-3ef3342272ce"
      },
      "execution_count": null,
      "outputs": [
        {
          "output_type": "stream",
          "name": "stdout",
          "text": [
            "      Name  Age     City\n",
            "2  Charlie   35  Chicago\n"
          ]
        }
      ]
    },
    {
      "cell_type": "markdown",
      "source": [
        "\n",
        "\n",
        "**Объяснение:**\n",
        "- Здесь мы используем два условия: первое условие проверяет, что `Age` больше 30, а второе — что `City` равно `Chicago`.\n",
        "- Оператор `&` требует, чтобы оба условия были истинны для строки, и возвращает только те строки, где оба условия выполняются.\n",
        "- Скобки вокруг каждого условия обязательны при использовании логических операторов в Pandas.\n",
        "\n",
        "\n",
        "\n",
        "#### 5.3 Фильтрация с использованием метода `query()`\n",
        "\n",
        "Для более удобного синтаксиса фильтрации можно использовать метод `query()`. Он позволяет писать фильтры в виде SQL-подобных запросов.\n",
        "\n",
        "**Пример:**\n"
      ],
      "metadata": {
        "id": "oh2xevDJtb_3"
      }
    },
    {
      "cell_type": "code",
      "source": [
        "\n",
        "\n",
        "# Фильтрация строк, где Age больше 30 и City равно 'Chicago' с помощью query()\n",
        "filtered_df = df.query('Age > 30 and City == \"Chicago\"')\n",
        "print(filtered_df)\n"
      ],
      "metadata": {
        "id": "V-W99l0-tX9Q",
        "colab": {
          "base_uri": "https://localhost:8080/"
        },
        "outputId": "1529590c-8dee-46e6-8806-68736bdc04d1"
      },
      "execution_count": null,
      "outputs": [
        {
          "output_type": "stream",
          "name": "stdout",
          "text": [
            "      Name  Age     City\n",
            "2  Charlie   35  Chicago\n"
          ]
        }
      ]
    },
    {
      "cell_type": "markdown",
      "source": [
        "\n",
        "\n",
        "**Объяснение:**\n",
        "- Метод `query()` позволяет задавать условия фильтрации в виде строк. Это может быть более читаемым и удобным для сложных фильтров.\n",
        "- Использование `and` и `or` в методе `query()` аналогично логическим операторам `&` и `|` в обычной фильтрации.\n",
        "\n",
        "\n",
        "\n",
        "#### 5.4 Фильтрация с использованием метода `isin()`\n",
        "\n",
        "Иногда требуется отфильтровать строки, основываясь на наличии значений в списке. Для этого используется метод `isin()`.\n",
        "\n",
        "**Пример:**\n"
      ],
      "metadata": {
        "id": "5AWpstkRtV9Y"
      }
    },
    {
      "cell_type": "code",
      "source": [
        "\n",
        "\n",
        "# Фильтрация строк, где City равно 'Chicago' или 'New York'\n",
        "filtered_df = df[df['City'].isin(['Chicago', 'New York'])]\n",
        "print(filtered_df)\n",
        "\n"
      ],
      "metadata": {
        "id": "vc_tdb2MtTpf",
        "colab": {
          "base_uri": "https://localhost:8080/"
        },
        "outputId": "c1758615-7f04-41b9-b93c-73e565d35293"
      },
      "execution_count": null,
      "outputs": [
        {
          "output_type": "stream",
          "name": "stdout",
          "text": [
            "      Name  Age      City\n",
            "0    Alice   25  New York\n",
            "2  Charlie   35   Chicago\n"
          ]
        }
      ]
    },
    {
      "cell_type": "markdown",
      "source": [
        "\n",
        "**Объяснение:**\n",
        "- Метод `isin()` проверяет, содержится ли значение в столбце в заданном списке значений.\n",
        "- В данном примере мы получаем строки, где `City` равно либо `Chicago`, либо `New York`.\n",
        "\n",
        "\n",
        "\n",
        "\n",
        "#### 5.5 Фильтрация строк с отсутствующими значениями\n",
        "\n",
        "Иногда важно отфильтровать строки, в которых отсутствуют данные (`NaN`). Для этого можно использовать методы `isna()` и `notna()`.\n",
        "\n",
        "**Пример:**\n"
      ],
      "metadata": {
        "id": "FkAMYa9RtRlH"
      }
    },
    {
      "cell_type": "code",
      "source": [
        "\n",
        "\n",
        "# Фильтрация строк, где значение в столбце Age отсутствует (NaN)\n",
        "filtered_df = df[df['Age'].isna()]\n",
        "print(filtered_df)\n",
        "\n"
      ],
      "metadata": {
        "id": "3VtaKeB2tOa6",
        "colab": {
          "base_uri": "https://localhost:8080/"
        },
        "outputId": "7bec2235-9ede-417e-c3cc-4757bc74a05d"
      },
      "execution_count": null,
      "outputs": [
        {
          "output_type": "stream",
          "name": "stdout",
          "text": [
            "Empty DataFrame\n",
            "Columns: [Name, Age, City]\n",
            "Index: []\n"
          ]
        }
      ]
    },
    {
      "cell_type": "markdown",
      "source": [
        "\n",
        "**Объяснение:**\n",
        "- Метод `isna()` возвращает булев массив, где `True` соответствует строкам с пропущенными значениями (`NaN`) в указанном столбце.\n",
        "- В данном примере будут возвращены все строки, где в столбце `Age` значение отсутствует.\n",
        "\n",
        "\n",
        "#### 5.6 Фильтрация с использованием регулярных выражений\n",
        "\n",
        "Pandas также поддерживает фильтрацию строк с использованием регулярных выражений через метод `str.contains()`.\n",
        "\n",
        "**Пример:**\n"
      ],
      "metadata": {
        "id": "y2VFtpketMXI"
      }
    },
    {
      "cell_type": "code",
      "source": [
        "\n",
        "\n",
        "# Фильтрация строк, где City начинается с 'Ch'\n",
        "filtered_df = df[df['City'].str.contains('^Ch', regex=True)]\n",
        "print(filtered_df)\n",
        "\n"
      ],
      "metadata": {
        "id": "rd1Gcdp-tGlQ",
        "colab": {
          "base_uri": "https://localhost:8080/"
        },
        "outputId": "40e3713e-0a94-40c1-8ef5-c8f13f998337"
      },
      "execution_count": null,
      "outputs": [
        {
          "output_type": "stream",
          "name": "stdout",
          "text": [
            "      Name  Age     City\n",
            "2  Charlie   35  Chicago\n"
          ]
        }
      ]
    },
    {
      "cell_type": "markdown",
      "source": [
        "\n",
        "**Объяснение:**\n",
        "- Метод `str.contains()` позволяет выполнять фильтрацию строковых данных по шаблонам регулярных выражений.\n",
        "- В данном примере фильтруются строки, где значения в столбце `City` начинаются с букв \"Ch\".\n",
        "\n",
        "\n",
        "\n",
        "\n",
        "### 6. Добавление, удаление и изменение данных\n",
        "\n",
        "#### 6.1 Добавление новых столбцов\n",
        "\n",
        "Pandas позволяет легко добавлять новые столбцы в существующий DataFrame. Это может быть результатом математических операций или данных, полученных из внешних источников.\n",
        "\n",
        "**Пример:**\n",
        "\n"
      ],
      "metadata": {
        "id": "BXQEEZArtEG4"
      }
    },
    {
      "cell_type": "code",
      "source": [
        "\n",
        "# Добавление нового столбца с вычислением годового дохода\n",
        "df['Income'] = [50000, 60000, 55000]\n",
        "print(df)\n",
        "\n"
      ],
      "metadata": {
        "id": "PioMrXzQtBX4",
        "colab": {
          "base_uri": "https://localhost:8080/"
        },
        "outputId": "bf1c7115-7cf2-4753-9271-69c888c15679"
      },
      "execution_count": null,
      "outputs": [
        {
          "output_type": "stream",
          "name": "stdout",
          "text": [
            "      Name  Age         City  Income\n",
            "0    Alice   25     New York   50000\n",
            "1      Bob   30  Los Angeles   60000\n",
            "2  Charlie   35      Chicago   55000\n"
          ]
        }
      ]
    },
    {
      "cell_type": "markdown",
      "source": [
        "\n",
        "**Объяснение:**\n",
        "- Новый столбец `Income` добавляется к DataFrame, где каждому человеку присваивается его годовой доход.\n",
        "- Важное преимущество Pandas — это возможность легко добавлять или изменять данные, просто присваивая значения новым столбцам.\n",
        "\n",
        "#### 6.2 Удаление столбцов и строк\n",
        "\n",
        "Для удаления столбцов или строк используется метод `drop()`.\n",
        "\n",
        "**Пример:**\n"
      ],
      "metadata": {
        "id": "Oy2eQx6_s-_Q"
      }
    },
    {
      "cell_type": "code",
      "source": [
        "\n",
        "\n",
        "# Удаление столбца Age\n",
        "df = df.drop(columns=['Age'])\n",
        "print(df)\n",
        "\n",
        "# Удаление строки с индексом 1\n",
        "df = df.drop(index=1)\n",
        "print(df)\n"
      ],
      "metadata": {
        "id": "SVt9g0Jksp_A",
        "colab": {
          "base_uri": "https://localhost:8080/"
        },
        "outputId": "e58d4cc6-7f7b-4dba-e29f-c7e59c84cfbd"
      },
      "execution_count": null,
      "outputs": [
        {
          "output_type": "stream",
          "name": "stdout",
          "text": [
            "      Name         City  Income\n",
            "0    Alice     New York   50000\n",
            "1      Bob  Los Angeles   60000\n",
            "2  Charlie      Chicago   55000\n",
            "      Name      City  Income\n",
            "0    Alice  New York   50000\n",
            "2  Charlie   Chicago   55000\n"
          ]
        }
      ]
    },
    {
      "cell_type": "markdown",
      "source": [
        "\n",
        "\n",
        "**Объяснение:**\n",
        "- Метод `drop()` позволяет удалять строки или столбцы. Аргумент `columns` указывает, какой столбец удалить, а `index` — какую строку.\n",
        "- По умолчанию `drop()` возвращает новый DataFrame без удаленных данных, не изменяя исходный DataFrame.\n",
        "\n",
        "#### 6.3 Изменение данных\n",
        "\n",
        "Можно легко изменить значения в DataFrame, например, с помощью логических условий или прямого присвоения.\n",
        "\n",
        "**Пример:**\n",
        "\n"
      ],
      "metadata": {
        "id": "cLFgICsZsmcY"
      }
    },
    {
      "cell_type": "code",
      "source": [
        "\n",
        "# Изменение всех значений в столбце City на 'San Francisco', где Name = 'Alice'\n",
        "df.loc[df['Name'] == 'Alice', 'City'] = 'San Francisco'\n",
        "print(df)\n"
      ],
      "metadata": {
        "id": "mXe68XKXsjhw",
        "colab": {
          "base_uri": "https://localhost:8080/"
        },
        "outputId": "563b2524-afd6-4775-c109-7576b82d05d2"
      },
      "execution_count": null,
      "outputs": [
        {
          "output_type": "stream",
          "name": "stdout",
          "text": [
            "      Name           City  Income\n",
            "0    Alice  San Francisco   50000\n",
            "2  Charlie        Chicago   55000\n"
          ]
        }
      ]
    },
    {
      "cell_type": "markdown",
      "source": [
        "\n",
        "\n",
        "**Объяснение:**\n",
        "- Используя `.loc[]`, можно выбрать строки по определенным условиям и обновить значения в соответствующих столбцах. Здесь для всех строк, где имя равно 'Alice', город изменяется на 'San Francisco'.\n",
        "\n",
        "\n",
        "\n",
        "### 7. Сортировка данных\n",
        "\n",
        "Pandas позволяет сортировать данные как по значениям столбцов, так и по индексам строк.\n",
        "\n",
        "#### 7.1 Сортировка по значениям столбца\n",
        "\n",
        "Вы можете отсортировать DataFrame по значениям одного или нескольких столбцов с помощью метода `sort_values()`.\n",
        "\n",
        "**Пример:**\n"
      ],
      "metadata": {
        "id": "OgIdlYS_shvY"
      }
    },
    {
      "cell_type": "code",
      "source": [
        "\n",
        "data = [\n",
        "    ['Alice', 25, 'New York'],\n",
        "    ['Bob', 30, 'Los Angeles'],\n",
        "    ['Charlie', 35, 'Chicago']\n",
        "]\n",
        "df = pd.DataFrame(data, columns=['Name', 'Age', 'City'])\n",
        "# Сортировка по столбцу Age\n",
        "sorted_df = df.sort_values(by='Age')\n",
        "print(sorted_df)\n"
      ],
      "metadata": {
        "id": "sreiAeyKsbSP",
        "colab": {
          "base_uri": "https://localhost:8080/"
        },
        "outputId": "0625e029-a085-4dcc-dc20-a67c1bad2fb5"
      },
      "execution_count": null,
      "outputs": [
        {
          "output_type": "stream",
          "name": "stdout",
          "text": [
            "      Name  Age         City\n",
            "0    Alice   25     New York\n",
            "1      Bob   30  Los Angeles\n",
            "2  Charlie   35      Chicago\n"
          ]
        }
      ]
    },
    {
      "cell_type": "markdown",
      "source": [
        "\n",
        "\n",
        "**Объяснение:**\n",
        "- Метод `sort_values()` сортирует строки DataFrame по значениям в указанном столбце. Здесь мы сортируем по возрасту.\n",
        "\n",
        "#### 7.2 Сортировка по индексу\n",
        "\n",
        "Метод `sort_index()` сортирует DataFrame по индексам строк, что полезно при работе с временными рядами или если индексы имеют определенное значение.\n",
        "\n",
        "**Пример:**\n"
      ],
      "metadata": {
        "id": "fmtHFyeGsYaH"
      }
    },
    {
      "cell_type": "code",
      "source": [
        "\n",
        "\n",
        "# Сортировка по индексу в обратном порядке\n",
        "sorted_df = df.sort_index(ascending=False)\n",
        "print(sorted_df)\n",
        "\n"
      ],
      "metadata": {
        "id": "7BHo-f2rsW8v",
        "colab": {
          "base_uri": "https://localhost:8080/"
        },
        "outputId": "44e4ca5b-f262-4e52-9874-2c414f575d3a"
      },
      "execution_count": null,
      "outputs": [
        {
          "output_type": "stream",
          "name": "stdout",
          "text": [
            "      Name  Age         City\n",
            "2  Charlie   35      Chicago\n",
            "1      Bob   30  Los Angeles\n",
            "0    Alice   25     New York\n"
          ]
        }
      ]
    },
    {
      "cell_type": "markdown",
      "source": [
        "\n",
        "**Объяснение:**\n",
        "- В этом примере строки сортируются по индексу в обратном порядке (с конца). Параметр `ascending=False` задает сортировку по убыванию.\n",
        "\n",
        "\n",
        "### 8. Преобразование данных\n",
        "\n",
        "Для работы с текстовыми и числовыми данными в Pandas предоставлены разнообразные методы для преобразования данных. Включает работу с дубликатами, замена значений и изменение типов данных.\n",
        "\n",
        "#### 8.1 Удаление дубликатов\n",
        "\n",
        "Метод `drop_duplicates()` удаляет повторяющиеся строки.\n",
        "\n",
        "**Пример:**\n"
      ],
      "metadata": {
        "id": "zXhQvcBOsU63"
      }
    },
    {
      "cell_type": "code",
      "source": [
        "\n",
        "\n",
        "# Удаление дубликатов в DataFrame\n",
        "df = pd.DataFrame({'Name': ['Alice', 'Bob', 'Alice'], 'Age': [25, 30, 25]})\n",
        "df = df.drop_duplicates()\n",
        "print(df)\n",
        "\n"
      ],
      "metadata": {
        "id": "DA-okx2psSDP",
        "colab": {
          "base_uri": "https://localhost:8080/"
        },
        "outputId": "7d45f710-6b8b-4486-cbdf-46474a30d3e4"
      },
      "execution_count": null,
      "outputs": [
        {
          "output_type": "stream",
          "name": "stdout",
          "text": [
            "    Name  Age\n",
            "0  Alice   25\n",
            "1    Bob   30\n"
          ]
        }
      ]
    },
    {
      "cell_type": "markdown",
      "source": [
        "\n",
        "**Объяснение:**\n",
        "- В данном случае строки с одинаковыми значениями в столбце `Name` и `Age` считаются дубликатами, и одна из них удаляется.\n",
        "\n",
        "#### 8.2 Замена значений\n",
        "\n",
        "Метод `replace()` позволяет заменять конкретные значения в DataFrame на другие.\n",
        "\n",
        "**Пример:**\n",
        "\n"
      ],
      "metadata": {
        "id": "r3aWO2xfsQdQ"
      }
    },
    {
      "cell_type": "code",
      "source": [
        "\n",
        "# Замена значения 'Bob' на 'Robert'\n",
        "df['Name'] = df['Name'].replace('Bob', 'Robert')\n",
        "print(df)\n",
        "\n"
      ],
      "metadata": {
        "id": "gIn_8HKLsOCQ",
        "colab": {
          "base_uri": "https://localhost:8080/"
        },
        "outputId": "e1b0783b-ba25-4b22-c9e3-e1c803183816"
      },
      "execution_count": null,
      "outputs": [
        {
          "output_type": "stream",
          "name": "stdout",
          "text": [
            "     Name  Age\n",
            "0   Alice   25\n",
            "1  Robert   30\n"
          ]
        }
      ]
    },
    {
      "cell_type": "markdown",
      "source": [
        "\n",
        "**Объяснение:**\n",
        "- Метод `replace()` заменяет все вхождения строки `'Bob'` на `'Robert'` в столбце `Name`.\n",
        "\n",
        "#### 8.3 Изменение типов данных\n",
        "\n",
        "Вы можете изменять тип данных столбцов, используя метод `astype()`.\n",
        "\n",
        "**Пример:**\n"
      ],
      "metadata": {
        "id": "VWAilvfRsL4g"
      }
    },
    {
      "cell_type": "code",
      "source": [
        "\n",
        "\n",
        "# Преобразование столбца Age в тип float\n",
        "df['Age'] = df['Age'].astype(float)\n",
        "print(df.dtypes)\n",
        "\n"
      ],
      "metadata": {
        "id": "CYA6h_UWsKMw",
        "colab": {
          "base_uri": "https://localhost:8080/"
        },
        "outputId": "d82342be-ec90-4e61-c20c-89206eb01750"
      },
      "execution_count": null,
      "outputs": [
        {
          "output_type": "stream",
          "name": "stdout",
          "text": [
            "Name     object\n",
            "Age     float64\n",
            "dtype: object\n"
          ]
        }
      ]
    },
    {
      "cell_type": "markdown",
      "source": [
        "\n",
        "**Объяснение:**\n",
        "- Метод `astype()` изменяет тип данных столбца. Здесь мы преобразуем значения столбца `Age` в тип `float`, чтобы работать с дробными числами.\n",
        "\n",
        "\n",
        "### 9. Работа с пропущенными данными\n",
        "\n",
        "Пропущенные данные (отсутствующие значения) часто встречаются в реальных наборах данных. В Pandas такие значения обозначаются как `NaN` (Not a Number). Наличие пропущенных данных может приводить к ошибкам при анализе и моделировании, поэтому важно уметь правильно их обрабатывать. Pandas предоставляет широкий набор методов для обнаружения, удаления и заполнения пропущенных значений, что позволяет улучшить качество данных и повысить точность анализа.\n",
        "\n",
        "\n",
        "\n",
        "#### 9.1 Обнаружение пропущенных значений\n",
        "\n",
        "Прежде чем приступить к обработке пропущенных данных, необходимо их обнаружить.\n",
        "\n",
        "**Метод `isnull()` и `notnull()`**\n",
        "\n",
        "- `isnull()`: возвращает DataFrame или Series с булевыми значениями `True` для пропущенных значений и `False` для непропущенных.\n",
        "- `notnull()`: обратный метод, возвращает `True` для непропущенных значений.\n",
        "\n",
        "**Пример:**\n",
        "\n",
        "Допустим, у нас есть DataFrame с пропущенными значениями.\n",
        "\n"
      ],
      "metadata": {
        "id": "60JaUPLusGGY"
      }
    },
    {
      "cell_type": "code",
      "source": [
        "\n",
        "import pandas as pd\n",
        "import numpy as np\n",
        "\n",
        "# Создаем DataFrame с пропущенными значениями\n",
        "data = {\n",
        "    'Name': ['Alice', 'Bob', 'Charlie', 'David'],\n",
        "    'Age': [25, np.nan, 35, 40],\n",
        "    'City': ['New York', 'Los Angeles', np.nan, 'Chicago']\n",
        "}\n",
        "df = pd.DataFrame(data)\n",
        "print(\"Исходный DataFrame:\")\n",
        "print(df)\n"
      ],
      "metadata": {
        "id": "ctwLfr8tsCNw",
        "colab": {
          "base_uri": "https://localhost:8080/"
        },
        "outputId": "bc7648ca-9ab4-4657-ea1f-bdfcbd8eab13"
      },
      "execution_count": null,
      "outputs": [
        {
          "output_type": "stream",
          "name": "stdout",
          "text": [
            "Исходный DataFrame:\n",
            "      Name   Age         City\n",
            "0    Alice  25.0     New York\n",
            "1      Bob   NaN  Los Angeles\n",
            "2  Charlie  35.0          NaN\n",
            "3    David  40.0      Chicago\n"
          ]
        }
      ]
    },
    {
      "cell_type": "markdown",
      "source": [
        "\n",
        "\n",
        "**Объяснение:**\n",
        "\n",
        "- Мы импортируем необходимые библиотеки `pandas` и `numpy`.\n",
        "- Создаем словарь `data`, где некоторые значения установлены как `np.nan`, что обозначает пропущенные данные.\n",
        "- Инициализируем DataFrame с этим словарем и выводим его.\n",
        "\n",
        "\n"
      ],
      "metadata": {
        "id": "Sxj-SZfvsATo"
      }
    },
    {
      "cell_type": "markdown",
      "source": [
        "\n",
        "\n",
        "**Использование `isnull()`:**\n"
      ],
      "metadata": {
        "id": "GNogpZrTr8eY"
      }
    },
    {
      "cell_type": "code",
      "source": [
        "\n",
        "\n",
        "# Проверяем, где находятся пропущенные значения\n",
        "null_checks = df.isnull()\n",
        "print(\"\\nПроверка на пропущенные значения:\")\n",
        "print(null_checks)\n",
        "\n"
      ],
      "metadata": {
        "id": "twalVs7Cr-q4",
        "colab": {
          "base_uri": "https://localhost:8080/"
        },
        "outputId": "60bde06f-f5ea-4ae6-a82f-c833f4748695"
      },
      "execution_count": null,
      "outputs": [
        {
          "output_type": "stream",
          "name": "stdout",
          "text": [
            "\n",
            "Проверка на пропущенные значения:\n",
            "    Name    Age   City\n",
            "0  False  False  False\n",
            "1  False   True  False\n",
            "2  False  False   True\n",
            "3  False  False  False\n"
          ]
        }
      ]
    },
    {
      "cell_type": "markdown",
      "source": [
        "\n",
        "**Объяснение:**\n",
        "\n",
        "- Метод `isnull()` возвращает DataFrame того же размера, где каждое значение — это булево значение, указывающее, является ли исходное значение пропущенным.\n",
        "\n",
        "\n",
        "\n",
        "\n",
        "#### 9.2 Подсчет количества пропущенных значений\n",
        "\n",
        "**Метод `isnull().sum()`**\n",
        "\n",
        "Вы можете подсчитать количество пропущенных значений в каждом столбце.\n"
      ],
      "metadata": {
        "id": "ImEZZcdor6Tg"
      }
    },
    {
      "cell_type": "code",
      "source": [
        "\n",
        "\n",
        "# Подсчет пропущенных значений в каждом столбце\n",
        "missing_values_count = df.isnull().sum()\n",
        "print(\"\\nКоличество пропущенных значений в каждом столбце:\")\n",
        "print(missing_values_count)\n",
        "\n"
      ],
      "metadata": {
        "id": "SSkzglAMrzTY",
        "colab": {
          "base_uri": "https://localhost:8080/"
        },
        "outputId": "6c89a57d-3905-4f5e-9b34-a1f2c2a1f5fe"
      },
      "execution_count": null,
      "outputs": [
        {
          "output_type": "stream",
          "name": "stdout",
          "text": [
            "\n",
            "Количество пропущенных значений в каждом столбце:\n",
            "Name    0\n",
            "Age     1\n",
            "City    1\n",
            "dtype: int64\n"
          ]
        }
      ]
    },
    {
      "cell_type": "markdown",
      "source": [
        "\n",
        "**Объяснение:**\n",
        "\n",
        "- Вызываем `isnull()` для получения DataFrame с булевыми значениями.\n",
        "- Затем применяем метод `sum()`, который суммирует `True` значения как 1, давая количество пропущенных значений в каждом столбце.\n",
        "\n",
        "\n",
        "#### 9.3 Заполнение пропущенных значений\n",
        "\n",
        "Обработка пропущенных данных часто включает их замену на какие-либо значения. Pandas предоставляет метод `fillna()` для заполнения пропущенных значений.\n",
        "\n",
        "**Метод `fillna()`**\n",
        "\n",
        "- Позволяет заменить все `NaN` значения на заданное значение или метод.\n",
        "\n",
        "**Пример 1: Замена на фиксированное значение**\n",
        "\n",
        "Предположим, мы хотим заменить все пропущенные значения в столбце `Age` на 30.\n"
      ],
      "metadata": {
        "id": "GxKP2s1Vrv_A"
      }
    },
    {
      "cell_type": "code",
      "source": [
        "\n",
        "\n",
        "# Замена пропущенных значений в столбце Age на 30\n",
        "df['Age'] = df['Age'].fillna(30)\n",
        "print(\"\\nDataFrame после замены пропущенных значений в 'Age' на 30:\")\n",
        "print(df)\n"
      ],
      "metadata": {
        "id": "0OX2iB9Xro84",
        "colab": {
          "base_uri": "https://localhost:8080/"
        },
        "outputId": "f3c58751-ee2f-4c46-e132-e9a4d4166289"
      },
      "execution_count": null,
      "outputs": [
        {
          "output_type": "stream",
          "name": "stdout",
          "text": [
            "\n",
            "DataFrame после замены пропущенных значений в 'Age' на 30:\n",
            "      Name   Age         City\n",
            "0    Alice  25.0     New York\n",
            "1      Bob  30.0  Los Angeles\n",
            "2  Charlie  35.0          NaN\n",
            "3    David  40.0      Chicago\n"
          ]
        }
      ]
    },
    {
      "cell_type": "markdown",
      "source": [
        "\n",
        "\n",
        "**Объяснение:**\n",
        "\n",
        "- Используем `fillna(30)` для столбца `Age`, что заменяет все `NaN` значения на 30.\n",
        "\n",
        "\n",
        "\n",
        "**Пример 2: Замена на среднее значение столбца**\n",
        "\n",
        "Более распространенный подход — заменить пропущенные значения на статистические показатели, например, на среднее или медианное значение.\n"
      ],
      "metadata": {
        "id": "uBiMuWtMre0N"
      }
    },
    {
      "cell_type": "code",
      "source": [
        "\n",
        "\n",
        "# Вычисляем среднее значение столбца Age\n",
        "mean_age = df['Age'].mean()\n",
        "print(\"\\nСреднее значение возраста:\", mean_age)\n",
        "\n",
        "# Замена пропущенных значений на среднее значение\n",
        "df['Age'] = df['Age'].fillna(mean_age)\n",
        "print(\"\\nDataFrame после замены пропущенных значений в 'Age' на среднее значение:\")\n",
        "print(df)\n"
      ],
      "metadata": {
        "id": "oa-lcR8zraq1",
        "colab": {
          "base_uri": "https://localhost:8080/"
        },
        "outputId": "17d87a75-2d48-44bf-f584-b4d8043bab2b"
      },
      "execution_count": null,
      "outputs": [
        {
          "output_type": "stream",
          "name": "stdout",
          "text": [
            "\n",
            "Среднее значение возраста: 32.5\n",
            "\n",
            "DataFrame после замены пропущенных значений в 'Age' на среднее значение:\n",
            "      Name   Age         City\n",
            "0    Alice  25.0     New York\n",
            "1      Bob  30.0  Los Angeles\n",
            "2  Charlie  35.0          NaN\n",
            "3    David  40.0      Chicago\n"
          ]
        }
      ]
    },
    {
      "cell_type": "markdown",
      "source": [
        "\n",
        "\n",
        "**Объяснение:**\n",
        "\n",
        "- Вычисляем среднее значение возраста с помощью `df['Age'].mean()`.\n",
        "- Применяем `fillna(mean_age)` для замены пропущенных значений на среднее.\n",
        "\n",
        "\n",
        "\n",
        "\n",
        "**Пример 3: Заполнение пропущенных строковых значений**\n",
        "\n",
        "Для строковых данных можно заполнить пропуски наиболее часто встречающимся значением или любым другим способом.\n"
      ],
      "metadata": {
        "id": "weDAoYIbrX4d"
      }
    },
    {
      "cell_type": "code",
      "source": [
        "\n",
        "\n",
        "# Заполнение пропущенных значений в 'City' на 'Unknown'\n",
        "df['City'] = df['City'].fillna('Unknown')\n",
        "print(\"\\nDataFrame после замены пропущенных значений в 'City' на 'Unknown':\")\n",
        "print(df)\n",
        "\n"
      ],
      "metadata": {
        "id": "i6sWpng6rWLA",
        "colab": {
          "base_uri": "https://localhost:8080/"
        },
        "outputId": "70585ce6-6001-449b-cdce-7e994620ec1f"
      },
      "execution_count": null,
      "outputs": [
        {
          "output_type": "stream",
          "name": "stdout",
          "text": [
            "\n",
            "DataFrame после замены пропущенных значений в 'City' на 'Unknown':\n",
            "      Name   Age         City\n",
            "0    Alice  25.0     New York\n",
            "1      Bob  30.0  Los Angeles\n",
            "2  Charlie  35.0      Unknown\n",
            "3    David  40.0      Chicago\n"
          ]
        }
      ]
    },
    {
      "cell_type": "markdown",
      "source": [
        "\n",
        "**Объяснение:**\n",
        "\n",
        "- Заменяем `NaN` в столбце `City` на строку `'Unknown'`.\n",
        "\n",
        "\n",
        "#### 9.4 Удаление пропущенных данных\n",
        "\n",
        "Иногда проще удалить строки или столбцы с пропущенными значениями, особенно если их немного.\n",
        "\n",
        "**Метод `dropna()`**\n",
        "\n",
        "- Удаляет строки или столбцы, содержащие пропущенные значения.\n",
        "\n",
        "**Пример 1: Удаление строк с пропущенными значениями**\n"
      ],
      "metadata": {
        "id": "DbXG6hSQrTto"
      }
    },
    {
      "cell_type": "code",
      "source": [
        "\n",
        "\n",
        "# Создаем DataFrame с пропущенными значениями\n",
        "df = pd.DataFrame(data)\n",
        "\n",
        "# Удаление строк с пропущенными значениями\n",
        "df_dropped_rows = df.dropna()\n",
        "print(\"\\nDataFrame после удаления строк с пропущенными значениями:\")\n",
        "print(df_dropped_rows)\n",
        "\n"
      ],
      "metadata": {
        "id": "d8zSBPDurNTI",
        "colab": {
          "base_uri": "https://localhost:8080/"
        },
        "outputId": "f848402b-0982-4c77-f8cd-390ef29c68b3"
      },
      "execution_count": null,
      "outputs": [
        {
          "output_type": "stream",
          "name": "stdout",
          "text": [
            "\n",
            "DataFrame после удаления строк с пропущенными значениями:\n",
            "    Name   Age      City\n",
            "0  Alice  25.0  New York\n",
            "3  David  40.0   Chicago\n"
          ]
        }
      ]
    },
    {
      "cell_type": "markdown",
      "source": [
        "\n",
        "**Объяснение:**\n",
        "\n",
        "- Метод `dropna()` без параметров удаляет все строки, содержащие хотя бы одно пропущенное значение.\n",
        "\n",
        "\n",
        "\n",
        "**Пример 2: Удаление столбцов с пропущенными значениями**\n",
        "\n"
      ],
      "metadata": {
        "id": "6agi-bDLrL0A"
      }
    },
    {
      "cell_type": "code",
      "source": [
        "\n",
        "# Удаление столбцов с пропущенными значениями\n",
        "df_dropped_columns = df.dropna(axis=1)\n",
        "print(\"\\nDataFrame после удаления столбцов с пропущенными значениями:\")\n",
        "print(df_dropped_columns)\n",
        "\n"
      ],
      "metadata": {
        "id": "-410UweIrI0w",
        "colab": {
          "base_uri": "https://localhost:8080/"
        },
        "outputId": "138524f8-9a22-4adb-d0aa-47974b468761"
      },
      "execution_count": null,
      "outputs": [
        {
          "output_type": "stream",
          "name": "stdout",
          "text": [
            "\n",
            "DataFrame после удаления столбцов с пропущенными значениями:\n",
            "      Name\n",
            "0    Alice\n",
            "1      Bob\n",
            "2  Charlie\n",
            "3    David\n"
          ]
        }
      ]
    },
    {
      "cell_type": "markdown",
      "source": [
        "\n",
        "**Объяснение:**\n",
        "\n",
        "- Параметр `axis=1` указывает, что нужно удалить столбцы с пропущенными значениями.\n",
        "\n",
        "\n",
        "\n",
        "**Пример 3: Удаление строк с пропущенными значениями в конкретном столбце**\n",
        "\n"
      ],
      "metadata": {
        "id": "7KnSV2kArEro"
      }
    },
    {
      "cell_type": "code",
      "source": [
        "\n",
        "# Удаление строк, где в столбце 'Age' есть пропущенные значения\n",
        "df_dropped_specific = df.dropna(subset=['Age'])\n",
        "print(\"\\nDataFrame после удаления строк с пропущенным значением в 'Age':\")\n",
        "print(df_dropped_specific)\n"
      ],
      "metadata": {
        "id": "_9I8WPnFrA1R",
        "colab": {
          "base_uri": "https://localhost:8080/"
        },
        "outputId": "d2f11970-dba2-406b-846e-b753ed256c98"
      },
      "execution_count": null,
      "outputs": [
        {
          "output_type": "stream",
          "name": "stdout",
          "text": [
            "\n",
            "DataFrame после удаления строк с пропущенным значением в 'Age':\n",
            "      Name   Age      City\n",
            "0    Alice  25.0  New York\n",
            "2  Charlie  35.0       NaN\n",
            "3    David  40.0   Chicago\n"
          ]
        }
      ]
    },
    {
      "cell_type": "markdown",
      "source": [
        "\n",
        "\n",
        "**Объяснение:**\n",
        "\n",
        "- Параметр `subset=['Age']` указывает, что нужно удалить только те строки, где пропущены значения в столбце `Age`.\n",
        "\n",
        "\n",
        "#### 9.5 Интерполяция пропущенных значений\n",
        "\n",
        "Иногда вместо заполнения средним значением или удаления строк лучше использовать интерполяцию, особенно при работе с временными рядами.\n",
        "\n",
        "**Метод `interpolate()`**\n",
        "\n",
        "- Заполняет пропущенные значения, используя интерполяцию (например, линейную).\n",
        "\n",
        "**Пример:**\n"
      ],
      "metadata": {
        "id": "6fSurqn4q9uh"
      }
    },
    {
      "cell_type": "code",
      "source": [
        "\n",
        "\n",
        "# Создаем DataFrame с пропущенными значениями в временном ряду\n",
        "time_data = {\n",
        "    'Time': [1, 2, 3, 4, 5],\n",
        "    'Value': [10, np.nan, np.nan, 40, 50]\n",
        "}\n",
        "df_time = pd.DataFrame(time_data)\n",
        "print(\"\\nИсходный DataFrame с временным рядом:\")\n",
        "print(df_time)\n",
        "\n",
        "# Интерполяция пропущенных значений\n",
        "df_time['Value'] = df_time['Value'].interpolate()\n",
        "print(\"\\nDataFrame после интерполяции пропущенных значений:\")\n",
        "print(df_time)\n"
      ],
      "metadata": {
        "id": "kyQ-51cNq6lZ",
        "colab": {
          "base_uri": "https://localhost:8080/"
        },
        "outputId": "81754554-22cb-4adb-b159-687700a27fd4"
      },
      "execution_count": null,
      "outputs": [
        {
          "output_type": "stream",
          "name": "stdout",
          "text": [
            "\n",
            "Исходный DataFrame с временным рядом:\n",
            "   Time  Value\n",
            "0     1   10.0\n",
            "1     2    NaN\n",
            "2     3    NaN\n",
            "3     4   40.0\n",
            "4     5   50.0\n",
            "\n",
            "DataFrame после интерполяции пропущенных значений:\n",
            "   Time  Value\n",
            "0     1   10.0\n",
            "1     2   20.0\n",
            "2     3   30.0\n",
            "3     4   40.0\n",
            "4     5   50.0\n"
          ]
        }
      ]
    },
    {
      "cell_type": "markdown",
      "source": [
        "\n",
        "\n",
        "**Объяснение:**\n",
        "\n",
        "- Создаем DataFrame с временным рядом, где некоторые значения отсутствуют.\n",
        "- Применяем метод `interpolate()`, который по умолчанию выполняет линейную интерполяцию.\n",
        "Интерполяция — в математике: способ нахождения промежуточных значений величины по имеющемуся дискретному набору известных значений.\n",
        "\n",
        "\n",
        "\n",
        "**Объяснение результата:**\n",
        "\n",
        "- Пропущенные значения на позициях 1 и 2 заполнены линейно между 10 и 40, получив значения 20 и 30 соответственно.\n",
        "\n",
        "\n",
        "\n",
        "#### 9.6 Замена пропущенных значений методом `replace()`\n",
        "\n",
        "Иногда может потребоваться заменить определенные значения (например, специальные маркеры пропусков) на `NaN` или наоборот.\n",
        "\n",
        "**Пример:**\n",
        "\n"
      ],
      "metadata": {
        "id": "CnmXtmmuq3ng"
      }
    },
    {
      "cell_type": "code",
      "source": [
        "\n",
        "# Создаем DataFrame со специальными маркерами пропусков\n",
        "data_special = {\n",
        "    'Name': ['Alice', 'Bob', 'Charlie', 'David'],\n",
        "    'Score': [85, 'N/A', 95, 'Missing']\n",
        "}\n",
        "df_special = pd.DataFrame(data_special)\n",
        "print(\"\\nИсходный DataFrame со специальными маркерами пропусков:\")\n",
        "print(df_special)\n",
        "\n",
        "# Замена специальных маркеров на NaN\n",
        "df_special['Score'] = df_special['Score'].replace(['N/A', 'Missing'], np.nan)\n",
        "print(\"\\nDataFrame после замены специальных маркеров на NaN:\")\n",
        "print(df_special)\n"
      ],
      "metadata": {
        "id": "Jpx0U-ieqylA",
        "colab": {
          "base_uri": "https://localhost:8080/"
        },
        "outputId": "0452b9da-02ba-4d8e-e04f-18b8047c4098"
      },
      "execution_count": null,
      "outputs": [
        {
          "output_type": "stream",
          "name": "stdout",
          "text": [
            "\n",
            "Исходный DataFrame со специальными маркерами пропусков:\n",
            "      Name    Score\n",
            "0    Alice       85\n",
            "1      Bob      N/A\n",
            "2  Charlie       95\n",
            "3    David  Missing\n",
            "\n",
            "DataFrame после замены специальных маркеров на NaN:\n",
            "      Name  Score\n",
            "0    Alice   85.0\n",
            "1      Bob    NaN\n",
            "2  Charlie   95.0\n",
            "3    David    NaN\n"
          ]
        },
        {
          "output_type": "stream",
          "name": "stderr",
          "text": [
            "<ipython-input-69-aaada10dc652>:11: FutureWarning: Downcasting behavior in `replace` is deprecated and will be removed in a future version. To retain the old behavior, explicitly call `result.infer_objects(copy=False)`. To opt-in to the future behavior, set `pd.set_option('future.no_silent_downcasting', True)`\n",
            "  df_special['Score'] = df_special['Score'].replace(['N/A', 'Missing'], np.nan)\n"
          ]
        }
      ]
    },
    {
      "cell_type": "markdown",
      "source": [
        "\n",
        "\n",
        "**Объяснение:**\n",
        "\n",
        "- Изначально в столбце `Score` есть значения `'N/A'` и `'Missing'`, которые должны рассматриваться как пропуски.\n",
        "- Используем метод `replace()` для замены этих значений на `np.nan`.\n",
        "\n",
        "\n",
        "\n",
        "#### 9.7 Параметры методов обработки пропущенных данных\n",
        "\n",
        "**Метод `fillna()`**\n",
        "\n",
        "- **`value`**: значение или словарь значений для замены пропущенных данных.\n",
        "- **`method`**: метод заполнения (`'ffill'` для заполнения предыдущим значением, `'bfill'` для заполнения следующим).\n",
        "- **`axis`**: ось заполнения (`0` для строк, `1` для столбцов).\n",
        "- **`inplace`**: если `True`, изменения будут применены к исходному DataFrame.\n",
        "\n",
        "**Пример: Заполнение предыдущим значением**\n"
      ],
      "metadata": {
        "id": "QeaGsnLiqthY"
      }
    },
    {
      "cell_type": "code",
      "source": [
        "time_data = {\n",
        "    'Time': [1, 2, 3, 4, 5],\n",
        "    'Value': [10, np.nan, np.nan, 40, 50]\n",
        "}\n",
        "df_time = pd.DataFrame(time_data)\n",
        "print(\"\\nИсходный DataFrame с временным рядом:\")\n",
        "print(df_time)\n",
        "\n",
        "# Заполнение пропущенных значений предыдущим известным значением\n",
        "df_time['Value'] = df_time['Value'].fillna(method='ffill')\n",
        "df_time"
      ],
      "metadata": {
        "id": "pNCuhObtqrBQ",
        "colab": {
          "base_uri": "https://localhost:8080/",
          "height": 399
        },
        "outputId": "e9bc3c7b-9166-49e2-f1ce-912e7152fe29"
      },
      "execution_count": null,
      "outputs": [
        {
          "output_type": "stream",
          "name": "stdout",
          "text": [
            "\n",
            "Исходный DataFrame с временным рядом:\n",
            "   Time  Value\n",
            "0     1   10.0\n",
            "1     2    NaN\n",
            "2     3    NaN\n",
            "3     4   40.0\n",
            "4     5   50.0\n"
          ]
        },
        {
          "output_type": "stream",
          "name": "stderr",
          "text": [
            "<ipython-input-18-34b5aa34cbe3>:10: FutureWarning: Series.fillna with 'method' is deprecated and will raise in a future version. Use obj.ffill() or obj.bfill() instead.\n",
            "  df_time['Value'] = df_time['Value'].fillna(method='ffill')\n"
          ]
        },
        {
          "output_type": "execute_result",
          "data": {
            "text/plain": [
              "   Time  Value\n",
              "0     1   10.0\n",
              "1     2   10.0\n",
              "2     3   10.0\n",
              "3     4   40.0\n",
              "4     5   50.0"
            ],
            "text/html": [
              "\n",
              "  <div id=\"df-faeeab79-14dc-4094-8b6e-8ee159793665\" class=\"colab-df-container\">\n",
              "    <div>\n",
              "<style scoped>\n",
              "    .dataframe tbody tr th:only-of-type {\n",
              "        vertical-align: middle;\n",
              "    }\n",
              "\n",
              "    .dataframe tbody tr th {\n",
              "        vertical-align: top;\n",
              "    }\n",
              "\n",
              "    .dataframe thead th {\n",
              "        text-align: right;\n",
              "    }\n",
              "</style>\n",
              "<table border=\"1\" class=\"dataframe\">\n",
              "  <thead>\n",
              "    <tr style=\"text-align: right;\">\n",
              "      <th></th>\n",
              "      <th>Time</th>\n",
              "      <th>Value</th>\n",
              "    </tr>\n",
              "  </thead>\n",
              "  <tbody>\n",
              "    <tr>\n",
              "      <th>0</th>\n",
              "      <td>1</td>\n",
              "      <td>10.0</td>\n",
              "    </tr>\n",
              "    <tr>\n",
              "      <th>1</th>\n",
              "      <td>2</td>\n",
              "      <td>10.0</td>\n",
              "    </tr>\n",
              "    <tr>\n",
              "      <th>2</th>\n",
              "      <td>3</td>\n",
              "      <td>10.0</td>\n",
              "    </tr>\n",
              "    <tr>\n",
              "      <th>3</th>\n",
              "      <td>4</td>\n",
              "      <td>40.0</td>\n",
              "    </tr>\n",
              "    <tr>\n",
              "      <th>4</th>\n",
              "      <td>5</td>\n",
              "      <td>50.0</td>\n",
              "    </tr>\n",
              "  </tbody>\n",
              "</table>\n",
              "</div>\n",
              "    <div class=\"colab-df-buttons\">\n",
              "\n",
              "  <div class=\"colab-df-container\">\n",
              "    <button class=\"colab-df-convert\" onclick=\"convertToInteractive('df-faeeab79-14dc-4094-8b6e-8ee159793665')\"\n",
              "            title=\"Convert this dataframe to an interactive table.\"\n",
              "            style=\"display:none;\">\n",
              "\n",
              "  <svg xmlns=\"http://www.w3.org/2000/svg\" height=\"24px\" viewBox=\"0 -960 960 960\">\n",
              "    <path d=\"M120-120v-720h720v720H120Zm60-500h600v-160H180v160Zm220 220h160v-160H400v160Zm0 220h160v-160H400v160ZM180-400h160v-160H180v160Zm440 0h160v-160H620v160ZM180-180h160v-160H180v160Zm440 0h160v-160H620v160Z\"/>\n",
              "  </svg>\n",
              "    </button>\n",
              "\n",
              "  <style>\n",
              "    .colab-df-container {\n",
              "      display:flex;\n",
              "      gap: 12px;\n",
              "    }\n",
              "\n",
              "    .colab-df-convert {\n",
              "      background-color: #E8F0FE;\n",
              "      border: none;\n",
              "      border-radius: 50%;\n",
              "      cursor: pointer;\n",
              "      display: none;\n",
              "      fill: #1967D2;\n",
              "      height: 32px;\n",
              "      padding: 0 0 0 0;\n",
              "      width: 32px;\n",
              "    }\n",
              "\n",
              "    .colab-df-convert:hover {\n",
              "      background-color: #E2EBFA;\n",
              "      box-shadow: 0px 1px 2px rgba(60, 64, 67, 0.3), 0px 1px 3px 1px rgba(60, 64, 67, 0.15);\n",
              "      fill: #174EA6;\n",
              "    }\n",
              "\n",
              "    .colab-df-buttons div {\n",
              "      margin-bottom: 4px;\n",
              "    }\n",
              "\n",
              "    [theme=dark] .colab-df-convert {\n",
              "      background-color: #3B4455;\n",
              "      fill: #D2E3FC;\n",
              "    }\n",
              "\n",
              "    [theme=dark] .colab-df-convert:hover {\n",
              "      background-color: #434B5C;\n",
              "      box-shadow: 0px 1px 3px 1px rgba(0, 0, 0, 0.15);\n",
              "      filter: drop-shadow(0px 1px 2px rgba(0, 0, 0, 0.3));\n",
              "      fill: #FFFFFF;\n",
              "    }\n",
              "  </style>\n",
              "\n",
              "    <script>\n",
              "      const buttonEl =\n",
              "        document.querySelector('#df-faeeab79-14dc-4094-8b6e-8ee159793665 button.colab-df-convert');\n",
              "      buttonEl.style.display =\n",
              "        google.colab.kernel.accessAllowed ? 'block' : 'none';\n",
              "\n",
              "      async function convertToInteractive(key) {\n",
              "        const element = document.querySelector('#df-faeeab79-14dc-4094-8b6e-8ee159793665');\n",
              "        const dataTable =\n",
              "          await google.colab.kernel.invokeFunction('convertToInteractive',\n",
              "                                                    [key], {});\n",
              "        if (!dataTable) return;\n",
              "\n",
              "        const docLinkHtml = 'Like what you see? Visit the ' +\n",
              "          '<a target=\"_blank\" href=https://colab.research.google.com/notebooks/data_table.ipynb>data table notebook</a>'\n",
              "          + ' to learn more about interactive tables.';\n",
              "        element.innerHTML = '';\n",
              "        dataTable['output_type'] = 'display_data';\n",
              "        await google.colab.output.renderOutput(dataTable, element);\n",
              "        const docLink = document.createElement('div');\n",
              "        docLink.innerHTML = docLinkHtml;\n",
              "        element.appendChild(docLink);\n",
              "      }\n",
              "    </script>\n",
              "  </div>\n",
              "\n",
              "\n",
              "<div id=\"df-fcca3965-c7af-4870-9214-2074fd4692cf\">\n",
              "  <button class=\"colab-df-quickchart\" onclick=\"quickchart('df-fcca3965-c7af-4870-9214-2074fd4692cf')\"\n",
              "            title=\"Suggest charts\"\n",
              "            style=\"display:none;\">\n",
              "\n",
              "<svg xmlns=\"http://www.w3.org/2000/svg\" height=\"24px\"viewBox=\"0 0 24 24\"\n",
              "     width=\"24px\">\n",
              "    <g>\n",
              "        <path d=\"M19 3H5c-1.1 0-2 .9-2 2v14c0 1.1.9 2 2 2h14c1.1 0 2-.9 2-2V5c0-1.1-.9-2-2-2zM9 17H7v-7h2v7zm4 0h-2V7h2v10zm4 0h-2v-4h2v4z\"/>\n",
              "    </g>\n",
              "</svg>\n",
              "  </button>\n",
              "\n",
              "<style>\n",
              "  .colab-df-quickchart {\n",
              "      --bg-color: #E8F0FE;\n",
              "      --fill-color: #1967D2;\n",
              "      --hover-bg-color: #E2EBFA;\n",
              "      --hover-fill-color: #174EA6;\n",
              "      --disabled-fill-color: #AAA;\n",
              "      --disabled-bg-color: #DDD;\n",
              "  }\n",
              "\n",
              "  [theme=dark] .colab-df-quickchart {\n",
              "      --bg-color: #3B4455;\n",
              "      --fill-color: #D2E3FC;\n",
              "      --hover-bg-color: #434B5C;\n",
              "      --hover-fill-color: #FFFFFF;\n",
              "      --disabled-bg-color: #3B4455;\n",
              "      --disabled-fill-color: #666;\n",
              "  }\n",
              "\n",
              "  .colab-df-quickchart {\n",
              "    background-color: var(--bg-color);\n",
              "    border: none;\n",
              "    border-radius: 50%;\n",
              "    cursor: pointer;\n",
              "    display: none;\n",
              "    fill: var(--fill-color);\n",
              "    height: 32px;\n",
              "    padding: 0;\n",
              "    width: 32px;\n",
              "  }\n",
              "\n",
              "  .colab-df-quickchart:hover {\n",
              "    background-color: var(--hover-bg-color);\n",
              "    box-shadow: 0 1px 2px rgba(60, 64, 67, 0.3), 0 1px 3px 1px rgba(60, 64, 67, 0.15);\n",
              "    fill: var(--button-hover-fill-color);\n",
              "  }\n",
              "\n",
              "  .colab-df-quickchart-complete:disabled,\n",
              "  .colab-df-quickchart-complete:disabled:hover {\n",
              "    background-color: var(--disabled-bg-color);\n",
              "    fill: var(--disabled-fill-color);\n",
              "    box-shadow: none;\n",
              "  }\n",
              "\n",
              "  .colab-df-spinner {\n",
              "    border: 2px solid var(--fill-color);\n",
              "    border-color: transparent;\n",
              "    border-bottom-color: var(--fill-color);\n",
              "    animation:\n",
              "      spin 1s steps(1) infinite;\n",
              "  }\n",
              "\n",
              "  @keyframes spin {\n",
              "    0% {\n",
              "      border-color: transparent;\n",
              "      border-bottom-color: var(--fill-color);\n",
              "      border-left-color: var(--fill-color);\n",
              "    }\n",
              "    20% {\n",
              "      border-color: transparent;\n",
              "      border-left-color: var(--fill-color);\n",
              "      border-top-color: var(--fill-color);\n",
              "    }\n",
              "    30% {\n",
              "      border-color: transparent;\n",
              "      border-left-color: var(--fill-color);\n",
              "      border-top-color: var(--fill-color);\n",
              "      border-right-color: var(--fill-color);\n",
              "    }\n",
              "    40% {\n",
              "      border-color: transparent;\n",
              "      border-right-color: var(--fill-color);\n",
              "      border-top-color: var(--fill-color);\n",
              "    }\n",
              "    60% {\n",
              "      border-color: transparent;\n",
              "      border-right-color: var(--fill-color);\n",
              "    }\n",
              "    80% {\n",
              "      border-color: transparent;\n",
              "      border-right-color: var(--fill-color);\n",
              "      border-bottom-color: var(--fill-color);\n",
              "    }\n",
              "    90% {\n",
              "      border-color: transparent;\n",
              "      border-bottom-color: var(--fill-color);\n",
              "    }\n",
              "  }\n",
              "</style>\n",
              "\n",
              "  <script>\n",
              "    async function quickchart(key) {\n",
              "      const quickchartButtonEl =\n",
              "        document.querySelector('#' + key + ' button');\n",
              "      quickchartButtonEl.disabled = true;  // To prevent multiple clicks.\n",
              "      quickchartButtonEl.classList.add('colab-df-spinner');\n",
              "      try {\n",
              "        const charts = await google.colab.kernel.invokeFunction(\n",
              "            'suggestCharts', [key], {});\n",
              "      } catch (error) {\n",
              "        console.error('Error during call to suggestCharts:', error);\n",
              "      }\n",
              "      quickchartButtonEl.classList.remove('colab-df-spinner');\n",
              "      quickchartButtonEl.classList.add('colab-df-quickchart-complete');\n",
              "    }\n",
              "    (() => {\n",
              "      let quickchartButtonEl =\n",
              "        document.querySelector('#df-fcca3965-c7af-4870-9214-2074fd4692cf button');\n",
              "      quickchartButtonEl.style.display =\n",
              "        google.colab.kernel.accessAllowed ? 'block' : 'none';\n",
              "    })();\n",
              "  </script>\n",
              "</div>\n",
              "    </div>\n",
              "  </div>\n"
            ],
            "application/vnd.google.colaboratory.intrinsic+json": {
              "type": "dataframe",
              "variable_name": "df_time",
              "summary": "{\n  \"name\": \"df_time\",\n  \"rows\": 5,\n  \"fields\": [\n    {\n      \"column\": \"Time\",\n      \"properties\": {\n        \"dtype\": \"number\",\n        \"std\": 1,\n        \"min\": 1,\n        \"max\": 5,\n        \"num_unique_values\": 5,\n        \"samples\": [\n          2,\n          5,\n          3\n        ],\n        \"semantic_type\": \"\",\n        \"description\": \"\"\n      }\n    },\n    {\n      \"column\": \"Value\",\n      \"properties\": {\n        \"dtype\": \"number\",\n        \"std\": 19.493588689617926,\n        \"min\": 10.0,\n        \"max\": 50.0,\n        \"num_unique_values\": 3,\n        \"samples\": [\n          10.0,\n          40.0,\n          50.0\n        ],\n        \"semantic_type\": \"\",\n        \"description\": \"\"\n      }\n    }\n  ]\n}"
            }
          },
          "metadata": {},
          "execution_count": 18
        }
      ]
    },
    {
      "cell_type": "markdown",
      "source": [
        "\n",
        "###10. Объединение и слияние\n",
        "\n",
        "При работе с большими данными зачастую требуется объединить информацию из нескольких источников или таблиц. Pandas предоставляет мощные и гибкие инструменты для объединения и слияния различных DataFrame. Эти методы позволяют не только совмещать данные по строкам и столбцам, но и эффективно объединять таблицы по общим ключам, как это делается в реляционных базах данных.\n",
        "\n",
        "Pandas поддерживает три основных метода для объединения DataFrame:\n",
        "- `concat()`\n",
        "- `merge()`\n",
        "- `join()`\n",
        "\n",
        "Каждый из этих методов имеет свои особенности и применяется в зависимости от структуры данных и целей объединения.\n",
        "\n",
        "\n",
        "### 10.1. Конкатенация DataFrame с помощью `concat()`\n",
        "\n",
        "Метод `concat()` используется для простого объединения двух или более DataFrame по строкам (по умолчанию) или по столбцам. Это полезно, когда необходимо сложить наборы данных друг на друга, как если бы добавляли новые записи в существующую таблицу или создавали таблицу с дополнительными признаками.\n",
        "\n",
        "#### Параметры `concat()`\n",
        "- **`objs`**: Список или словарь DataFrame, которые нужно объединить.\n",
        "- **`axis`**: Определяет направление объединения. Значение `0` (по умолчанию) означает объединение по строкам, `1` — объединение по столбцам.\n",
        "- **`ignore_index`**: Сбрасывает индексы после объединения (если `True`).\n",
        "- **`join`**: Определяет тип объединения по столбцам: `'inner'` (пересечение) или `'outer'` (объединение всех).\n",
        "- **`keys`**: Добавляет мультииндекс к результату для различения источников данных.\n",
        "\n",
        "#### Пример: Объединение DataFrame по строкам\n",
        "\n",
        "Предположим, у нас есть два DataFrame с одинаковыми столбцами, которые содержат данные о продажах в двух разных магазинах. Мы хотим объединить эти данные в один DataFrame.\n"
      ],
      "metadata": {
        "id": "dtgDnqyRqmf5"
      }
    },
    {
      "cell_type": "code",
      "source": [
        "\n",
        "\n",
        "import pandas as pd\n",
        "\n",
        "# Данные о продажах в магазине A\n",
        "df1 = pd.DataFrame({\n",
        "    'Product': ['Apple', 'Banana', 'Orange'],\n",
        "    'Quantity': [10, 5, 8]\n",
        "})\n",
        "\n",
        "# Данные о продажах в магазине B\n",
        "df2 = pd.DataFrame({\n",
        "    'Product': ['Apple', 'Banana', 'Grapes'],\n",
        "    'Quantity': [15, 7, 12]\n",
        "})\n",
        "\n",
        "# Объединение по строкам\n",
        "result = pd.concat([df1, df2], ignore_index=True)\n",
        "print(result)\n"
      ],
      "metadata": {
        "id": "-sik7Ktaqi1h",
        "colab": {
          "base_uri": "https://localhost:8080/"
        },
        "outputId": "21a6cd5d-6430-4f51-b24b-107e3c5a4621"
      },
      "execution_count": null,
      "outputs": [
        {
          "output_type": "stream",
          "name": "stdout",
          "text": [
            "  Product  Quantity\n",
            "0   Apple        10\n",
            "1  Banana         5\n",
            "2  Orange         8\n",
            "3   Apple        15\n",
            "4  Banana         7\n",
            "5  Grapes        12\n"
          ]
        }
      ]
    },
    {
      "cell_type": "markdown",
      "source": [
        "\n",
        "\n",
        "**Объяснение:**\n",
        "- Мы использовали метод `concat()` для объединения данных двух магазинов в один DataFrame. Параметр `ignore_index=True` сбрасывает индексы, чтобы новый DataFrame имел непрерывные индексы.\n",
        "\n",
        "#### Пример: Объединение DataFrame по столбцам\n",
        "\n",
        "Можно объединить данные не по строкам, а по столбцам. Например, у нас есть два DataFrame, один с продуктами и их количеством, другой — с ценами на те же продукты.\n"
      ],
      "metadata": {
        "id": "ptXCA4k9qgCB"
      }
    },
    {
      "cell_type": "code",
      "source": [
        "\n",
        "\n",
        "# Данные о ценах на продукты\n",
        "df3 = pd.DataFrame({\n",
        "    'Price': [1.2, 0.8, 1.5]\n",
        "}, index=['Apple', 'Banana', 'Orange'])\n",
        "\n",
        "# Объединение по столбцам\n",
        "result = pd.concat([df1.set_index('Product'), df3], axis=1)\n",
        "print(result)\n",
        "\n"
      ],
      "metadata": {
        "id": "ll7ASwz4qclZ",
        "colab": {
          "base_uri": "https://localhost:8080/"
        },
        "outputId": "c907e233-adf4-443e-e7c3-c0d41e61aa2d"
      },
      "execution_count": null,
      "outputs": [
        {
          "output_type": "stream",
          "name": "stdout",
          "text": [
            "        Quantity  Price\n",
            "Apple         10    1.2\n",
            "Banana         5    0.8\n",
            "Orange         8    1.5\n"
          ]
        }
      ]
    },
    {
      "cell_type": "markdown",
      "source": [
        "\n",
        "**Объяснение:**\n",
        "- Мы объединили данные о количестве и цене продуктов по столбцам, при этом `axis=1` указывает, что объединение происходит по столбцам. Важно отметить, что для корректного объединения по индексам мы установили продукт как индекс.\n",
        "\n",
        "\n",
        "\n",
        "### 10.2. Слияние DataFrame с помощью `merge()`\n",
        "\n",
        "Метод `merge()` используется для более сложного объединения DataFrame, аналогичного объединению таблиц с помощью операций `JOIN` в реляционных базах данных. Этот метод позволяет объединять данные на основе значений в одном или нескольких общих столбцах, таких как `Primary Key` и `Foreign Key`.\n",
        "\n",
        "#### Параметры `merge()`\n",
        "- **`on`**: Указывает общий столбец, по которому будет выполняться объединение.\n",
        "- **`left_on`** и **`right_on`**: Если имена ключевых столбцов различаются в DataFrame, можно указать, по каким столбцам сливать.\n",
        "- **`how`**: Тип объединения (`'left'`, `'right'`, `'outer'`, `'inner'`).\n",
        "  - `'inner'` (по умолчанию) — пересечение данных в обоих DataFrame.\n",
        "  - `'outer'` — объединение всех данных.\n",
        "  - `'left'` — все данные из левого DataFrame, и только совпадающие из правого.\n",
        "  - `'right'` — все данные из правого DataFrame, и только совпадающие из левого.\n",
        "- **`suffixes`**: Добавление суффиксов к одинаковым столбцам в результате объединения.\n",
        "\n",
        "#### Пример: Объединение по общему ключу\n",
        "\n",
        "Допустим, у нас есть два DataFrame: один содержит информацию о продуктах, а другой — информацию о поставщиках. Нам нужно объединить эти таблицы, используя столбец с идентификаторами продуктов.\n",
        "\n"
      ],
      "metadata": {
        "id": "FhKJ5_RpqaL5"
      }
    },
    {
      "cell_type": "code",
      "source": [
        "\n",
        "# Данные о продуктах\n",
        "products = pd.DataFrame({\n",
        "    'ProductID': [101, 102, 103],\n",
        "    'Product': ['Apple', 'Banana', 'Orange']\n",
        "})\n",
        "\n",
        "# Данные о поставщиках\n",
        "suppliers = pd.DataFrame({\n",
        "    'ProductID': [101, 102, 104],\n",
        "    'Supplier': ['Supplier A', 'Supplier B', 'Supplier C']\n",
        "})\n",
        "\n",
        "# Слияние по ProductID\n",
        "merged_df = pd.merge(products, suppliers, on='ProductID', how='inner')\n",
        "print(merged_df)\n"
      ],
      "metadata": {
        "id": "SrLuMpshqTEx",
        "colab": {
          "base_uri": "https://localhost:8080/"
        },
        "outputId": "ccf56339-e2a7-4a36-8367-3b347026b9dc"
      },
      "execution_count": null,
      "outputs": [
        {
          "output_type": "stream",
          "name": "stdout",
          "text": [
            "   ProductID Product    Supplier\n",
            "0        101   Apple  Supplier A\n",
            "1        102  Banana  Supplier B\n"
          ]
        }
      ]
    },
    {
      "cell_type": "markdown",
      "source": [
        "\n",
        "\n",
        "**Объяснение:**\n",
        "- Мы объединили два DataFrame по общему столбцу `ProductID`. Так как метод объединения — это `'inner'`, результат будет содержать только те строки, у которых есть соответствие в обоих DataFrame.\n",
        "\n",
        "#### Пример: Левое соединение (left join)\n",
        "\n",
        "Теперь предположим, что мы хотим получить все продукты, даже если у некоторых нет поставщиков.\n"
      ],
      "metadata": {
        "id": "7LrZQcKRqRFZ"
      }
    },
    {
      "cell_type": "code",
      "source": [
        "\n",
        "\n",
        "# Левое соединение\n",
        "left_merged_df = pd.merge(products, suppliers, on='ProductID', how='left')\n",
        "print(left_merged_df)\n"
      ],
      "metadata": {
        "id": "mkV0p54uqPNx",
        "colab": {
          "base_uri": "https://localhost:8080/"
        },
        "outputId": "7f9d2340-ae91-4e05-d111-eaa2dfa2ddc5"
      },
      "execution_count": null,
      "outputs": [
        {
          "output_type": "stream",
          "name": "stdout",
          "text": [
            "   ProductID Product    Supplier\n",
            "0        101   Apple  Supplier A\n",
            "1        102  Banana  Supplier B\n",
            "2        103  Orange         NaN\n"
          ]
        }
      ]
    },
    {
      "cell_type": "markdown",
      "source": [
        "\n",
        "\n",
        "**Объяснение:**\n",
        "- Мы используем `how='left'`, чтобы получить все строки из левого DataFrame (`products`), даже если для некоторых продуктов нет соответствующих поставщиков. Строки с отсутствующими данными будут заполнены значениями NaN.\n",
        "\n",
        "\n",
        "\n",
        "### 10.3. Объединение DataFrame с помощью `join()`\n",
        "\n",
        "Метод `join()` — это упрощенный способ объединения DataFrame по индексам. Он похож на `merge()`, но используется для слияния по индексам, а не по столбцам. Это удобно, когда нужно объединить данные на основе индексов строк.\n",
        "\n",
        "#### Пример: Объединение по индексу\n",
        "\n",
        "Предположим, у нас есть два DataFrame с общими индексами, представляющими дни продаж, и нам нужно объединить их по этим индексам.\n"
      ],
      "metadata": {
        "id": "-jBa06mrqMtI"
      }
    },
    {
      "cell_type": "code",
      "source": [
        "\n",
        "\n",
        "# Данные о продажах в магазине A\n",
        "sales_A = pd.DataFrame({\n",
        "    'Sales_A': [200, 150, 100]\n",
        "}, index=['2023-09-20', '2023-09-21', '2023-09-22'])\n",
        "\n",
        "# Данные о продажах в магазине B\n",
        "sales_B = pd.DataFrame({\n",
        "    'Sales_B': [220, 140, 130]\n",
        "}, index=['2023-09-20', '2023-09-21', '2023-09-22'])\n",
        "\n",
        "# Объединение по индексу\n",
        "joined_df = sales_A.join(sales_B)\n",
        "print(joined_df)\n",
        "\n"
      ],
      "metadata": {
        "id": "83VrcSGCqI44",
        "colab": {
          "base_uri": "https://localhost:8080/"
        },
        "outputId": "0774a7ff-e452-4387-fb41-a9d745bc83af"
      },
      "execution_count": null,
      "outputs": [
        {
          "output_type": "stream",
          "name": "stdout",
          "text": [
            "            Sales_A  Sales_B\n",
            "2023-09-20      200      220\n",
            "2023-09-21      150      140\n",
            "2023-09-22      100      130\n"
          ]
        }
      ]
    },
    {
      "cell_type": "markdown",
      "source": [
        "\n",
        "**Объяснение:**\n",
        "- Метод `join()` автоматически объединяет два DataFrame по индексу. В данном примере мы объединили данные о продажах в двух магазинах на основе индексов, которые представляют даты.\n",
        "\n",
        "#### Пример: Левое соединение с join()\n",
        "\n",
        "Вы можете использовать параметр `how` для указания типа соединения, подобно методу `merge()`.\n"
      ],
      "metadata": {
        "id": "Iccy3x5iqF7g"
      }
    },
    {
      "cell_type": "code",
      "source": [
        "# Левое соединение с использованием join\n",
        "left_joined_df = sales_A.join(sales_B, how='left')\n",
        "print(left_joined_df)\n",
        "\n"
      ],
      "metadata": {
        "id": "UHYDEMOXp68o",
        "colab": {
          "base_uri": "https://localhost:8080/"
        },
        "outputId": "54914dce-2bf2-4a7e-8932-eadbbe1975bc"
      },
      "execution_count": null,
      "outputs": [
        {
          "output_type": "stream",
          "name": "stdout",
          "text": [
            "            Sales_A  Sales_B\n",
            "2023-09-20      200      220\n",
            "2023-09-21      150      140\n",
            "2023-09-22      100      130\n"
          ]
        }
      ]
    },
    {
      "cell_type": "markdown",
      "source": [
        "\n",
        "**Объяснение:**\n",
        "- В этом примере используются данные из левого DataFrame (sales_A), а данные из sales_B добавляются, если они существуют. Если данных в sales_B нет, значения будут NaN.\n"
      ],
      "metadata": {
        "id": "bWU_Dl-qp5Vo"
      }
    },
    {
      "cell_type": "markdown",
      "source": [
        "## **Задачи для самостоятельной работы ДЛЯ ГРУППЫ**:\n",
        "Структура данных Series\n",
        "1. Создание Series из списка\n",
        "Создайте Series из списка чисел [5, 10, 15, 20, 25]. Выведите её на экран.\n",
        "\n",
        "Структура данных DataFrame в Pandas\n",
        "Задачи на объединение и слияние\n",
        "26. Объедините два DataFrame по общему столбцу с помощью метода merge().\n",
        "\n"
      ],
      "metadata": {
        "id": "aV7qdxoGBhBf"
      }
    },
    {
      "cell_type": "markdown",
      "source": [
        "# Примеры задач\n",
        "\n",
        "### Структура данных **Series**\n",
        "\n",
        "1. **Создание Series из списка**\n",
        "   "
      ],
      "metadata": {
        "id": "TLlndh0DYw4s"
      }
    },
    {
      "cell_type": "code",
      "source": [
        "\n",
        "   import pandas as pd\n",
        "   s = pd.Series([5, 10, 15, 20, 25])\n",
        "   print(s)\n"
      ],
      "metadata": {
        "id": "cA8rw-QLQKyV",
        "colab": {
          "base_uri": "https://localhost:8080/"
        },
        "outputId": "4ed851af-015f-4a17-9881-641a754485e5"
      },
      "execution_count": null,
      "outputs": [
        {
          "output_type": "stream",
          "name": "stdout",
          "text": [
            "0     5\n",
            "1    10\n",
            "2    15\n",
            "3    20\n",
            "4    25\n",
            "dtype: int64\n"
          ]
        }
      ]
    },
    {
      "cell_type": "markdown",
      "source": [
        "\n",
        "\n",
        "2. **Создание Series из словаря**\n",
        "   "
      ],
      "metadata": {
        "id": "pPFVjKBUQJEH"
      }
    },
    {
      "cell_type": "code",
      "source": [
        "\n",
        "   s = pd.Series({'яблоки': 10, 'бананы': 5, 'груши': 7})\n",
        "   print(s)\n"
      ],
      "metadata": {
        "id": "gqRrNUB3QV__",
        "colab": {
          "base_uri": "https://localhost:8080/"
        },
        "outputId": "b0315d77-dd9d-48cc-d723-c789758eb2bf"
      },
      "execution_count": null,
      "outputs": [
        {
          "output_type": "stream",
          "name": "stdout",
          "text": [
            "яблоки    10\n",
            "бананы     5\n",
            "груши      7\n",
            "dtype: int64\n"
          ]
        }
      ]
    },
    {
      "cell_type": "markdown",
      "source": [
        "\n",
        "\n",
        "\n",
        "11. **Применение функции ко всем элементам**\n",
        "    "
      ],
      "metadata": {
        "id": "BRYzKzmyQTxs"
      }
    },
    {
      "cell_type": "code",
      "source": [
        "\n",
        "    s = pd.Series([1, 2, 3, 4])\n",
        "    print(s.apply(lambda x: x ** 2))\n"
      ],
      "metadata": {
        "id": "dIfefT0YQdqm",
        "colab": {
          "base_uri": "https://localhost:8080/"
        },
        "outputId": "f50f3399-19f3-49e2-c663-198de35fcf0c"
      },
      "execution_count": null,
      "outputs": [
        {
          "output_type": "stream",
          "name": "stdout",
          "text": [
            "0     1\n",
            "1     4\n",
            "2     9\n",
            "3    16\n",
            "dtype: int64\n"
          ]
        }
      ]
    },
    {
      "cell_type": "markdown",
      "source": [
        "\n",
        "\n",
        "12. **Удаление элемента по индексу**\n",
        "    "
      ],
      "metadata": {
        "id": "ArKhtyNmQesc"
      }
    },
    {
      "cell_type": "code",
      "source": [
        "\n",
        "    s = pd.Series([10, 20, 30, 40], index=['a', 'b', 'c', 'd'])\n",
        "    s = s.drop('b')\n",
        "    print(s)\n",
        "\n"
      ],
      "metadata": {
        "id": "0lzTyeTeQgGi",
        "colab": {
          "base_uri": "https://localhost:8080/"
        },
        "outputId": "956f87b2-5335-4564-e46a-4973f9bb9c2a"
      },
      "execution_count": null,
      "outputs": [
        {
          "output_type": "stream",
          "name": "stdout",
          "text": [
            "a    10\n",
            "c    30\n",
            "d    40\n",
            "dtype: int64\n"
          ]
        }
      ]
    },
    {
      "cell_type": "markdown",
      "source": [
        "\n",
        "\n",
        "\n",
        "21. **Суммирование значений**\n",
        "    "
      ],
      "metadata": {
        "id": "07d-9DthQhRx"
      }
    },
    {
      "cell_type": "code",
      "source": [
        "\n",
        "    s = pd.Series([100, 150, 200, 250])\n",
        "    print(s.sum())\n"
      ],
      "metadata": {
        "id": "CwOLOcj1QkP3",
        "colab": {
          "base_uri": "https://localhost:8080/"
        },
        "outputId": "01363205-24fe-4afe-b48a-58a07b91c23e"
      },
      "execution_count": null,
      "outputs": [
        {
          "output_type": "stream",
          "name": "stdout",
          "text": [
            "700\n"
          ]
        }
      ]
    },
    {
      "cell_type": "markdown",
      "source": [
        "\n",
        "\n",
        "22. **Среднее значение элементов**\n",
        "    "
      ],
      "metadata": {
        "id": "1a6hZEwfQlFj"
      }
    },
    {
      "cell_type": "code",
      "source": [
        "\n",
        "    s = pd.Series([3, 6, 9, 12, 15])\n",
        "    print(s.mean())\n",
        "\n",
        "\n",
        "\n"
      ],
      "metadata": {
        "id": "Fo7RO8oqQmZq",
        "colab": {
          "base_uri": "https://localhost:8080/"
        },
        "outputId": "2e1d9871-86e4-4f6e-ebf0-98556ce763c9"
      },
      "execution_count": null,
      "outputs": [
        {
          "output_type": "stream",
          "name": "stdout",
          "text": [
            "9.0\n"
          ]
        }
      ]
    },
    {
      "cell_type": "markdown",
      "source": [
        "DataFrame\n",
        "\n",
        "    "
      ],
      "metadata": {
        "id": "BUOfIzzqQnkJ"
      }
    },
    {
      "cell_type": "markdown",
      "source": [
        "\n",
        "\n",
        "26. **Объединение двух DataFrame по общему столбцу с помощью метода `merge()`:**\n",
        "    "
      ],
      "metadata": {
        "id": "GgPpFekDRazR"
      }
    },
    {
      "cell_type": "code",
      "source": [
        "\n",
        "    df1 = pd.DataFrame({'ID': [1, 2], 'A': ['a', 'b']})\n",
        "    df2 = pd.DataFrame({'ID': [1, 2], 'B': ['x', 'y']})\n",
        "    df_merge = pd.merge(df1, df2, on='ID')\n",
        "    print(df_merge)\n",
        "\n"
      ],
      "metadata": {
        "id": "L3Pzd77jRco4",
        "colab": {
          "base_uri": "https://localhost:8080/"
        },
        "outputId": "9a6da2bb-79f5-4f1e-80a7-9a5f7f9fc90b"
      },
      "execution_count": null,
      "outputs": [
        {
          "output_type": "stream",
          "name": "stdout",
          "text": [
            "   ID  A  B\n",
            "0   1  a  x\n",
            "1   2  b  y\n"
          ]
        }
      ]
    },
    {
      "cell_type": "markdown",
      "source": [
        "\n",
        "27. **Объединение двух DataFrame по индексам с использованием метода `join()`:**\n",
        "    "
      ],
      "metadata": {
        "id": "GD47Dd70Rdny"
      }
    },
    {
      "cell_type": "code",
      "source": [
        "\n",
        "    df1 = pd.DataFrame({'A': [1, 2]}, index=['a', 'b'])\n",
        "    df2 = pd.DataFrame({'B': [3, 4]}, index=['a', 'b'])\n",
        "    df_join = df1.join(df2)\n",
        "    print(df_join)\n"
      ],
      "metadata": {
        "id": "VeE_KhSQReq8",
        "colab": {
          "base_uri": "https://localhost:8080/"
        },
        "outputId": "09327ff4-98a3-4897-f61f-b4112e169054"
      },
      "execution_count": null,
      "outputs": [
        {
          "output_type": "stream",
          "name": "stdout",
          "text": [
            "   A  B\n",
            "a  1  3\n",
            "b  2  4\n"
          ]
        }
      ]
    },
    {
      "cell_type": "markdown",
      "source": [
        "\n",
        "\n",
        "### Задачи на визуализацию данных\n",
        "\n",
        "28. **Построение графика на основе данных в одном из столбцов DataFrame:**\n",
        "    "
      ],
      "metadata": {
        "id": "sBi3gYf8RhWs"
      }
    },
    {
      "cell_type": "code",
      "source": [
        "\n",
        "    import matplotlib.pyplot as plt\n",
        "\n",
        "    df = pd.DataFrame({'X': [1, 2, 3, 4], 'Y': [10, 20, 25, 30]})\n",
        "    df.plot(x='X', y='Y', kind='line')\n",
        "    plt.show()\n",
        "\n"
      ],
      "metadata": {
        "id": "yDh0Z6hPRijT",
        "colab": {
          "base_uri": "https://localhost:8080/",
          "height": 449
        },
        "outputId": "2c5a65b3-8350-444d-a8f8-49ad9e438cac"
      },
      "execution_count": null,
      "outputs": [
        {
          "output_type": "display_data",
          "data": {
            "text/plain": [
              "<Figure size 640x480 with 1 Axes>"
            ],
            "image/png": "[encoded data removed]"
          },
          "metadata": {}
        }
      ]
    },
    {
      "cell_type": "markdown",
      "source": [
        "\n",
        "29. **Создание сводной таблицы на основе данных в DataFrame:**\n",
        "    "
      ],
      "metadata": {
        "id": "j8IGz13JRjZJ"
      }
    },
    {
      "cell_type": "code",
      "source": [
        "\n",
        "    df = pd.DataFrame({\n",
        "        'категория': ['A', 'B', 'A', 'B'],\n",
        "        'продажи': [100, 200, 150, 250]\n",
        "    })\n",
        "    pivot_df = df.pivot_table(values='продажи', index='категория', aggfunc='sum')\n",
        "    print(pivot_df)\n",
        "\n"
      ],
      "metadata": {
        "id": "Lk8qygfoRkdx",
        "colab": {
          "base_uri": "https://localhost:8080/"
        },
        "outputId": "eec211db-5712-4f97-fe99-7c2ad358aa6d"
      },
      "execution_count": null,
      "outputs": [
        {
          "output_type": "stream",
          "name": "stdout",
          "text": [
            "           продажи\n",
            "категория         \n",
            "A              250\n",
            "B              450\n"
          ]
        }
      ]
    },
    {
      "cell_type": "markdown",
      "source": [
        "\n",
        "\n",
        "\n",
        "Решения задач повышенной сложности по работе с **DataFrame** в **Pandas**.\n",
        "\n",
        "\n",
        "   \n",
        "\n",
        "2. **Создание DataFrame с временными метками и значениями временного ряда:**\n",
        "   "
      ],
      "metadata": {
        "id": "gfcBI2LsRlWc"
      }
    },
    {
      "cell_type": "code",
      "source": [
        "\n",
        "   dates = pd.date_range('2023-01-01', periods=7, freq='D')\n",
        "   temperatures = [22, 24, 23, 21, 20, 19, 18]\n",
        "   df = pd.DataFrame({'Дата': dates, 'Температура': temperatures})\n",
        "   print(df)\n",
        "\n"
      ],
      "metadata": {
        "id": "-HPG8CMUSK4a",
        "colab": {
          "base_uri": "https://localhost:8080/"
        },
        "outputId": "25bb1eaa-f027-43d2-bcd6-56240b6acc1a"
      },
      "execution_count": null,
      "outputs": [
        {
          "output_type": "stream",
          "name": "stdout",
          "text": [
            "        Дата  Температура\n",
            "0 2023-01-01           22\n",
            "1 2023-01-02           24\n",
            "2 2023-01-03           23\n",
            "3 2023-01-04           21\n",
            "4 2023-01-05           20\n",
            "5 2023-01-06           19\n",
            "6 2023-01-07           18\n"
          ]
        }
      ]
    },
    {
      "cell_type": "markdown",
      "source": [
        "\n",
        "   \n",
        "\n",
        "5. **Применение нескольких агрегирующих функций с помощью `agg()`:**\n",
        "   "
      ],
      "metadata": {
        "id": "LOFsiq9USLyP"
      }
    },
    {
      "cell_type": "code",
      "source": [
        "\n",
        "   df = pd.DataFrame({'категория': ['A', 'A', 'B', 'B'], 'значение': [10, 20, 30, 40]})\n",
        "   aggregated = df.groupby('категория')['значение'].agg(['mean', 'max', 'min'])\n",
        "   print(aggregated)\n",
        "\n",
        "\n",
        "\n"
      ],
      "metadata": {
        "id": "4AqiYUd1SM2D",
        "colab": {
          "base_uri": "https://localhost:8080/"
        },
        "outputId": "ac2d7930-085a-4b78-9462-bac17f09efa2"
      },
      "execution_count": null,
      "outputs": [
        {
          "output_type": "stream",
          "name": "stdout",
          "text": [
            "           mean  max  min\n",
            "категория                \n",
            "A          15.0   20   10\n",
            "B          35.0   40   30\n"
          ]
        }
      ]
    },
    {
      "cell_type": "markdown",
      "source": [
        "\n",
        "\n",
        "8. **Фильтрация строк с использованием регулярных выражений:**\n",
        "   "
      ],
      "metadata": {
        "id": "ltby9S-QSNqK"
      }
    },
    {
      "cell_type": "code",
      "source": [
        "\n",
        "   df = pd.DataFrame({'имя': ['Иван', 'Мария', 'Петр']})\n",
        "   filtered = df[df['имя'].str.match('И')]\n",
        "   print(filtered)\n",
        "\n"
      ],
      "metadata": {
        "id": "YV49-mLBSrms",
        "colab": {
          "base_uri": "https://localhost:8080/"
        },
        "outputId": "08814f5f-9722-4e4d-99d9-27524b688d85"
      },
      "execution_count": null,
      "outputs": [
        {
          "output_type": "stream",
          "name": "stdout",
          "text": [
            "    имя\n",
            "0  Иван\n"
          ]
        }
      ]
    },
    {
      "cell_type": "markdown",
      "source": [
        "\n",
        "### Задачи на объединение и слияние\n",
        "\n",
        "   \n",
        "\n",
        "10. **Объединение таблиц с разными индексами с использованием `join()`:**\n",
        "    "
      ],
      "metadata": {
        "id": "Xr2QrCgHSOZ3"
      }
    },
    {
      "cell_type": "code",
      "source": [
        "\n",
        "    df1 = pd.DataFrame({'A': [1, 2]}, index=['a', 'b'])\n",
        "    df2 = pd.DataFrame({'B': [3, 4]}, index=['b', 'c'])\n",
        "    joined = df1.join(df2, how='outer')\n",
        "    print(joined)\n",
        "\n"
      ],
      "metadata": {
        "id": "upK0sqNESPpX",
        "colab": {
          "base_uri": "https://localhost:8080/"
        },
        "outputId": "81e14a8e-4a24-49dd-8b3d-1c073f7bdf76"
      },
      "execution_count": null,
      "outputs": [
        {
          "output_type": "stream",
          "name": "stdout",
          "text": [
            "     A    B\n",
            "a  1.0  NaN\n",
            "b  2.0  3.0\n",
            "c  NaN  4.0\n"
          ]
        }
      ]
    },
    {
      "cell_type": "markdown",
      "source": [
        "\n",
        "### Задачи на преобразование данных и работу с текстом\n",
        "\n",
        "    \n",
        "\n",
        "12. **Извлечение подстрок и создание нового столбца:**\n",
        "    "
      ],
      "metadata": {
        "id": "Zt6DPWfISQsl"
      }
    },
    {
      "cell_type": "code",
      "source": [
        "\n",
        "    df = pd.DataFrame({'текст': ['abc123', 'def456', 'ghi789']})\n",
        "    df['цифры'] = df['текст'].str.extract('(\\d+)')\n",
        "    print(df)\n",
        "\n"
      ],
      "metadata": {
        "id": "lF53xlnsSTP3",
        "colab": {
          "base_uri": "https://localhost:8080/"
        },
        "outputId": "77b92ffc-9b19-4457-ca2e-a20bf25eed1f"
      },
      "execution_count": null,
      "outputs": [
        {
          "output_type": "stream",
          "name": "stdout",
          "text": [
            "    текст цифры\n",
            "0  abc123   123\n",
            "1  def456   456\n",
            "2  ghi789   789\n"
          ]
        }
      ]
    },
    {
      "cell_type": "markdown",
      "source": [
        "\n",
        "\n",
        "\n",
        "### Задачи на визуализацию данных\n",
        "\n",
        "    "
      ],
      "metadata": {
        "id": "k60the3pSUG4"
      }
    },
    {
      "cell_type": "markdown",
      "source": [
        "\n",
        "\n",
        "19. **График зависимости между двумя столбцами (scatter plot) и добавление линии регрессии:**\n",
        "    "
      ],
      "metadata": {
        "id": "LEnyIhBmSVDu"
      }
    },
    {
      "cell_type": "code",
      "source": [
        "\n",
        "    import seaborn as sns\n",
        "    df = pd.DataFrame({'X': [1, 2, 3, 4, 5], 'Y': [1, 2, 3, 4, 5]})\n",
        "    sns.regplot(x='X', y='Y', data=df)\n"
      ],
      "metadata": {
        "id": "L--mTDBRSnT1",
        "colab": {
          "base_uri": "https://localhost:8080/",
          "height": 466
        },
        "outputId": "08e1721f-aea4-4f3e-fc5e-abff4f189506"
      },
      "execution_count": null,
      "outputs": [
        {
          "output_type": "execute_result",
          "data": {
            "text/plain": [
              "<Axes: xlabel='X', ylabel='Y'>"
            ]
          },
          "metadata": {},
          "execution_count": 19
        },
        {
          "output_type": "display_data",
          "data": {
            "text/plain": [
              "<Figure size 640x480 with 1 Axes>"
            ],
            "image/png": "[encoded data removed]"
          },
          "metadata": {}
        }
      ]
    },
    {
      "cell_type": "markdown",
      "source": [
        "\n",
        "### Задачи на обработку временных рядов\n",
        "\n",
        "22. **Преобразование столбца с временными метками в формат datetime и извлечение года, месяца и дня:**\n",
        "    "
      ],
      "metadata": {
        "id": "dlv3zP4ESYAj"
      }
    },
    {
      "cell_type": "code",
      "source": [
        "\n",
        "    df = pd.DataFrame({'Дата': ['2023-01-01', '2023-01-02']})\n",
        "    df['Дата'] = pd.to_datetime(df['Дата'])\n",
        "    df['Год'] = df['Дата'].dt.year\n",
        "    df['Месяц'] = df['Дата'].dt.month\n",
        "    df['День'] = df['Дата'].dt.day\n",
        "    print(df)\n",
        "\n"
      ],
      "metadata": {
        "id": "iv3P8XwxSZH-",
        "colab": {
          "base_uri": "https://localhost:8080/"
        },
        "outputId": "b854ee88-2387-41d7-fc69-80cee60cdd82"
      },
      "execution_count": null,
      "outputs": [
        {
          "output_type": "stream",
          "name": "stdout",
          "text": [
            "        Дата   Год  Месяц  День\n",
            "0 2023-01-01  2023      1     1\n",
            "1 2023-01-02  2023      1     2\n"
          ]
        }
      ]
    },
    {
      "cell_type": "markdown",
      "source": [
        "\n",
        "\n",
        "### Задачи на многомерные данные\n",
        "\n",
        "    \n",
        "\n",
        "25. **Использование `stack()` и `unstack()` для изменения структуры DataFrame:**\n",
        "    "
      ],
      "metadata": {
        "id": "lefftQhBSbeC"
      }
    },
    {
      "cell_type": "code",
      "source": [
        "\n",
        "    df = pd.DataFrame({'A': [1, 2], 'B': [3, 4]}, index=['x', 'y'])\n",
        "    stacked = df.stack()\n",
        "    unstacked = stacked.unstack()\n",
        "    print(stacked)\n",
        "    print(unstacked)\n",
        "\n",
        "\n"
      ],
      "metadata": {
        "id": "30ZxU4zvSccX",
        "colab": {
          "base_uri": "https://localhost:8080/"
        },
        "outputId": "41318c6d-6622-4bd9-cf47-3643118656f7"
      },
      "execution_count": null,
      "outputs": [
        {
          "output_type": "stream",
          "name": "stdout",
          "text": [
            "x  A    1\n",
            "   B    3\n",
            "y  A    2\n",
            "   B    4\n",
            "dtype: int64\n",
            "   A  B\n",
            "x  1  3\n",
            "y  2  4\n"
          ]
        }
      ]
    },
    {
      "cell_type": "markdown",
      "source": [
        "\n",
        "\n",
        "### Задачи на анализ данных\n",
        "\n",
        "\n",
        "29. **Нахождение корреляции между несколькими числовыми столбцами и визуализация с помощью тепловой карты:**\n",
        "    "
      ],
      "metadata": {
        "id": "UDwJcx1pSdik"
      }
    },
    {
      "cell_type": "code",
      "source": [
        "\n",
        "    import seaborn as sns\n",
        "    df = pd.DataFrame({'A': [1, 2, 3], 'B': [2, 4, 6], 'C': [1, 1, 1]})\n",
        "    corr = df.corr()\n",
        "    sns.heatmap(corr, annot=True, cmap='coolwarm')\n",
        "\n"
      ],
      "metadata": {
        "id": "ZZBTTTqVSeaI",
        "colab": {
          "base_uri": "https://localhost:8080/",
          "height": 452
        },
        "outputId": "8956a91d-1e3e-4603-e8ff-d0ae4787408d"
      },
      "execution_count": null,
      "outputs": [
        {
          "output_type": "execute_result",
          "data": {
            "text/plain": [
              "<Axes: >"
            ]
          },
          "metadata": {},
          "execution_count": 22
        },
        {
          "output_type": "display_data",
          "data": {
            "text/plain": [
              "<Figure size 640x480 with 2 Axes>"
            ],
            "image/png": "[encoded data removed]"
          },
          "metadata": {}
        }
      ]
    },
    {
      "cell_type": "markdown",
      "source": [
        "\n",
        "### Задача на создание пользовательских функций\n",
        "\n",
        "30. **Написание пользовательской функции для выполнения нескольких операций:**\n",
        "    "
      ],
      "metadata": {
        "id": "50GaBcy4Sf_4"
      }
    },
    {
      "cell_type": "code",
      "source": [
        "\n",
        "    def process_data(df):\n",
        "        df = df[df['A'] > 2]\n",
        "        df['B'] = df['B'] * 2\n",
        "        return df.sort_values(by='B')\n",
        "\n",
        "    df = pd.DataFrame({'A': [1, 2, 3, 4], 'B': [10, 20, 30, 40]})\n",
        "    processed_df = process_data(df)\n",
        "    print(processed_df)\n",
        "\n",
        "\n",
        "\n",
        "\n",
        "\n",
        "\n",
        "\n"
      ],
      "metadata": {
        "id": "_k8X85vlSg1U",
        "colab": {
          "base_uri": "https://localhost:8080/"
        },
        "outputId": "e43666b8-fe13-40e9-a677-c4376ce3bacb"
      },
      "execution_count": null,
      "outputs": [
        {
          "output_type": "stream",
          "name": "stdout",
          "text": [
            "   A   B\n",
            "2  3  60\n",
            "3  4  80\n"
          ]
        },
        {
          "output_type": "stream",
          "name": "stderr",
          "text": [
            "<ipython-input-23-a0977a9ed3b9>:3: SettingWithCopyWarning: \n",
            "A value is trying to be set on a copy of a slice from a DataFrame.\n",
            "Try using .loc[row_indexer,col_indexer] = value instead\n",
            "\n",
            "See the caveats in the documentation: https://pandas.pydata.org/pandas-docs/stable/user_guide/indexing.html#returning-a-view-versus-a-copy\n",
            "  df['B'] = df['B'] * 2\n"
          ]
        }
      ]
    },
    {
      "cell_type": "markdown",
      "source": [
        "#Вопросы для самопроверки\n",
        "\n",
        "##Структура данных **Series**\n",
        "\n",
        "1. Что такое **Pandas Series**?\n",
        "2. Как создать Series из списка, словаря и массива NumPy?\n",
        "3. Чем отличается Series от списка в Python?\n",
        "4. Как можно явно задать индексы в Series?\n",
        "5. Как получить доступ к элементам Series по индексу (числовому и строковому)?\n",
        "6. Что произойдет, если обратиться к несуществующему индексу в Series?\n",
        "7. Как изменить индексы уже существующей Series?\n",
        "8. Какие методы позволяют быстро получить первые и последние элементы Series?\n",
        "9. Как узнать основные статистические характеристики Series?\n",
        "10. Как подсчитать количество уникальных значений в Series?\n",
        "11. В чем разница между методами `unique()` и `nunique()`?\n",
        "12. Как удалить элемент из Series по его индексу?\n",
        "13. Как отсортировать Series по значениям или индексам?\n",
        "14. Что делает метод `apply()` и как его использовать?\n",
        "15. Для чего используется метод `map()`?\n",
        "\n",
        "##Структура данных **DataFrame**\n",
        "\n",
        "\n",
        "\n",
        "1. Что такое DataFrame в Pandas и какова его основная структура?\n",
        "   \n",
        "2. Как создать DataFrame из словаря, где ключи — это названия столбцов, а значения — списки данных? Приведите пример.\n",
        "\n",
        "3. Какие атрибуты DataFrame вы можете использовать для получения информации о его размере, названиях столбцов и типах данных?\n",
        "\n",
        "4. Как вы можете отфильтровать строки DataFrame по одному условию? Приведите пример кода.\n",
        "\n",
        "5. Что делает метод `.loc[]` и как он отличается от метода `.iloc[]`?\n",
        "\n",
        "6. Как добавить новый столбец в существующий DataFrame и какие способы для этого существуют?\n",
        "\n",
        "7. Как удалить строки с отсутствующими значениями в DataFrame?\n",
        "\n",
        "8. Что такое метод `groupby()` и как его использовать для агрегации данных? Приведите пример.\n",
        "\n",
        "9. Как вы можете объединить два DataFrame по общему столбцу? Какие типы соединений вы можете использовать?\n",
        "\n",
        "10. Как использовать метод `pivot_table()` для создания сводной таблицы? Приведите пример использования.\n",
        "\n",
        "11. Что делает метод `fillna()` и как его можно использовать для обработки пропущенных значений?\n",
        "\n",
        "12. Как вы можете преобразовать строковые значения в одном из столбцов в верхний регистр?\n",
        "\n",
        "13. Что такое временные ряды в Pandas и как с ними работать? Как можно агрегировать данные по месяцам?\n",
        "\n",
        "14. Как найти корреляцию между числовыми столбцами в DataFrame и как ее визуализировать?\n",
        "\n",
        "15. Как можно сохранить DataFrame в CSV файл и затем загрузить его обратно в новый DataFrame?\n"
      ],
      "metadata": {
        "id": "tzDhw_JdYymb"
      }
    },
    {
      "cell_type": "markdown",
      "source": [
        "#Вопросы для самопроверки\n",
        "\n",
        "##Структура данных **Series**\n",
        "\n",
        "1. Что такое **Pandas Series**?\n",
        "2. Как создать Series из списка, словаря и массива NumPy?\n",
        "3. Чем отличается Series от списка в Python?\n",
        "4. Как можно явно задать индексы в Series?\n",
        "5. Как получить доступ к элементам Series по индексу (числовому и строковому)?\n",
        "6. Что произойдет, если обратиться к несуществующему индексу в Series?\n",
        "7. Как изменить индексы уже существующей Series?\n",
        "8. Какие методы позволяют быстро получить первые и последние элементы Series?\n",
        "9. Как узнать основные статистические характеристики Series?\n",
        "10. Как подсчитать количество уникальных значений в Series?\n",
        "11. В чем разница между методами `unique()` и `nunique()`?\n",
        "12. Как удалить элемент из Series по его индексу?\n",
        "13. Как отсортировать Series по значениям или индексам?\n",
        "14. Что делает метод `apply()` и как его использовать?\n",
        "15. Для чего используется метод `map()`?\n",
        "\n",
        "##Структура данных **DataFrame**\n",
        "\n",
        "\n",
        "\n",
        "1. Что такое DataFrame в Pandas и какова его основная структура?\n",
        "   \n",
        "2. Как создать DataFrame из словаря, где ключи — это названия столбцов, а значения — списки данных? Приведите пример.\n",
        "\n",
        "3. Какие атрибуты DataFrame вы можете использовать для получения информации о его размере, названиях столбцов и типах данных?\n",
        "\n",
        "4. Как вы можете отфильтровать строки DataFrame по одному условию? Приведите пример кода.\n",
        "\n",
        "5. Что делает метод `.loc[]` и как он отличается от метода `.iloc[]`?\n",
        "\n",
        "6. Как добавить новый столбец в существующий DataFrame и какие способы для этого существуют?\n",
        "\n",
        "7. Как удалить строки с отсутствующими значениями в DataFrame?\n",
        "\n",
        "8. Что такое метод `groupby()` и как его использовать для агрегации данных? Приведите пример.\n",
        "\n",
        "9. Как вы можете объединить два DataFrame по общему столбцу? Какие типы соединений вы можете использовать?\n",
        "\n",
        "10. Как использовать метод `pivot_table()` для создания сводной таблицы? Приведите пример использования.\n",
        "\n",
        "11. Что делает метод `fillna()` и как его можно использовать для обработки пропущенных значений?\n",
        "\n",
        "12. Как вы можете преобразовать строковые значения в одном из столбцов в верхний регистр?\n",
        "\n",
        "13. Что такое временные ряды в Pandas и как с ними работать? Как можно агрегировать данные по месяцам?\n",
        "\n",
        "14. Как найти корреляцию между числовыми столбцами в DataFrame и как ее визуализировать?\n",
        "\n",
        "15. Как можно сохранить DataFrame в CSV файл и затем загрузить его обратно в новый DataFrame?\n"
      ],
      "metadata": {
        "id": "LrFDaoJQdwuA"
      }
    }
  ]
}