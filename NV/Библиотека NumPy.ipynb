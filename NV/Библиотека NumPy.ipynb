{
  "nbformat": 4,
  "nbformat_minor": 0,
  "metadata": {
    "colab": {
      "provenance": [],
      "include_colab_link": true
    },
    "kernelspec": {
      "name": "python3",
      "display_name": "Python 3"
    },
    "language_info": {
      "name": "python"
    }
  },
  "cells": [
    {
      "cell_type": "markdown",
      "metadata": {
        "id": "view-in-github",
        "colab_type": "text"
      },
      "source": [
        "<a href=\"https://colab.research.google.com/github/CodeHunterOfficial/A_PythonLibraries/blob/main/NV/%D0%91%D0%B8%D0%B1%D0%BB%D0%B8%D0%BE%D1%82%D0%B5%D0%BA%D0%B0%20NumPy.ipynb\" target=\"_parent\"><img src=\"https://colab.research.google.com/assets/colab-badge.svg\" alt=\"Open In Colab\"/></a>"
      ]
    },
    {
      "cell_type": "markdown",
      "source": [
        "#Библиотека NumPy\n",
        "\n",
        "## Введение\n",
        "\n",
        "NumPy (Numerical Python) — это одна из основных библиотек для научных вычислений в Python. Она предоставляет мощные инструменты для работы с многомерными массивами и матрицами, а также содержит множество математических функций для выполнения операций над этими данными. Благодаря своей эффективности и простоте использования, NumPy стал стандартом в области численных вычислений и анализа данных.\n",
        "\n",
        "### Основные характеристики NumPy\n",
        "\n",
        "1. **Многомерные массивы**: NumPy предоставляет объект `ndarray`, который представляет собой многомерный массив. Это позволяет легко хранить и манипулировать большими объемами данных.\n",
        "2. **Эффективные операции**: NumPy позволяет выполнять операции над массивами без необходимости писать сложные циклы, что делает код более читаемым и производительным.\n",
        "3. **Векторизация**: Векторизация позволяет использовать встроенные операции над массивами, что значительно ускоряет вычисления по сравнению с обычными циклами Python.\n",
        "4. **Удобные функции**: NumPy предлагает множество функций для выполнения математических, статистических и линейных алгебраических операций.\n",
        "\n",
        "## Установка\n",
        "\n",
        "Чтобы установить NumPy, используйте команду pip в терминале или командной строке. Это позволит вам загрузить и установить библиотеку для использования в вашем проекте."
      ],
      "metadata": {
        "id": "gb2Zy1iMSqTH"
      }
    },
    {
      "cell_type": "code",
      "source": [
        "pip install numpy"
      ],
      "metadata": {
        "colab": {
          "base_uri": "https://localhost:8080/"
        },
        "id": "E8Ag0MkwSyyA",
        "outputId": "80d05628-661b-496e-e05e-eff3d54a4c76"
      },
      "execution_count": null,
      "outputs": [
        {
          "output_type": "stream",
          "name": "stdout",
          "text": [
            "Requirement already satisfied: numpy in /usr/local/lib/python3.10/dist-packages (1.26.4)\n"
          ]
        }
      ]
    },
    {
      "cell_type": "markdown",
      "source": [
        "## Основные объекты NumPy\n",
        "\n",
        "### Массивы `ndarray`\n",
        "\n",
        "Объект `ndarray` (n-dimensional array) является основным элементом NumPy. Он позволяет создавать массивы любой размерности, что делает его очень удобным для хранения и обработки данных.\n",
        "\n",
        "#### Создание массивов\n",
        "\n",
        "NumPy предоставляет различные способы создания массивов. Рассмотрим несколько основных методов:\n",
        "\n",
        "1. **Создание одномерного массива**\n",
        "\n",
        "Начнем с простого примера создания одномерного массива, который состоит из целых чисел."
      ],
      "metadata": {
        "id": "PQbPm9ehS5tP"
      }
    },
    {
      "cell_type": "code",
      "source": [
        "import numpy as np\n",
        "\n",
        "# Создание одномерного массива с использованием функции np.array()\n",
        "arr_1d = np.array([1, 2, 3, 4, 5])\n",
        "print(arr_1d)"
      ],
      "metadata": {
        "colab": {
          "base_uri": "https://localhost:8080/"
        },
        "id": "ptBy528vS-Wv",
        "outputId": "9582c00f-fda3-4990-fc51-67c7f371af15"
      },
      "execution_count": null,
      "outputs": [
        {
          "output_type": "stream",
          "name": "stdout",
          "text": [
            "[1 2 3 4 5]\n"
          ]
        }
      ]
    },
    {
      "cell_type": "markdown",
      "source": [
        "2. **Создание двумерного массива**\n",
        "\n",
        "Теперь создадим двумерный массив. Это может быть полезно для представления данных в виде таблицы."
      ],
      "metadata": {
        "id": "iytHAOlbTSzI"
      }
    },
    {
      "cell_type": "code",
      "source": [
        "# Создание двумерного массива с двумя строками и тремя столбцами\n",
        "arr_2d = np.array([[1, 2, 3], [4, 5, 6]])\n",
        "print(arr_2d)"
      ],
      "metadata": {
        "colab": {
          "base_uri": "https://localhost:8080/"
        },
        "id": "tuNU8-t0TTYP",
        "outputId": "6a145aa9-2556-43d3-81e1-e6b96a96cb40"
      },
      "execution_count": null,
      "outputs": [
        {
          "output_type": "stream",
          "name": "stdout",
          "text": [
            "[[1 2 3]\n",
            " [4 5 6]]\n"
          ]
        }
      ]
    },
    {
      "cell_type": "markdown",
      "source": [
        "3. **Создание многомерного массива**\n",
        "\n",
        "Мы можем создавать массивы и с более высокой размерностью. Рассмотрим пример трехмерного массива."
      ],
      "metadata": {
        "id": "mKcjpWwIUg5n"
      }
    },
    {
      "cell_type": "code",
      "source": [
        "# Создание трехмерного массива\n",
        "arr_3d = np.array([[[1, 2], [3, 4]], [[5, 6], [7, 8]]])\n",
        "print(arr_3d)"
      ],
      "metadata": {
        "colab": {
          "base_uri": "https://localhost:8080/"
        },
        "id": "XnOFSmztUgUY",
        "outputId": "5e623f90-0213-4dc5-a957-a0e560299d68"
      },
      "execution_count": null,
      "outputs": [
        {
          "output_type": "stream",
          "name": "stdout",
          "text": [
            "[[[1 2]\n",
            "  [3 4]]\n",
            "\n",
            " [[5 6]\n",
            "  [7 8]]]\n"
          ]
        }
      ]
    },
    {
      "cell_type": "markdown",
      "source": [
        "### Свойства массивов\n",
        "\n",
        "Массивы в NumPy имеют несколько важных свойств, которые могут помочь нам понять их структуру:\n",
        "\n",
        "- **shape**: форма массива, которая показывает его размерность и количество элементов в каждом измерении.\n",
        "- **dtype**: тип данных элементов массива, что позволяет управлять памятью и производительностью.\n",
        "\n",
        "Рассмотрим, как получить эти свойства для двумерного массива:"
      ],
      "metadata": {
        "id": "SqJcwAqJUvEI"
      }
    },
    {
      "cell_type": "code",
      "source": [
        "print(arr_2d.shape)\n",
        "print(arr_2d.dtype)"
      ],
      "metadata": {
        "colab": {
          "base_uri": "https://localhost:8080/"
        },
        "id": "ZAgJHrPgU8Jg",
        "outputId": "00c5dcc5-5764-488c-b6e4-6438a3fecdaf"
      },
      "execution_count": null,
      "outputs": [
        {
          "output_type": "stream",
          "name": "stdout",
          "text": [
            "(2, 3)\n",
            "int64\n"
          ]
        }
      ]
    },
    {
      "cell_type": "markdown",
      "source": [
        "### Инициализация массивов\n",
        "\n",
        "NumPy также предлагает функции для инициализации массивов с заранее заданными значениями, такими как нули или единицы.\n",
        "\n",
        "1. **Создание массива нулей**\n",
        "\n",
        "Вы можете создать массив, заполненный нулями, с помощью функции `np.zeros()`. Это может быть полезно, например, для инициализации весов в нейронной сети."
      ],
      "metadata": {
        "id": "fgbKKVWwU44H"
      }
    },
    {
      "cell_type": "code",
      "source": [
        "# Создание двумерного массива 2x3, заполненного нулями\n",
        "zeros_array = np.zeros((2, 3))\n",
        "print(zeros_array)"
      ],
      "metadata": {
        "colab": {
          "base_uri": "https://localhost:8080/"
        },
        "id": "wab59jeBVImX",
        "outputId": "88cea64a-8a86-4f5c-8b7d-0cda1bbc44ce"
      },
      "execution_count": null,
      "outputs": [
        {
          "output_type": "stream",
          "name": "stdout",
          "text": [
            "[[0. 0. 0.]\n",
            " [0. 0. 0.]]\n"
          ]
        }
      ]
    },
    {
      "cell_type": "markdown",
      "source": [
        "2. **Создание массива единиц**\n",
        "\n",
        "Аналогично, можно создать массив, заполненный единицами, с помощью функции `np.ones()`."
      ],
      "metadata": {
        "id": "olR4DmvSVNqg"
      }
    },
    {
      "cell_type": "code",
      "source": [
        "# Создание двумерного массива 2x3, заполненного единицами\n",
        "ones_array = np.ones((2, 3))\n",
        "print(ones_array)"
      ],
      "metadata": {
        "colab": {
          "base_uri": "https://localhost:8080/"
        },
        "id": "-wCu1BojVOCw",
        "outputId": "e2d5e5e8-6104-4e33-fe37-95659113870a"
      },
      "execution_count": null,
      "outputs": [
        {
          "output_type": "stream",
          "name": "stdout",
          "text": [
            "[[1. 1. 1.]\n",
            " [1. 1. 1.]]\n"
          ]
        }
      ]
    },
    {
      "cell_type": "markdown",
      "source": [
        "3. **Создание массива с произвольными значениями**\n",
        "\n",
        "Для создания массива с случайными числами можно использовать `np.random.rand()`. Это удобно для генерации данных для тестирования."
      ],
      "metadata": {
        "id": "d1lbXetMVWV-"
      }
    },
    {
      "cell_type": "code",
      "source": [
        "# Создание двумерного массива 2x3 с случайными числами от 0 до 1\n",
        "random_array = np.random.rand(2, 3)\n",
        "print(random_array)"
      ],
      "metadata": {
        "colab": {
          "base_uri": "https://localhost:8080/"
        },
        "id": "3yCPw6GZVd7t",
        "outputId": "43180266-13f4-4930-fa4a-5ed8f5c34074"
      },
      "execution_count": null,
      "outputs": [
        {
          "output_type": "stream",
          "name": "stdout",
          "text": [
            "[[0.28653874 0.29406347 0.60933009]\n",
            " [0.50093641 0.44379262 0.34598268]]\n"
          ]
        }
      ]
    },
    {
      "cell_type": "markdown",
      "source": [
        "## Основные операции с массивами\n",
        "\n",
        "Теперь давайте рассмотрим, как можно выполнять различные операции с массивами. NumPy предоставляет удобные и эффективные способы работы с данными.\n",
        "\n",
        "### Индексация и срезы\n",
        "\n",
        "Индексация и срезы позволяют извлекать отдельные элементы или подмассивы из массивов. Это полезно, когда нужно работать только с определенными частями данных.\n",
        "\n",
        "1. **Индексация**\n",
        "\n",
        "Индексация в NumPy позволяет получить доступ к конкретным элементам массива, используя индексы. Она начинается с нуля, как и в большинстве языков программирования. Индексы задаются в квадратных скобках, где первым идет индекс строки, а затем — индекс столбца (если массив многомерный). Это позволяет извлекать отдельные элементы или целые подмножества массива.\n",
        "\n",
        "В NumPy можно обращаться как к элементам одномерных массивов, так и многомерных. Например, для одномерного массива `arr_1d` обращение к элементу по индексу выглядит как `arr_1d[i]`, где `i` — порядковый номер элемента. Для двумерных массивов можно использовать формат `arr_2d[i, j]`, где `i` — индекс строки, а `j` — индекс столбца.\n",
        "\n",
        "Пример индексации в двумерном массиве:"
      ],
      "metadata": {
        "id": "3YXkPdZVVg5H"
      }
    },
    {
      "cell_type": "code",
      "source": [
        "import numpy as np\n",
        "\n",
        "# Создаем двумерный массив 3x3\n",
        "arr_2d = np.array([[1, 2, 3],\n",
        "                   [4, 5, 6],\n",
        "                   [7, 8, 9]])\n",
        "\n",
        "# Получение элемента из первой строки и второго столбца\n",
        "print(arr_2d[0, 1])"
      ],
      "metadata": {
        "colab": {
          "base_uri": "https://localhost:8080/"
        },
        "id": "C3B_pUohVmBQ",
        "outputId": "5e335e77-fe64-4607-f3ae-fafb6f3fed92"
      },
      "execution_count": null,
      "outputs": [
        {
          "output_type": "stream",
          "name": "stdout",
          "text": [
            "2\n"
          ]
        }
      ]
    },
    {
      "cell_type": "markdown",
      "source": [
        "2. **Булева индексация**\n",
        "\n",
        "Булева индексация — это метод выборки элементов массива, который позволяет извлекать данные на основе логических условий. В этом методе создается булев массив (массив из значений `True` и `False`), который затем используется для фильтрации исходного массива. Элементы, соответствующие условию (`True`), остаются в результате, а остальные отбрасываются.\n",
        "\n",
        "Булеву индексацию можно использовать для выполнения операций фильтрации, маскирования данных или выделения подмассивов по критериям.\n",
        "\n",
        "Пример использования булевой индексации:"
      ],
      "metadata": {
        "id": "0NMqLua-Vuwe"
      }
    },
    {
      "cell_type": "code",
      "source": [
        "import numpy as np\n",
        "\n",
        "# Создаем двумерный массив 3x3\n",
        "arr_2d = np.array([[1, 2, 3],\n",
        "                   [4, 5, 6],\n",
        "                   [7, 8, 9]])\n",
        "\n",
        "# Получаем булев массив, где элементы больше 3\n",
        "bool_index = arr_2d > 3\n",
        "\n",
        "# Выводим булев массив\n",
        "print(bool_index)\n",
        "\n",
        "\n",
        "# Получение элементов массива, которые больше 3\n",
        "filtered_elements = arr_2d[bool_index]\n",
        "print(filtered_elements)"
      ],
      "metadata": {
        "colab": {
          "base_uri": "https://localhost:8080/"
        },
        "id": "Cgc_sXcPVvnv",
        "outputId": "a5ac8c1f-5265-447a-c772-d7e417f60268"
      },
      "execution_count": null,
      "outputs": [
        {
          "output_type": "stream",
          "name": "stdout",
          "text": [
            "[[False False False]\n",
            " [ True  True  True]\n",
            " [ True  True  True]]\n",
            "[4 5 6 7 8 9]\n"
          ]
        }
      ]
    },
    {
      "cell_type": "markdown",
      "source": [
        "В данном примере создается булев массив того же размера, что и исходный, где каждый элемент равен `True`, если соответствующий элемент исходного массива удовлетворяет условию (больше 3). Затем с помощью этого булевого массива производится выборка элементов, которые больше 3.\n",
        "\n",
        "Булева индексация особенно полезна для работы с большими массивами, где необходимо выполнять массовые операции фильтрации, например, удаление или изменение элементов, соответствующих определенным условиям.\n",
        "\n",
        "\n",
        "\n",
        "В NumPy существует несколько способов индексации массивов помимо обычной и булевой. Они помогают эффективно работать с массивами различной размерности. Вот основные типы индексации:\n",
        "\n",
        "### 1. **Обычная индексация** (Прямой доступ по индексу)\n",
        "Это базовая форма индексации, где для одномерного массива передается один индекс, а для многомерного — несколько индексов (один на каждую ось).\n",
        "\n",
        "Пример:"
      ],
      "metadata": {
        "id": "6jMOBZyuV6Yv"
      }
    },
    {
      "cell_type": "code",
      "source": [
        "import numpy as np\n",
        "\n",
        "arr_1d = np.array([10, 20, 30])\n",
        "arr_2d = np.array([[1, 2, 3], [4, 5, 6], [7, 8, 9]])\n",
        "\n",
        "# Получение элемента из одномерного массива\n",
        "print(arr_1d[1])\n",
        "\n",
        "# Получение элемента из двумерного массива\n",
        "print(arr_2d[2, 1])"
      ],
      "metadata": {
        "colab": {
          "base_uri": "https://localhost:8080/"
        },
        "id": "SW0u6cXfV_EF",
        "outputId": "469fc2db-201e-43c3-9ba8-dfe76cc16d38"
      },
      "execution_count": null,
      "outputs": [
        {
          "output_type": "stream",
          "name": "stdout",
          "text": [
            "20\n",
            "8\n"
          ]
        }
      ]
    },
    {
      "cell_type": "markdown",
      "source": [
        "### 2. **Индексация массивом индексов** (Fancy indexing)\n",
        "\n",
        "Этот тип индексации позволяет извлекать элементы массива с помощью списков или массивов индексов. Это даёт возможность выбирать элементы в произвольном порядке, в отличие от срезов, которые возвращают непрерывные подмножества.\n",
        "\n",
        "Пример:"
      ],
      "metadata": {
        "id": "sYzczYDWWIbH"
      }
    },
    {
      "cell_type": "code",
      "source": [
        "import numpy as np\n",
        "arr = np.array([10, 20, 30, 40, 50, 10, 10, 60, 20, 10, 20, 40, 50, 10])\n",
        "x={}\n",
        "\n",
        "for i in arr:\n",
        "  if i in x:\n",
        "    x[i]+=1\n",
        "  else:\n",
        "    x[i]=1\n",
        "\n",
        "print(x)"
      ],
      "metadata": {
        "colab": {
          "base_uri": "https://localhost:8080/"
        },
        "id": "E0DMWydgaFMI",
        "outputId": "102baf28-e451-40db-9b3b-da6292b7a63b"
      },
      "execution_count": null,
      "outputs": [
        {
          "output_type": "stream",
          "name": "stdout",
          "text": [
            "{10: 5, 20: 3, 30: 1, 40: 2, 50: 2, 60: 1}\n"
          ]
        }
      ]
    },
    {
      "cell_type": "code",
      "source": [
        "import numpy as np\n",
        "arr = np.array([10, 20, 30, 40, 50])\n",
        "\n",
        "# Индексация массивом индексов\n",
        "index_array = [0, 2, 4]\n",
        "print(arr[index_array])  # Output: [10 30 50]"
      ],
      "metadata": {
        "id": "vCUi3Nc5WI98",
        "colab": {
          "base_uri": "https://localhost:8080/"
        },
        "outputId": "7a93d3fa-44a6-45da-b892-34861a0c9245"
      },
      "execution_count": null,
      "outputs": [
        {
          "output_type": "stream",
          "name": "stdout",
          "text": [
            "[10 30 50]\n"
          ]
        }
      ]
    },
    {
      "cell_type": "markdown",
      "source": [
        "Для многомерных массивов можно также указывать массивы индексов для каждой оси:\n"
      ],
      "metadata": {
        "id": "rwjQ6NwbWPHT"
      }
    },
    {
      "cell_type": "code",
      "source": [
        "arr_2d = np.array([[1, 2, 3], [4, 5, 6], [7, 8, 9]])\n",
        "\n",
        "# Получение элементов по произвольным индексам\n",
        "row_indices = [0, 1, 2]\n",
        "col_indices = [2, 1, 0]\n",
        "print(arr_2d[row_indices, col_indices])"
      ],
      "metadata": {
        "colab": {
          "base_uri": "https://localhost:8080/"
        },
        "id": "LRCupabKWPiA",
        "outputId": "990c7a4f-b443-40ec-ee35-bcdf73afa3fb"
      },
      "execution_count": null,
      "outputs": [
        {
          "output_type": "stream",
          "name": "stdout",
          "text": [
            "[3 5 7]\n"
          ]
        }
      ]
    },
    {
      "cell_type": "markdown",
      "source": [
        "### 3. **Индексация через `np.ix_`**\n",
        "\n",
        "Когда нужно получить подмножество массива с помощью нескольких массивов индексов по каждой оси, можно использовать функцию `np.ix_`. Это создаёт сетку индексов, что позволяет выбирать элементы из массива на пересечении индексов.\n",
        "\n",
        "Пример:\n"
      ],
      "metadata": {
        "id": "pbsad2BjWX9w"
      }
    },
    {
      "cell_type": "code",
      "source": [
        "arr_2d = np.array([[1, 2, 3], [4, 5, 6], [7, 8, 9]])\n",
        "\n",
        "# Индексация с использованием np.ix_\n",
        "rows = np.array([0, 2])\n",
        "cols = np.array([1, 2])\n",
        "\n",
        "sub_array = arr_2d[np.ix_(rows, cols)]\n",
        "print(sub_array)"
      ],
      "metadata": {
        "colab": {
          "base_uri": "https://localhost:8080/"
        },
        "id": "OPsoyGSPWYVh",
        "outputId": "1fa92dac-cdd2-45fd-e075-3ce6d58ba10c"
      },
      "execution_count": null,
      "outputs": [
        {
          "output_type": "stream",
          "name": "stdout",
          "text": [
            "[[2 3]\n",
            " [8 9]]\n"
          ]
        }
      ]
    },
    {
      "cell_type": "markdown",
      "source": [
        "### 4. **Индексация с помощью `...` (ellipsis)**\n",
        "\n",
        "Оператор `...` в NumPy позволяет сокращать запись индексов, особенно в массивах высокой размерности. Он заменяет недостающие оси. Это особенно полезно, когда известно, что индексация по некоторым осям пропускается.\n",
        "\n",
        "Пример:"
      ],
      "metadata": {
        "id": "pKh4rFlvWi0g"
      }
    },
    {
      "cell_type": "code",
      "source": [
        "arr_3d = np.arange(27).reshape(3, 3, 3)\n",
        "\n",
        "# Полная форма\n",
        "print(arr_3d[1, :, 2])\n",
        "\n",
        "# Использование ellipsis для сокращения записи\n",
        "print(arr_3d[1, ..., 2])\n"
      ],
      "metadata": {
        "colab": {
          "base_uri": "https://localhost:8080/"
        },
        "id": "19ZKpHlgWjJ_",
        "outputId": "ef3680a8-d12e-43b8-fa07-9608f75bc8fd"
      },
      "execution_count": null,
      "outputs": [
        {
          "output_type": "stream",
          "name": "stdout",
          "text": [
            "[11 14 17]\n",
            "[11 14 17]\n"
          ]
        }
      ]
    },
    {
      "cell_type": "markdown",
      "source": [
        "### 5. **Индексация по нескольким осям с `np.newaxis`**\n",
        "\n",
        "С помощью `np.newaxis` можно расширить размерность массива, добавляя новые оси. Это полезно при изменении формы массива для выполнения математических операций (например, для выравнивания размеров массивов при выполнении операций).\n",
        "\n",
        "Пример:\n"
      ],
      "metadata": {
        "id": "6BiKp4FqYFEG"
      }
    },
    {
      "cell_type": "code",
      "source": [
        "arr = np.array([1, 2, 3])\n",
        "\n",
        "# Добавление новой оси\n",
        "arr_2d = arr[:, np.newaxis]\n",
        "print(arr_2d)"
      ],
      "metadata": {
        "colab": {
          "base_uri": "https://localhost:8080/"
        },
        "id": "QzSujfUyYFaR",
        "outputId": "2326d9af-6315-4b1e-b393-0f71094fff80"
      },
      "execution_count": null,
      "outputs": [
        {
          "output_type": "stream",
          "name": "stdout",
          "text": [
            "[[1]\n",
            " [2]\n",
            " [3]]\n"
          ]
        }
      ]
    },
    {
      "cell_type": "markdown",
      "source": [
        "### 6. **Комбинированная индексация**\n",
        "\n",
        "Разные типы индексации можно комбинировать в одном выражении. Например, можно использовать булеву индексацию вместе с массивом индексов или срезами.\n",
        "\n",
        "Пример:"
      ],
      "metadata": {
        "id": "Z8mTs1lbYOEn"
      }
    },
    {
      "cell_type": "code",
      "source": [
        "arr = np.array([10, 20, 30, 40, 50])\n",
        "\n",
        "# Комбинирование булевой индексации и индекса массива\n",
        "bool_index = arr > 20\n",
        "indices = [2, 3, 4]\n",
        "\n",
        "print(arr[bool_index])"
      ],
      "metadata": {
        "colab": {
          "base_uri": "https://localhost:8080/"
        },
        "id": "1rnDyOrhYOip",
        "outputId": "7efa82e1-1d11-4f8d-e54e-e510b70bce18"
      },
      "execution_count": null,
      "outputs": [
        {
          "output_type": "stream",
          "name": "stdout",
          "text": [
            "[30 40 50]\n"
          ]
        }
      ]
    },
    {
      "cell_type": "markdown",
      "source": [
        "3. **Срезы**\n",
        "\n",
        "Срезы позволяют извлекать подмассивы или части массива, что делает их важным инструментом для работы с данными. В NumPy срезы работают так же, как и срезы списков в Python, но предоставляют более гибкие возможности для работы с многомерными массивами. Давайте разберём это подробнее.\n",
        "\n",
        "#### Основной синтаксис срезов\n",
        "\n",
        "Основной синтаксис для создания среза массива выглядит следующим образом:\n",
        "\n",
        "```python\n",
        "array[start:stop:step]\n",
        "```\n",
        "\n",
        "- `start`: начальный индекс среза (включительно).\n",
        "- `stop`: конечный индекс среза (не включительно).\n",
        "- `step`: шаг, определяющий, через сколько элементов нужно брать элементы массива.\n",
        "\n",
        "По умолчанию:\n",
        "- Если `start` не указан, срез начинается с 0.\n",
        "- Если `stop` не указан, срез продолжается до конца массива.\n",
        "- Если `step` не указан, по умолчанию он равен 1.\n",
        "\n",
        "#### Примеры срезов на одномерных массивах\n",
        "\n",
        "1. **Извлечение части массива**\n",
        "\n",
        "Для одномерного массива срезы работают так же, как и для списка."
      ],
      "metadata": {
        "id": "Rc8R5uWcZo7r"
      }
    },
    {
      "cell_type": "code",
      "source": [
        "import numpy as np\n",
        "\n",
        "arr = np.array([0, 1, 2, 3, 4, 5, 6, 7, 8, 9])\n",
        "\n",
        "# Извлечение элементов с 2-го по 5-й (индексы 2, 3, 4)\n",
        "print(arr[2:5])"
      ],
      "metadata": {
        "colab": {
          "base_uri": "https://localhost:8080/"
        },
        "id": "PznUBjBcaGks",
        "outputId": "c794e1f6-b7dd-405e-f11a-40b833d97027"
      },
      "execution_count": null,
      "outputs": [
        {
          "output_type": "stream",
          "name": "stdout",
          "text": [
            "[2 3 4]\n"
          ]
        }
      ]
    },
    {
      "cell_type": "markdown",
      "source": [
        "2. **Срез с указанием шага**\n",
        "\n",
        "Вы можете извлекать элементы с шагом через несколько элементов.\n"
      ],
      "metadata": {
        "id": "1SjCSVnWaLOg"
      }
    },
    {
      "cell_type": "code",
      "source": [
        "# Извлечение каждого второго элемента\n",
        "print(arr[::2])"
      ],
      "metadata": {
        "colab": {
          "base_uri": "https://localhost:8080/"
        },
        "id": "Zae1UOn2aQi6",
        "outputId": "382b3878-6941-4bf0-a482-e9a57bf948f0"
      },
      "execution_count": null,
      "outputs": [
        {
          "output_type": "stream",
          "name": "stdout",
          "text": [
            "[0 2 4 6 8]\n"
          ]
        }
      ]
    },
    {
      "cell_type": "markdown",
      "source": [
        "3. **Срез с отрицательным шагом**\n",
        "\n",
        "Отрицательный шаг позволяет делать срез в обратном порядке.\n"
      ],
      "metadata": {
        "id": "g_Pvm0OjaS3h"
      }
    },
    {
      "cell_type": "code",
      "source": [
        "# Обратный срез: все элементы в обратном порядке\n",
        "print(arr[::-1])"
      ],
      "metadata": {
        "colab": {
          "base_uri": "https://localhost:8080/"
        },
        "id": "irDEDJ5LaW0o",
        "outputId": "8e0e399c-7c36-4d42-b859-c58ad0472d17"
      },
      "execution_count": null,
      "outputs": [
        {
          "output_type": "stream",
          "name": "stdout",
          "text": [
            "[9 8 7 6 5 4 3 2 1 0]\n"
          ]
        }
      ]
    },
    {
      "cell_type": "markdown",
      "source": [
        "4. **Извлечение элементов с начала или до конца**\n",
        "\n",
        "Если не указать `start` или `stop`, срез будет идти до начала или конца массива.\n"
      ],
      "metadata": {
        "id": "ZGPWNfslaZLQ"
      }
    },
    {
      "cell_type": "code",
      "source": [
        "# Все элементы до 5-го индекса\n",
        "print(arr[:5])\n",
        "\n",
        "# Все элементы с 5-го индекса до конца\n",
        "print(arr[5:])"
      ],
      "metadata": {
        "colab": {
          "base_uri": "https://localhost:8080/"
        },
        "id": "XG5B2lkPadZZ",
        "outputId": "41742e07-5fa0-49c8-e1c4-8bf174376df6"
      },
      "execution_count": null,
      "outputs": [
        {
          "output_type": "stream",
          "name": "stdout",
          "text": [
            "[0 1 2 3 4]\n",
            "[5 6 7 8 9]\n"
          ]
        }
      ]
    },
    {
      "cell_type": "markdown",
      "source": [
        "\n",
        "#### Срезы на многомерных массивах\n",
        "\n",
        "Для многомерных массивов (например, двумерных или трёхмерных) срезы позволяют извлекать подмассивы, указав срез для каждой оси. Рассмотрим двумерные массивы."
      ],
      "metadata": {
        "id": "e3k2G57zaiDQ"
      }
    },
    {
      "cell_type": "code",
      "source": [
        "arr_2d = np.array([[1, 2, 3],\n",
        "                   [4, 5, 6],\n",
        "                   [7, 8, 9]])"
      ],
      "metadata": {
        "id": "ZliIuIFzaigY"
      },
      "execution_count": null,
      "outputs": []
    },
    {
      "cell_type": "markdown",
      "source": [
        "1. **Срезы по строкам и столбцам**\n",
        "\n",
        "Для двумерного массива нужно указать срезы для каждой оси (строк и столбцов).\n"
      ],
      "metadata": {
        "id": "nuQo38kdasqQ"
      }
    },
    {
      "cell_type": "code",
      "source": [
        "# Извлечение первой и второй строки\n",
        "print(arr_2d[0:2, :])"
      ],
      "metadata": {
        "colab": {
          "base_uri": "https://localhost:8080/"
        },
        "id": "aGuL1WGratHA",
        "outputId": "17239540-3e6e-4cd3-e7e3-009f18539154"
      },
      "execution_count": null,
      "outputs": [
        {
          "output_type": "stream",
          "name": "stdout",
          "text": [
            "[[1 2 3]\n",
            " [4 5 6]]\n"
          ]
        }
      ]
    },
    {
      "cell_type": "markdown",
      "source": [
        "Здесь `0:2` означает, что мы берём строки с индексами 0 и 1 (первые две строки), а `:` указывает на то, что берутся все столбцы.\n",
        "\n",
        "2. **Извлечение подмассива**\n",
        "\n",
        "Можно комбинировать срезы по строкам и столбцам для извлечения подмассива.\n"
      ],
      "metadata": {
        "id": "XVjUqzIoa4hY"
      }
    },
    {
      "cell_type": "code",
      "source": [
        "# Извлечение подмассива, состоящего из элементов с первой по вторую строку и второго по третий столбец\n",
        "print(arr_2d[0:2, 1:3])"
      ],
      "metadata": {
        "colab": {
          "base_uri": "https://localhost:8080/"
        },
        "id": "6kQa9qLFa9NX",
        "outputId": "dc0a038e-5b26-4acc-dabc-7d9ddce6e38e"
      },
      "execution_count": null,
      "outputs": [
        {
          "output_type": "stream",
          "name": "stdout",
          "text": [
            "[[2 3]\n",
            " [5 6]]\n"
          ]
        }
      ]
    },
    {
      "cell_type": "markdown",
      "source": [
        "Здесь `0:2` означает выбор строк с индексами 0 и 1, а `1:3` — столбцы с индексами 1 и 2.\n",
        "\n",
        "3. **Срезы по одной оси**\n",
        "\n",
        "Вы можете извлечь все элементы одной строки или столбца, указав срезы только по одной оси."
      ],
      "metadata": {
        "id": "ZIuN1w9qbFMH"
      }
    },
    {
      "cell_type": "code",
      "source": [
        "# Извлечение второй строки\n",
        "print(arr_2d[1, :])\n",
        "\n",
        "# Извлечение третьего столбца\n",
        "print(arr_2d[:, 2])"
      ],
      "metadata": {
        "colab": {
          "base_uri": "https://localhost:8080/"
        },
        "id": "GWcthJO8bJBw",
        "outputId": "ecf6388e-f402-4412-b7f5-d671c05f238b"
      },
      "execution_count": null,
      "outputs": [
        {
          "output_type": "stream",
          "name": "stdout",
          "text": [
            "[4 5 6]\n",
            "[3 6 9]\n"
          ]
        }
      ]
    },
    {
      "cell_type": "markdown",
      "source": [
        "4. **Извлечение элементов с шагом**\n",
        "\n",
        "Шаг в срезах можно также применять в многомерных массивах."
      ],
      "metadata": {
        "id": "dQs9tuIUbP3I"
      }
    },
    {
      "cell_type": "code",
      "source": [
        "# Извлечение каждого второго элемента в столбцах и строках\n",
        "print(arr_2d[::2, ::2])"
      ],
      "metadata": {
        "colab": {
          "base_uri": "https://localhost:8080/"
        },
        "id": "ZyixsohdbS_4",
        "outputId": "5d414c4b-5cb2-4dda-87e2-a352cff214ea"
      },
      "execution_count": null,
      "outputs": [
        {
          "output_type": "stream",
          "name": "stdout",
          "text": [
            "[[1 3]\n",
            " [7 9]]\n"
          ]
        }
      ]
    },
    {
      "cell_type": "markdown",
      "source": [
        "Здесь `::2` означает, что берутся каждая вторая строка и каждый второй столбец.\n",
        "\n",
        "#### Пример использования отрицательных индексов\n",
        "\n",
        "Отрицательные индексы позволяют указывать элементы с конца массива."
      ],
      "metadata": {
        "id": "Xy7j5Rb1bXqQ"
      }
    },
    {
      "cell_type": "code",
      "source": [
        "# Извлечение последнего элемента массива\n",
        "print(arr_2d[-1, -1])"
      ],
      "metadata": {
        "colab": {
          "base_uri": "https://localhost:8080/"
        },
        "id": "OmGSc4eFba4h",
        "outputId": "78d27336-cf15-4b49-a0ef-70a6958b50f5"
      },
      "execution_count": null,
      "outputs": [
        {
          "output_type": "stream",
          "name": "stdout",
          "text": [
            "9\n"
          ]
        }
      ]
    },
    {
      "cell_type": "markdown",
      "source": [
        "Также можно использовать отрицательные индексы для срезов:"
      ],
      "metadata": {
        "id": "0mjJ1MGebfwF"
      }
    },
    {
      "cell_type": "code",
      "source": [
        "# Срез последних двух строк\n",
        "print(arr_2d[-2:, :])"
      ],
      "metadata": {
        "colab": {
          "base_uri": "https://localhost:8080/"
        },
        "id": "CcS9Gpd-bh9R",
        "outputId": "ed33e9a3-f668-4307-ba77-248554a94824"
      },
      "execution_count": null,
      "outputs": [
        {
          "output_type": "stream",
          "name": "stdout",
          "text": [
            "[[4 5 6]\n",
            " [7 8 9]]\n"
          ]
        }
      ]
    },
    {
      "cell_type": "markdown",
      "source": [
        "#### Примеры сложных срезов\n",
        "\n",
        "Комбинирование срезов даёт возможность извлекать сложные подмассивы.\n",
        "\n",
        "1. **Извлечение диагонали**\n",
        "\n",
        "Хотя NumPy имеет встроенную функцию для извлечения диагонали (`np.diagonal()`), срезы могут быть использованы для этой же цели:"
      ],
      "metadata": {
        "id": "2xLiXJP2boBx"
      }
    },
    {
      "cell_type": "code",
      "source": [
        "# Извлечение диагональных элементов (1, 5, 9)\n",
        "print(arr_2d[range(3), range(3)])"
      ],
      "metadata": {
        "colab": {
          "base_uri": "https://localhost:8080/"
        },
        "id": "kTrfvddXbpEx",
        "outputId": "0db72971-16f9-4053-a43d-c3de2623e9d8"
      },
      "execution_count": null,
      "outputs": [
        {
          "output_type": "stream",
          "name": "stdout",
          "text": [
            "[1 5 9]\n"
          ]
        }
      ]
    },
    {
      "cell_type": "markdown",
      "source": [
        "2. **Перестановка с шагом**\n",
        "\n",
        "Вы можете комбинировать шаг и срезы для извлечения элементов с определённой регулярностью."
      ],
      "metadata": {
        "id": "Gh1nWDkZbssi"
      }
    },
    {
      "cell_type": "code",
      "source": [
        "# Извлечение элементов с первого и третьего столбцов через одну строку\n",
        "print(arr_2d[::2, [0, 2]])"
      ],
      "metadata": {
        "colab": {
          "base_uri": "https://localhost:8080/"
        },
        "id": "hH_scNLbbvWZ",
        "outputId": "20f5f692-e9c9-4e96-a358-eb1ac2c2d690"
      },
      "execution_count": null,
      "outputs": [
        {
          "output_type": "stream",
          "name": "stdout",
          "text": [
            "[[1 3]\n",
            " [7 9]]\n"
          ]
        }
      ]
    },
    {
      "cell_type": "markdown",
      "source": [
        "### Математические операции\n",
        "\n",
        "NumPy позволяет выполнять математические операции над массивами поэлементно, что значительно упрощает код и делает его более читаемым. Вот некоторые из основных операций:\n",
        "\n",
        "1. **Сложение и вычитание**\n",
        "\n",
        "NumPy поддерживает поэлементное сложение и вычитание массивов. Если массивы имеют одинаковую форму, то их можно складывать или вычитать друг из друга напрямую, без использования циклов."
      ],
      "metadata": {
        "id": "Poxc0HLHb1TA"
      }
    },
    {
      "cell_type": "code",
      "source": [
        "import numpy as np\n",
        "\n",
        "# Создание двух массивов\n",
        "arr_a = np.array([1, 2, 3])\n",
        "arr_b = np.array([4, 5, 6])\n",
        "\n",
        "# Сложение массивов\n",
        "print(arr_a + arr_b)\n",
        "\n",
        "# Вычитание массивов\n",
        "print(arr_a - arr_b)"
      ],
      "metadata": {
        "colab": {
          "base_uri": "https://localhost:8080/"
        },
        "id": "YjQXorXhb4QF",
        "outputId": "79f398d3-0a56-4708-8eca-caa2d4adb805"
      },
      "execution_count": null,
      "outputs": [
        {
          "output_type": "stream",
          "name": "stdout",
          "text": [
            "[5 7 9]\n",
            "[-3 -3 -3]\n"
          ]
        }
      ]
    },
    {
      "cell_type": "markdown",
      "source": [
        "2. **Умножение и деление**\n",
        "\n",
        "NumPy позволяет легко выполнять поэлементное умножение и деление между массивами. Эти операции также требуют, чтобы массивы имели одинаковую форму."
      ],
      "metadata": {
        "id": "5RmT7C64b-Yx"
      }
    },
    {
      "cell_type": "code",
      "source": [
        "# Поэлементное умножение\n",
        "print(arr_a * arr_b)\n",
        "\n",
        "# Поэлементное деление\n",
        "print(arr_a / arr_b)"
      ],
      "metadata": {
        "colab": {
          "base_uri": "https://localhost:8080/"
        },
        "id": "9FH2u0ELcBkA",
        "outputId": "c0cd0219-0f58-4c15-ff11-c0a9feb636bb"
      },
      "execution_count": null,
      "outputs": [
        {
          "output_type": "stream",
          "name": "stdout",
          "text": [
            "[ 4 10 18]\n",
            "[0.25 0.4  0.5 ]\n"
          ]
        }
      ]
    },
    {
      "cell_type": "markdown",
      "source": [
        "Обратите внимание, что операции выполняются поэлементно, то есть каждая операция выполняется между соответствующими элементами массивов.\n",
        "\n",
        "3. **Универсальные функции (ufuncs)**\n",
        "\n",
        "NumPy предоставляет широкий спектр универсальных функций (universal functions), которые могут быть применены ко всему массиву сразу, без необходимости итераций. Это включает функции для вычисления корня, экспоненты, логарифмов, тригонометрических операций и других математических операций.\n",
        "\n",
        "Примеры использования некоторых из этих функций:"
      ],
      "metadata": {
        "id": "rN_ObvkgcHoA"
      }
    },
    {
      "cell_type": "code",
      "source": [
        "# Корень квадратный\n",
        "print(np.sqrt(arr_a))\n",
        "\n",
        "# Экспонента (e^x)\n",
        "print(np.exp(arr_a))\n",
        "\n",
        "# Синус\n",
        "print(np.sin(arr_a))"
      ],
      "metadata": {
        "colab": {
          "base_uri": "https://localhost:8080/"
        },
        "id": "73YxBYGRcKPh",
        "outputId": "44bcf4d3-0a0a-4ed3-8a18-98003336dcfc"
      },
      "execution_count": null,
      "outputs": [
        {
          "output_type": "stream",
          "name": "stdout",
          "text": [
            "[1.         1.41421356 1.73205081]\n",
            "[ 2.71828183  7.3890561  20.08553692]\n",
            "[0.84147098 0.90929743 0.14112001]\n"
          ]
        }
      ]
    },
    {
      "cell_type": "markdown",
      "source": [
        "4. **Агрегатные операции**\n",
        "\n",
        "NumPy также поддерживает агрегатные функции для выполнения математических операций на всем массиве, такие как нахождение суммы, минимального или максимального значения."
      ],
      "metadata": {
        "id": "0Aic1QNGcawc"
      }
    },
    {
      "cell_type": "code",
      "source": [
        "# Сумма всех элементов массива\n",
        "print(np.sum(arr_a))\n",
        "\n",
        "# Минимальное значение\n",
        "print(np.min(arr_a))\n",
        "\n",
        "# Максимальное значение\n",
        "print(np.max(arr_a))"
      ],
      "metadata": {
        "colab": {
          "base_uri": "https://localhost:8080/"
        },
        "id": "8MO7qW0vcbeo",
        "outputId": "76bd7320-0f57-491b-c99b-d7deec42a1c7"
      },
      "execution_count": null,
      "outputs": [
        {
          "output_type": "stream",
          "name": "stdout",
          "text": [
            "6\n",
            "1\n",
            "3\n"
          ]
        }
      ]
    },
    {
      "cell_type": "markdown",
      "source": [
        "### Статистические функции\n",
        "\n",
        "NumPy предлагает обширные возможности для выполнения статистического анализа данных. Это полезно для обработки больших массивов данных и быстрой их обработки."
      ],
      "metadata": {
        "id": "LyeX4m2Qcg-I"
      }
    },
    {
      "cell_type": "code",
      "source": [
        "data = np.array([1, 2, 3, 4, 5])\n",
        "\n",
        "# Среднее значение\n",
        "print(np.mean(data))\n",
        "\n",
        "# Медиана\n",
        "print(np.median(data))\n",
        "\n",
        "# Стандартное отклонение\n",
        "print(np.std(data))\n",
        "\n",
        "# Дисперсия\n",
        "print(np.var(data))\n",
        "\n",
        "# Максимум и минимум\n",
        "print(np.max(data))\n",
        "print(np.min(data))"
      ],
      "metadata": {
        "colab": {
          "base_uri": "https://localhost:8080/"
        },
        "id": "VKeCd2j7cjXw",
        "outputId": "5631fd9e-ca52-4eee-8664-a8a21025d926"
      },
      "execution_count": null,
      "outputs": [
        {
          "output_type": "stream",
          "name": "stdout",
          "text": [
            "3.0\n",
            "3.0\n",
            "1.4142135623730951\n",
            "2.0\n",
            "5\n",
            "1\n"
          ]
        }
      ]
    },
    {
      "cell_type": "markdown",
      "source": [
        "Эти функции предоставляют быстрый доступ к основным статистическим характеристикам массива, что полезно при анализе данных.\n",
        "\n",
        "\n",
        "### Операции над массивами\n",
        "\n",
        "NumPy предлагает ряд инструментов для манипуляции массивами. Это включает операции, такие как транспонирование, изменение формы массива, объединение и разделение массивов.\n",
        "\n",
        "1. **Транспонирование**\n",
        "\n",
        "Транспонирование меняет местами строки и столбцы массива. Оно особенно полезно для работы с матрицами, например, в линейной алгебре или машинном обучении."
      ],
      "metadata": {
        "id": "6rtzo2BpcrnJ"
      }
    },
    {
      "cell_type": "code",
      "source": [
        "# Создание двумерного массива\n",
        "arr_2d = np.array([[1, 2, 3], [4, 5, 6]])\n",
        "\n",
        "# Транспонирование массива\n",
        "print(arr_2d.T)"
      ],
      "metadata": {
        "colab": {
          "base_uri": "https://localhost:8080/"
        },
        "id": "i3obbgh1curQ",
        "outputId": "7dab2616-9cf7-4eda-d976-d99e0154ce09"
      },
      "execution_count": null,
      "outputs": [
        {
          "output_type": "stream",
          "name": "stdout",
          "text": [
            "[[1 4]\n",
            " [2 5]\n",
            " [3 6]]\n"
          ]
        }
      ]
    },
    {
      "cell_type": "markdown",
      "source": [
        "2. **Изменение формы массива**\n",
        "\n",
        "NumPy позволяет легко изменять форму массива с помощью функции `reshape`. Это может быть полезно, если нужно преобразовать одномерный массив в многомерный и наоборот."
      ],
      "metadata": {
        "id": "57pZyDJec2Te"
      }
    },
    {
      "cell_type": "code",
      "source": [
        "# Изменение формы массива (1x6 -> 2x3)\n",
        "arr = np.array([1, 2, 3, 4, 5, 6])\n",
        "reshaped_arr = arr.reshape(2, 3)\n",
        "print(reshaped_arr)"
      ],
      "metadata": {
        "colab": {
          "base_uri": "https://localhost:8080/"
        },
        "id": "fQGo3HHVc6DA",
        "outputId": "b17938ad-fb3f-471f-8c17-6ae96655a293"
      },
      "execution_count": null,
      "outputs": [
        {
          "output_type": "stream",
          "name": "stdout",
          "text": [
            "[[1 2 3]\n",
            " [4 5 6]]\n"
          ]
        }
      ]
    },
    {
      "cell_type": "markdown",
      "source": [
        "3. **Объединение массивов**\n",
        "\n",
        "Объединение массивов в NumPy осуществляется с помощью функции `np.concatenate()`, которая позволяет объединять массивы по различным осям (строкам или столбцам).\n"
      ],
      "metadata": {
        "id": "j6w8xP_tc9OZ"
      }
    },
    {
      "cell_type": "code",
      "source": [
        "# Создание двух массивов\n",
        "arr1 = np.array([[1, 2], [3, 4]])\n",
        "arr2 = np.array([[5, 6]])\n",
        "\n",
        "# Объединение массивов по строкам (axis=0)\n",
        "combined = np.concatenate((arr1, arr2), axis=0)\n",
        "print(combined)"
      ],
      "metadata": {
        "colab": {
          "base_uri": "https://localhost:8080/"
        },
        "id": "uOvZ9NRtdEM6",
        "outputId": "cb2739a3-a04d-430f-efab-4b6571e6897f"
      },
      "execution_count": null,
      "outputs": [
        {
          "output_type": "stream",
          "name": "stdout",
          "text": [
            "[[1 2]\n",
            " [3 4]\n",
            " [5 6]]\n"
          ]
        }
      ]
    },
    {
      "cell_type": "markdown",
      "source": [
        "\n",
        "4. **Разделение массивов**\n",
        "\n",
        "Функция `np.split()` позволяет разделить массив на несколько частей, что удобно, например, при подготовке данных.\n",
        "\n"
      ],
      "metadata": {
        "id": "A5HYr14NdFhI"
      }
    },
    {
      "cell_type": "code",
      "source": [
        "# Разделение массива на две части\n",
        "split_arr = np.split(arr1, 2)\n",
        "print(split_arr)"
      ],
      "metadata": {
        "colab": {
          "base_uri": "https://localhost:8080/"
        },
        "id": "MJU5uJBidKuK",
        "outputId": "13c0cbff-0449-4ebc-df6f-7aff431d565e"
      },
      "execution_count": null,
      "outputs": [
        {
          "output_type": "stream",
          "name": "stdout",
          "text": [
            "[array([[1, 2]]), array([[3, 4]])]\n"
          ]
        }
      ]
    },
    {
      "cell_type": "markdown",
      "source": [
        "### Бродкастинг\n",
        "\n",
        "\n",
        "Бродкастинг — это способ, которым NumPy расширяет формы (размерности) меньших массивов до размеров больших массивов, чтобы можно было производить операции с массивами разного размера. Эта техника позволяет избежать неэффективных циклов, которые могли бы значительно замедлить выполнение программы.\n",
        "\n",
        "#### Пример без бродкастинга\n",
        "\n",
        "Рассмотрим пример, когда массивы имеют одинаковую форму и операция между ними выполняется \"элемент за элементом\":\n"
      ],
      "metadata": {
        "id": "P-Yq8xJodXD6"
      }
    },
    {
      "cell_type": "code",
      "source": [
        "import numpy as np\n",
        "\n",
        "# Два одинаковых массива\n",
        "a = np.array([1, 2, 3])\n",
        "b = np.array([4, 5, 6])\n",
        "\n",
        "# Элемент-wise сложение\n",
        "result = a + b\n",
        "print(result)"
      ],
      "metadata": {
        "colab": {
          "base_uri": "https://localhost:8080/"
        },
        "id": "_vHKmFdOdeZJ",
        "outputId": "be2dd942-a3d4-438b-dad4-182c9c1f5102"
      },
      "execution_count": null,
      "outputs": [
        {
          "output_type": "stream",
          "name": "stdout",
          "text": [
            "[5 7 9]\n"
          ]
        }
      ]
    },
    {
      "cell_type": "markdown",
      "source": [
        "\n",
        "\n",
        "В этом примере каждый элемент массива `a` складывается с соответствующим элементом массива `b`. Так как оба массива имеют одинаковую форму, никаких дополнительных действий не требуется.\n",
        "\n",
        "#### Пример с бродкастингом\n",
        "\n",
        "Теперь рассмотрим пример, когда один из массивов имеет меньшую форму:\n"
      ],
      "metadata": {
        "id": "X3h9OHFAdg-h"
      }
    },
    {
      "cell_type": "code",
      "source": [
        "a = np.array([1, 2, 3])\n",
        "b = np.array([10])\n",
        "\n",
        "# Сложение с бродкастингом\n",
        "result = a + b\n",
        "print(result)"
      ],
      "metadata": {
        "colab": {
          "base_uri": "https://localhost:8080/"
        },
        "id": "DuZSn76Adm2a",
        "outputId": "f2927cc5-594e-425f-af3a-8fac928e4f71"
      },
      "execution_count": null,
      "outputs": [
        {
          "output_type": "stream",
          "name": "stdout",
          "text": [
            "[11 12 13]\n"
          ]
        }
      ]
    },
    {
      "cell_type": "markdown",
      "source": [
        "В этом примере массив `b` содержит только один элемент. NumPy автоматически \"расширяет\" его до формы массива `a`, так что операция выполняется как будто бы `b` имел вид `[10, 10, 10]`. Эта операция и есть суть бродкастинга.\n",
        "\n",
        "### 2. Правила бродкастинга\n",
        "\n",
        "Чтобы NumPy мог успешно выполнить бродкастинг, массивы должны удовлетворять определённым условиям:\n",
        "\n",
        "1. Если два массива имеют разное число осей (размерностей), к массиву с меньшим числом осей добавляются дополнительные оси слева (слева дополняется единичными измерениями).\n",
        "2. Если размеры по одной из осей различны, то массив с размером 1 по этой оси «растягивается», чтобы соответствовать большему размеру.\n",
        "3. Если размеры не совпадают и не равны 1, операция невозможна, и NumPy вызовет ошибку.\n",
        "\n",
        "#### Примеры применения правил\n",
        "\n",
        "##### Пример 1: одинаковые размеры"
      ],
      "metadata": {
        "id": "MDgpM2ofdoD_"
      }
    },
    {
      "cell_type": "code",
      "source": [
        "A = np.array([[1, 2, 3], [4, 5, 6]])  # Размер (2, 3)\n",
        "B = np.array([[10, 20, 30], [40, 50, 60]])  # Размер (2, 3)\n",
        "\n",
        "# Операция возможна, так как размеры массивов совпадают\n",
        "C = A + B\n",
        "print(C)"
      ],
      "metadata": {
        "colab": {
          "base_uri": "https://localhost:8080/"
        },
        "id": "hJEG7__PdukI",
        "outputId": "7e020571-1037-483d-ad1a-5122d3bbe1ee"
      },
      "execution_count": null,
      "outputs": [
        {
          "output_type": "stream",
          "name": "stdout",
          "text": [
            "[[11 22 33]\n",
            " [44 55 66]]\n"
          ]
        }
      ]
    },
    {
      "cell_type": "markdown",
      "source": [
        "##### Пример 2: один из массивов с размером 1\n"
      ],
      "metadata": {
        "id": "XPXZom2NdxeI"
      }
    },
    {
      "cell_type": "code",
      "source": [
        "A = np.array([[1, 2, 3], [4, 5, 6]])  # Размер (2, 3)\n",
        "B = np.array([[10], [20]])  # Размер (2, 1)\n",
        "\n",
        "# Бродкастинг: массив B будет расширен до размера (2, 3)\n",
        "# B станет [[10, 10, 10], [20, 20, 20]]\n",
        "C = A + B\n",
        "print(C)"
      ],
      "metadata": {
        "colab": {
          "base_uri": "https://localhost:8080/"
        },
        "id": "RVTPHbfZdyMA",
        "outputId": "21812eff-0c7b-4944-8779-08c272975b6f"
      },
      "execution_count": null,
      "outputs": [
        {
          "output_type": "stream",
          "name": "stdout",
          "text": [
            "[[11 12 13]\n",
            " [24 25 26]]\n"
          ]
        }
      ]
    },
    {
      "cell_type": "markdown",
      "source": [
        "##### Пример 3: разные размерности"
      ],
      "metadata": {
        "id": "KnXm5Eb7d7N3"
      }
    },
    {
      "cell_type": "code",
      "source": [
        "A = np.array([1, 2, 3])  # Размер (3,)\n",
        "B = np.array([[10], [20], [30]])  # Размер (3, 1)\n",
        "\n",
        "# Бродкастинг расширяет A до (3, 3) и B до (3, 3):\n",
        "# A станет [[1, 2, 3], [1, 2, 3], [1, 2, 3]]\n",
        "# B станет [[10, 10, 10], [20, 20, 20], [30, 30, 30]]\n",
        "C = A + B\n",
        "print(C)"
      ],
      "metadata": {
        "colab": {
          "base_uri": "https://localhost:8080/"
        },
        "id": "ms6GtmL8d77i",
        "outputId": "ab210637-5977-4fbf-e4b0-79dcf7e03d24"
      },
      "execution_count": null,
      "outputs": [
        {
          "output_type": "stream",
          "name": "stdout",
          "text": [
            "[[11 12 13]\n",
            " [21 22 23]\n",
            " [31 32 33]]\n"
          ]
        }
      ]
    },
    {
      "cell_type": "markdown",
      "source": [
        "### 3. Почему бродкастинг полезен?\n",
        "\n",
        "Бродкастинг позволяет работать с данными без необходимости явного копирования данных или создания дополнительных массивов. Это делает код более компактным, понятным и оптимизированным по памяти.\n",
        "\n",
        "Рассмотрим два варианта выполнения одинаковой операции: с бродкастингом и без.\n",
        "\n",
        "#### Без бродкастинга (явное создание дополнительных массивов)"
      ],
      "metadata": {
        "id": "9hrYGdwWeACY"
      }
    },
    {
      "cell_type": "code",
      "source": [
        "A = np.array([1, 2, 3])\n",
        "B = np.array([10])\n",
        "\n",
        "# Без бродкастинга приходится расширять массив вручную\n",
        "B_expanded = np.array([10, 10, 10])\n",
        "C = A + B_expanded"
      ],
      "metadata": {
        "id": "-CEXVmmDeD2t"
      },
      "execution_count": null,
      "outputs": []
    },
    {
      "cell_type": "markdown",
      "source": [
        "В этом случае вам пришлось явно создать расширенную версию массива `B`, что требует дополнительной памяти и делает код менее элегантным.\n",
        "\n",
        "#### С бродкастингом"
      ],
      "metadata": {
        "id": "SkrN6pgPeIS3"
      }
    },
    {
      "cell_type": "code",
      "source": [
        "A = np.array([1, 2, 3])\n",
        "B = np.array([10])\n",
        "\n",
        "# С бродкастингом NumPy делает всё автоматически\n",
        "C = A + B"
      ],
      "metadata": {
        "id": "rEQETjKbeLTX"
      },
      "execution_count": null,
      "outputs": []
    },
    {
      "cell_type": "markdown",
      "source": [
        "С бродкастингом не нужно создавать промежуточные массивы, а операция выполняется быстрее и потребляет меньше памяти.\n",
        "\n",
        "### 4. Как избежать ошибок при бродкастинге?\n",
        "\n",
        "Хотя бродкастинг упрощает работу с массивами, нужно быть внимательным к размерностям массивов. Если размеры не удовлетворяют правилам бродкастинга, то NumPy выдаст ошибку.\n",
        "\n",
        "#### Пример ошибки бродкастинга"
      ],
      "metadata": {
        "id": "Ksdve18DeNc5"
      }
    },
    {
      "cell_type": "code",
      "source": [
        "A = np.array([[1, 2], [3, 4]])  # Размер (2, 2)\n",
        "B = np.array([10, 20, 30])  # Размер (3,)\n",
        "\n",
        "# Здесь операция вызовет ошибку, так как размеры несовместимы\n",
        "C = A + B  # ValueError: operands could not be broadcast together with shapes (2,2) (3,)"
      ],
      "metadata": {
        "colab": {
          "base_uri": "https://localhost:8080/",
          "height": 176
        },
        "id": "2gVIUjhMeQ3x",
        "outputId": "6f275981-56bb-4190-a7b9-671f3fb3764e"
      },
      "execution_count": null,
      "outputs": [
        {
          "output_type": "error",
          "ename": "ValueError",
          "evalue": "operands could not be broadcast together with shapes (2,2) (3,) ",
          "traceback": [
            "\u001b[0;31m---------------------------------------------------------------------------\u001b[0m",
            "\u001b[0;31mValueError\u001b[0m                                Traceback (most recent call last)",
            "\u001b[0;32m<ipython-input-77-cc3f63fef16a>\u001b[0m in \u001b[0;36m<cell line: 5>\u001b[0;34m()\u001b[0m\n\u001b[1;32m      3\u001b[0m \u001b[0;34m\u001b[0m\u001b[0m\n\u001b[1;32m      4\u001b[0m \u001b[0;31m# Здесь операция вызовет ошибку, так как размеры несовместимы\u001b[0m\u001b[0;34m\u001b[0m\u001b[0;34m\u001b[0m\u001b[0m\n\u001b[0;32m----> 5\u001b[0;31m \u001b[0mC\u001b[0m \u001b[0;34m=\u001b[0m \u001b[0mA\u001b[0m \u001b[0;34m+\u001b[0m \u001b[0mB\u001b[0m  \u001b[0;31m# ValueError: operands could not be broadcast together with shapes (2,2) (3,)\u001b[0m\u001b[0;34m\u001b[0m\u001b[0;34m\u001b[0m\u001b[0m\n\u001b[0m",
            "\u001b[0;31mValueError\u001b[0m: operands could not be broadcast together with shapes (2,2) (3,) "
          ]
        }
      ]
    },
    {
      "cell_type": "markdown",
      "source": [
        "Для предотвращения ошибок нужно следовать правилам бродкастинга, описанным выше.\n",
        "\n",
        "### 5. Применение бродкастинга\n",
        "\n",
        "#### Скалярное умножение\n",
        "\n",
        "Часто используемый пример бродкастинга — умножение массива на скаляр. Скаляр автоматически расширяется до размеров всего массива."
      ],
      "metadata": {
        "id": "uMyL5EpAeWMB"
      }
    },
    {
      "cell_type": "code",
      "source": [
        "A = np.array([1, 2, 3])\n",
        "B = 10\n",
        "\n",
        "# Бродкастинг скаляра\n",
        "C = A * B\n",
        "print(C)"
      ],
      "metadata": {
        "colab": {
          "base_uri": "https://localhost:8080/"
        },
        "id": "gUFrdvqGedZ4",
        "outputId": "e948a3d1-35d4-4706-f4cf-3b62d4c3ee9f"
      },
      "execution_count": null,
      "outputs": [
        {
          "output_type": "stream",
          "name": "stdout",
          "text": [
            "[10 20 30]\n"
          ]
        }
      ]
    },
    {
      "cell_type": "markdown",
      "source": [
        "\n",
        "#### Применение по строкам или столбцам\n",
        "\n",
        "Часто нужно выполнять операции с массивом вдоль одной из осей. Например, если у вас есть матрица данных, и вы хотите вычесть из каждой строки вектор средних значений."
      ],
      "metadata": {
        "id": "cEOyVLwTeSgH"
      }
    },
    {
      "cell_type": "code",
      "source": [
        "data = np.array([[1, 2, 3], [4, 5, 6], [7, 8, 9]])  # Размер (3, 3)\n",
        "mean = np.array([4, 5, 6])  # Средние значения по столбцам (размер (3,))\n",
        "\n",
        "# Вычитание средних значений из каждой строки\n",
        "result = data - mean\n",
        "print(result)"
      ],
      "metadata": {
        "colab": {
          "base_uri": "https://localhost:8080/"
        },
        "id": "m14MLpPTekK5",
        "outputId": "091ce9c9-b988-4911-803c-119f8755a8b2"
      },
      "execution_count": null,
      "outputs": [
        {
          "output_type": "stream",
          "name": "stdout",
          "text": [
            "[[-3 -3 -3]\n",
            " [ 0  0  0]\n",
            " [ 3  3  3]]\n"
          ]
        }
      ]
    },
    {
      "cell_type": "markdown",
      "source": [
        "### 6. Продвинутые примеры бродкастинга\n",
        "\n",
        "#### Добавление нового измерения\n",
        "\n",
        "Иногда нужно явно добавить ось в массив для выполнения бродкастинга. Это можно сделать с помощью метода `np.newaxis`."
      ],
      "metadata": {
        "id": "oU17lfrwejqg"
      }
    },
    {
      "cell_type": "code",
      "source": [
        "A = np.array([1, 2, 3])  # Размер (3,)\n",
        "B = np.array([10, 20, 30])  # Размер (3,)\n",
        "\n",
        "# Добавим новое измерение\n",
        "A_reshaped = A[:, np.newaxis]  # Размер станет (3, 1)\n",
        "\n",
        "# Теперь возможен бродкастинг\n",
        "C = A_reshaped + B  # Размер (3, 3)\n",
        "print(C)"
      ],
      "metadata": {
        "colab": {
          "base_uri": "https://localhost:8080/"
        },
        "id": "or-1X_bOeqq4",
        "outputId": "c1d7006c-5758-4d18-e8a5-4bf9241cc6d4"
      },
      "execution_count": null,
      "outputs": [
        {
          "output_type": "stream",
          "name": "stdout",
          "text": [
            "[[11 21 31]\n",
            " [12 22 32]\n",
            " [13 23 33]]\n"
          ]
        }
      ]
    },
    {
      "cell_type": "markdown",
      "source": [
        "#### Бродкастинг и математические функции\n",
        "\n",
        "Бродкастинг\n",
        "\n",
        " работает с большинством функций из библиотеки `NumPy`, таких как `sin`, `cos`, `exp` и другие."
      ],
      "metadata": {
        "id": "vHHQXiX7fB2x"
      }
    },
    {
      "cell_type": "code",
      "source": [
        "x = np.linspace(0, np.pi, 3)  # Массив [0, pi/2, pi]\n",
        "y = np.array([[1], [2], [3]])  # Размер (3, 1)\n",
        "\n",
        "# Бродкастинг и применение синуса\n",
        "result = np.sin(x) * y\n",
        "print(result)"
      ],
      "metadata": {
        "colab": {
          "base_uri": "https://localhost:8080/"
        },
        "id": "vE0lcMHefFhK",
        "outputId": "77b2f671-fe1a-4038-e525-61f688ff5dcc"
      },
      "execution_count": null,
      "outputs": [
        {
          "output_type": "stream",
          "name": "stdout",
          "text": [
            "[[0.0000000e+00 1.0000000e+00 1.2246468e-16]\n",
            " [0.0000000e+00 2.0000000e+00 2.4492936e-16]\n",
            " [0.0000000e+00 3.0000000e+00 3.6739404e-16]]\n"
          ]
        }
      ]
    },
    {
      "cell_type": "markdown",
      "source": [
        "# Фильтрация массивов в Numpy\n",
        "\n",
        "Фильтрация в Numpy осуществляется с помощью булевых массивов. Булевый массив — это массив, содержащий значения `True` или `False`, которые определяют, удовлетворяет ли каждый элемент исходного массива заданному условию.\n",
        "\n",
        "### Булевый массив\n",
        "\n",
        "Создание булевого массива начинается с определения условия, которое будет применяться ко всем элементам массива. Например, если у нас есть массив, содержащий числа, мы можем создать булевый массив, который будет указывать, какие из этих чисел больше заданного значения. Рассмотрим это на примере:"
      ],
      "metadata": {
        "id": "KFteq-ScfKjK"
      }
    },
    {
      "cell_type": "code",
      "source": [
        "import numpy as np\n",
        "\n",
        "A = np.array([1, 2, 3, 4, 5])  # Исходный массив\n",
        "B = A > 3  # Создаем булевый массив, который указывает, какие элементы больше 3\n",
        "print(B)"
      ],
      "metadata": {
        "colab": {
          "base_uri": "https://localhost:8080/"
        },
        "id": "yYM-jadifOJx",
        "outputId": "f62f27a1-3860-4af0-d4cf-45d9ee6cd4df"
      },
      "execution_count": null,
      "outputs": [
        {
          "output_type": "stream",
          "name": "stdout",
          "text": [
            "[False False False  True  True]\n"
          ]
        }
      ]
    },
    {
      "cell_type": "markdown",
      "source": [
        "В этом примере массив `B` содержит `True` для тех элементов массива `A`, которые больше 3, и `False` для остальных. Это позволяет нам легко фильтровать массив в дальнейшем.\n",
        "\n",
        "## Фильтрация массивов\n",
        "\n",
        "Фильтрация массива происходит с использованием булевого массива как индекса. Это позволяет извлекать только те элементы, которые удовлетворяют заданному условию.\n",
        "\n",
        "### Пример фильтрации\n",
        "\n",
        "Рассмотрим, как мы можем использовать булевый массив, чтобы извлечь элементы, которые больше 3 из массива `A`:"
      ],
      "metadata": {
        "id": "lYbjj5yIfRSg"
      }
    },
    {
      "cell_type": "code",
      "source": [
        "filtered_A = A[B]  # Используем булевый массив для фильтрации\n",
        "print(filtered_A)"
      ],
      "metadata": {
        "colab": {
          "base_uri": "https://localhost:8080/"
        },
        "id": "y5RoKHSVfU1I",
        "outputId": "7700fc3e-7a09-4533-8e52-084d5e34236b"
      },
      "execution_count": null,
      "outputs": [
        {
          "output_type": "stream",
          "name": "stdout",
          "text": [
            "[4 5]\n"
          ]
        }
      ]
    },
    {
      "cell_type": "markdown",
      "source": [
        "В данном случае `filtered_A` содержит только те элементы из `A`, для которых в `B` стояло `True`.\n",
        "\n",
        "## Условия фильтрации\n",
        "\n",
        "Теперь давайте рассмотрим, как мы можем использовать различные условия для фильтрации массивов. Мы можем фильтровать массивы по четности, диапазону значений и другим критериям.\n",
        "\n",
        "### Фильтрация по четности\n",
        "\n",
        "Предположим, что мы хотим извлечь все четные числа из массива. Мы можем создать булевый массив, проверяющий, делится ли каждый элемент на 2:\n"
      ],
      "metadata": {
        "id": "BFXa0IykfXiD"
      }
    },
    {
      "cell_type": "code",
      "source": [
        "A = np.array([1, 2, 3, 4, 5, 6])  # Исходный массив\n",
        "even_mask = A % 2 == 0  # Создаем булевый массив для четных чисел\n",
        "filtered_even = A[even_mask]  # Фильтруем массив\n",
        "print(filtered_even)"
      ],
      "metadata": {
        "colab": {
          "base_uri": "https://localhost:8080/"
        },
        "id": "MvTEyGTDfdMx",
        "outputId": "b2989912-8a04-41bd-eac7-5674ad55c293"
      },
      "execution_count": null,
      "outputs": [
        {
          "output_type": "stream",
          "name": "stdout",
          "text": [
            "[2 4 6]\n"
          ]
        }
      ]
    },
    {
      "cell_type": "markdown",
      "source": [
        "Здесь `even_mask` содержит `True` для всех четных чисел, что позволяет нам легко извлечь их из массива `A`.\n",
        "\n",
        "### Фильтрация по диапазону\n",
        "\n",
        "Теперь давайте рассмотрим фильтрацию по диапазону значений. Предположим, что мы хотим получить все элементы массива, которые находятся в диапазоне от 20 до 40:\n"
      ],
      "metadata": {
        "id": "vBwGEUBkfefZ"
      }
    },
    {
      "cell_type": "code",
      "source": [
        "A = np.array([10, 20, 30, 40, 50])  # Исходный массив\n",
        "range_mask = (A >= 20) & (A <= 40)  # Создаем булевый массив для диапазона\n",
        "filtered_range = A[range_mask]  # Фильтруем массив\n",
        "print(filtered_range)"
      ],
      "metadata": {
        "colab": {
          "base_uri": "https://localhost:8080/"
        },
        "id": "QpIBNP6gfhBx",
        "outputId": "9eb6ad0b-729e-4a53-e3b2-975179477a07"
      },
      "execution_count": null,
      "outputs": [
        {
          "output_type": "stream",
          "name": "stdout",
          "text": [
            "[20 30 40]\n"
          ]
        }
      ]
    },
    {
      "cell_type": "markdown",
      "source": [
        "Здесь мы используем логическое \"И\" (`&`), чтобы объединить два условия: больше или равно 20 и меньше или равно 40.\n",
        "\n",
        "### Многоуровневая фильтрация\n",
        "\n",
        "Мы можем комбинировать условия для более сложной фильтрации. Например, давайте извлечем все четные числа, которые больше 5:\n"
      ],
      "metadata": {
        "id": "pQ0_DcaofliK"
      }
    },
    {
      "cell_type": "code",
      "source": [
        "A = np.array([1, 2, 3, 4, 5, 6, 7, 8, 9, 10])  # Исходный массив\n",
        "complex_mask = (A % 2 == 0) & (A > 5)  # Создаем сложный булевый массив\n",
        "filtered_complex = A[complex_mask]  # Фильтруем массив\n",
        "print(filtered_complex)"
      ],
      "metadata": {
        "colab": {
          "base_uri": "https://localhost:8080/"
        },
        "id": "X-b1hRtUfmR5",
        "outputId": "8db27790-41cf-40ec-e44a-a7ea5cf19b16"
      },
      "execution_count": null,
      "outputs": [
        {
          "output_type": "stream",
          "name": "stdout",
          "text": [
            "[ 6  8 10]\n"
          ]
        }
      ]
    },
    {
      "cell_type": "markdown",
      "source": [
        "В данном примере мы сначала проверяем, является ли число четным, а затем — больше ли оно 5, объединяя оба условия.\n",
        "\n",
        "### Фильтрация с использованием функций\n",
        "\n",
        "Иногда бывает полезно использовать функции для определения условий. Например, мы можем отфильтровать числа на основе того, являются ли они квадратами целых чисел:"
      ],
      "metadata": {
        "id": "2KL4TKeefvNe"
      }
    },
    {
      "cell_type": "code",
      "source": [
        "def is_square(n):\n",
        "    return (n ** 0.5).is_integer()  # Проверяем, является ли число квадратом\n",
        "\n",
        "A = np.array([1, 2, 3, 4, 5, 6, 7, 8, 9, 10])  # Исходный массив\n",
        "square_mask = np.vectorize(is_square)(A)  # Применяем функцию ко всем элементам\n",
        "filtered_squares = A[square_mask]  # Фильтруем массив\n",
        "print(filtered_squares)"
      ],
      "metadata": {
        "colab": {
          "base_uri": "https://localhost:8080/"
        },
        "id": "kOIXKlFOfxc5",
        "outputId": "39cc7eaa-08fb-4ff5-caf1-9af02fd0f553"
      },
      "execution_count": null,
      "outputs": [
        {
          "output_type": "stream",
          "name": "stdout",
          "text": [
            "[1 4 9]\n"
          ]
        }
      ]
    },
    {
      "cell_type": "markdown",
      "source": [
        "Здесь мы используем `np.vectorize`, чтобы применить функцию `is_square` ко всем элементам массива `A`.\n",
        "\n",
        "## Использование функций `numpy.where`, `numpy.extract` и `numpy.nonzero`\n",
        "\n",
        "Теперь давайте рассмотрим несколько дополнительных функций, которые помогают в фильтрации массивов.\n",
        "\n",
        "### Функция `numpy.where`\n",
        "\n",
        "`numpy.where` позволяет находить индексы элементов, удовлетворяющих определенному условию. Она также может использоваться для замены значений в массиве.\n",
        "\n",
        "#### Пример нахождения индексов\n",
        "\n",
        "Рассмотрим пример, в котором мы хотим найти индексы элементов массива, которые больше 30:"
      ],
      "metadata": {
        "id": "HBE_diHZf2Wo"
      }
    },
    {
      "cell_type": "code",
      "source": [
        "A = np.array([10, 20, 30, 40, 50])  # Исходный массив\n",
        "indices = np.where(A > 30)  # Находим индексы элементов больше 30\n",
        "print(indices)"
      ],
      "metadata": {
        "colab": {
          "base_uri": "https://localhost:8080/"
        },
        "id": "eDmxStBwf8IA",
        "outputId": "f64777c9-9145-4bb6-dd6a-10867ad801ae"
      },
      "execution_count": null,
      "outputs": [
        {
          "output_type": "stream",
          "name": "stdout",
          "text": [
            "(array([3, 4]),)\n"
          ]
        }
      ]
    },
    {
      "cell_type": "markdown",
      "source": [
        "Здесь `np.where` возвращает индексы элементов, которые соответствуют условию.\n",
        "\n",
        "#### Замена значений\n",
        "\n",
        "Функцию `np.where` также можно использовать для замены значений. Например, заменим все числа меньше 30 на 0:"
      ],
      "metadata": {
        "id": "sd_kb_3-f_hg"
      }
    },
    {
      "cell_type": "code",
      "source": [
        "B = np.where(A < 30, 0, A)  # Заменяем числа меньше 30 на 0\n",
        "print(B)"
      ],
      "metadata": {
        "colab": {
          "base_uri": "https://localhost:8080/"
        },
        "id": "TesFiHbKgBvM",
        "outputId": "a450b334-7a77-466a-91e8-cc68455bf57e"
      },
      "execution_count": null,
      "outputs": [
        {
          "output_type": "stream",
          "name": "stdout",
          "text": [
            "[ 0  0 30 40 50]\n"
          ]
        }
      ]
    },
    {
      "cell_type": "markdown",
      "source": [
        "В этом случае `np.where` возвращает массив, в котором элементы меньше 30 заменены на 0, а остальные остаются без изменений.\n",
        "\n",
        "### Функция `numpy.extract`\n",
        "\n",
        "`numpy.extract` позволяет извлекать элементы массива на основе булевого условия.\n",
        "\n",
        "#### Пример использования\n",
        "\n",
        "Давайте создадим массив и извлечем из него элементы, которые больше 3:"
      ],
      "metadata": {
        "id": "Jv2dYb-XgFGp"
      }
    },
    {
      "cell_type": "code",
      "source": [
        "A = np.array([1, 2, 3, 4, 5])  # Исходный массив\n",
        "condition = A > 3  # Создаем булевый массив\n",
        "filtered = np.extract(condition, A)  # Извлекаем элементы\n",
        "print(filtered)"
      ],
      "metadata": {
        "colab": {
          "base_uri": "https://localhost:8080/"
        },
        "id": "Oo8eGU3wgG-4",
        "outputId": "ab550b3e-f667-4f36-c0a8-032163a2fb5d"
      },
      "execution_count": null,
      "outputs": [
        {
          "output_type": "stream",
          "name": "stdout",
          "text": [
            "[4 5]\n"
          ]
        }
      ]
    },
    {
      "cell_type": "markdown",
      "source": [
        "Здесь `np.extract` позволяет получить только те элементы массива, которые удовлетворяют условию.\n",
        "\n",
        "### Функция `numpy.nonzero`\n",
        "\n",
        "`numpy.nonzero` возвращает индексы ненулевых элементов массива. Это полезно, если вам нужно получить индексы элементов, удовлетворяющих определенному условию.\n",
        "\n",
        "#### Пример использования"
      ],
      "metadata": {
        "id": "f-bzSPaEgKAt"
      }
    },
    {
      "cell_type": "code",
      "source": [
        "A = np.array([0, 1, 0, 3, 0, 5])  # Исходный массив\n",
        "indices = np.nonzero(A)  # Находим индексы ненулевых элементов\n",
        "print(indices)"
      ],
      "metadata": {
        "colab": {
          "base_uri": "https://localhost:8080/"
        },
        "id": "KKle0JU2gMPI",
        "outputId": "ef5257f3-a5e2-4fca-8ae1-5e309bb54474"
      },
      "execution_count": null,
      "outputs": [
        {
          "output_type": "stream",
          "name": "stdout",
          "text": [
            "(array([1, 3, 5]),)\n"
          ]
        }
      ]
    },
    {
      "cell_type": "markdown",
      "source": [
        "Здесь `np.nonzero` возвращает индексы элементов массива, которые не равны нулю.\n",
        "\n",
        "\n",
        "## Функция `numpy.unique`\n",
        "\n",
        "Функция `numpy.unique` используется для получения уникальных значений из массива. Она возвращает массив уникальных значений и может также возвращать индексы и счетчики этих значений. Это особенно полезно, если вы хотите узнать, какие уникальные элементы присутствуют в данных, а также их количество.\n",
        "\n",
        "### Синтаксис\n",
        "```python\n",
        "numpy.unique(arr, return_index=False, return_inverse=False, return_counts=False)\n",
        "```\n",
        "\n",
        "- `arr`: входной массив.\n",
        "- `return_index`: если `True`, возвращает индексы первого вхождения уникальных значений.\n",
        "- `return_inverse`: если `True`, возвращает индексы для восстановления исходного массива из уникальных значений.\n",
        "- `return_counts`: если `True`, возвращает количество вхождений каждого уникального значения.\n",
        "\n",
        "### Пример использования\n",
        "\n",
        "Рассмотрим, как использовать `numpy.unique` для извлечения уникальных элементов из массива:\n",
        "\n"
      ],
      "metadata": {
        "id": "OcdyBmMqgPqQ"
      }
    },
    {
      "cell_type": "code",
      "source": [
        "import numpy as np\n",
        "\n",
        "A = np.array([1, 2, 2, 3, 4, 4, 4, 5])  # Исходный массив\n",
        "unique_values = np.unique(A)  # Находим уникальные значения\n",
        "print(unique_values)"
      ],
      "metadata": {
        "colab": {
          "base_uri": "https://localhost:8080/"
        },
        "id": "wF5J2gEighTA",
        "outputId": "eb76f15a-4418-478d-bdd7-d19acb63a5c6"
      },
      "execution_count": null,
      "outputs": [
        {
          "output_type": "stream",
          "name": "stdout",
          "text": [
            "[1 2 3 4 5]\n"
          ]
        }
      ]
    },
    {
      "cell_type": "markdown",
      "source": [
        "В этом примере функция `np.unique` возвращает массив, содержащий только уникальные элементы из `A`.\n",
        "\n",
        "### Получение индексов уникальных значений\n",
        "\n",
        "Если вам нужно знать индексы, по которым появляются уникальные значения, вы можете использовать параметр `return_index`:"
      ],
      "metadata": {
        "id": "Gy7VkVmagkRs"
      }
    },
    {
      "cell_type": "code",
      "source": [
        "unique_values, indices = np.unique(A, return_index=True)\n",
        "print(unique_values)\n",
        "print(indices)"
      ],
      "metadata": {
        "colab": {
          "base_uri": "https://localhost:8080/"
        },
        "id": "-nKFMkM3gl_1",
        "outputId": "454ff2be-ccb9-4d54-f340-74e8ce6d3dc4"
      },
      "execution_count": null,
      "outputs": [
        {
          "output_type": "stream",
          "name": "stdout",
          "text": [
            "[1 2 3 4 5]\n",
            "[0 1 3 4 7]\n"
          ]
        }
      ]
    },
    {
      "cell_type": "markdown",
      "source": [
        "Здесь `indices` содержит индексы первого вхождения каждого уникального элемента в исходном массиве.\n",
        "\n",
        "### Подсчет вхождений уникальных значений\n",
        "\n",
        "Если вас интересует, сколько раз каждое уникальное значение встречается в массиве, используйте параметр `return_counts`:"
      ],
      "metadata": {
        "id": "yz3YPeE1gqqR"
      }
    },
    {
      "cell_type": "code",
      "source": [
        "unique_values, counts = np.unique(A, return_counts=True)\n",
        "print(unique_values)\n",
        "print(counts)"
      ],
      "metadata": {
        "colab": {
          "base_uri": "https://localhost:8080/"
        },
        "id": "RpMdPBfHgsuh",
        "outputId": "a12ef60f-ce74-47ab-e1e1-21437dc4854f"
      },
      "execution_count": null,
      "outputs": [
        {
          "output_type": "stream",
          "name": "stdout",
          "text": [
            "[1 2 3 4 5]\n",
            "[1 2 1 3 1]\n"
          ]
        }
      ]
    },
    {
      "cell_type": "markdown",
      "source": [
        "Здесь `counts` показывает, сколько раз каждое уникальное значение появляется в массиве `A`.\n",
        "\n",
        "### Применение в фильтрации\n",
        "\n",
        "Функцию `np.unique` также можно использовать для фильтрации. Например, если вы хотите получить только уникальные четные числа из массива:"
      ],
      "metadata": {
        "id": "7Jzog87xgxLL"
      }
    },
    {
      "cell_type": "code",
      "source": [
        "A = np.array([1, 2, 2, 4, 4, 6, 7, 8])  # Исходный массив\n",
        "even_numbers = A[A % 2 == 0]  # Извлекаем четные числа\n",
        "unique_even_numbers = np.unique(even_numbers)  # Находим уникальные четные числа\n",
        "print(unique_even_numbers)"
      ],
      "metadata": {
        "colab": {
          "base_uri": "https://localhost:8080/"
        },
        "id": "dDVL0XXjgzKP",
        "outputId": "aab78e15-a339-4343-b5d9-783bc0311752"
      },
      "execution_count": null,
      "outputs": [
        {
          "output_type": "stream",
          "name": "stdout",
          "text": [
            "[2 4 6 8]\n"
          ]
        }
      ]
    },
    {
      "cell_type": "markdown",
      "source": [
        "## Линейная алгебра\n",
        "\n",
        "Модуль `numpy.linalg` в библиотеке `NumPy` предоставляет мощные инструменты для выполнения операций линейной алгебры. Он позволяет выполнять такие задачи, как умножение матриц, вычисление обратных матриц, нахождение собственных значений и векторов, определителей, а также решение систем линейных уравнений. Линейная алгебра является фундаментальной областью математики, на которой базируются многие области вычислительных наук, включая машинное обучение, обработку сигналов и компьютерную графику.\n",
        "\n",
        "### Пример: Умножение матриц\n",
        "\n",
        "Умножение матриц — это основная операция линейной алгебры. Если $A$ — это матрица размером $m \\times n$, а $B$ — матрица размером $n \\times p$, то результатом их умножения $C = A \\times B$ будет матрица размером $m \\times p$, где каждый элемент $C_{ij}$ рассчитывается как:\n",
        "\n",
        "$$\n",
        "C_{ij} = \\sum_{k=1}^{n} A_{ik} B_{kj}\n",
        "$$\n",
        "\n",
        "Рассмотрим пример умножения двух матриц с помощью NumPy:\n"
      ],
      "metadata": {
        "id": "ICWFDywig4jx"
      }
    },
    {
      "cell_type": "code",
      "source": [
        "import numpy as np\n",
        "\n",
        "# Создание двух матриц\n",
        "matrix_a = np.array([[1, 2], [3, 4]])\n",
        "matrix_b = np.array([[5, 6], [7, 8]])\n",
        "\n",
        "# Умножение матриц\n",
        "product = np.dot(matrix_a, matrix_b)\n",
        "print(product)"
      ],
      "metadata": {
        "colab": {
          "base_uri": "https://localhost:8080/"
        },
        "id": "J9BriQ2mg7Np",
        "outputId": "defa0668-25c5-4ce6-9cc0-4db40e7ae373"
      },
      "execution_count": null,
      "outputs": [
        {
          "output_type": "stream",
          "name": "stdout",
          "text": [
            "[[19 22]\n",
            " [43 50]]\n"
          ]
        }
      ]
    },
    {
      "cell_type": "markdown",
      "source": [
        "### Обратная матрица\n",
        "\n",
        "Обратная матрица $A^{-1}$ существует только для квадратных матриц с ненулевым определителем. Если матрица $A$ обратима, то выполняется следующее свойство:\n",
        "\n",
        "$$\n",
        "A \\times A^{-1} = A^{-1} \\times A = I\n",
        "$$\n",
        "\n",
        "где $I$ — единичная матрица. Для нахождения обратной матрицы используется функция `numpy.linalg.inv()`."
      ],
      "metadata": {
        "id": "Z-xL7MGZg-VR"
      }
    },
    {
      "cell_type": "code",
      "source": [
        "# Находить обратную матрицу\n",
        "inverse_matrix = np.linalg.inv(matrix_a)\n",
        "print(inverse_matrix)"
      ],
      "metadata": {
        "colab": {
          "base_uri": "https://localhost:8080/"
        },
        "id": "emhNndnlhAVB",
        "outputId": "04c538fa-9fca-4969-82ae-b78704af1c09"
      },
      "execution_count": null,
      "outputs": [
        {
          "output_type": "stream",
          "name": "stdout",
          "text": [
            "[[-2.   1. ]\n",
            " [ 1.5 -0.5]]\n"
          ]
        }
      ]
    },
    {
      "cell_type": "markdown",
      "source": [
        "### Определитель матрицы\n",
        "\n",
        "Определитель квадратной матрицы $A$ является числом, которое даёт информацию о свойствах матрицы, таких как возможность существования обратной матрицы. Для матрицы $A$ размером $n \\times n$ определитель обозначается как $\\text{det}(A)$ и вычисляется по рекурсивной формуле для больших матриц. Если определитель $\\text{det}(A) = 0$, то матрица вырождена и не имеет обратной.\n",
        "\n",
        "Пример вычисления определителя:\n",
        "\n",
        "$$\n",
        "\\text{det}(A) = ad - bc\n",
        "$$\n",
        "\n",
        "для матрицы $A = \\begin{pmatrix} a & b \\\\ c & d \\end{pmatrix}$."
      ],
      "metadata": {
        "id": "fVgyGw6HhDtR"
      }
    },
    {
      "cell_type": "code",
      "source": [
        "# Вычисление определителя матрицы\n",
        "det_matrix = np.linalg.det(matrix_a)\n",
        "print(det_matrix)"
      ],
      "metadata": {
        "colab": {
          "base_uri": "https://localhost:8080/"
        },
        "id": "kY2qvsuahGMh",
        "outputId": "b2b6a745-e80e-474d-ec11-e8bce90af7a7"
      },
      "execution_count": null,
      "outputs": [
        {
          "output_type": "stream",
          "name": "stdout",
          "text": [
            "-2.0000000000000004\n"
          ]
        }
      ]
    },
    {
      "cell_type": "markdown",
      "source": [
        "\n",
        "### Собственные значения и собственные векторы\n",
        "\n",
        "Собственные значения и собственные векторы играют важную роль в диагонализации матриц и во многих задачах, таких как PCA (Principal Component Analysis). Для квадратной матрицы $A$, собственное значение $\\lambda$ и собственный вектор $v$ удовлетворяют уравнению:\n",
        "\n",
        "$$\n",
        "A v = \\lambda v\n",
        "$$\n",
        "\n",
        "Функция `numpy.linalg.eig()` позволяет вычислить собственные значения и собственные векторы:"
      ],
      "metadata": {
        "id": "UM-EfsgwhI5r"
      }
    },
    {
      "cell_type": "code",
      "source": [
        "# Нахождение собственных значений и векторов\n",
        "eigenvalues, eigenvectors = np.linalg.eig(matrix_a)\n",
        "print(\"Собственные значения:\", eigenvalues)\n",
        "print(\"Собственные векторы:\\n\", eigenvectors)"
      ],
      "metadata": {
        "colab": {
          "base_uri": "https://localhost:8080/"
        },
        "id": "o6Mi_SgphLyY",
        "outputId": "b59a28fb-f4d1-465d-ed31-beddbc1a953c"
      },
      "execution_count": null,
      "outputs": [
        {
          "output_type": "stream",
          "name": "stdout",
          "text": [
            "Собственные значения: [-0.37228132  5.37228132]\n",
            "Собственные векторы:\n",
            " [[-0.82456484 -0.41597356]\n",
            " [ 0.56576746 -0.90937671]]\n"
          ]
        }
      ]
    },
    {
      "cell_type": "markdown",
      "source": [
        "### Решение систем линейных уравнений\n",
        "\n",
        "Системы линейных уравнений вида $Ax = b$, где $A$ — матрица коэффициентов, а $b$ — вектор значений, могут быть решены с помощью метода Гаусса или через нахождение обратной матрицы. В NumPy есть функция `numpy.linalg.solve()`, которая решает такие системы без необходимости вычисления обратной матрицы напрямую:\n"
      ],
      "metadata": {
        "id": "sz2h4y9WhQYA"
      }
    },
    {
      "cell_type": "code",
      "source": [
        "# Решение системы уравнений Ax = b\n",
        "A = np.array([[3, 1], [1, 2]])\n",
        "b = np.array([9, 8])\n",
        "\n",
        "x = np.linalg.solve(A, b)\n",
        "print(x)"
      ],
      "metadata": {
        "colab": {
          "base_uri": "https://localhost:8080/"
        },
        "id": "jiZPvn2UhSS-",
        "outputId": "0317ba6f-5a62-457a-c4e7-72d24c2130ed"
      },
      "execution_count": null,
      "outputs": [
        {
          "output_type": "stream",
          "name": "stdout",
          "text": [
            "[2. 3.]\n"
          ]
        }
      ]
    },
    {
      "cell_type": "markdown",
      "source": [
        "### Транспонирование матриц\n",
        "\n",
        "Транспонирование матрицы $A$, обозначаемое как $A^T$, заключается в замене строк матрицы на её столбцы. Для матрицы $A$ транспонированная матрица $A^T$ будет иметь элементы $A_{ij}$ в позиции $A_{ji}$. В NumPy для транспонирования используется атрибут `.T`."
      ],
      "metadata": {
        "id": "8Vdoska7hVtR"
      }
    },
    {
      "cell_type": "markdown",
      "source": [
        "### Норма матрицы или вектора\n",
        "\n",
        "Норма матрицы или вектора — это мера \"длины\" или \"размера\". Для векторов наиболее часто используется евклидова норма:\n",
        "\n",
        "$$\n",
        "||v|| = \\sqrt{v_1^2 + v_2^2 + \\dots + v_n^2}\n",
        "$$\n",
        "\n",
        "Для матриц можно использовать различные нормы, такие как фробениусова норма:\n",
        "\n",
        "$$\n",
        "||A||_F = \\sqrt{\\sum_{i,j} A_{ij}^2}\n",
        "$$\n",
        "\n",
        "Пример вычисления нормы вектора с помощью `numpy.linalg.norm()`:"
      ],
      "metadata": {
        "id": "OePERofJhaeK"
      }
    },
    {
      "cell_type": "code",
      "source": [
        "# Вычисление нормы вектора\n",
        "vector = np.array([1, 2, 3])\n",
        "norm = np.linalg.norm(vector)\n",
        "print(norm)"
      ],
      "metadata": {
        "colab": {
          "base_uri": "https://localhost:8080/"
        },
        "id": "oR3sS0H5haCb",
        "outputId": "8326d2e1-5408-458c-d327-08c4bfcf2991"
      },
      "execution_count": null,
      "outputs": [
        {
          "output_type": "stream",
          "name": "stdout",
          "text": [
            "3.7416573867739413\n"
          ]
        }
      ]
    },
    {
      "cell_type": "markdown",
      "source": [
        "### Сингулярное разложение (SVD)\n",
        "\n",
        "Сингулярное разложение (SVD) — это факторизация матрицы в произведение трёх матриц:\n",
        "\n",
        "$$\n",
        "A = U \\Sigma V^T\n",
        "$$\n",
        "\n",
        "где $U$ и $V$ — ортогональные матрицы, а $\\Sigma$ — диагональная матрица с сингулярными числами. SVD используется в задачах, таких как уменьшение размерности и сжатие данных."
      ],
      "metadata": {
        "id": "XmfOsLhHhgXT"
      }
    },
    {
      "cell_type": "code",
      "source": [
        "# Сингулярное разложение матрицы\n",
        "U, S, Vt = np.linalg.svd(matrix_a)\n",
        "print(\"U:\\n\", U)\n",
        "print(\"S:\", S)\n",
        "print(\"V^T:\\n\", Vt)"
      ],
      "metadata": {
        "colab": {
          "base_uri": "https://localhost:8080/"
        },
        "id": "IZtmeOUchiNX",
        "outputId": "19839c5e-1d9c-41d8-e864-9b322ce4eafb"
      },
      "execution_count": null,
      "outputs": [
        {
          "output_type": "stream",
          "name": "stdout",
          "text": [
            "U:\n",
            " [[-0.40455358 -0.9145143 ]\n",
            " [-0.9145143   0.40455358]]\n",
            "S: [5.4649857  0.36596619]\n",
            "V^T:\n",
            " [[-0.57604844 -0.81741556]\n",
            " [ 0.81741556 -0.57604844]]\n"
          ]
        }
      ]
    },
    {
      "cell_type": "markdown",
      "source": [
        "\n",
        "### Нахождение ранга матрицы\n",
        "\n",
        "Ранг матрицы — это максимальное число линейно независимых строк или столбцов матрицы. Ранг показывает, насколько \"сильно\" или \"полно\" матрица содержит информацию. Если ранг матрицы меньше её максимального возможного значения (для квадратной матрицы это её размер), то матрица является вырожденной (необратимой).\n",
        "\n",
        "В NumPy для вычисления ранга используется функция `numpy.linalg.matrix_rank()`:\n"
      ],
      "metadata": {
        "id": "aAI6ECcphlgi"
      }
    },
    {
      "cell_type": "code",
      "source": [
        "# Нахождение ранга матрицы\n",
        "rank_matrix = np.linalg.matrix_rank(matrix_a)\n",
        "print(rank_matrix)"
      ],
      "metadata": {
        "colab": {
          "base_uri": "https://localhost:8080/"
        },
        "id": "hlSyX1bIhncw",
        "outputId": "6f857654-f79c-4dda-f83d-eecd36854eac"
      },
      "execution_count": null,
      "outputs": [
        {
          "output_type": "stream",
          "name": "stdout",
          "text": [
            "2\n"
          ]
        }
      ]
    },
    {
      "cell_type": "markdown",
      "source": [
        "### Кратчайшее расстояние (скалярное произведение векторов)\n",
        "\n",
        "Скалярное произведение двух векторов $\\mathbf{a} \\cdot \\mathbf{b}$ вычисляется как:\n",
        "\n",
        "$$\n",
        "\\mathbf{a} \\cdot \\mathbf{b} = a_1b_1 + a_2b_2 + \\dots + a_nb_n\n",
        "$$\n",
        "\n",
        "Если результат равен нулю, то векторы ортогональны. Это используется для нахождения углов между векторами, анализа корреляции и решения задач в физике и машинном обучении."
      ],
      "metadata": {
        "id": "SQT03JyEhqdw"
      }
    },
    {
      "cell_type": "code",
      "source": [
        "# Скалярное произведение векторов\n",
        "vector_a = np.array([1, 2, 3])\n",
        "vector_b = np.array([4, 5, 6])\n",
        "\n",
        "dot_product = np.dot(vector_a, vector_b)\n",
        "print(dot_product)"
      ],
      "metadata": {
        "colab": {
          "base_uri": "https://localhost:8080/"
        },
        "id": "vkwMx5JhhsJv",
        "outputId": "46eb46f9-eeca-49b6-9d10-575bf3913d6f"
      },
      "execution_count": null,
      "outputs": [
        {
          "output_type": "stream",
          "name": "stdout",
          "text": [
            "32\n"
          ]
        }
      ]
    },
    {
      "cell_type": "markdown",
      "source": [
        "### Векторное произведение (только для 3-мерных векторов)\n",
        "\n",
        "Векторное произведение двух векторов $\\mathbf{a}$ и $\\mathbf{b}$ определено только для 3-мерных векторов и возвращает новый вектор, перпендикулярный к обоим исходным в пространстве:\n",
        "\n",
        "$$\n",
        "\\mathbf{a} \\times \\mathbf{b} = \\mathbf{c}\n",
        "$$\n",
        "\n",
        "Формула для векторного произведения в 3D:\n",
        "\n",
        "$$\n",
        "\\mathbf{c} = (a_2b_3 - a_3b_2, a_3b_1 - a_1b_3, a_1b_2 - a_2b_1)\n",
        "$$\n",
        "\n",
        "Для нахождения векторного произведения в NumPy используется функция `numpy.cross()`:"
      ],
      "metadata": {
        "id": "sRdBZ_c8hvEi"
      }
    },
    {
      "cell_type": "code",
      "source": [
        "# Векторное произведение\n",
        "cross_product = np.cross(vector_a, vector_b)\n",
        "print(cross_product)"
      ],
      "metadata": {
        "colab": {
          "base_uri": "https://localhost:8080/"
        },
        "id": "eiyrdewVhxCK",
        "outputId": "24da2dc1-c537-4ae0-8cf3-bfccd09d418b"
      },
      "execution_count": null,
      "outputs": [
        {
          "output_type": "stream",
          "name": "stdout",
          "text": [
            "[-3  6 -3]\n"
          ]
        }
      ]
    },
    {
      "cell_type": "markdown",
      "source": [
        "\n",
        "### QR-разложение\n",
        "\n",
        "QR-разложение — это разложение матрицы $A$ на произведение ортогональной матрицы $Q$ и верхнетреугольной матрицы $R$:\n",
        "\n",
        "$$\n",
        "A = QR\n",
        "$$\n",
        "\n",
        "QR-разложение используется в различных численных методах, например, для решения систем линейных уравнений и нахождения собственных значений.\n"
      ],
      "metadata": {
        "id": "uQxwdTsgh6qQ"
      }
    },
    {
      "cell_type": "code",
      "source": [
        "# QR-разложение\n",
        "Q, R = np.linalg.qr(matrix_a)\n",
        "print(\"Q:\\n\", Q)\n",
        "print(\"R:\\n\", R)"
      ],
      "metadata": {
        "colab": {
          "base_uri": "https://localhost:8080/"
        },
        "id": "DmpScAbqh9Vq",
        "outputId": "52d75e2e-26a1-46e8-8c8f-2f96c43a9ed8"
      },
      "execution_count": null,
      "outputs": [
        {
          "output_type": "stream",
          "name": "stdout",
          "text": [
            "Q:\n",
            " [[-0.31622777 -0.9486833 ]\n",
            " [-0.9486833   0.31622777]]\n",
            "R:\n",
            " [[-3.16227766 -4.42718872]\n",
            " [ 0.         -0.63245553]]\n"
          ]
        }
      ]
    },
    {
      "cell_type": "markdown",
      "source": [
        "### Решение переопределенных систем уравнений (метод наименьших квадратов)\n",
        "\n",
        "В случае, когда система уравнений переопределена (больше уравнений, чем переменных), применяется метод наименьших квадратов. В NumPy это можно сделать с помощью функции `numpy.linalg.lstsq()`, которая находит приближённое решение:\n",
        "\n",
        "$$\n",
        "Ax \\approx b\n",
        "$$"
      ],
      "metadata": {
        "id": "htdBAtIRiAfx"
      }
    },
    {
      "cell_type": "code",
      "source": [
        "# Решение системы уравнений методом наименьших квадратов\n",
        "A = np.array([[1, 1], [1, 2], [1, 3]])\n",
        "b = np.array([1, 2, 2])\n",
        "\n",
        "x, residuals, rank, s = np.linalg.lstsq(A, b, rcond=None)\n",
        "print(\"Решение:\", x)"
      ],
      "metadata": {
        "colab": {
          "base_uri": "https://localhost:8080/"
        },
        "id": "Zg9TlvAJiCbI",
        "outputId": "1fc6808f-6904-4aba-cdad-7577931873a3"
      },
      "execution_count": null,
      "outputs": [
        {
          "output_type": "stream",
          "name": "stdout",
          "text": [
            "Решение: [0.66666667 0.5       ]\n"
          ]
        }
      ]
    },
    {
      "cell_type": "markdown",
      "source": [
        "### Характеристический многочлен матрицы\n",
        "\n",
        "Характеристический многочлен $p(\\lambda)$ матрицы $A$ помогает найти её собственные значения. Этот многочлен определяется как:\n",
        "\n",
        "$$\n",
        "p(\\lambda) = \\text{det}(A - \\lambda I)\n",
        "$$\n",
        "\n",
        "где $I$ — единичная матрица, а $\\lambda$ — переменная. С помощью характеристического многочлена можно анализировать спектр матрицы.\n",
        "\n",
        "В NumPy нахождение собственных значений можно сделать через `numpy.linalg.eigvals()`.\n"
      ],
      "metadata": {
        "id": "KsZz7UL1iS-H"
      }
    },
    {
      "cell_type": "code",
      "source": [
        "# Нахождение собственных значений\n",
        "eigenvalues = np.linalg.eigvals(matrix_a)\n",
        "print(\"Собственные значения:\", eigenvalues)"
      ],
      "metadata": {
        "colab": {
          "base_uri": "https://localhost:8080/"
        },
        "id": "SHZwPO4biU6h",
        "outputId": "3827e273-1813-44e2-fb77-80613e41f1b2"
      },
      "execution_count": null,
      "outputs": [
        {
          "output_type": "stream",
          "name": "stdout",
          "text": [
            "Собственные значения: [-0.37228132  5.37228132]\n"
          ]
        }
      ]
    },
    {
      "cell_type": "markdown",
      "source": [
        "### Ортогонализация Грама-Шмидта\n",
        "\n",
        "Ортогонализация Грама-Шмидта — это метод, который позволяет преобразовать набор векторов в ортогональный набор. Этот процесс часто используется в численных методах для решения систем уравнений и в других задачах линейной алгебры.\n",
        "\n",
        "### Матричные нормы\n",
        "\n",
        "Норма матрицы — это мера её \"размера\". В дополнение к фробениусовой норме $||A||_F$, существуют и другие виды норм, такие как 1-норма (максимальная сумма элементов столбцов) и бесконечная норма (максимальная сумма элементов строк):\n",
        "\n",
        "$$\n",
        "||A||_1 = \\max_j \\sum_i |a_{ij}|\n",
        "$$\n",
        "$$\n",
        "||A||_\\infty = \\max_i \\sum_j |a_{ij}|\n",
        "$$\n"
      ],
      "metadata": {
        "id": "_k3Yn4ktic84"
      }
    },
    {
      "cell_type": "code",
      "source": [
        "# 1-норма и бесконечная норма\n",
        "norm_1 = np.linalg.norm(matrix_a, 1)\n",
        "norm_inf = np.linalg.norm(matrix_a, np.inf)\n",
        "\n",
        "print(\"1-норма:\", norm_1)\n",
        "print(\"Бесконечная норма:\", norm_inf)"
      ],
      "metadata": {
        "id": "5zEQQOHoifVQ",
        "outputId": "36ce7599-e5fa-437a-e8b4-3ab1d86a1217",
        "colab": {
          "base_uri": "https://localhost:8080/"
        }
      },
      "execution_count": null,
      "outputs": [
        {
          "output_type": "stream",
          "name": "stdout",
          "text": [
            "1-норма: 6.0\n",
            "Бесконечная норма: 7.0\n"
          ]
        }
      ]
    },
    {
      "cell_type": "markdown",
      "source": [
        "### Матричная псевдообратная (псевдоинверсия)\n",
        "\n",
        "Псевдообратная матрица (псевдоинверсия) — это обобщение обратной матрицы для неквадратных или вырожденных матриц. Она используется для решения систем линейных уравнений, где точное решение не может быть найдено. В NumPy для этого используется функция `numpy.linalg.pinv()`:"
      ],
      "metadata": {
        "id": "L5iqQtgZiile"
      }
    },
    {
      "cell_type": "code",
      "source": [
        "# Нахождение псевдообратной матрицы\n",
        "pseudo_inverse = np.linalg.pinv(matrix_a)\n",
        "print(pseudo_inverse)"
      ],
      "metadata": {
        "id": "y2ThS3vyikOw",
        "outputId": "54a98b48-2c69-4819-a461-5e5d503ea7f6",
        "colab": {
          "base_uri": "https://localhost:8080/"
        }
      },
      "execution_count": null,
      "outputs": [
        {
          "output_type": "stream",
          "name": "stdout",
          "text": [
            "[[-2.   1. ]\n",
            " [ 1.5 -0.5]]\n"
          ]
        }
      ]
    },
    {
      "cell_type": "markdown",
      "source": [
        "Таким образом, модуль `numpy.linalg` предоставляет широкий набор функций для работы с линейной алгеброй, который охватывает все основные и продвинутые задачи, включая работу с матрицами, векторами и системами уравнений. Множество этих методов и операций является основой для сложных вычислений в таких областях, как машинное обучение, анализ данных и численные методы.\n"
      ],
      "metadata": {
        "id": "jla_L2kJys6w"
      }
    },
    {
      "cell_type": "markdown",
      "source": [
        "## Вопросы для самопроверки\n",
        "\n",
        "1. Что такое NumPy и для чего он используется?\n",
        "2. Как установить библиотеку NumPy?\n",
        "3. Что такое объект `ndarray` в NumPy?\n",
        "4. Как создать одномерный массив с помощью NumPy?\n",
        "5. Приведите пример создания двумерного массива.\n",
        "6. Как создать трехмерный массив в NumPy?\n",
        "7. Какие свойства массивов можно получить с помощью `shape` и `dtype`?\n",
        "8. Как создать массив, заполненный нулями?\n",
        "9. Как создать массив, заполненный единицами?\n",
        "10. Как создать массив с случайными числами от 0 до 1?\n",
        "11. Как осуществляется индексация в одномерных массивах?\n",
        "12. Как получить доступ к элементу двумерного массива по его индексам?\n",
        "13. Что такое булева индексация и как она работает?\n",
        "14. Приведите пример использования булевой индексации.\n",
        "15. Как можно извлечь подмассив из двумерного массива с помощью срезов?\n",
        "16. Как работает срез в одномерных массивах?\n",
        "17. Что такое обычная индексация в NumPy?\n",
        "18. Как использовать индексацию массивом индексов (Fancy indexing)?\n",
        "19. Как работает индексация с помощью `np.ix_`?\n",
        "20. Что делает оператор `...` в NumPy?\n",
        "21. Как добавить новую ось в массив с помощью `np.newaxis`?\n",
        "22. Как выполняются математические операции над массивами в NumPy?\n",
        "23. Как сложить два массива в NumPy?\n",
        "24. Что такое универсальные функции (ufuncs) в NumPy?\n",
        "25. Как вычислить сумму всех элементов массива?\n",
        "26. Как найти среднее значение массива с помощью NumPy?\n",
        "27. Как транспонировать массив в NumPy?\n",
        "28. Как изменить форму массива с помощью `reshape`?\n",
        "29. Как объединить два массива в NumPy?\n",
        "30. Как разделить массив на несколько частей?\n",
        "31. Что такое бродкастинг в NumPy?\n",
        "32. Как работают правила бродкастинга?\n",
        "33. Приведите пример бродкастинга с массивами разной размерности.\n",
        "34. Как найти обратную матрицу в NumPy?\n",
        "35. Что такое определитель матрицы и как его вычислить?\n",
        "36. Как найти собственные значения и собственные векторы матрицы?\n",
        "37. Как решить систему линейных уравнений с помощью NumPy?\n",
        "38. Как вычислить норму вектора в NumPy?\n",
        "39. Что такое сингулярное разложение (SVD)?\n",
        "40. Как использовать функцию `numpy.linalg.solve()`?\n",
        "41. Какие операции можно выполнять с матрицами в модуле `numpy.linalg`?\n",
        "42. Как вычислить фробениусову норму матрицы?\n",
        "43. Как создать массив с заданными значениями, используя `np.arange()`?\n",
        "44. Как получить максимальное и минимальное значение в массиве?\n",
        "45. Как применить функцию к каждому элементу массива?\n",
        "46. Как использовать `np.linspace()` для создания массива?\n",
        "47. Как извлечь диагональные элементы матрицы?\n",
        "48. Как использовать `np.concatenate()` для объединения массивов?\n",
        "49. Как использовать `np.split()` для разделения массива?\n",
        "50. Как можно использовать NumPy для обработки данных в машинном обучении?\n",
        "\n",
        "### Фильтрация\n",
        "\n",
        "1. Что такое булевый массив в Numpy и как его создать?\n",
        "2. Как с помощью булевого массива фильтровать данные в массиве?\n",
        "3. Как создать булевый массив, который проверяет, какие элементы массива больше заданного значения?\n",
        "4. Как с помощью булевых массивов отфильтровать все четные числа в массиве?\n",
        "5. Как создать булевый массив для фильтрации элементов, находящихся в определенном диапазоне значений?\n",
        "6. Что произойдет, если использовать булевый массив для индексации исходного массива?\n",
        "7. Как объединять несколько условий для фильтрации (например, проверка на четность и на диапазон)?\n",
        "8. Как использовать функцию `numpy.where` для нахождения индексов элементов, соответствующих определенному условию?\n",
        "9. Как заменить значения в массиве на основе условия с использованием функции `numpy.where`?\n",
        "10. Для чего используется функция `numpy.extract` и чем она отличается от фильтрации с использованием булевых массивов?\n",
        "11. Как использовать функцию `numpy.nonzero` и в чем ее назначение?\n",
        "12. Как с помощью функции `numpy.unique` получить только уникальные элементы массива?\n",
        "13. Что возвращает функция `numpy.unique`, если использовать параметры `return_index` и `return_counts`?\n",
        "14. Как извлечь уникальные четные числа из массива, используя функции Numpy?\n",
        "15. В чем разница между фильтрацией с использованием булевых массивов и функциями `numpy.extract` и `numpy.where`?\n",
        "\n",
        "\n",
        "\n",
        "###Линейная алгебра\n",
        "\n",
        "1. **Что такое определитель квадратной матрицы? Какую информацию он несёт?**\n",
        "2. **Как вычисляется определитель для матрицы 2×2? Приведите пример.**\n",
        "3. **Какие свойства матрицы определяются через её определитель? Что означает, если определитель равен нулю?**\n",
        "4. **Как найти собственные значения и собственные векторы матрицы? Приведите формулу и объясните её.**\n",
        "5. **Чем различаются ортогональные матрицы $U$ и $V$ в сингулярном разложении матрицы? Что такое сингулярные числа?**\n",
        "6. **Какие задачи решаются с помощью сингулярного разложения (SVD)? Приведите пример.**\n",
        "7. **Какой смысл имеет ранг матрицы? Как его вычислить?**\n",
        "8. **В каких случаях используется метод наименьших квадратов для решения системы линейных уравнений?**\n",
        "9. **Что такое транспонирование матрицы? Как найти транспонированную матрицу?**\n",
        "10. **Что представляет собой характеристический многочлен матрицы и как он связан с собственными значениями?**\n",
        "11. **Как можно решить систему линейных уравнений $Ax = b$ с помощью функции `numpy.linalg.solve()`? Приведите пример.**\n",
        "12. **Что такое норма матрицы или вектора? Приведите пример вычисления евклидовой нормы вектора.**\n",
        "13. **Как вычисляется векторное произведение для 3-мерных векторов? В чем его физический смысл?**\n",
        "14. **Что означает QR-разложение матрицы? Как его можно применить для решения систем линейных уравнений?**\n",
        "15. **Чем отличается псевдообратная матрица от обычной обратной матрицы? Когда она используется и как её вычислить?**\n",
        "\n"
      ],
      "metadata": {
        "id": "JX35Q8nFQaH1"
      }
    },
    {
      "cell_type": "markdown",
      "source": [
        "## Задачи для самостоятельной работы\n",
        "\n",
        "## Основы numpy\n",
        "\n",
        "1. Создайте одномерный массив из целых чисел от 1 до 10.\n",
        "2. Создайте двумерный массив 3x3, заполненный нулями.\n",
        "3. Создайте трехмерный массив 2x2x2 с элементами от 1 до 8.\n",
        "4. Получите форму и тип данных массива, созданного в задаче 1.\n",
        "5. Создайте массив единиц размером 4x4.\n",
        "6. Создайте массив случайных чисел размером 3x2.\n",
        "7. Извлеките элемент из второго столбца первой строки двумерного массива.\n",
        "8. Используя булеву индексацию, отберите элементы массива, которые больше 5.\n",
        "9. Создайте двумерный массив и извлеките первую строку.\n",
        "10. Используйте срезы для получения последних двух элементов одномерного массива.\n",
        "11. Создайте массив с элементами от 0 до 9 и извлеките каждый второй элемент.\n",
        "12. Создайте массив 5x5 и получите подмассив, состоящий из элементов с 2 по 4 строки и 1 по 3 столбцы.\n",
        "13. Используя `np.ix_`, получите подмассив из двумерного массива.\n",
        "14. Примените поэлементное сложение к двум массивам одинакового размера.\n",
        "15. Выполните поэлементное умножение двух массивов.\n",
        "16. Используйте универсальную функцию для вычисления квадратного корня из одномерного массива.\n",
        "17. Найдите среднее значение элементов массива.\n",
        "18. Найдите минимальное и максимальное значение массива.\n",
        "19. Транспонируйте двумерный массив.\n",
        "20. Измените форму одномерного массива на двумерный.\n",
        "21. Объедините два двумерных массива по строкам.\n",
        "22. Разделите массив на 3 части.\n",
        "23. Используйте отрицательные индексы для извлечения последнего элемента массива.\n",
        "24. Извлеките диагональные элементы из двумерного массива.\n",
        "25. Создайте булев массив, где значения `True` соответствуют элементам, большим 3.\n",
        "26. Измените размерность массива, добавив новую ось.\n",
        "27. Используйте комбинацию срезов и индексации для получения подмассива.\n",
        "28. Создайте массив и получите сумму всех его элементов.\n",
        "29. Выполните поэлементное деление двух массивов.\n",
        "30. Сгенерируйте массив случайных чисел и найдите медиану.\n",
        "\n",
        "### Broadcasting:\n",
        "\n",
        "1. Создайте два массива размером (3, 3) и (1, 3). Примените Broadcasting для сложения этих двух массивов.\n",
        "2. Имея массив размером (3, 3) и массив одномерный (3,), умножьте их с использованием Broadcasting.\n",
        "3. Создайте массив размером (3, 3) и добавьте к нему число (скаляр). Примените Broadcasting для выполнения этой операции.\n",
        "4. Используя Broadcasting, умножьте массив размером (4, 3) на массив размером (3,).\n",
        "5. Попробуйте применить Broadcasting для сложения двух массивов разных форм, например, (2, 3) и (2, 1).\n",
        "6. Создайте массив размером (5, 1) и массив одномерный (5,). Умножьте их с использованием Broadcasting.\n",
        "7. Используя Broadcasting, сложите массив размером (3, 3) с массивом размером (3, 1).\n",
        "8. Попробуйте применить Broadcasting для умножения массива размером (2, 3) на массив размером (2, 1).\n",
        "9. Создайте массив размером (3, 3) и добавьте к нему одномерный массив (3,). Примените Broadcasting для выполнения этой операции.\n",
        "10. Имея массив размером (3, 3) и массив одномерный (1, 3), умножьте их с использованием Broadcasting.\n",
        "11. Используя Broadcasting, умножьте массив размером (4, 3) на массив размером (4, 1).\n",
        "12. Создайте массив размером (3, 1) и массив одномерный (3,). Умножьте их с использованием Broadcasting.\n",
        "13. Попробуйте применить Broadcasting для сложения двух массивов разных форм, например, (3, 2) и (1, 2).\n",
        "14. Используя Broadcasting, сложите массив размером (3, 3) с массивом размером (1, 3).\n",
        "15. Создайте массив размером (2, 3) и добавьте к нему одномерный массив (2,). Примените Broadcasting для выполнения этой операции.\n",
        "16. Имея массив размером (3, 2) и массив одномерный (3,), умножьте их с использованием Broadcasting.\n",
        "17. Используя Broadcasting, умножьте массив размером (3, 3) на массив размером (3, 1).\n",
        "18. Создайте массив размером (2, 1) и массив одномерный (2,). Умножьте их с использованием Broadcasting.\n",
        "19. Попробуйте применить Broadcasting для сложения двух массивов разных форм, например, (4, 2) и (4, 1).\n",
        "20. Используя Broadcasting, сложите массив размером (2, 3) с массивом размером (2, 1).\n",
        "21. Создайте массив размером (3, 4) и добавьте к нему скаляр. Примените Broadcasting для выполнения этой операции.\n",
        "22. Имея массив размером (5, 2) и массив одномерный (5,), умножьте их с использованием Broadcasting.\n",
        "23. Используя Broadcasting, сложите массив размером (2, 5) с массивом размером (1, 5).\n",
        "24. Создайте массив размером (4, 3) и массив размером (4, 1). Умножьте их с использованием Broadcasting.\n",
        "25. Попробуйте применить Broadcasting для сложения двух массивов разных форм, например, (3, 4) и (3, 1).\n",
        "26. Используя Broadcasting, умножьте массив размером (6, 1) на массив размером (1, 4).\n",
        "27. Создайте массив размером (2, 3) и добавьте к нему массив размером (2, 1). Примените Broadcasting для выполнения этой операции.\n",
        "28. Имея массив размером (3, 3) и массив одномерный (1, 3), сложите их с использованием Broadcasting.\n",
        "29. Используя Broadcasting, сложите массив размером (5, 2) с массивом размером (5, 1).\n",
        "30. Попробуйте применить Broadcasting для умножения массива размером (3, 2) на массив размером (1, 2).\n",
        "\n",
        "\n",
        "###Фильтрация\n",
        "\n",
        "\n",
        "1. Создайте массив из чисел от 1 до 20. Используя булевый массив, отфильтруйте только числа, которые делятся на 3.\n",
        "2. Напишите программу, которая создает массив из 10 случайных чисел и отфильтровывает те, что больше среднего значения массива.\n",
        "3. Создайте массив с произвольными целыми числами от 0 до 100. Найдите и выведите все элементы, которые являются кратными 5.\n",
        "4. Создайте булевый массив для фильтрации элементов из массива, которые меньше или равны 50.\n",
        "5. Напишите программу, которая проверяет, какие элементы массива из 15 случайных чисел больше 30 и меньше 70, и выводит эти элементы.\n",
        "6. Создайте массив с отрицательными и положительными числами. Отфильтруйте только положительные значения.\n",
        "7. Напишите программу, которая создает массив и извлекает из него все элементы, являющиеся квадратами целых чисел.\n",
        "8. Создайте массив из чисел от 1 до 100. Отфильтруйте все числа, кратные 7.\n",
        "9. Создайте массив и выведите все его элементы, которые больше его медианы.\n",
        "10. Сгенерируйте массив из 20 случайных чисел и отфильтруйте все значения, находящиеся в диапазоне от 10 до 50.\n",
        "11. Создайте массив и отфильтруйте все элементы, у которых остаток от деления на 3 равен 1.\n",
        "12. Используйте массив из случайных целых чисел и напишите программу, которая заменяет все отрицательные числа на 0 с использованием `numpy.where`.\n",
        "13. Создайте массив и используйте функцию `numpy.where`, чтобы заменить все четные числа на их квадрат.\n",
        "14. Сгенерируйте массив из чисел от 1 до 100 и найдите индексы элементов, которые делятся на 11.\n",
        "15. Создайте массив с десятичными числами и используйте функцию `numpy.nonzero`, чтобы найти индексы ненулевых элементов.\n",
        "16. Напишите программу, которая создает массив с произвольными числами и заменяет все числа больше 50 на 100 с помощью `numpy.where`.\n",
        "17. Создайте массив из случайных чисел. Используя `numpy.extract`, получите все элементы, которые больше 30.\n",
        "18. Создайте массив из случайных целых чисел от 1 до 100. Используя `numpy.nonzero`, найдите индексы всех элементов, равных нулю.\n",
        "19. Напишите программу, которая фильтрует массив и извлекает из него только те элементы, которые являются простыми числами.\n",
        "20. Создайте массив из 20 случайных чисел и отфильтруйте все числа, которые являются степенями двойки.\n",
        "21. Создайте массив и используйте сложное условие для фильтрации всех чисел, которые больше 10 и одновременно четные.\n",
        "22. Сгенерируйте массив случайных чисел от 1 до 50 и извлеките только нечетные числа, которые меньше 25.\n",
        "23. Напишите программу, которая создает массив и отфильтровывает все элементы, которые делятся на 3, но не делятся на 5.\n",
        "24. Используя массив случайных чисел, создайте булевый массив, который проверяет, какие числа больше среднего значения массива и одновременно кратны 4.\n",
        "25. Создайте массив из 50 случайных чисел. Найдите и выведите уникальные элементы массива, которые являются четными числами.\n",
        "26. Напишите программу, которая с помощью `numpy.where` заменяет все элементы массива, делящиеся на 5, на их квадраты.\n",
        "27. Создайте массив случайных чисел и замените все отрицательные числа на их абсолютные значения с использованием `numpy.where`.\n",
        "28. Сгенерируйте массив и отфильтруйте все элементы, которые являются нечетными и больше 50.\n",
        "29. Создайте массив и отфильтруйте числа, которые являются квадратами целых чисел и одновременно четные.\n",
        "30. Напишите программу, которая сгенерирует массив, заменит все числа, больше 70, на 100, а числа, меньше 30, — на 0 с использованием `numpy.where`.\n",
        "\n",
        "\n",
        "\n",
        "###Линейная алгебра\n",
        "1. Найдите определитель матрицы $A = \\begin{pmatrix} 2 & 3 \\\\ 1 & 4 \\end{pmatrix}$.\n",
        "2. Вычислите определитель матрицы $B = \\begin{pmatrix} 1 & 2 & 3 \\\\ 0 & 1 & 4 \\\\ 5 & 6 & 0 \\end{pmatrix}$.\n",
        "3. Доказать, что если $\\text{det}(A) = 0$, то матрица $A$ не имеет обратной.\n",
        "\n",
        "4. Найдите собственные значения матрицы $C = \\begin{pmatrix} 4 & 1 \\\\ 2 & 3 \\end{pmatrix}$.\n",
        "5. Найдите собственные векторы для собственных значений, найденных в задаче 4.\n",
        "6. Для матрицы $D = \\begin{pmatrix} 2 & 0 \\\\ 0 & -2 \\end{pmatrix}$ найдите собственные значения и собственные векторы.\n",
        "7. Решите систему уравнений:\n",
        "   $$\n",
        "   \\begin{cases}\n",
        "   2x + 3y = 5 \\\\\n",
        "   4x - y = 1\n",
        "   \\end{cases}\n",
        "   $$\n",
        "8. Найдите решение системы уравнений:\n",
        "   $$\n",
        "   \\begin{cases}\n",
        "   x + 2y + 3z = 1 \\\\\n",
        "   2x + 3y + z = 2 \\\\\n",
        "   3x + y + 2z = 3\n",
        "   \\end{cases}\n",
        "   $$\n",
        "9. Решите систему уравнений методом наименьших квадратов:\n",
        "   $$\n",
        "   \\begin{cases}\n",
        "   x + y = 1 \\\\\n",
        "   2x + 2y = 2 \\\\\n",
        "   3x + 3y = 3\n",
        "   \\end{cases}\n",
        "   $$\n",
        "10. Найдите транспонированную матрицу для $E = \\begin{pmatrix} 1 & 2 & 3 \\\\ 4 & 5 & 6 \\end{pmatrix}$.\n",
        "11. Найдите произведение матрицы $F = \\begin{pmatrix} 1 & 0 \\\\ 0 & 1 \\end{pmatrix}$ и её транспонированной матрицы.\n",
        "12. Вычислите евклидову норму вектора $v = \\begin{pmatrix} 3 \\\\ 4 \\end{pmatrix}$.\n",
        "13. Найдите фробениусову норму матрицы $G = \\begin{pmatrix} 1 & 2 \\\\ 3 & 4 \\end{pmatrix}$.\n",
        "14. Вычислите 1-норму и бесконечную норму матрицы $H = \\begin{pmatrix} 1 & -1 \\\\ 2 & 3 \\end{pmatrix}$.\n",
        "15. Выполните сингулярное разложение матрицы $I = \\begin{pmatrix} 1 & 2 \\\\ 3 & 4 \\end{pmatrix}$.\n",
        "16. Объясните, как можно использовать SVD для уменьшения размерности данных.\n",
        "17. Найдите ранг матрицы $J = \\begin{pmatrix} 1 & 2 & 3 \\\\ 4 & 5 & 6 \\\\ 7 & 8 & 9 \\end{pmatrix}$.\n",
        "18. Доказать, что ранг матрицы не может превышать её меньший размер.\n",
        "\n",
        "### Задачи на скалярное и векторное произведение\n",
        "19. Вычислите скалярное произведение векторов $a = \\begin{pmatrix} 1 \\\\ 2 \\\\ 3 \\end{pmatrix}$ и $b = \\begin{pmatrix} 4 \\\\ 5 \\\\ 6 \\end{pmatrix}$.\n",
        "20. Найдите векторное произведение векторов $c = \\begin{pmatrix} 1 \\\\ 2 \\\\ 3 \\end{pmatrix}$ и $d = \\begin{pmatrix} 4 \\\\ 5 \\\\ 6 \\end{pmatrix}$.\n",
        "21. Выполните QR-разложение матрицы $K = \\begin{pmatrix} 1 & 1 \\\\ 1 & 0 \\\\ 0 & 1 \\end{pmatrix}$.\n",
        "22. Объясните, как QR-разложение может быть использовано для решения систем уравнений.\n",
        "23. Решите систему уравнений методом наименьших квадратов для данных:\n",
        "   $$\n",
        "   \\begin{pmatrix}\n",
        "   1 & 1 \\\\\n",
        "   2 & 1 \\\\\n",
        "   3 & 1\n",
        "   \\end{pmatrix}\n",
        "   \\begin{pmatrix}\n",
        "   x \\\\\n",
        "   y\n",
        "   \\end{pmatrix}\n",
        "   =\n",
        "   \\begin{pmatrix}\n",
        "   2 \\\\\n",
        "   3 \\\\\n",
        "   5\n",
        "   \\end{pmatrix}\n",
        "   $$\n",
        "24. Найдите характеристический многочлен матрицы $L = \\begin{pmatrix} 2 & 1 \\\\ 1 & 2 \\end{pmatrix}$.\n",
        "25. Определите собственные значения матрицы $M = \\begin{pmatrix} 3 & 2 \\\\ 2 & 3 \\end{pmatrix}$ с помощью характеристического многочлена.\n",
        "26. Примените метод Грама-Шмидта к векторному набору $\\{ \\begin{pmatrix} 1 \\\\ 1 \\end{pmatrix}, \\begin{pmatrix} 1 \\\\ 0 \\end{pmatrix} \\}$.\n",
        "27. Найдите псевдообратную матрицу для матрицы $N = \\begin{pmatrix} 1 & 2 \\\\ 3 & 4 \\\\ 5 & 6 \\end{pmatrix}$.\n",
        "28. Объясните, как линейная алгебра используется в машинном обучении.\n",
        "29. Приведите пример использования собственных значений в анализе данных.\n",
        "30. Опишите, как QR-разложение может быть применено для численного решения уравнений.\n",
        "\n",
        "31. Найти след квадратной матрицы (сумма элементов главной диагонали).\n",
        "32. Найти собственные значения и собственные векторы квадратной матрицы.\n",
        "33. Решить систему линейных уравнений, представив коэффициенты в виде матрицы.\n",
        "34. Найти обратную матрицу для заданной квадратной матрицы.\n",
        "35. Найти ранг матрицы.\n",
        "36. Найти собственные значения квадратной матрицы.\n",
        "37. Найти LU-разложение квадратной матрицы.\n",
        "38. Найти QR-разложение матрицы.\n",
        "39. Найти сингулярное разложение матрицы.\n",
        "40. Найти оптимальное приближение для матрицы с помощью сингулярного разложения.\n",
        "41. Найти собственные значения и собственные векторы для симметричной матрицы.\n",
        "42. Найти собственные значения и собственные векторы для эрмитовой матрицы.\n",
        "43. Найти псевдообратную матрицу.\n",
        "44. Найти скалярное произведение векторов.\n",
        "45. Найти векторное произведение векторов.\n",
        "46. Найти смешанное произведение векторов.\n",
        "47. Найти угол между двумя векторами.\n",
        "48. Найти проекцию вектора на другой вектор.\n",
        "\n",
        "### Дополнительные задачи\n",
        "49. Найдите след матрицы $P = \\begin{pmatrix} 1 & 2 \\\\ 3 & 4 \\\\ 5 & 6 \\end{pmatrix}$.\n",
        "50. Найдите собственные значения и собственные векторы матрицы $Q = \\begin{pmatrix} 0 & 1 \\\\ -1 & 0 \\end{pmatrix}$.\n",
        "51. Решите систему линейных уравнений с использованием метода Гаусса:\n",
        "   $$\n",
        "   \\begin{cases}\n",
        "   x + 2y + 3z = 9 \\\\\n",
        "   2x + 3y + z = 8 \\\\\n",
        "   3x + y + 2z = 7\n",
        "   \\end{cases}\n",
        "   $$\n",
        "52. Найдите обратную матрицу для матрицы $R = \\begin{pmatrix} 4 & 7 \\\\ 2 & 6 \\end{pmatrix}$.\n",
        "53. Найдите ранг матрицы $S = \\begin{pmatrix} 1 & 2 & 3 \\\\ 2 & 4 & 6 \\\\ 3 & 6 & 9 \\end{pmatrix}$.\n",
        "54. Найдите собственные значения матрицы $T = \\begin{pmatrix} 5 & 4 \\\\ 2 & 1 \\end{pmatrix}$.\n",
        "55. Найдите LU-разложение матрицы $U = \\begin{pmatrix} 2 & 3 \\\\ 5 & 4 \\end{pmatrix}$.\n",
        "56. Найдите QR-разложение матрицы $V = \\begin{pmatrix} 1 & 1 \\\\ 1 & 0 \\\\ 0 & 1 \\end{pmatrix}$.\n",
        "57. Найдите сингулярное разложение матрицы $W = \\begin{pmatrix} 1 & 0 \\\\ 0 & 1 \\\\ 1 & 1 \\end{pmatrix}$.\n",
        "58. Найдите оптимальное приближение для матрицы $X = \\begin{pmatrix} 1 & 2 \\\\ 3 & 4 \\\\ 5 & 6 \\end{pmatrix}$ с помощью сингулярного разложения.\n",
        "59. Найдите собственные значения и собственные векторы для матрицы $Y = \\begin{pmatrix} 2 & -1 \\\\ -1 & 2 \\end{pmatrix}$.\n",
        "60. Найдите угол между векторами $a = \\begin{pmatrix} 1 \\\\ 2 \\end{pmatrix}$ и $b = \\begin{pmatrix} 3 \\\\ 4 \\end{pmatrix}$.\n",
        "\n"
      ],
      "metadata": {
        "id": "6iMLb7MdQeNY"
      }
    },
    {
      "cell_type": "markdown",
      "source": [
        "##Задания примеры\n"
      ],
      "metadata": {
        "id": "aivhwKgaKA1B"
      }
    },
    {
      "cell_type": "markdown",
      "source": [
        "Создайте массив единиц размером 4x4"
      ],
      "metadata": {
        "id": "kEl8s4SZJeIj"
      }
    },
    {
      "cell_type": "code",
      "source": [
        "import numpy as np"
      ],
      "metadata": {
        "id": "_8Ukem1_J4J9"
      },
      "execution_count": null,
      "outputs": []
    },
    {
      "cell_type": "code",
      "source": [
        "A = np.array([[1, 1, 1, 1], [1, 1, 1, 1], [1, 1, 1, 1], [1, 1, 1, 1]])\n",
        "print(A)"
      ],
      "metadata": {
        "colab": {
          "base_uri": "https://localhost:8080/"
        },
        "id": "u1vgBjFsJdvb",
        "outputId": "cafb2729-06c0-442b-9d50-49f6c67e8d6c"
      },
      "execution_count": null,
      "outputs": [
        {
          "output_type": "stream",
          "name": "stdout",
          "text": [
            "[[1 1 1 1]\n",
            " [1 1 1 1]\n",
            " [1 1 1 1]\n",
            " [1 1 1 1]]\n"
          ]
        }
      ]
    },
    {
      "cell_type": "markdown",
      "source": [
        "Сгенерируйте массив случайных чисел и найдите медиану"
      ],
      "metadata": {
        "id": "q5a4beBpKILc"
      }
    },
    {
      "cell_type": "code",
      "source": [
        "b = np.array([1, 2, 2, 4, 1, 7, 9])\n",
        "median_value = np.median(b)\n",
        "\n",
        "print(\"Медиана:\", median_value)"
      ],
      "metadata": {
        "colab": {
          "base_uri": "https://localhost:8080/"
        },
        "id": "vBdx96SsK1Hk",
        "outputId": "c88c8b10-5f29-440c-8f20-98c6df8addf1"
      },
      "execution_count": null,
      "outputs": [
        {
          "output_type": "stream",
          "name": "stdout",
          "text": [
            "Медиана: 2.0\n"
          ]
        }
      ]
    },
    {
      "cell_type": "markdown",
      "source": [
        "Создайте два массива размером (3, 3) и (1, 3). Примените Broadcasting для сложения этих двух массивов."
      ],
      "metadata": {
        "id": "uNg7Yi2BLZ07"
      }
    },
    {
      "cell_type": "code",
      "source": [
        "array1 = np.array([[1, 2, 3],\n",
        "                   [4, 5, 6],\n",
        "                   [7, 8, 9]])\n",
        "\n",
        "array2 = np.array([[10, 20, 30]])\n",
        "\n",
        "result = array1 + array2\n",
        "\n",
        "print(\"Первый массив:n\", array1)\n",
        "print(\"Второй массив:n\", array2)\n",
        "print(\"Результат сложения:n\", result)"
      ],
      "metadata": {
        "colab": {
          "base_uri": "https://localhost:8080/"
        },
        "id": "HUxzR1ZILaSz",
        "outputId": "facb3139-6a93-4347-813c-2391d7ad18bd"
      },
      "execution_count": null,
      "outputs": [
        {
          "output_type": "stream",
          "name": "stdout",
          "text": [
            "Первый массив:n [[1 2 3]\n",
            " [4 5 6]\n",
            " [7 8 9]]\n",
            "Второй массив:n [[10 20 30]]\n",
            "Результат сложения:n [[11 22 33]\n",
            " [14 25 36]\n",
            " [17 28 39]]\n"
          ]
        }
      ]
    },
    {
      "cell_type": "markdown",
      "source": [
        "Создайте массив из чисел от 1 до 20. Используя булевый массив, отфильтруйте только числа, которые делятся на 3"
      ],
      "metadata": {
        "id": "mJKtQHmDMmhD"
      }
    },
    {
      "cell_type": "code",
      "source": [
        "array = np.arange(1, 21)\n",
        "\n",
        "boolean_mask = (array % 3 == 0)\n",
        "\n",
        "filtered_array = array[boolean_mask]\n",
        "\n",
        "print(\"Исходный массив:\", array)\n",
        "print(\"Числа, которые делятся на 3:\", filtered_array)"
      ],
      "metadata": {
        "colab": {
          "base_uri": "https://localhost:8080/"
        },
        "id": "ugiUbTq6Mu_T",
        "outputId": "9accf0fd-a66c-4328-a467-b86911a0a776"
      },
      "execution_count": null,
      "outputs": [
        {
          "output_type": "stream",
          "name": "stdout",
          "text": [
            "Исходный массив: [ 1  2  3  4  5  6  7  8  9 10 11 12 13 14 15 16 17 18 19 20]\n",
            "Числа, которые делятся на 3: [ 3  6  9 12 15 18]\n"
          ]
        }
      ]
    },
    {
      "cell_type": "markdown",
      "source": [
        "Найдите определитель матрицы  $A = \\begin{pmatrix} 1 & 2 \\\\ 3 & 4 \\end{pmatrix}$.\n"
      ],
      "metadata": {
        "id": "998UbGZ7M2CM"
      }
    },
    {
      "cell_type": "code",
      "source": [
        "a = np.array([[1, 2], [3, 4]])\n",
        "det = np.linalg.det(a)\n",
        "print(det)"
      ],
      "metadata": {
        "colab": {
          "base_uri": "https://localhost:8080/"
        },
        "id": "lMwe51NjNYR0",
        "outputId": "d920b952-1363-4495-fcf6-b1fe7c66e0aa"
      },
      "execution_count": null,
      "outputs": [
        {
          "output_type": "stream",
          "name": "stdout",
          "text": [
            "-2.0000000000000004\n"
          ]
        }
      ]
    },
    {
      "cell_type": "markdown",
      "source": [
        "##Задания для самостоятельных работ\n",
        "\n",
        "1. Создайте двумерный массив и транспонируйте его\n",
        "2. Создайте массив с произвольными целыми числами от 0 до 100. Найдите и выведите все элементы, которые являются кратными 5"
      ],
      "metadata": {
        "id": "gmy1e_qfUmsL"
      }
    }
  ]
}