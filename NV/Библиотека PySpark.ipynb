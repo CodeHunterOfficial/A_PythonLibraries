{
  "nbformat": 4,
  "nbformat_minor": 0,
  "metadata": {
    "colab": {
      "provenance": [],
      "include_colab_link": true
    },
    "kernelspec": {
      "name": "python3",
      "display_name": "Python 3"
    },
    "language_info": {
      "name": "python"
    }
  },
  "cells": [
    {
      "cell_type": "markdown",
      "metadata": {
        "id": "view-in-github",
        "colab_type": "text"
      },
      "source": [
        "<a href=\"https://colab.research.google.com/github/CodeHunterOfficial/A_PythonLibraries/blob/main/NV/%D0%91%D0%B8%D0%B1%D0%BB%D0%B8%D0%BE%D1%82%D0%B5%D0%BA%D0%B0%20PySpark.ipynb\" target=\"_parent\"><img src=\"https://colab.research.google.com/assets/colab-badge.svg\" alt=\"Open In Colab\"/></a>"
      ]
    },
    {
      "cell_type": "markdown",
      "source": [
        "#Библиотека PySpark\n",
        "\n",
        "## Введение в PySpark\n",
        "\n",
        "### Что такое PySpark?\n",
        "\n",
        "**PySpark** — это интерфейс Python для Apache Spark, мощного инструмента для обработки больших данных. Apache Spark является распределённой вычислительной системой, которая обеспечивает быстрое выполнение обработки данных благодаря своей архитектуре, основанной на памяти. PySpark позволяет использовать все возможности Spark с помощью языка Python, что делает его доступным для широкого круга специалистов, включая аналитиков данных, разработчиков и ученых.\n",
        "\n",
        "### Зачем использовать PySpark?\n",
        "\n",
        "1. **Обработка больших данных**: PySpark позволяет работать с данными, которые не помещаются в память одного компьютера. Вы можете обрабатывать терабайты данных, используя кластер, состоящий из нескольких узлов.\n",
        "  \n",
        "2. **Быстрота обработки**: Spark использует вычисления в памяти, что делает его быстрее, чем традиционные системы обработки данных, такие как Hadoop MapReduce.\n",
        "\n",
        "3. **Универсальность**: PySpark поддерживает различные источники данных (например, HDFS, S3, JDBC) и позволяет интегрироваться с инструментами для машинного обучения, такими как MLlib.\n",
        "\n",
        "4. **Легкость в использовании**: Поскольку PySpark использует Python, разработчики могут легко писать и поддерживать код, используя знакомый язык.\n",
        "\n",
        "## Установка PySpark\n",
        "\n",
        "Перед тем как мы начнём изучение возможностей PySpark, необходимо установить его. Для установки PySpark вы можете использовать `pip`. В командной строке выполните следующую команду:"
      ],
      "metadata": {
        "id": "uokUIQFE_B4Z"
      }
    },
    {
      "cell_type": "code",
      "source": [
        "pip install pyspark"
      ],
      "metadata": {
        "id": "YzV4d6l0_C4O",
        "colab": {
          "base_uri": "https://localhost:8080/"
        },
        "outputId": "a6aced45-13b7-4cf6-892f-172cfcae5148"
      },
      "execution_count": 1,
      "outputs": [
        {
          "output_type": "stream",
          "name": "stdout",
          "text": [
            "Requirement already satisfied: pyspark in /usr/local/lib/python3.11/dist-packages (3.5.4)\n",
            "Requirement already satisfied: py4j==0.10.9.7 in /usr/local/lib/python3.11/dist-packages (from pyspark) (0.10.9.7)\n"
          ]
        }
      ]
    },
    {
      "cell_type": "markdown",
      "source": [
        "После установки PySpark вы можете запустить его в интерактивной среде, такой как Jupyter Notebook или в вашем IDE.\n",
        "\n",
        "## Основные концепции PySpark\n",
        "\n",
        "### 1. RDD (Resilient Distributed Dataset)\n",
        "\n",
        "RDD — это основной абстрактный тип данных в Spark, представляющий собой распределённый набор данных. RDD может быть создан из различных источников, таких как текстовые файлы, HDFS, локальные файловые системы и даже существующие коллекции в памяти.\n",
        "\n",
        "#### Пример создания RDD\n",
        "\n",
        "Давайте создадим простой RDD из списка."
      ],
      "metadata": {
        "id": "MyzTWsK-_EcV"
      }
    },
    {
      "cell_type": "code",
      "source": [
        "from pyspark import SparkContext\n",
        "\n",
        "# Создаем объект SparkContext\n",
        "sc = SparkContext(\"local\", \"MyApp\")\n",
        "\n",
        "# Создаем RDD из списка\n",
        "data = [1, 2, 3, 4, 5]\n",
        "rdd = sc.parallelize(data)\n",
        "\n",
        "# Печатаем элементы RDD\n",
        "print(rdd.collect())"
      ],
      "metadata": {
        "id": "d15-_UqK_Gxg",
        "colab": {
          "base_uri": "https://localhost:8080/"
        },
        "outputId": "6167206e-718a-4c64-f0f1-c6462b0f6a98"
      },
      "execution_count": 2,
      "outputs": [
        {
          "output_type": "stream",
          "name": "stdout",
          "text": [
            "[1, 2, 3, 4, 5]\n"
          ]
        }
      ]
    },
    {
      "cell_type": "markdown",
      "source": [
        "**Объяснение кода**:\n",
        "- Сначала мы импортируем `SparkContext` из модуля `pyspark`.\n",
        "- Создаем объект `SparkContext`, который позволяет взаимодействовать с кластером.\n",
        "- Затем мы используем метод `parallelize`, чтобы создать RDD из списка `data`.\n",
        "- Метод `collect` возвращает все элементы RDD в виде списка, который мы выводим на экран.\n",
        "\n",
        "### 2. Операции над RDD\n",
        "\n",
        "С RDD можно выполнять две основные категории операций: **преобразования** и **действия**.\n",
        "\n",
        "- **Преобразования**: создают новый RDD из существующего (например, `map`, `filter`, `flatMap`).\n",
        "- **Действия**: выполняют вычисления и возвращают результат (например, `collect`, `count`, `reduce`).\n",
        "\n",
        "#### Пример использования преобразований и действий\n",
        "\n",
        "В следующем примере мы применим преобразование `map` и действие `reduce`."
      ],
      "metadata": {
        "id": "e5uN2VMj_Iez"
      }
    },
    {
      "cell_type": "code",
      "source": [
        "# Преобразование: увеличиваем каждое число в RDD на 1\n",
        "incremented_rdd = rdd.map(lambda x: x + 1)\n",
        "\n",
        "# Действие: суммируем все числа в RDD\n",
        "result = incremented_rdd.reduce(lambda x, y: x + y)\n",
        "\n",
        "print(result)  # Ожидаем 21"
      ],
      "metadata": {
        "id": "dInZ6BjJ_Kto",
        "colab": {
          "base_uri": "https://localhost:8080/"
        },
        "outputId": "42e4cf0a-fcfe-4101-9f8e-39735abd3586"
      },
      "execution_count": 3,
      "outputs": [
        {
          "output_type": "stream",
          "name": "stdout",
          "text": [
            "20\n"
          ]
        }
      ]
    },
    {
      "cell_type": "markdown",
      "source": [
        "**Объяснение кода**:\n",
        "- Мы используем `map`, чтобы увеличить каждое значение RDD на 1, создавая новый RDD `incremented_rdd`.\n",
        "- Затем с помощью `reduce` мы суммируем все элементы нового RDD и выводим результат.\n",
        "\n",
        "### 3. DataFrame\n",
        "\n",
        "DataFrame — это распределённый набор данных, организованный в виде таблицы, где каждая колонка имеет имя и тип данных. DataFrame поддерживает SQL-подобные операции и предоставляет более высокоуровневый интерфейс, чем RDD.\n",
        "\n",
        "#### Пример создания DataFrame\n",
        "\n",
        "Для создания DataFrame необходимо сначала импортировать нужные модули и создать `SparkSession`."
      ],
      "metadata": {
        "id": "8c2mVGXD_Mls"
      }
    },
    {
      "cell_type": "code",
      "source": [
        "from pyspark.sql import SparkSession\n",
        "\n",
        "# Создаем SparkSession\n",
        "spark = SparkSession.builder.appName(\"MyApp\").getOrCreate()\n",
        "\n",
        "# Создаем DataFrame из списка\n",
        "data = [(\"Alice\", 1), (\"Bob\", 2), (\"Cathy\", 3)]\n",
        "columns = [\"Name\", \"Value\"]\n",
        "\n",
        "df = spark.createDataFrame(data, columns)\n",
        "\n",
        "# Печатаем содержимое DataFrame\n",
        "df.show()"
      ],
      "metadata": {
        "id": "D6XdpLvQ_On-",
        "colab": {
          "base_uri": "https://localhost:8080/"
        },
        "outputId": "167193b6-0fde-4b9b-8a51-95e45f7b4f9c"
      },
      "execution_count": 4,
      "outputs": [
        {
          "output_type": "stream",
          "name": "stdout",
          "text": [
            "+-----+-----+\n",
            "| Name|Value|\n",
            "+-----+-----+\n",
            "|Alice|    1|\n",
            "|  Bob|    2|\n",
            "|Cathy|    3|\n",
            "+-----+-----+\n",
            "\n"
          ]
        }
      ]
    },
    {
      "cell_type": "markdown",
      "source": [
        "**Объяснение кода**:\n",
        "- Мы создаем `SparkSession`, который является основной точкой входа для работы с DataFrame.\n",
        "- Затем создаем DataFrame `df` из списка кортежей `data` и указываем названия колонок.\n",
        "- Метод `show` выводит содержимое DataFrame.\n",
        "\n",
        "### 4. Операции над DataFrame\n",
        "\n",
        "Как и RDD, с DataFrame можно выполнять различные операции, включая фильтрацию, группировку и агрегирование.\n",
        "\n",
        "#### Пример фильтрации и группировки"
      ],
      "metadata": {
        "id": "3xnnjG2K_Qhq"
      }
    },
    {
      "cell_type": "code",
      "source": [
        "# Фильтрация: выбираем только тех, у кого Value больше 1\n",
        "filtered_df = df.filter(df.Value > 1)\n",
        "\n",
        "# Группировка: считаем количество записей для каждого имени\n",
        "grouped_df = filtered_df.groupBy(\"Name\").count()\n",
        "\n",
        "# Печатаем результаты\n",
        "grouped_df.show()"
      ],
      "metadata": {
        "id": "JX9-Jggr_SaC",
        "colab": {
          "base_uri": "https://localhost:8080/"
        },
        "outputId": "ca63f942-5b0c-4cf5-adda-0343bb3453c5"
      },
      "execution_count": 5,
      "outputs": [
        {
          "output_type": "stream",
          "name": "stdout",
          "text": [
            "+-----+-----+\n",
            "| Name|count|\n",
            "+-----+-----+\n",
            "|  Bob|    1|\n",
            "|Cathy|    1|\n",
            "+-----+-----+\n",
            "\n"
          ]
        }
      ]
    },
    {
      "cell_type": "markdown",
      "source": [
        "**Объяснение кода**:\n",
        "- С помощью метода `filter` мы оставляем только те строки, где значение `Value` больше 1.\n",
        "- Затем с помощью `groupBy` и `count` мы считаем количество записей для каждого имени в отфильтрованном DataFrame.\n",
        "- Результат выводится на экран.\n",
        "\n",
        "### 5. Чтение и запись данных\n",
        "\n",
        "PySpark предоставляет множество способов для чтения и записи данных из различных форматов, таких как CSV, JSON и Parquet.\n",
        "\n",
        "#### Пример чтения CSV-файла"
      ],
      "metadata": {
        "id": "mML5JYLp_UIl"
      }
    },
    {
      "cell_type": "code",
      "source": [],
      "metadata": {
        "id": "Bvsyb_4sCPPE"
      },
      "execution_count": null,
      "outputs": []
    },
    {
      "cell_type": "code",
      "source": [
        "# Чтение CSV-файла в DataFrame\n",
        "df_csv = spark.read.csv(\"path/to/file.csv\", header=True, inferSchema=True)\n",
        "\n",
        "# Печатаем содержимое DataFrame\n",
        "df_csv.show()"
      ],
      "metadata": {
        "id": "WJtPqeBk_V9j"
      },
      "execution_count": 6,
      "outputs": []
    },
    {
      "cell_type": "markdown",
      "source": [
        "**Объяснение кода**:\n",
        "- Метод `read.csv` позволяет прочитать CSV-файл. Параметры `header=True` указывают, что первая строка файла содержит имена колонок, а `inferSchema=True` позволяет автоматически определить типы данных.\n",
        "- Метод `show` выводит содержимое считанного DataFrame.\n",
        "\n",
        "#### Пример записи DataFrame в Parquet"
      ],
      "metadata": {
        "id": "nMS_CEZ0_Yie"
      }
    },
    {
      "cell_type": "code",
      "source": [
        "# Запись DataFrame в Parquet-файл\n",
        "df.write.parquet(\"path/to/output.parquet\")"
      ],
      "metadata": {
        "id": "efVDVybn_aqW"
      },
      "execution_count": null,
      "outputs": []
    },
    {
      "cell_type": "markdown",
      "source": [
        "**Объяснение кода**:\n",
        "- Метод `write.parquet` записывает DataFrame в формате Parquet, который является эффективным форматом для хранения больших данных.\n",
        "\n",
        "### 6. Машинное обучение с PySpark\n",
        "\n",
        "PySpark также предоставляет библиотеку MLlib для выполнения задач машинного обучения. MLlib поддерживает алгоритмы классификации, регрессии, кластеризации и многое другое.\n",
        "\n",
        "#### Пример простого линейного регрессора"
      ],
      "metadata": {
        "id": "_K_gmmpy_cQE"
      }
    },
    {
      "cell_type": "code",
      "source": [
        "from pyspark.ml.linalg import Vectors\n",
        "from pyspark.ml.regression import LinearRegression\n",
        "from pyspark.sql import Row\n",
        "\n",
        "# Создаем DataFrame для обучения\n",
        "training_data = [\n",
        "    Row(label=1.0, features=Vectors.dense([1.0])),\n",
        "    Row(label=2.0, features=Vectors.dense([2.0])),\n",
        "    Row(label=3.0, features=Vectors.dense([3.0])),\n",
        "]\n",
        "\n",
        "train_df = spark.createDataFrame(training_data)\n",
        "\n",
        "# Создаем линейный регрессор\n",
        "lr = LinearRegression()\n",
        "\n",
        "# Обучаем модель\n",
        "model = lr.fit(train_df)\n",
        "\n",
        "# Печатаем коэффициенты\n",
        "print(\"Coefficients: \" + str(model.coefficients))\n",
        "print(\"Intercept: \" + str(model.intercept))"
      ],
      "metadata": {
        "id": "WuM1N2dY_eSU",
        "colab": {
          "base_uri": "https://localhost:8080/"
        },
        "outputId": "3769fb08-8fa6-44a9-93e4-a6625c6910e0"
      },
      "execution_count": 8,
      "outputs": [
        {
          "output_type": "stream",
          "name": "stdout",
          "text": [
            "Coefficients: [1.000000000000001]\n",
            "Intercept: -2.5381812502863063e-15\n"
          ]
        }
      ]
    },
    {
      "cell_type": "markdown",
      "source": [
        "**Объяснение кода**:\n",
        "- Мы создаем DataFrame `train_df`, где каждая строка содержит метку и вектор признаков.\n",
        "- Создаем объект `LinearRegression` и обучаем модель с помощью метода `fit`.\n",
        "- После обучения мы выводим коэффициенты и свободный член модели.\n",
        "\n",
        "\n",
        "# Дополнительные аспекты библиотеки PySpark\n",
        "\n",
        "## 1. Расширенные операции с DataFrame\n",
        "\n",
        "### Операции над строками\n",
        "\n",
        "В рамках обработки данных с использованием PySpark, операции над строками представляют собой важный аспект, особенно при работе с неструктурированными и полуструктурированными данными. Библиотека предоставляет ряд встроенных функций, которые позволяют эффективно манипулировать строковыми значениями в DataFrame. Применение этих функций может значительно упростить процесс предобработки данных.\n",
        "\n",
        "#### Пример: Конкатенация строк\n",
        "\n",
        "Конкатенация строк является распространенной задачей в анализе данных. Она позволяет объединять различные текстовые поля в одно, что может быть полезно, например, при формировании полного имени из имени и фамилии."
      ],
      "metadata": {
        "id": "Ngt5Elke_gUs"
      }
    },
    {
      "cell_type": "code",
      "source": [
        "from pyspark.sql import functions as F\n",
        "\n",
        "# Создаем DataFrame с именами и фамилиями\n",
        "data = [(\"Alice\", \"Smith\"), (\"Bob\", \"Johnson\"), (\"Cathy\", \"Williams\")]\n",
        "columns = [\"FirstName\", \"LastName\"]\n",
        "\n",
        "df_names = spark.createDataFrame(data, columns)\n",
        "\n",
        "# Конкатенация строк с использованием функции concat\n",
        "df_full_names = df_names.withColumn(\"FullName\", F.concat(F.col(\"FirstName\"), F.lit(\" \"), F.col(\"LastName\")))\n",
        "\n",
        "# Выводим результат\n",
        "df_full_names.show()"
      ],
      "metadata": {
        "id": "5ZiSFWUr_j-V",
        "colab": {
          "base_uri": "https://localhost:8080/"
        },
        "outputId": "63b4ce4d-727c-4102-989f-971c9d9a394f"
      },
      "execution_count": 9,
      "outputs": [
        {
          "output_type": "stream",
          "name": "stdout",
          "text": [
            "+---------+--------+--------------+\n",
            "|FirstName|LastName|      FullName|\n",
            "+---------+--------+--------------+\n",
            "|    Alice|   Smith|   Alice Smith|\n",
            "|      Bob| Johnson|   Bob Johnson|\n",
            "|    Cathy|Williams|Cathy Williams|\n",
            "+---------+--------+--------------+\n",
            "\n"
          ]
        }
      ]
    },
    {
      "cell_type": "markdown",
      "source": [
        "**Объяснение кода**:\n",
        "- На первом этапе создается DataFrame, содержащий имена и фамилии.\n",
        "- Затем, с помощью функции `concat`, создается новый столбец `FullName`, в который объединяются значения из столбцов `FirstName` и `LastName` с пробелом между ними. Данная операция позволяет формировать более удобочитаемое представление данных.\n",
        "- Наконец, метод `show` используется для визуализации результата.\n",
        "\n",
        "#### Пример: Работа с временными данными\n",
        "\n",
        "Работа с временными данными также является критически важной в аналитике, особенно в контексте временных рядов. PySpark предоставляет функции для преобразования строковых представлений дат и времени в тип данных `DateType`, что позволяет выполнять дополнительные операции, такие как вычисление временных интервалов."
      ],
      "metadata": {
        "id": "DV3UXxCN_mDz"
      }
    },
    {
      "cell_type": "code",
      "source": [
        "# Создаем DataFrame с временными данными\n",
        "data = [(\"2024-09-26\",), (\"2024-09-27\",)]\n",
        "columns = [\"Date\"]\n",
        "\n",
        "df_dates = spark.createDataFrame(data, columns)\n",
        "\n",
        "# Преобразуем строки в тип Date\n",
        "df_dates = df_dates.withColumn(\"Date\", F.to_date(F.col(\"Date\")))\n",
        "\n",
        "# Добавляем новый столбец с текущей датой\n",
        "df_dates = df_dates.withColumn(\"CurrentDate\", F.current_date())\n",
        "\n",
        "# Выводим результат\n",
        "df_dates.show()"
      ],
      "metadata": {
        "id": "NPlarUy4_oCf",
        "colab": {
          "base_uri": "https://localhost:8080/"
        },
        "outputId": "52e3b101-2819-47cf-c229-39043f1e3d46"
      },
      "execution_count": 10,
      "outputs": [
        {
          "output_type": "stream",
          "name": "stdout",
          "text": [
            "+----------+-----------+\n",
            "|      Date|CurrentDate|\n",
            "+----------+-----------+\n",
            "|2024-09-26| 2025-02-01|\n",
            "|2024-09-27| 2025-02-01|\n",
            "+----------+-----------+\n",
            "\n"
          ]
        }
      ]
    },
    {
      "cell_type": "markdown",
      "source": [
        "**Объяснение кода**:\n",
        "- В этом примере мы создаем DataFrame, содержащий даты в строковом формате.\n",
        "- С помощью функции `to_date` строки преобразуются в формат даты, что позволяет использовать возможности для работы с временными данными.\n",
        "- Затем мы добавляем новый столбец `CurrentDate`, который заполняется текущей датой с помощью функции `current_date`.\n",
        "\n",
        "## 2. Оптимизация производительности\n",
        "\n",
        "### Кэширование\n",
        "\n",
        "Кэширование данных — это важный механизм в PySpark, который позволяет значительно увеличить производительность при выполнении повторяющихся операций. Используя кэширование, разработчики могут сохранять промежуточные результаты в памяти, что снижает время доступа к данным и уменьшает нагрузку на вычислительные ресурсы.\n",
        "\n",
        "#### Пример кэширования RDD\n",
        "\n",
        "Кэширование RDD может быть выполнено с помощью метода `cache()`, который сохраняет данные в памяти для последующего использования."
      ],
      "metadata": {
        "id": "iTxzc5YZ_qfN"
      }
    },
    {
      "cell_type": "code",
      "source": [
        "# Создаем RDD из списка\n",
        "data = [1, 2, 3, 4, 5]\n",
        "rdd = sc.parallelize(data)\n",
        "\n",
        "# Кэшируем RDD для увеличения производительности\n",
        "rdd.cache()\n",
        "\n",
        "# Выполняем несколько действий\n",
        "print(\"Сумма:\", rdd.sum())\n",
        "print(\"Максимум:\", rdd.max())"
      ],
      "metadata": {
        "id": "mr4RlGim_tqi",
        "colab": {
          "base_uri": "https://localhost:8080/"
        },
        "outputId": "18e113cd-56ab-435b-d523-bd9b2eeebc0d"
      },
      "execution_count": 11,
      "outputs": [
        {
          "output_type": "stream",
          "name": "stdout",
          "text": [
            "Сумма: 15\n",
            "Максимум: 5\n"
          ]
        }
      ]
    },
    {
      "cell_type": "markdown",
      "source": [
        "**Объяснение кода**:\n",
        "- В этом примере мы создаем RDD из простого списка целых чисел.\n",
        "- Метод `cache()` используется для сохранения RDD в памяти. Это позволяет избежать повторного вычисления значений, что особенно важно, если RDD будет использоваться многократно.\n",
        "- Затем мы выполняем две операции: `sum()` и `max()`, которые используют кэшированные данные, что приводит к увеличению скорости выполнения.\n",
        "\n",
        "### Оптимизация запросов\n",
        "\n",
        "PySpark позволяет анализировать планы выполнения запросов, что является важной частью оптимизации производительности. Использование метода `explain()` дает возможность увидеть, как Spark будет обрабатывать запрос, что позволяет выявить узкие места и улучшить производительность.\n",
        "\n",
        "#### Пример анализа запроса"
      ],
      "metadata": {
        "id": "l9RK6Pq0_vtG"
      }
    },
    {
      "cell_type": "code",
      "source": [
        "# Пример DataFrame\n",
        "data = [(\"Alice\", 1), (\"Bob\", 2), (\"Cathy\", 3)]\n",
        "df = spark.createDataFrame(data, [\"Name\", \"Value\"])\n",
        "\n",
        "# Применяем фильтрацию и анализируем план выполнения\n",
        "filtered_df = df.filter(df.Value > 1)\n",
        "\n",
        "# Выводим план выполнения\n",
        "filtered_df.explain()"
      ],
      "metadata": {
        "id": "uVFaTknB_xxZ",
        "colab": {
          "base_uri": "https://localhost:8080/"
        },
        "outputId": "f774b132-9495-45ca-8648-ec6be8b3373d"
      },
      "execution_count": 12,
      "outputs": [
        {
          "output_type": "stream",
          "name": "stdout",
          "text": [
            "== Physical Plan ==\n",
            "*(1) Filter (isnotnull(Value#138L) AND (Value#138L > 1))\n",
            "+- *(1) Scan ExistingRDD[Name#137,Value#138L]\n",
            "\n",
            "\n"
          ]
        }
      ]
    },
    {
      "cell_type": "markdown",
      "source": [
        "**Объяснение кода**:\n",
        "- Мы создаем DataFrame с именами и значениями, а затем применяем фильтрацию для отбора записей, где значение больше 1.\n",
        "- Метод `explain()` выводит информацию о плане выполнения, включая используемые алгоритмы и методы доступа, что позволяет оптимизировать запросы и улучшить производительность.\n",
        "\n",
        "## 3. Управление данными\n",
        "\n",
        "### Чтение и запись в разных форматах\n",
        "\n",
        "PySpark поддерживает множество форматов данных, таких как JSON, Parquet и CSV, что позволяет разработчикам выбирать наиболее подходящие форматы в зависимости от их требований к производительности и размера данных. Формат Parquet, в частности, часто используется для хранения больших объемов данных благодаря своей эффективности.\n",
        "\n",
        "#### Пример чтения JSON-файла\n",
        "\n",
        "Чтение данных из файлов в формате JSON может быть выполнено с использованием метода `read.json`, который автоматически определяет схему данных."
      ],
      "metadata": {
        "id": "hT3CUBF3_zWu"
      }
    },
    {
      "cell_type": "code",
      "source": [
        "# Чтение JSON-файла\n",
        "df_json = spark.read.json(\"path/to/file.json\")\n",
        "\n",
        "# Печатаем содержимое DataFrame\n",
        "df_json.show()"
      ],
      "metadata": {
        "id": "zbBG8jp2ADTA"
      },
      "execution_count": 13,
      "outputs": []
    },
    {
      "cell_type": "markdown",
      "source": [
        "**Объяснение кода**:\n",
        "- Метод `read.json()` загружает данные из указанного JSON-файла и автоматически создает DataFrame с соответствующей схемой, что упрощает процесс загрузки данных.\n",
        "\n",
        "#### Пример записи DataFrame в Parquet\n",
        "\n",
        "Запись данных в формате Parquet может быть выполнена с использованием метода `write.parquet`, который сохраняет данные в столбцовом формате, обеспечивая высокую производительность."
      ],
      "metadata": {
        "id": "x9iixu-uAFBZ"
      }
    },
    {
      "cell_type": "code",
      "source": [
        "# Запись DataFrame в Parquet\n",
        "df_json.write.parquet(\"path/to/output.parquet\")"
      ],
      "metadata": {
        "id": "bgGbRsdrAG44"
      },
      "execution_count": null,
      "outputs": []
    },
    {
      "cell_type": "markdown",
      "source": [
        "**Объяснение кода**:\n",
        "- Использование метода `write.parquet()` позволяет эффективно сохранить данные в формате Parquet, который обеспечивает высокую скорость чтения и записи благодаря использованию сжатия и оптимизации для анализа данных.\n",
        "\n",
        "## 4. Применение в реальных проектах\n",
        "\n",
        "### ETL-процессы\n",
        "\n",
        "ETL (Extract, Transform, Load) — это процесс извлечения, трансформации и загрузки данных, который широко используется в системах бизнес-аналитики и хранения данных. PySpark позволяет эффективно реализовать ETL-процессы, используя его мощные инструменты для обработки больших объемов данных.\n",
        "\n",
        "#### Пример ETL-процесса"
      ],
      "metadata": {
        "id": "bgRGSmaFAIdQ"
      }
    },
    {
      "cell_type": "code",
      "source": [
        "# Этап 1: Извлечение данных\n",
        "df_source = spark.read.csv(\"path/to/source.csv\", header=True)\n",
        "\n",
        "# Этап 2: Трансформация данных\n",
        "df_transformed = df_source.filter(df_source[\"Value\"] > 100)\n",
        "\n",
        "# Этап 3: Загрузка данных\n",
        "df_transformed.write.parquet(\"path/to/target.parquet\")"
      ],
      "metadata": {
        "id": "6xzoW9vcAKkV"
      },
      "execution_count": null,
      "outputs": []
    },
    {
      "cell_type": "markdown",
      "source": [
        "**Объяснение кода**:\n",
        "- На первом этапе происходит извлечение данных из CSV-файла с заголовком.\n",
        "- Второй этап включает трансформацию данных, где выбираются только те записи, где значение больше 100. Этот процесс может включать различные операции, такие как фильтрация, агрегация и объединение данных.\n",
        "- На третьем этапе отфильтрованные данные записываются в файл формата Parquet, что обеспечивает удобный и эффективный доступ к данным в будущем.\n",
        "\n",
        "## 5. Машинное обучение и потоковая обработка\n",
        "\n",
        "### Расширенные методы машинного обучения\n",
        "\n",
        "PySpark предоставляет библиотеку MLlib для выполнения различных задач машинного обучения. Эта библиотека включает в себя алгоритмы для классификации, регрессии, кластеризации и рекомендательных систем, что делает её мощным инструментом для анализа данных.\n",
        "\n",
        "#### Пример: Логистическая регрессия\n",
        "\n",
        "Логистическая регрессия является популярным методом классификации, который используется для предсказания вероятностей бинарных исходов."
      ],
      "metadata": {
        "id": "H_18DfwyAMWi"
      }
    },
    {
      "cell_type": "code",
      "source": [
        "from pyspark.ml.classification import LogisticRegression\n",
        "from pyspark.ml.linalg import Vectors\n",
        "from pyspark.sql import Row\n",
        "\n",
        "# Создаем DataFrame для обучения модели\n",
        "training_data = [\n",
        "    Row(label=0.0, features=Vectors.dense([0.0])),\n",
        "    Row(label=1.0, features=Vectors.dense([1.0])),\n",
        "]\n",
        "\n",
        "train_df = spark.createDataFrame(training_data)\n",
        "\n",
        "# Создаем экземпляр логистического регрессора\n",
        "lr = LogisticRegression()\n",
        "\n",
        "# Обучаем модель\n",
        "model = lr.fit(train_df)\n",
        "\n",
        "# Печатаем коэффициенты и смещение\n",
        "\n",
        "# Модели\n",
        "print(\"Coefficients: \" + str(model.coefficients))\n",
        "print(\"Intercept: \" + str(model.intercept))"
      ],
      "metadata": {
        "id": "0h62cwbuAOsS",
        "colab": {
          "base_uri": "https://localhost:8080/"
        },
        "outputId": "de477b8d-7e36-48bf-fb84-f89983f21188"
      },
      "execution_count": 14,
      "outputs": [
        {
          "output_type": "stream",
          "name": "stdout",
          "text": [
            "Coefficients: [36.292997853428766]\n",
            "Intercept: -18.146498928277396\n"
          ]
        }
      ]
    },
    {
      "cell_type": "markdown",
      "source": [
        "**Объяснение кода**:\n",
        "- В этом примере создается DataFrame, содержащий признаки и метки, которые используются для обучения модели логистической регрессии.\n",
        "- Модель обучается с помощью метода `fit`, после чего выводятся коэффициенты и смещение, которые определяют форму функции предсказания.\n",
        "\n",
        "### Потоковая обработка с Structured Streaming\n",
        "\n",
        "Structured Streaming — это высокоуровневая API PySpark для обработки потоков данных в режиме реального времени. Она предоставляет удобный интерфейс для обработки данных из различных источников, таких как Kafka и файловые системы.\n",
        "\n",
        "#### Пример потоковой обработки"
      ],
      "metadata": {
        "id": "OU5Nx7k8AVgw"
      }
    },
    {
      "cell_type": "code",
      "source": [
        "# Чтение потоковых данных из Kafka\n",
        "df_stream = spark.readStream.format(\"kafka\") \\\n",
        "    .option(\"kafka.bootstrap.servers\", \"localhost:9092\") \\\n",
        "    .option(\"subscribe\", \"topic_name\").load()\n",
        "\n",
        "# Обработка данных: преобразуем значения в строки\n",
        "df_processed = df_stream.selectExpr(\"CAST(value AS STRING)\")\n",
        "\n",
        "# Запись результатов в консоль\n",
        "query = df_processed.writeStream.outputMode(\"append\").format(\"console\").start()\n",
        "query.awaitTermination()"
      ],
      "metadata": {
        "id": "uwV1H5AOAWPf"
      },
      "execution_count": null,
      "outputs": []
    },
    {
      "cell_type": "markdown",
      "source": [
        "**Объяснение кода**:\n",
        "- Мы подключаемся к Kafka для чтения потоковых данных с помощью `readStream`, после чего преобразуем бинарные значения в строки с помощью `selectExpr`.\n",
        "- Данные в реальном времени выводятся в консоль с использованием метода `writeStream` в режиме `append`, что позволяет обновлять консоль по мере поступления новых данных.\n",
        "\n",
        "\n",
        "Таким образом, PySpark — это мощный инструмент для обработки и анализа больших данных, который сочетает в себе простоту использования Python и возможности распределённой вычислительной системы Apache Spark. С помощью PySpark можно легко создавать и обрабатывать RDD и DataFrame, а также выполнять сложные операции, включая машинное обучение."
      ],
      "metadata": {
        "id": "ehKbzg2vAYQW"
      }
    },
    {
      "cell_type": "markdown",
      "source": [
        "## Вопросы для самопроверки\n",
        "\n",
        "\n",
        "1. Установите PySpark на своем компьютере и запустите интерактивную среду (например, Jupyter Notebook).\n",
        "2. Объясните, что такое PySpark и его основные преимущества по сравнению с традиционными системами обработки данных.\n",
        "3. Создайте RDD из списка чисел от 1 до 10 и выведите его элементы.\n",
        "4. Примените операцию `map` к RDD, чтобы увеличить каждое число на 2, и выведите результат.\n",
        "5. Используйте операцию `filter`, чтобы оставить только четные числа из RDD.\n",
        "6. Создайте новый RDD, который содержит сумму всех элементов оригинального RDD.\n",
        "7. Создайте DataFrame из списка кортежей, содержащих имена и возраст людей.\n",
        "8. Выведите первые 5 строк созданного DataFrame.\n",
        "9. Примените фильтрацию к DataFrame, чтобы выбрать только тех, кто старше 30 лет.\n",
        "10. Используйте метод `groupBy`, чтобы посчитать количество людей по возрастным группам.\n",
        "11. Скачайте CSV-файл с данными и загрузите его в DataFrame.\n",
        "12. Выведите схему загруженного DataFrame.\n",
        "13. Сохраните DataFrame в формате Parquet.\n",
        "14. Прочитайте данные из Parquet-файла и выведите их на экран.\n",
        "15. Создайте DataFrame для обучения модели линейной регрессии.\n",
        "16. Обучите модель линейной регрессии на созданном DataFrame и выведите коэффициенты.\n",
        "17. Создайте DataFrame для логистической регрессии и обучите модель.\n",
        "18. Оцените качество модели, используя метрики, такие как AUC.\n",
        "19. Создайте DataFrame с именами и фамилиями, затем объедините их в один столбец с полными именами.\n",
        "20. Преобразуйте строковые даты в тип `DateType` и добавьте столбец с текущей датой.\n",
        "21. Используйте функцию `withColumn`, чтобы добавить новый столбец с возрастом на основе даты рождения.\n",
        "22. Кэшируйте RDD и выполните несколько операций, чтобы сравнить время выполнения.\n",
        "23. Используйте метод `explain()` для анализа плана выполнения запроса на DataFrame.\n",
        "24. Реализуйте простой ETL-процесс: извлеките данные из CSV, трансформируйте их и загрузите в Parquet.\n",
        "25. Напишите скрипт для извлечения данных из JSON-файла и их обработки.\n",
        "26. Настройте потоковую обработку данных из Kafka и выведите их в консоль.\n",
        "27. Создайте DataFrame, который будет обрабатывать потоковые данные и фильтровать их по определенному критерию.\n",
        "28. Напишите отчет о том, как PySpark может помочь в анализе больших данных.\n",
        "29. Создайте визуализацию данных, используя matplotlib или seaborn, на основе данных из DataFrame.\n",
        "30. Исследуйте и опишите, как PySpark может быть использован в реальных проектах, таких как анализ данных или машинное обучение."
      ],
      "metadata": {
        "id": "vSnap7EsAaSW"
      }
    },
    {
      "cell_type": "markdown",
      "source": [
        "## Задачи для самостоятельной работы\n",
        "\n",
        "\n",
        "1. Что такое RDD и какова его основная роль в PySpark?\n",
        "2. Как можно создать RDD из существующего списка в Python?\n",
        "3. Объясните разницу между операциями `map` и `flatMap`.\n",
        "4. Как использовать `reduce` для нахождения суммы элементов RDD?\n",
        "5. Что такое DataFrame и чем он отличается от RDD?\n",
        "6. Как загрузить данные в DataFrame из CSV-файла?\n",
        "7. Что такое схематизация DataFrame и как ее можно изменить?\n",
        "8. Как применить SQL-запросы к DataFrame в PySpark?\n",
        "9. Как использовать метод `join` для объединения двух DataFrame?\n",
        "10. Что такое SparkSession и как его создать?\n",
        "11. Как настроить кэширование RDD и какие преимущества это дает?\n",
        "12. Как можно использовать функции агрегации в DataFrame?\n",
        "13. Что такое потоковая обработка в PySpark и как она работает?\n",
        "14. Как можно управлять параллелизмом в PySpark?\n",
        "15. Что такое метрики производительности в Spark и как их можно отслеживать?\n",
        "16. Как использовать библиотеку MLlib для машинного обучения в PySpark?\n",
        "17. Как можно сохранить DataFrame в формате JSON?\n",
        "18. Как обрабатывать отсутствующие значения в DataFrame?\n",
        "19. Что такое UDF и как его зарегистрировать в PySpark?\n",
        "20. Как использовать графики и визуализации для анализа данных в PySpark?"
      ],
      "metadata": {
        "id": "LQi1u0KRAgJV"
      }
    },
    {
      "cell_type": "markdown",
      "source": [
        "**Задача:** создайте RDD из списка чисел от 1 до 10 и выведите его элементы."
      ],
      "metadata": {
        "id": "6WRfrEDCIFSq"
      }
    },
    {
      "cell_type": "code",
      "source": [
        "# Импортирование библиотек\n",
        "from pyspark import SparkContext\n",
        "import random\n",
        "\n",
        "# Создание объект SparkContext\n",
        "sc = SparkContext.getOrCreate()\n",
        "\n",
        "# Создание RDD из списка\n",
        "data = [random.randint(1, 10),\n",
        "        random.randint(1, 10),\n",
        "        random.randint(1, 10),\n",
        "        random.randint(1, 10),\n",
        "        random.randint(1, 10)]\n",
        "rdd = sc.parallelize(data)\n",
        "\n",
        "# Вывод элементо RDD\n",
        "print(rdd.collect())"
      ],
      "metadata": {
        "id": "rvEKR0oVIPWD"
      },
      "execution_count": null,
      "outputs": []
    },
    {
      "cell_type": "markdown",
      "source": [
        "**Задача:** примените операцию map к RDD, чтобы увеличить каждое число на 2, и выведите результат."
      ],
      "metadata": {
        "id": "n2eRbg78JqEb"
      }
    },
    {
      "cell_type": "code",
      "source": [
        "# Импортирование библиотек\n",
        "from pyspark import SparkContext\n",
        "import random\n",
        "\n",
        "# Создание объект SparkContext\n",
        "sc = SparkContext.getOrCreate()\n",
        "\n",
        "# Создание RDD из списка\n",
        "data = [random.randint(1, 10),\n",
        "        random.randint(1, 10),\n",
        "        random.randint(1, 10),\n",
        "        random.randint(1, 10),\n",
        "        random.randint(1, 10)]\n",
        "rdd = sc.parallelize(data)\n",
        "\n",
        "# Вывод изначального RDD\n",
        "print(\"Вывод изначального RDD: \", rdd.collect())\n",
        "\n",
        "# Преобразование: увеличение каждого числа в RDD на 2\n",
        "rdd_new = rdd.map(lambda x: x + 2)\n",
        "\n",
        "# Вывод нового RDD\n",
        "print(\"Вывод нового RDD: \", rdd_new.collect())"
      ],
      "metadata": {
        "id": "_oMilvtSJv4T"
      },
      "execution_count": null,
      "outputs": []
    },
    {
      "cell_type": "markdown",
      "source": [
        "**Задача:** используйте операцию filter, чтобы оставить только четные числа из RDD."
      ],
      "metadata": {
        "id": "WGEiPRdzKs-8"
      }
    },
    {
      "cell_type": "code",
      "source": [
        "# Импортирование библиотек\n",
        "from pyspark import SparkContext\n",
        "import random\n",
        "\n",
        "# Создание объект SparkContext\n",
        "sc = SparkContext.getOrCreate()\n",
        "\n",
        "# Создание RDD из списка\n",
        "data = [random.randint(1, 10),\n",
        "        random.randint(1, 10),\n",
        "        random.randint(1, 10),\n",
        "        random.randint(1, 10),\n",
        "        random.randint(1, 10)]\n",
        "rdd = sc.parallelize(data)\n",
        "\n",
        "# Вывод изначального RDD\n",
        "print(\"Вывод изначального RDD: \", rdd.collect())\n",
        "\n",
        "# Выбор чётных значений\n",
        "rdd_new = rdd.filter(lambda x: x % 2 == 0)\n",
        "\n",
        "# Вывод нового RDD\n",
        "print(\"Вывод нового RDD: \", rdd_new.collect())"
      ],
      "metadata": {
        "id": "TdCk0eD9Kygb"
      },
      "execution_count": null,
      "outputs": []
    },
    {
      "cell_type": "markdown",
      "source": [
        "**Задача:** создайте новый RDD, который содержит сумму всех элементов оригинального RDD."
      ],
      "metadata": {
        "id": "c6mGxkXgLlD8"
      }
    },
    {
      "cell_type": "code",
      "source": [
        "# Импортирование библиотек\n",
        "from pyspark import SparkContext\n",
        "import random\n",
        "\n",
        "# Создание объект SparkContext\n",
        "sc = SparkContext.getOrCreate()\n",
        "\n",
        "# Создание RDD из списка\n",
        "data = [random.randint(1, 10),\n",
        "        random.randint(1, 10),\n",
        "        random.randint(1, 10),\n",
        "        random.randint(1, 10),\n",
        "        random.randint(1, 10)]\n",
        "rdd = sc.parallelize(data)\n",
        "\n",
        "# Вывод изначального RDD\n",
        "print(\"Вывод изначального RDD: \", rdd.collect())\n",
        "\n",
        "# Сумма элементов\n",
        "sum = [rdd.sum()]\n",
        "rdd_sum = sc.parallelize(sum)\n",
        "\n",
        "# Вывод нового RDD\n",
        "print(\"Вывод нового RDD: \", rdd_sum.collect())"
      ],
      "metadata": {
        "id": "iYNVQGW9LyUE"
      },
      "execution_count": null,
      "outputs": []
    },
    {
      "cell_type": "markdown",
      "source": [
        "**Задача:** создайте DataFrame из списка кортежей, содержащих имена и возраст людей."
      ],
      "metadata": {
        "id": "TBHksKQZMV9V"
      }
    },
    {
      "cell_type": "code",
      "source": [
        "# Импортирование библиотеки\n",
        "from pyspark.sql import SparkSession\n",
        "\n",
        "# Создание SparkSession\n",
        "spark = SparkSession.builder.appName(\"MyApp\").getOrCreate()\n",
        "\n",
        "# Создание DataFrame из списка\n",
        "data = [(\"Иван\", 20), (\"Сергей\", 25), (\"Александр\", 30)]\n",
        "columns = [\"Имя\", \"Возраст\"]\n",
        "\n",
        "df = spark.createDataFrame(data, columns)\n",
        "\n",
        "# Вывод DataFrame\n",
        "df.show()"
      ],
      "metadata": {
        "id": "CumJOiw5MmNE"
      },
      "execution_count": null,
      "outputs": []
    },
    {
      "cell_type": "markdown",
      "source": [
        "**Домашнее задание**\n",
        "\n",
        "**Задание 1**. Конкатенация строк: использовать DataFrame. Вывести результат в консоль.\n",
        "\n",
        "**Задание 2**. Преобразовать RDD (целочисленный набор данных) с помощью map: возвести во вторую степень и прибавить единицу. Вывести результата в консоль."
      ],
      "metadata": {
        "id": "Hpzo1FPuOx84"
      }
    }
  ]
}