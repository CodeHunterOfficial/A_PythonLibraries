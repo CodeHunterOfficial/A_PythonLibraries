{
  "nbformat": 4,
  "nbformat_minor": 0,
  "metadata": {
    "colab": {
      "provenance": [],
      "include_colab_link": true
    },
    "kernelspec": {
      "name": "python3",
      "display_name": "Python 3"
    },
    "language_info": {
      "name": "python"
    },
    "widgets": {
      "application/vnd.jupyter.widget-state+json": {
        "207eb24d089146f4acf4b1b87bca0da2": {
          "model_module": "catboost-widget",
          "model_name": "CatboostWidgetModel",
          "model_module_version": "^1.0.0",
          "state": {
            "_dom_classes": [],
            "_model_module": "catboost-widget",
            "_model_module_version": "^1.0.0",
            "_model_name": "CatboostWidgetModel",
            "_view_count": null,
            "_view_module": "catboost-widget",
            "_view_module_version": "^1.0.0",
            "_view_name": "CatboostWidgetView",
            "data": {
              "catboost_info/fold-0": {
                "path": "catboost_info/fold-0",
                "name": "fold-0",
                "content": {
                  "passed_iterations": 99,
                  "total_iterations": 100,
                  "data": {
                    "iterations": [
                      {
                        "learn": [
                          0.6666666667,
                          0.6809162443
                        ],
                        "iteration": 0,
                        "passed_time": 0.002719112952,
                        "remaining_time": 0.2691921823,
                        "test": [
                          0.5,
                          0.6933390031
                        ]
                      },
                      {
                        "learn": [
                          0.8333333333,
                          0.662638383
                        ],
                        "iteration": 1,
                        "passed_time": 0.004583658873,
                        "remaining_time": 0.2245992848,
                        "test": [
                          0.5,
                          0.6940942422
                        ]
                      },
                      {
                        "learn": [
                          1,
                          0.6505782047
                        ],
                        "iteration": 2,
                        "passed_time": 0.006195207585,
                        "remaining_time": 0.2003117119,
                        "test": [
                          1,
                          0.6575304504
                        ]
                      },
                      {
                        "learn": [
                          1,
                          0.6335477402
                        ],
                        "iteration": 3,
                        "passed_time": 0.007775776288,
                        "remaining_time": 0.1866186309,
                        "test": [
                          1,
                          0.6574780354
                        ]
                      },
                      {
                        "learn": [
                          1,
                          0.5965220519
                        ],
                        "iteration": 4,
                        "passed_time": 0.01286773042,
                        "remaining_time": 0.2444868779,
                        "test": [
                          1,
                          0.6452411325
                        ]
                      },
                      {
                        "learn": [
                          1,
                          0.5877070042
                        ],
                        "iteration": 5,
                        "passed_time": 0.01681271145,
                        "remaining_time": 0.2633991461,
                        "test": [
                          1,
                          0.6158258863
                        ]
                      },
                      {
                        "learn": [
                          1,
                          0.5756796194
                        ],
                        "iteration": 6,
                        "passed_time": 0.02129202517,
                        "remaining_time": 0.2828797629,
                        "test": [
                          0.5,
                          0.6437094103
                        ]
                      },
                      {
                        "learn": [
                          1,
                          0.54694125
                        ],
                        "iteration": 7,
                        "passed_time": 0.02320870867,
                        "remaining_time": 0.2669001497,
                        "test": [
                          0.5,
                          0.6212336639
                        ]
                      },
                      {
                        "learn": [
                          1,
                          0.5468095907
                        ],
                        "iteration": 8,
                        "passed_time": 0.03519058569,
                        "remaining_time": 0.3558159219,
                        "test": [
                          0.5,
                          0.6244234657
                        ]
                      },
                      {
                        "learn": [
                          1,
                          0.5347826747
                        ],
                        "iteration": 9,
                        "passed_time": 0.0400454776,
                        "remaining_time": 0.3604092984,
                        "test": [
                          0.5,
                          0.6075440222
                        ]
                      },
                      {
                        "learn": [
                          1,
                          0.5064371319
                        ],
                        "iteration": 10,
                        "passed_time": 0.04725226403,
                        "remaining_time": 0.3823137726,
                        "test": [
                          1,
                          0.5553934599
                        ]
                      },
                      {
                        "learn": [
                          1,
                          0.506268627
                        ],
                        "iteration": 11,
                        "passed_time": 0.05092825105,
                        "remaining_time": 0.373473841,
                        "test": [
                          1,
                          0.5587985242
                        ]
                      },
                      {
                        "learn": [
                          1,
                          0.4954094396
                        ],
                        "iteration": 12,
                        "passed_time": 0.0588600319,
                        "remaining_time": 0.3939094443,
                        "test": [
                          1,
                          0.5220749822
                        ]
                      },
                      {
                        "learn": [
                          1,
                          0.4874038573
                        ],
                        "iteration": 13,
                        "passed_time": 0.06732147012,
                        "remaining_time": 0.4135461736,
                        "test": [
                          1,
                          0.4954075604
                        ]
                      },
                      {
                        "learn": [
                          1,
                          0.4567793792
                        ],
                        "iteration": 14,
                        "passed_time": 0.07540190757,
                        "remaining_time": 0.4272774762,
                        "test": [
                          1,
                          0.5425895971
                        ]
                      },
                      {
                        "learn": [
                          1,
                          0.4359154321
                        ],
                        "iteration": 15,
                        "passed_time": 0.08067827544,
                        "remaining_time": 0.4235609461,
                        "test": [
                          1,
                          0.5017058392
                        ]
                      },
                      {
                        "learn": [
                          1,
                          0.4177592287
                        ],
                        "iteration": 16,
                        "passed_time": 0.08258568376,
                        "remaining_time": 0.403212456,
                        "test": [
                          1,
                          0.4721198614
                        ]
                      },
                      {
                        "learn": [
                          1,
                          0.4008791236
                        ],
                        "iteration": 17,
                        "passed_time": 0.08449104122,
                        "remaining_time": 0.3849036322,
                        "test": [
                          1,
                          0.4389355738
                        ]
                      },
                      {
                        "learn": [
                          1,
                          0.4005740915
                        ],
                        "iteration": 18,
                        "passed_time": 0.08642685962,
                        "remaining_time": 0.3684513489,
                        "test": [
                          1,
                          0.4429466644
                        ]
                      },
                      {
                        "learn": [
                          1,
                          0.3857254927
                        ],
                        "iteration": 19,
                        "passed_time": 0.1213415051,
                        "remaining_time": 0.4853660205,
                        "test": [
                          1,
                          0.4131304058
                        ]
                      },
                      {
                        "learn": [
                          1,
                          0.3531345507
                        ],
                        "iteration": 20,
                        "passed_time": 0.1313749587,
                        "remaining_time": 0.4942200826,
                        "test": [
                          1,
                          0.3998374016
                        ]
                      },
                      {
                        "learn": [
                          1,
                          0.3472843144
                        ],
                        "iteration": 21,
                        "passed_time": 0.1392999779,
                        "remaining_time": 0.4938817398,
                        "test": [
                          1,
                          0.3935918928
                        ]
                      },
                      {
                        "learn": [
                          1,
                          0.3329407823
                        ],
                        "iteration": 22,
                        "passed_time": 0.1509750284,
                        "remaining_time": 0.5054381384,
                        "test": [
                          1,
                          0.3825758856
                        ]
                      },
                      {
                        "learn": [
                          1,
                          0.3286261566
                        ],
                        "iteration": 23,
                        "passed_time": 0.1527924566,
                        "remaining_time": 0.4838427791,
                        "test": [
                          1,
                          0.3773737863
                        ]
                      },
                      {
                        "learn": [
                          1,
                          0.3234222738
                        ],
                        "iteration": 24,
                        "passed_time": 0.1546616069,
                        "remaining_time": 0.4639848207,
                        "test": [
                          1,
                          0.3867717503
                        ]
                      },
                      {
                        "learn": [
                          1,
                          0.314108767
                        ],
                        "iteration": 25,
                        "passed_time": 0.1574911503,
                        "remaining_time": 0.4482440431,
                        "test": [
                          1,
                          0.3653723018
                        ]
                      },
                      {
                        "learn": [
                          1,
                          0.30037162
                        ],
                        "iteration": 26,
                        "passed_time": 0.1613180602,
                        "remaining_time": 0.4361562368,
                        "test": [
                          1,
                          0.3653723018
                        ]
                      },
                      {
                        "learn": [
                          1,
                          0.2893578954
                        ],
                        "iteration": 27,
                        "passed_time": 0.1714829954,
                        "remaining_time": 0.4409562738,
                        "test": [
                          1,
                          0.3636101068
                        ]
                      },
                      {
                        "learn": [
                          1,
                          0.2780057153
                        ],
                        "iteration": 28,
                        "passed_time": 0.1823271963,
                        "remaining_time": 0.4463872737,
                        "test": [
                          1,
                          0.380678449
                        ]
                      },
                      {
                        "learn": [
                          1,
                          0.2736962785
                        ],
                        "iteration": 29,
                        "passed_time": 0.186970068,
                        "remaining_time": 0.436263492,
                        "test": [
                          1,
                          0.3773493774
                        ]
                      },
                      {
                        "learn": [
                          1,
                          0.2679964488
                        ],
                        "iteration": 30,
                        "passed_time": 0.1900385972,
                        "remaining_time": 0.4229891356,
                        "test": [
                          1,
                          0.3640765128
                        ]
                      },
                      {
                        "learn": [
                          1,
                          0.262989188
                        ],
                        "iteration": 31,
                        "passed_time": 0.1972891005,
                        "remaining_time": 0.4192393386,
                        "test": [
                          1,
                          0.3520755439
                        ]
                      },
                      {
                        "learn": [
                          1,
                          0.2443352262
                        ],
                        "iteration": 32,
                        "passed_time": 0.1991513474,
                        "remaining_time": 0.4043375841,
                        "test": [
                          1,
                          0.3818242114
                        ]
                      },
                      {
                        "learn": [
                          1,
                          0.2402893554
                        ],
                        "iteration": 33,
                        "passed_time": 0.2031178896,
                        "remaining_time": 0.3942876681,
                        "test": [
                          1,
                          0.3743629336
                        ]
                      },
                      {
                        "learn": [
                          1,
                          0.2309974316
                        ],
                        "iteration": 34,
                        "passed_time": 0.2048245901,
                        "remaining_time": 0.3803885245,
                        "test": [
                          1,
                          0.3743629336
                        ]
                      },
                      {
                        "learn": [
                          1,
                          0.2271633277
                        ],
                        "iteration": 35,
                        "passed_time": 0.2087136437,
                        "remaining_time": 0.3710464777,
                        "test": [
                          1,
                          0.3634784585
                        ]
                      },
                      {
                        "learn": [
                          1,
                          0.2194099483
                        ],
                        "iteration": 36,
                        "passed_time": 0.2105022754,
                        "remaining_time": 0.3584227933,
                        "test": [
                          1,
                          0.3795145214
                        ]
                      },
                      {
                        "learn": [
                          1,
                          0.2147544168
                        ],
                        "iteration": 37,
                        "passed_time": 0.213429966,
                        "remaining_time": 0.3482278392,
                        "test": [
                          1,
                          0.364023477
                        ]
                      },
                      {
                        "learn": [
                          1,
                          0.2105286585
                        ],
                        "iteration": 38,
                        "passed_time": 0.2162063218,
                        "remaining_time": 0.3381688623,
                        "test": [
                          1,
                          0.349642349
                        ]
                      },
                      {
                        "learn": [
                          1,
                          0.2088435401
                        ],
                        "iteration": 39,
                        "passed_time": 0.2211893146,
                        "remaining_time": 0.3317839719,
                        "test": [
                          1,
                          0.3535369
                        ]
                      },
                      {
                        "learn": [
                          1,
                          0.2049993096
                        ],
                        "iteration": 40,
                        "passed_time": 0.2231340918,
                        "remaining_time": 0.3210954004,
                        "test": [
                          1,
                          0.3402141915
                        ]
                      },
                      {
                        "learn": [
                          1,
                          0.2014900981
                        ],
                        "iteration": 41,
                        "passed_time": 0.2258856047,
                        "remaining_time": 0.3119372637,
                        "test": [
                          1,
                          0.3277859571
                        ]
                      },
                      {
                        "learn": [
                          1,
                          0.1891656097
                        ],
                        "iteration": 42,
                        "passed_time": 0.2281843226,
                        "remaining_time": 0.3024768927,
                        "test": [
                          1,
                          0.3512529579
                        ]
                      },
                      {
                        "learn": [
                          1,
                          0.1878668772
                        ],
                        "iteration": 43,
                        "passed_time": 0.2316422259,
                        "remaining_time": 0.2948173785,
                        "test": [
                          1,
                          0.3549789795
                        ]
                      },
                      {
                        "learn": [
                          1,
                          0.1856888939
                        ],
                        "iteration": 44,
                        "passed_time": 0.2342573983,
                        "remaining_time": 0.2863145979,
                        "test": [
                          1,
                          0.3473598757
                        ]
                      },
                      {
                        "learn": [
                          1,
                          0.1749123971
                        ],
                        "iteration": 45,
                        "passed_time": 0.237635293,
                        "remaining_time": 0.2789631701,
                        "test": [
                          1,
                          0.3704601301
                        ]
                      },
                      {
                        "learn": [
                          1,
                          0.1730821611
                        ],
                        "iteration": 46,
                        "passed_time": 0.2407644032,
                        "remaining_time": 0.2715002844,
                        "test": [
                          1,
                          0.3632928528
                        ]
                      },
                      {
                        "learn": [
                          1,
                          0.1634434806
                        ],
                        "iteration": 47,
                        "passed_time": 0.2431581856,
                        "remaining_time": 0.2634213677,
                        "test": [
                          1,
                          0.3861372004
                        ]
                      },
                      {
                        "learn": [
                          1,
                          0.1618893539
                        ],
                        "iteration": 48,
                        "passed_time": 0.2460521925,
                        "remaining_time": 0.2560951392,
                        "test": [
                          1,
                          0.3793712737
                        ]
                      },
                      {
                        "learn": [
                          1,
                          0.156898084
                        ],
                        "iteration": 49,
                        "passed_time": 0.2498477261,
                        "remaining_time": 0.2498477261,
                        "test": [
                          1,
                          0.3943455723
                        ]
                      },
                      {
                        "learn": [
                          1,
                          0.1554435381
                        ],
                        "iteration": 50,
                        "passed_time": 0.2516903281,
                        "remaining_time": 0.2418201191,
                        "test": [
                          1,
                          0.3878094274
                        ]
                      },
                      {
                        "learn": [
                          1,
                          0.1508298879
                        ],
                        "iteration": 51,
                        "passed_time": 0.2553356105,
                        "remaining_time": 0.2356944097,
                        "test": [
                          1,
                          0.4027410913
                        ]
                      },
                      {
                        "learn": [
                          1,
                          0.1494618148
                        ],
                        "iteration": 52,
                        "passed_time": 0.2571142053,
                        "remaining_time": 0.2280069368,
                        "test": [
                          1,
                          0.3964076003
                        ]
                      },
                      {
                        "learn": [
                          1,
                          0.1418560578
                        ],
                        "iteration": 53,
                        "passed_time": 0.260599757,
                        "remaining_time": 0.2219923856,
                        "test": [
                          1,
                          0.4184501969
                        ]
                      },
                      {
                        "learn": [
                          1,
                          0.134900101
                        ],
                        "iteration": 54,
                        "passed_time": 0.2641565165,
                        "remaining_time": 0.216128059,
                        "test": [
                          1,
                          0.4403928896
                        ]
                      },
                      {
                        "learn": [
                          1,
                          0.1285207951
                        ],
                        "iteration": 55,
                        "passed_time": 0.2659423465,
                        "remaining_time": 0.2089547009,
                        "test": [
                          0.5,
                          0.4622028672
                        ]
                      },
                      {
                        "learn": [
                          1,
                          0.1226547962
                        ],
                        "iteration": 56,
                        "passed_time": 0.2698893402,
                        "remaining_time": 0.2036007304,
                        "test": [
                          0.5,
                          0.4838523969
                        ]
                      },
                      {
                        "learn": [
                          1,
                          0.1172470899
                        ],
                        "iteration": 57,
                        "passed_time": 0.2717168454,
                        "remaining_time": 0.1967604743,
                        "test": [
                          0.5,
                          0.5053182774
                        ]
                      },
                      {
                        "learn": [
                          1,
                          0.1122497539
                        ],
                        "iteration": 58,
                        "passed_time": 0.2747523637,
                        "remaining_time": 0.1909296087,
                        "test": [
                          0.5,
                          0.5265813199
                        ]
                      },
                      {
                        "learn": [
                          1,
                          0.1097392096
                        ],
                        "iteration": 59,
                        "passed_time": 0.2785401075,
                        "remaining_time": 0.185693405,
                        "test": [
                          0.5,
                          0.5404850947
                        ]
                      },
                      {
                        "learn": [
                          1,
                          0.1053008491
                        ],
                        "iteration": 60,
                        "passed_time": 0.2804528502,
                        "remaining_time": 0.1793059206,
                        "test": [
                          0.5,
                          0.5613492647
                        ]
                      },
                      {
                        "learn": [
                          1,
                          0.1031356057
                        ],
                        "iteration": 61,
                        "passed_time": 0.2922176099,
                        "remaining_time": 0.1791011157,
                        "test": [
                          0.5,
                          0.5748626822
                        ]
                      },
                      {
                        "learn": [
                          1,
                          0.09916668291
                        ],
                        "iteration": 62,
                        "passed_time": 0.2960294012,
                        "remaining_time": 0.1738585372,
                        "test": [
                          0.5,
                          0.5952973941
                        ]
                      },
                      {
                        "learn": [
                          1,
                          0.0989205473
                        ],
                        "iteration": 63,
                        "passed_time": 0.2986226041,
                        "remaining_time": 0.1679752148,
                        "test": [
                          0.5,
                          0.5984538109
                        ]
                      },
                      {
                        "learn": [
                          1,
                          0.09524569725
                        ],
                        "iteration": 64,
                        "passed_time": 0.3051798321,
                        "remaining_time": 0.1643276019,
                        "test": [
                          0.5,
                          0.6185374334
                        ]
                      },
                      {
                        "learn": [
                          1,
                          0.09351327232
                        ],
                        "iteration": 65,
                        "passed_time": 0.314346629,
                        "remaining_time": 0.1619361422,
                        "test": [
                          0.5,
                          0.631377626
                        ]
                      },
                      {
                        "learn": [
                          1,
                          0.09263147918
                        ],
                        "iteration": 66,
                        "passed_time": 0.3162992023,
                        "remaining_time": 0.1557891594,
                        "test": [
                          0.5,
                          0.6237472383
                        ]
                      },
                      {
                        "learn": [
                          1,
                          0.09243280159
                        ],
                        "iteration": 67,
                        "passed_time": 0.3191928511,
                        "remaining_time": 0.1502084005,
                        "test": [
                          0.5,
                          0.6268258001
                        ]
                      },
                      {
                        "learn": [
                          1,
                          0.09224934358
                        ],
                        "iteration": 68,
                        "passed_time": 0.3242836971,
                        "remaining_time": 0.1456926755,
                        "test": [
                          0.5,
                          0.6297586061
                        ]
                      },
                      {
                        "learn": [
                          1,
                          0.09141185128
                        ],
                        "iteration": 69,
                        "passed_time": 0.3282834729,
                        "remaining_time": 0.140692917,
                        "test": [
                          0.5,
                          0.6224777841
                        ]
                      },
                      {
                        "learn": [
                          1,
                          0.08821093771
                        ],
                        "iteration": 70,
                        "passed_time": 0.3343752626,
                        "remaining_time": 0.1365758115,
                        "test": [
                          0.5,
                          0.6418041797
                        ]
                      },
                      {
                        "learn": [
                          1,
                          0.08669275406
                        ],
                        "iteration": 71,
                        "passed_time": 0.345950186,
                        "remaining_time": 0.1345361834,
                        "test": [
                          0.5,
                          0.6543302153
                        ]
                      },
                      {
                        "learn": [
                          1,
                          0.08526005757
                        ],
                        "iteration": 72,
                        "passed_time": 0.3648205868,
                        "remaining_time": 0.1349336417,
                        "test": [
                          0.5,
                          0.6666682197
                        ]
                      },
                      {
                        "learn": [
                          1,
                          0.08511940496
                        ],
                        "iteration": 73,
                        "passed_time": 0.3763041365,
                        "remaining_time": 0.1322149669,
                        "test": [
                          0.5,
                          0.669438073
                        ]
                      },
                      {
                        "learn": [
                          1,
                          0.08231765067
                        ],
                        "iteration": 74,
                        "passed_time": 0.3785656982,
                        "remaining_time": 0.1261885661,
                        "test": [
                          0.5,
                          0.6880516442
                        ]
                      },
                      {
                        "learn": [
                          1,
                          0.08105634175
                        ],
                        "iteration": 75,
                        "passed_time": 0.380835656,
                        "remaining_time": 0.1202638914,
                        "test": [
                          0.5,
                          0.6999437714
                        ]
                      },
                      {
                        "learn": [
                          1,
                          0.07849386444
                        ],
                        "iteration": 76,
                        "passed_time": 0.3826638429,
                        "remaining_time": 0.1143021869,
                        "test": [
                          0.5,
                          0.7181161794
                        ]
                      },
                      {
                        "learn": [
                          1,
                          0.07839479121
                        ],
                        "iteration": 77,
                        "passed_time": 0.3895239376,
                        "remaining_time": 0.109865726,
                        "test": [
                          0.5,
                          0.7204360799
                        ]
                      },
                      {
                        "learn": [
                          1,
                          0.07830184776
                        ],
                        "iteration": 78,
                        "passed_time": 0.4000679318,
                        "remaining_time": 0.1063471717,
                        "test": [
                          0.5,
                          0.7226551834
                        ]
                      },
                      {
                        "learn": [
                          1,
                          0.07718874867
                        ],
                        "iteration": 79,
                        "passed_time": 0.4052300912,
                        "remaining_time": 0.1013075228,
                        "test": [
                          0.5,
                          0.7340837226
                        ]
                      },
                      {
                        "learn": [
                          1,
                          0.07613099461
                        ],
                        "iteration": 80,
                        "passed_time": 0.4141963493,
                        "remaining_time": 0.09715716835,
                        "test": [
                          0.5,
                          0.7453371123
                        ]
                      },
                      {
                        "learn": [
                          1,
                          0.07512477252
                        ],
                        "iteration": 81,
                        "passed_time": 0.4202270744,
                        "remaining_time": 0.09224496754,
                        "test": [
                          0.5,
                          0.7564182348
                        ]
                      },
                      {
                        "learn": [
                          1,
                          0.07416659337
                        ],
                        "iteration": 82,
                        "passed_time": 0.4263464287,
                        "remaining_time": 0.08732396732,
                        "test": [
                          0.5,
                          0.7673300797
                        ]
                      },
                      {
                        "learn": [
                          1,
                          0.07409692335
                        ],
                        "iteration": 83,
                        "passed_time": 0.435716516,
                        "remaining_time": 0.0829936221,
                        "test": [
                          0.5,
                          0.7692108709
                        ]
                      },
                      {
                        "learn": [
                          1,
                          0.07349400213
                        ],
                        "iteration": 84,
                        "passed_time": 0.4376395121,
                        "remaining_time": 0.07723050213,
                        "test": [
                          0.5,
                          0.7703976193
                        ]
                      },
                      {
                        "learn": [
                          1,
                          0.07273943895
                        ],
                        "iteration": 85,
                        "passed_time": 0.4408846797,
                        "remaining_time": 0.07177192461,
                        "test": [
                          0.5,
                          0.7622716518
                        ]
                      },
                      {
                        "learn": [
                          1,
                          0.07182651116
                        ],
                        "iteration": 86,
                        "passed_time": 0.4539900396,
                        "remaining_time": 0.06783759213,
                        "test": [
                          0.5,
                          0.7731104449
                        ]
                      },
                      {
                        "learn": [
                          1,
                          0.07175125501
                        ],
                        "iteration": 87,
                        "passed_time": 0.4621245446,
                        "remaining_time": 0.06301698336,
                        "test": [
                          0.5,
                          0.7752727768
                        ]
                      },
                      {
                        "learn": [
                          1,
                          0.07103606062
                        ],
                        "iteration": 88,
                        "passed_time": 0.468953212,
                        "remaining_time": 0.05796050935,
                        "test": [
                          0.5,
                          0.7674270086
                        ]
                      },
                      {
                        "learn": [
                          1,
                          0.07095846441
                        ],
                        "iteration": 89,
                        "passed_time": 0.4738059822,
                        "remaining_time": 0.05264510913,
                        "test": [
                          0.5,
                          0.7697755664
                        ]
                      },
                      {
                        "learn": [
                          1,
                          0.07028629179
                        ],
                        "iteration": 90,
                        "passed_time": 0.4757880047,
                        "remaining_time": 0.04705595651,
                        "test": [
                          0.5,
                          0.762310829
                        ]
                      },
                      {
                        "learn": [
                          1,
                          0.06829920723
                        ],
                        "iteration": 91,
                        "passed_time": 0.4779483784,
                        "remaining_time": 0.04156072855,
                        "test": [
                          0.5,
                          0.779090034
                        ]
                      },
                      {
                        "learn": [
                          1,
                          0.06822650301
                        ],
                        "iteration": 92,
                        "passed_time": 0.4877706126,
                        "remaining_time": 0.03671391708,
                        "test": [
                          0.5,
                          0.7814874934
                        ]
                      },
                      {
                        "learn": [
                          1,
                          0.06761701521
                        ],
                        "iteration": 93,
                        "passed_time": 0.4907506789,
                        "remaining_time": 0.03132451142,
                        "test": [
                          0.5,
                          0.7743641336
                        ]
                      },
                      {
                        "learn": [
                          1,
                          0.0675420036
                        ],
                        "iteration": 94,
                        "passed_time": 0.5005236054,
                        "remaining_time": 0.02634334765,
                        "test": [
                          0.5,
                          0.7769084305
                        ]
                      },
                      {
                        "learn": [
                          1,
                          0.06747115863
                        ],
                        "iteration": 95,
                        "passed_time": 0.5043648058,
                        "remaining_time": 0.02101520024,
                        "test": [
                          0.5,
                          0.7793532863
                        ]
                      },
                      {
                        "learn": [
                          1,
                          0.06740416413
                        ],
                        "iteration": 96,
                        "passed_time": 0.5102957565,
                        "remaining_time": 0.01578234299,
                        "test": [
                          0.5,
                          0.7817024
                        ]
                      },
                      {
                        "learn": [
                          1,
                          0.06734072956
                        ],
                        "iteration": 97,
                        "passed_time": 0.5216778528,
                        "remaining_time": 0.01064648679,
                        "test": [
                          0.5,
                          0.7839593493
                        ]
                      },
                      {
                        "learn": [
                          1,
                          0.06674715349
                        ],
                        "iteration": 98,
                        "passed_time": 0.523592509,
                        "remaining_time": 0.005288813223,
                        "test": [
                          0.5,
                          0.7769678851
                        ]
                      },
                      {
                        "learn": [
                          1,
                          0.06592519366
                        ],
                        "iteration": 99,
                        "passed_time": 0.5254192797,
                        "remaining_time": 0,
                        "test": [
                          0.5,
                          0.7875829511
                        ]
                      }
                    ],
                    "meta": {
                      "test_sets": [
                        "test"
                      ],
                      "test_metrics": [
                        {
                          "best_value": "Max",
                          "name": "Accuracy"
                        },
                        {
                          "best_value": "Min",
                          "name": "Logloss"
                        }
                      ],
                      "learn_metrics": [
                        {
                          "best_value": "Max",
                          "name": "Accuracy"
                        },
                        {
                          "best_value": "Min",
                          "name": "Logloss"
                        }
                      ],
                      "launch_mode": "Train",
                      "parameters": "",
                      "iteration_count": 100,
                      "learn_sets": [
                        "learn"
                      ],
                      "name": "experiment"
                    }
                  }
                }
              },
              "catboost_info/fold-1": {
                "path": "catboost_info/fold-1",
                "name": "fold-1",
                "content": {
                  "passed_iterations": 99,
                  "total_iterations": 100,
                  "data": {
                    "iterations": [
                      {
                        "learn": [
                          0.8333333333,
                          0.6500174216
                        ],
                        "iteration": 0,
                        "passed_time": 0.004008461919,
                        "remaining_time": 0.39683773,
                        "test": [
                          0,
                          0.7633713894
                        ]
                      },
                      {
                        "learn": [
                          0.8333333333,
                          0.6499939874
                        ],
                        "iteration": 1,
                        "passed_time": 0.005591197832,
                        "remaining_time": 0.2739686937,
                        "test": [
                          0,
                          0.7649320218
                        ]
                      },
                      {
                        "learn": [
                          0.8333333333,
                          0.6100704988
                        ],
                        "iteration": 2,
                        "passed_time": 0.007448861224,
                        "remaining_time": 0.2408465129,
                        "test": [
                          0,
                          0.8388828523
                        ]
                      },
                      {
                        "learn": [
                          0.8333333333,
                          0.596067838
                        ],
                        "iteration": 3,
                        "passed_time": 0.01568493143,
                        "remaining_time": 0.3764383544,
                        "test": [
                          0,
                          0.8092909331
                        ]
                      },
                      {
                        "learn": [
                          0.8333333333,
                          0.5832505936
                        ],
                        "iteration": 4,
                        "passed_time": 0.01770155749,
                        "remaining_time": 0.3363295923,
                        "test": [
                          0,
                          0.7853723365
                        ]
                      },
                      {
                        "learn": [
                          0.8333333333,
                          0.5832310138
                        ],
                        "iteration": 5,
                        "passed_time": 0.02406728558,
                        "remaining_time": 0.3770541408,
                        "test": [
                          0,
                          0.7839733449
                        ]
                      },
                      {
                        "learn": [
                          0.8333333333,
                          0.5748608219
                        ],
                        "iteration": 6,
                        "passed_time": 0.03066015982,
                        "remaining_time": 0.4073421233,
                        "test": [
                          0,
                          0.7481135761
                        ]
                      },
                      {
                        "learn": [
                          1,
                          0.5193212254
                        ],
                        "iteration": 7,
                        "passed_time": 0.03756982122,
                        "remaining_time": 0.4320529441,
                        "test": [
                          0,
                          0.8273422326
                        ]
                      },
                      {
                        "learn": [
                          1,
                          0.5092448637
                        ],
                        "iteration": 8,
                        "passed_time": 0.04238776876,
                        "remaining_time": 0.4285874396,
                        "test": [
                          0,
                          0.8558142235
                        ]
                      },
                      {
                        "learn": [
                          1,
                          0.489329576
                        ],
                        "iteration": 9,
                        "passed_time": 0.04462501659,
                        "remaining_time": 0.4016251493,
                        "test": [
                          0,
                          0.9064646363
                        ]
                      },
                      {
                        "learn": [
                          1,
                          0.4718955264
                        ],
                        "iteration": 10,
                        "passed_time": 0.05113778406,
                        "remaining_time": 0.4137511619,
                        "test": [
                          0,
                          0.9282725733
                        ]
                      },
                      {
                        "learn": [
                          1,
                          0.4718869972
                        ],
                        "iteration": 11,
                        "passed_time": 0.05513318636,
                        "remaining_time": 0.4043100333,
                        "test": [
                          0,
                          0.9275156791
                        ]
                      },
                      {
                        "learn": [
                          1,
                          0.4636315412
                        ],
                        "iteration": 12,
                        "passed_time": 0.07147014161,
                        "remaining_time": 0.4783001785,
                        "test": [
                          0,
                          0.8815516152
                        ]
                      },
                      {
                        "learn": [
                          1,
                          0.4540337142
                        ],
                        "iteration": 13,
                        "passed_time": 0.07351237056,
                        "remaining_time": 0.4515759906,
                        "test": [
                          0,
                          0.8808962941
                        ]
                      },
                      {
                        "learn": [
                          1,
                          0.4312458464
                        ],
                        "iteration": 14,
                        "passed_time": 0.07527681211,
                        "remaining_time": 0.4265686019,
                        "test": [
                          0,
                          0.9434936884
                        ]
                      },
                      {
                        "learn": [
                          1,
                          0.4161964206
                        ],
                        "iteration": 15,
                        "passed_time": 0.07708591327,
                        "remaining_time": 0.4047010447,
                        "test": [
                          0,
                          0.9552836475
                        ]
                      },
                      {
                        "learn": [
                          1,
                          0.4022089167
                        ],
                        "iteration": 16,
                        "passed_time": 0.08266540781,
                        "remaining_time": 0.4036016969,
                        "test": [
                          0,
                          0.915305028
                        ]
                      },
                      {
                        "learn": [
                          1,
                          0.3968239897
                        ],
                        "iteration": 17,
                        "passed_time": 0.08757004464,
                        "remaining_time": 0.3989302034,
                        "test": [
                          0,
                          0.9029044594
                        ]
                      },
                      {
                        "learn": [
                          1,
                          0.3858333197
                        ],
                        "iteration": 18,
                        "passed_time": 0.09416271888,
                        "remaining_time": 0.4014305384,
                        "test": [
                          0,
                          0.9497434002
                        ]
                      },
                      {
                        "learn": [
                          1,
                          0.3788939268
                        ],
                        "iteration": 19,
                        "passed_time": 0.1017281495,
                        "remaining_time": 0.4069125978,
                        "test": [
                          0,
                          0.987609473
                        ]
                      },
                      {
                        "learn": [
                          1,
                          0.3644732202
                        ],
                        "iteration": 20,
                        "passed_time": 0.1038527542,
                        "remaining_time": 0.3906841705,
                        "test": [
                          0,
                          1.043916296
                        ]
                      },
                      {
                        "learn": [
                          1,
                          0.3539867301
                        ],
                        "iteration": 21,
                        "passed_time": 0.1122998701,
                        "remaining_time": 0.3981540849,
                        "test": [
                          0,
                          1.088435085
                        ]
                      },
                      {
                        "learn": [
                          1,
                          0.3425831572
                        ],
                        "iteration": 22,
                        "passed_time": 0.1281425351,
                        "remaining_time": 0.428998922,
                        "test": [
                          0,
                          1.0520131
                        ]
                      },
                      {
                        "learn": [
                          1,
                          0.3350086556
                        ],
                        "iteration": 23,
                        "passed_time": 0.130195462,
                        "remaining_time": 0.4122856295,
                        "test": [
                          0,
                          1.095009236
                        ]
                      },
                      {
                        "learn": [
                          1,
                          0.3327233731
                        ],
                        "iteration": 24,
                        "passed_time": 0.1325579789,
                        "remaining_time": 0.3976739367,
                        "test": [
                          0,
                          1.074497436
                        ]
                      },
                      {
                        "learn": [
                          1,
                          0.3057945243
                        ],
                        "iteration": 25,
                        "passed_time": 0.1363321594,
                        "remaining_time": 0.3880222999,
                        "test": [
                          0,
                          1.042138142
                        ]
                      },
                      {
                        "learn": [
                          1,
                          0.2852356343
                        ],
                        "iteration": 26,
                        "passed_time": 0.1401068645,
                        "remaining_time": 0.3788074484,
                        "test": [
                          0,
                          1.05629134
                        ]
                      },
                      {
                        "learn": [
                          1,
                          0.2795763213
                        ],
                        "iteration": 27,
                        "passed_time": 0.1584616776,
                        "remaining_time": 0.4074728852,
                        "test": [
                          0,
                          1.09455969
                        ]
                      },
                      {
                        "learn": [
                          1,
                          0.2728231367
                        ],
                        "iteration": 28,
                        "passed_time": 0.1767965285,
                        "remaining_time": 0.4328466733,
                        "test": [
                          0,
                          1.140809672
                        ]
                      },
                      {
                        "learn": [
                          1,
                          0.2656644735
                        ],
                        "iteration": 29,
                        "passed_time": 0.1836093836,
                        "remaining_time": 0.4284218952,
                        "test": [
                          0,
                          1.167100779
                        ]
                      },
                      {
                        "learn": [
                          1,
                          0.2596425767
                        ],
                        "iteration": 30,
                        "passed_time": 0.1908612515,
                        "remaining_time": 0.4248202049,
                        "test": [
                          0,
                          1.204129397
                        ]
                      },
                      {
                        "learn": [
                          1,
                          0.2434262284
                        ],
                        "iteration": 31,
                        "passed_time": 0.1983481834,
                        "remaining_time": 0.4214898898,
                        "test": [
                          0,
                          1.216955786
                        ]
                      },
                      {
                        "learn": [
                          1,
                          0.2353058525
                        ],
                        "iteration": 32,
                        "passed_time": 0.2051779753,
                        "remaining_time": 0.4165734651,
                        "test": [
                          0,
                          1.252120034
                        ]
                      },
                      {
                        "learn": [
                          1,
                          0.2292699011
                        ],
                        "iteration": 33,
                        "passed_time": 0.2072831761,
                        "remaining_time": 0.4023732242,
                        "test": [
                          0,
                          1.274104975
                        ]
                      },
                      {
                        "learn": [
                          1,
                          0.2213334627
                        ],
                        "iteration": 34,
                        "passed_time": 0.209344969,
                        "remaining_time": 0.3887835139,
                        "test": [
                          0,
                          1.232381878
                        ]
                      },
                      {
                        "learn": [
                          1,
                          0.2146792923
                        ],
                        "iteration": 35,
                        "passed_time": 0.2237788613,
                        "remaining_time": 0.3978290867,
                        "test": [
                          0,
                          1.275655136
                        ]
                      },
                      {
                        "learn": [
                          1,
                          0.2102826058
                        ],
                        "iteration": 36,
                        "passed_time": 0.2258076097,
                        "remaining_time": 0.3844832273,
                        "test": [
                          0,
                          1.308251635
                        ]
                      },
                      {
                        "learn": [
                          1,
                          0.2053184627
                        ],
                        "iteration": 37,
                        "passed_time": 0.2276143455,
                        "remaining_time": 0.3713707742,
                        "test": [
                          0,
                          1.330229499
                        ]
                      },
                      {
                        "learn": [
                          1,
                          0.1955641891
                        ],
                        "iteration": 38,
                        "passed_time": 0.2294189713,
                        "remaining_time": 0.3588348013,
                        "test": [
                          0,
                          1.353911661
                        ]
                      },
                      {
                        "learn": [
                          1,
                          0.1865789588
                        ],
                        "iteration": 39,
                        "passed_time": 0.2387261632,
                        "remaining_time": 0.3580892448,
                        "test": [
                          0,
                          1.377198378
                        ]
                      },
                      {
                        "learn": [
                          1,
                          0.1857212426
                        ],
                        "iteration": 40,
                        "passed_time": 0.2446397099,
                        "remaining_time": 0.3520425093,
                        "test": [
                          0,
                          1.387315335
                        ]
                      },
                      {
                        "learn": [
                          1,
                          0.1832583564
                        ],
                        "iteration": 41,
                        "passed_time": 0.2559300815,
                        "remaining_time": 0.3534272554,
                        "test": [
                          0,
                          1.417221024
                        ]
                      },
                      {
                        "learn": [
                          1,
                          0.173787557
                        ],
                        "iteration": 42,
                        "passed_time": 0.2627791365,
                        "remaining_time": 0.3483351344,
                        "test": [
                          0,
                          1.427061652
                        ]
                      },
                      {
                        "learn": [
                          1,
                          0.170944012
                        ],
                        "iteration": 43,
                        "passed_time": 0.2658102458,
                        "remaining_time": 0.3383039492,
                        "test": [
                          0,
                          1.443989076
                        ]
                      },
                      {
                        "learn": [
                          1,
                          0.1662547464
                        ],
                        "iteration": 44,
                        "passed_time": 0.2745095935,
                        "remaining_time": 0.3355117254,
                        "test": [
                          0,
                          1.47167187
                        ]
                      },
                      {
                        "learn": [
                          1,
                          0.1636260928
                        ],
                        "iteration": 45,
                        "passed_time": 0.2767602973,
                        "remaining_time": 0.3248925229,
                        "test": [
                          0,
                          1.489450034
                        ]
                      },
                      {
                        "learn": [
                          1,
                          0.1556631331
                        ],
                        "iteration": 46,
                        "passed_time": 0.278536894,
                        "remaining_time": 0.3140947953,
                        "test": [
                          0,
                          1.498593601
                        ]
                      },
                      {
                        "learn": [
                          1,
                          0.1539684891
                        ],
                        "iteration": 47,
                        "passed_time": 0.2803361072,
                        "remaining_time": 0.3036974495,
                        "test": [
                          0,
                          1.524459811
                        ]
                      },
                      {
                        "learn": [
                          1,
                          0.147865233
                        ],
                        "iteration": 48,
                        "passed_time": 0.2894554055,
                        "remaining_time": 0.3012699118,
                        "test": [
                          0,
                          1.545050925
                        ]
                      },
                      {
                        "learn": [
                          1,
                          0.1458288052
                        ],
                        "iteration": 49,
                        "passed_time": 0.2965891531,
                        "remaining_time": 0.2965891531,
                        "test": [
                          0,
                          1.560578059
                        ]
                      },
                      {
                        "learn": [
                          1,
                          0.1439260898
                        ],
                        "iteration": 50,
                        "passed_time": 0.2984318288,
                        "remaining_time": 0.2867286198,
                        "test": [
                          0,
                          1.591396748
                        ]
                      },
                      {
                        "learn": [
                          1,
                          0.1420112952
                        ],
                        "iteration": 51,
                        "passed_time": 0.300202341,
                        "remaining_time": 0.2771098533,
                        "test": [
                          0,
                          1.606667347
                        ]
                      },
                      {
                        "learn": [
                          1,
                          0.140202004
                        ],
                        "iteration": 52,
                        "passed_time": 0.3125252173,
                        "remaining_time": 0.277145004,
                        "test": [
                          0,
                          1.62160733
                        ]
                      },
                      {
                        "learn": [
                          1,
                          0.1338917299
                        ],
                        "iteration": 53,
                        "passed_time": 0.3145288673,
                        "remaining_time": 0.2679319981,
                        "test": [
                          0,
                          1.629675606
                        ]
                      },
                      {
                        "learn": [
                          1,
                          0.1290065295
                        ],
                        "iteration": 54,
                        "passed_time": 0.3167391459,
                        "remaining_time": 0.2591502103,
                        "test": [
                          0,
                          1.648187036
                        ]
                      },
                      {
                        "learn": [
                          1,
                          0.1235606245
                        ],
                        "iteration": 55,
                        "passed_time": 0.3186195032,
                        "remaining_time": 0.2503438954,
                        "test": [
                          0,
                          1.656054902
                        ]
                      },
                      {
                        "learn": [
                          1,
                          0.1225087282
                        ],
                        "iteration": 56,
                        "passed_time": 0.320383853,
                        "remaining_time": 0.2416930821,
                        "test": [
                          0,
                          1.66382543
                        ]
                      },
                      {
                        "learn": [
                          1,
                          0.1211396882
                        ],
                        "iteration": 57,
                        "passed_time": 0.322157457,
                        "remaining_time": 0.2332864344,
                        "test": [
                          0,
                          1.677599069
                        ]
                      },
                      {
                        "learn": [
                          1,
                          0.1198489636
                        ],
                        "iteration": 58,
                        "passed_time": 0.3239057599,
                        "remaining_time": 0.2250870535,
                        "test": [
                          0,
                          1.704039531
                        ]
                      },
                      {
                        "learn": [
                          1,
                          0.1157684976
                        ],
                        "iteration": 59,
                        "passed_time": 0.3260454915,
                        "remaining_time": 0.217363661,
                        "test": [
                          0,
                          1.721211699
                        ]
                      },
                      {
                        "learn": [
                          1,
                          0.1145943432
                        ],
                        "iteration": 60,
                        "passed_time": 0.3314234946,
                        "remaining_time": 0.2118937097,
                        "test": [
                          0,
                          1.734308939
                        ]
                      },
                      {
                        "learn": [
                          1,
                          0.1100552937
                        ],
                        "iteration": 61,
                        "passed_time": 0.3334556156,
                        "remaining_time": 0.2043760225,
                        "test": [
                          0,
                          1.741413267
                        ]
                      },
                      {
                        "learn": [
                          1,
                          0.1065402611
                        ],
                        "iteration": 62,
                        "passed_time": 0.3772971731,
                        "remaining_time": 0.2215872287,
                        "test": [
                          0,
                          1.757642018
                        ]
                      },
                      {
                        "learn": [
                          1,
                          0.1025667478
                        ],
                        "iteration": 63,
                        "passed_time": 0.3792271317,
                        "remaining_time": 0.2133152616,
                        "test": [
                          0,
                          1.764582788
                        ]
                      },
                      {
                        "learn": [
                          1,
                          0.09948270664
                        ],
                        "iteration": 64,
                        "passed_time": 0.3839917653,
                        "remaining_time": 0.2067647967,
                        "test": [
                          0,
                          1.780122269
                        ]
                      },
                      {
                        "learn": [
                          1,
                          0.09878658984
                        ],
                        "iteration": 65,
                        "passed_time": 0.3892752003,
                        "remaining_time": 0.2005357092,
                        "test": [
                          0,
                          1.798100284
                        ]
                      },
                      {
                        "learn": [
                          1,
                          0.09590066213
                        ],
                        "iteration": 66,
                        "passed_time": 0.3955332351,
                        "remaining_time": 0.194814877,
                        "test": [
                          0,
                          1.813364382
                        ]
                      },
                      {
                        "learn": [
                          1,
                          0.0931738245
                        ],
                        "iteration": 67,
                        "passed_time": 0.4115167652,
                        "remaining_time": 0.1936549483,
                        "test": [
                          0,
                          1.828432156
                        ]
                      },
                      {
                        "learn": [
                          1,
                          0.0900503213
                        ],
                        "iteration": 68,
                        "passed_time": 0.4185371706,
                        "remaining_time": 0.188038439,
                        "test": [
                          0,
                          1.834990748
                        ]
                      },
                      {
                        "learn": [
                          1,
                          0.08921227777
                        ],
                        "iteration": 69,
                        "passed_time": 0.4408306322,
                        "remaining_time": 0.1889274138,
                        "test": [
                          0,
                          1.857229638
                        ]
                      },
                      {
                        "learn": [
                          1,
                          0.08631397562
                        ],
                        "iteration": 70,
                        "passed_time": 0.4439033586,
                        "remaining_time": 0.1813126394,
                        "test": [
                          0,
                          1.863587386
                        ]
                      },
                      {
                        "learn": [
                          1,
                          0.08359320732
                        ],
                        "iteration": 71,
                        "passed_time": 0.4458132559,
                        "remaining_time": 0.1733718217,
                        "test": [
                          0,
                          1.869876794
                        ]
                      },
                      {
                        "learn": [
                          1,
                          0.08103468956
                        ],
                        "iteration": 72,
                        "passed_time": 0.4642072424,
                        "remaining_time": 0.1716930896,
                        "test": [
                          0,
                          1.876099137
                        ]
                      },
                      {
                        "learn": [
                          1,
                          0.08031248776
                        ],
                        "iteration": 73,
                        "passed_time": 0.4660581423,
                        "remaining_time": 0.1637501581,
                        "test": [
                          0,
                          1.897048821
                        ]
                      },
                      {
                        "learn": [
                          1,
                          0.07982031578
                        ],
                        "iteration": 74,
                        "passed_time": 0.4678521912,
                        "remaining_time": 0.1559507304,
                        "test": [
                          0,
                          1.912596638
                        ]
                      },
                      {
                        "learn": [
                          1,
                          0.07915166867
                        ],
                        "iteration": 75,
                        "passed_time": 0.4928300258,
                        "remaining_time": 0.1556305345,
                        "test": [
                          0,
                          1.923579951
                        ]
                      },
                      {
                        "learn": [
                          1,
                          0.07720574133
                        ],
                        "iteration": 76,
                        "passed_time": 0.4946204848,
                        "remaining_time": 0.1477437812,
                        "test": [
                          0,
                          1.936560235
                        ]
                      },
                      {
                        "learn": [
                          1,
                          0.07535295409
                        ],
                        "iteration": 77,
                        "passed_time": 0.4975323313,
                        "remaining_time": 0.1403296319,
                        "test": [
                          0,
                          1.949394385
                        ]
                      },
                      {
                        "learn": [
                          1,
                          0.07320978279
                        ],
                        "iteration": 78,
                        "passed_time": 0.499591247,
                        "remaining_time": 0.1328027365,
                        "test": [
                          0,
                          1.955140683
                        ]
                      },
                      {
                        "learn": [
                          1,
                          0.07153800932
                        ],
                        "iteration": 79,
                        "passed_time": 0.5084013506,
                        "remaining_time": 0.1271003376,
                        "test": [
                          0,
                          1.967538598
                        ]
                      },
                      {
                        "learn": [
                          1,
                          0.06994095423
                        ],
                        "iteration": 80,
                        "passed_time": 0.5296460635,
                        "remaining_time": 0.1242379655,
                        "test": [
                          0,
                          1.979802434
                        ]
                      },
                      {
                        "learn": [
                          1,
                          0.06841374964
                        ],
                        "iteration": 81,
                        "passed_time": 0.5354573249,
                        "remaining_time": 0.1175394128,
                        "test": [
                          0,
                          1.991934825
                        ]
                      },
                      {
                        "learn": [
                          1,
                          0.06695193433
                        ],
                        "iteration": 82,
                        "passed_time": 0.561229412,
                        "remaining_time": 0.1149506025,
                        "test": [
                          0,
                          2.003938337
                        ]
                      },
                      {
                        "learn": [
                          1,
                          0.06524025779
                        ],
                        "iteration": 83,
                        "passed_time": 0.563279078,
                        "remaining_time": 0.1072912529,
                        "test": [
                          0,
                          2.009408758
                        ]
                      },
                      {
                        "learn": [
                          1,
                          0.06361396767
                        ],
                        "iteration": 84,
                        "passed_time": 0.5653137453,
                        "remaining_time": 0.09976124917,
                        "test": [
                          0,
                          2.014826865
                        ]
                      },
                      {
                        "learn": [
                          1,
                          0.06234418163
                        ],
                        "iteration": 85,
                        "passed_time": 0.56706368,
                        "remaining_time": 0.0923126921,
                        "test": [
                          0,
                          2.026211934
                        ]
                      },
                      {
                        "learn": [
                          1,
                          0.06112435131
                        ],
                        "iteration": 86,
                        "passed_time": 0.5831904777,
                        "remaining_time": 0.08714340472,
                        "test": [
                          0,
                          2.037482748
                        ]
                      },
                      {
                        "learn": [
                          1,
                          0.06064627086
                        ],
                        "iteration": 87,
                        "passed_time": 0.5855196638,
                        "remaining_time": 0.07984359052,
                        "test": [
                          0,
                          2.055040752
                        ]
                      },
                      {
                        "learn": [
                          1,
                          0.06018668379
                        ],
                        "iteration": 88,
                        "passed_time": 0.6064100915,
                        "remaining_time": 0.07494956187,
                        "test": [
                          0,
                          2.072338151
                        ]
                      },
                      {
                        "learn": [
                          1,
                          0.05877755996
                        ],
                        "iteration": 89,
                        "passed_time": 0.6083646176,
                        "remaining_time": 0.06759606862,
                        "test": [
                          0,
                          2.077426644
                        ]
                      },
                      {
                        "learn": [
                          1,
                          0.05743353288
                        ],
                        "iteration": 90,
                        "passed_time": 0.6102428049,
                        "remaining_time": 0.060353684,
                        "test": [
                          0,
                          2.082469286
                        ]
                      },
                      {
                        "learn": [
                          1,
                          0.05713995336
                        ],
                        "iteration": 91,
                        "passed_time": 0.6279970018,
                        "remaining_time": 0.05460843494,
                        "test": [
                          0,
                          2.094825051
                        ]
                      },
                      {
                        "learn": [
                          1,
                          0.05586453484
                        ],
                        "iteration": 92,
                        "passed_time": 0.6379019209,
                        "remaining_time": 0.04801412308,
                        "test": [
                          0,
                          2.09977824
                        ]
                      },
                      {
                        "learn": [
                          1,
                          0.05558635628
                        ],
                        "iteration": 93,
                        "passed_time": 0.6436198632,
                        "remaining_time": 0.04108211893,
                        "test": [
                          0,
                          2.111851206
                        ]
                      },
                      {
                        "learn": [
                          1,
                          0.05459302493
                        ],
                        "iteration": 94,
                        "passed_time": 0.6454827464,
                        "remaining_time": 0.03397277613,
                        "test": [
                          0,
                          2.122102793
                        ]
                      },
                      {
                        "learn": [
                          1,
                          0.0542115562
                        ],
                        "iteration": 95,
                        "passed_time": 0.6473122934,
                        "remaining_time": 0.02697134556,
                        "test": [
                          0,
                          2.13111411
                        ]
                      },
                      {
                        "learn": [
                          1,
                          0.05384346841
                        ],
                        "iteration": 96,
                        "passed_time": 0.6584167968,
                        "remaining_time": 0.02036340609,
                        "test": [
                          0,
                          2.139988663
                        ]
                      },
                      {
                        "learn": [
                          1,
                          0.05269087239
                        ],
                        "iteration": 97,
                        "passed_time": 0.6780524727,
                        "remaining_time": 0.01383780557,
                        "test": [
                          0,
                          2.144660479
                        ]
                      },
                      {
                        "learn": [
                          1,
                          0.05234367413
                        ],
                        "iteration": 98,
                        "passed_time": 0.6879065251,
                        "remaining_time": 0.006948550758,
                        "test": [
                          0,
                          2.15333367
                        ]
                      },
                      {
                        "learn": [
                          1,
                          0.05144808222
                        ],
                        "iteration": 99,
                        "passed_time": 0.6947597299,
                        "remaining_time": 0,
                        "test": [
                          0,
                          2.163051644
                        ]
                      }
                    ],
                    "meta": {
                      "test_sets": [
                        "test"
                      ],
                      "test_metrics": [
                        {
                          "best_value": "Max",
                          "name": "Accuracy"
                        },
                        {
                          "best_value": "Min",
                          "name": "Logloss"
                        }
                      ],
                      "learn_metrics": [
                        {
                          "best_value": "Max",
                          "name": "Accuracy"
                        },
                        {
                          "best_value": "Min",
                          "name": "Logloss"
                        }
                      ],
                      "launch_mode": "Train",
                      "parameters": "",
                      "iteration_count": 100,
                      "learn_sets": [
                        "learn"
                      ],
                      "name": "experiment"
                    }
                  }
                }
              },
              "catboost_info/fold-2": {
                "path": "catboost_info/fold-2",
                "name": "fold-2",
                "content": {
                  "passed_iterations": 99,
                  "total_iterations": 100,
                  "data": {
                    "iterations": [
                      {
                        "learn": [
                          0.6666666667,
                          0.6809162443
                        ],
                        "iteration": 0,
                        "passed_time": 0.003449555403,
                        "remaining_time": 0.3415059849,
                        "test": [
                          0.5,
                          0.6933390031
                        ]
                      },
                      {
                        "learn": [
                          0.8333333333,
                          0.6671600998
                        ],
                        "iteration": 1,
                        "passed_time": 0.00774405448,
                        "remaining_time": 0.3794586695,
                        "test": [
                          0.5,
                          0.6943063583
                        ]
                      },
                      {
                        "learn": [
                          0.8333333333,
                          0.6549032488
                        ],
                        "iteration": 2,
                        "passed_time": 0.009508599665,
                        "remaining_time": 0.3074447225,
                        "test": [
                          0.5,
                          0.7084343132
                        ]
                      },
                      {
                        "learn": [
                          0.8333333333,
                          0.654862346
                        ],
                        "iteration": 3,
                        "passed_time": 0.01671572335,
                        "remaining_time": 0.4011773605,
                        "test": [
                          0.5,
                          0.708448286
                        ]
                      },
                      {
                        "learn": [
                          0.8333333333,
                          0.6441316033
                        ],
                        "iteration": 4,
                        "passed_time": 0.0249081012,
                        "remaining_time": 0.4732539227,
                        "test": [
                          0.5,
                          0.7102720932
                        ]
                      },
                      {
                        "learn": [
                          0.8333333333,
                          0.6095123519
                        ],
                        "iteration": 5,
                        "passed_time": 0.04459041942,
                        "remaining_time": 0.6985832375,
                        "test": [
                          0.5,
                          0.6537700969
                        ]
                      },
                      {
                        "learn": [
                          1,
                          0.5557009988
                        ],
                        "iteration": 6,
                        "passed_time": 0.0495343242,
                        "remaining_time": 0.6580988787,
                        "test": [
                          1,
                          0.6031190617
                        ]
                      },
                      {
                        "learn": [
                          1,
                          0.5426248134
                        ],
                        "iteration": 7,
                        "passed_time": 0.05629217638,
                        "remaining_time": 0.6473600284,
                        "test": [
                          0.5,
                          0.6079199857
                        ]
                      },
                      {
                        "learn": [
                          1,
                          0.5425612546
                        ],
                        "iteration": 8,
                        "passed_time": 0.05810145117,
                        "remaining_time": 0.5874702285,
                        "test": [
                          0.5,
                          0.6065952338
                        ]
                      },
                      {
                        "learn": [
                          1,
                          0.5188492719
                        ],
                        "iteration": 9,
                        "passed_time": 0.05981854864,
                        "remaining_time": 0.5383669378,
                        "test": [
                          0.5,
                          0.6131527385
                        ]
                      },
                      {
                        "learn": [
                          1,
                          0.508282198
                        ],
                        "iteration": 10,
                        "passed_time": 0.06481485373,
                        "remaining_time": 0.5244110893,
                        "test": [
                          0.5,
                          0.5966301425
                        ]
                      },
                      {
                        "learn": [
                          1,
                          0.508263843
                        ],
                        "iteration": 11,
                        "passed_time": 0.08589287238,
                        "remaining_time": 0.6298810641,
                        "test": [
                          0.5,
                          0.5965377141
                        ]
                      },
                      {
                        "learn": [
                          1,
                          0.5082483389
                        ],
                        "iteration": 12,
                        "passed_time": 0.09815132138,
                        "remaining_time": 0.6568588431,
                        "test": [
                          0.5,
                          0.595912428
                        ]
                      },
                      {
                        "learn": [
                          1,
                          0.490597166
                        ],
                        "iteration": 13,
                        "passed_time": 0.1091342419,
                        "remaining_time": 0.6703960575,
                        "test": [
                          0.5,
                          0.5583615738
                        ]
                      },
                      {
                        "learn": [
                          1,
                          0.4817657401
                        ],
                        "iteration": 14,
                        "passed_time": 0.1139773887,
                        "remaining_time": 0.6458718694,
                        "test": [
                          0.5,
                          0.5423240753
                        ]
                      },
                      {
                        "learn": [
                          1,
                          0.4817474032
                        ],
                        "iteration": 15,
                        "passed_time": 0.1228611138,
                        "remaining_time": 0.6450208473,
                        "test": [
                          0.5,
                          0.5420501541
                        ]
                      },
                      {
                        "learn": [
                          1,
                          0.4817316924
                        ],
                        "iteration": 16,
                        "passed_time": 0.1245453513,
                        "remaining_time": 0.6080743622,
                        "test": [
                          0.5,
                          0.5420051675
                        ]
                      },
                      {
                        "learn": [
                          1,
                          0.4752106598
                        ],
                        "iteration": 17,
                        "passed_time": 0.1262334196,
                        "remaining_time": 0.575063356,
                        "test": [
                          0.5,
                          0.5447586253
                        ]
                      },
                      {
                        "learn": [
                          1,
                          0.4653197368
                        ],
                        "iteration": 18,
                        "passed_time": 0.1308841929,
                        "remaining_time": 0.5579799802,
                        "test": [
                          0.5,
                          0.5491496933
                        ]
                      },
                      {
                        "learn": [
                          1,
                          0.451207708
                        ],
                        "iteration": 19,
                        "passed_time": 0.1427648547,
                        "remaining_time": 0.5710594187,
                        "test": [
                          0.5,
                          0.5573776927
                        ]
                      },
                      {
                        "learn": [
                          1,
                          0.4438779613
                        ],
                        "iteration": 20,
                        "passed_time": 0.1494971094,
                        "remaining_time": 0.5623938878,
                        "test": [
                          0.5,
                          0.5468209754
                        ]
                      },
                      {
                        "learn": [
                          1,
                          0.434281913
                        ],
                        "iteration": 21,
                        "passed_time": 0.1552366302,
                        "remaining_time": 0.5503844162,
                        "test": [
                          0.5,
                          0.5453091096
                        ]
                      },
                      {
                        "learn": [
                          1,
                          0.4149111929
                        ],
                        "iteration": 22,
                        "passed_time": 0.1683296705,
                        "remaining_time": 0.5635384619,
                        "test": [
                          0.5,
                          0.5075663793
                        ]
                      },
                      {
                        "learn": [
                          1,
                          0.397698266
                        ],
                        "iteration": 23,
                        "passed_time": 0.173043021,
                        "remaining_time": 0.5479695666,
                        "test": [
                          0.5,
                          0.5158299659
                        ]
                      },
                      {
                        "learn": [
                          1,
                          0.3918433753
                        ],
                        "iteration": 24,
                        "passed_time": 0.1976102403,
                        "remaining_time": 0.5928307208,
                        "test": [
                          0.5,
                          0.5045019947
                        ]
                      },
                      {
                        "learn": [
                          1,
                          0.3813336446
                        ],
                        "iteration": 25,
                        "passed_time": 0.2054508574,
                        "remaining_time": 0.584744748,
                        "test": [
                          0.5,
                          0.4970389314
                        ]
                      },
                      {
                        "learn": [
                          1,
                          0.3763445543
                        ],
                        "iteration": 26,
                        "passed_time": 0.2193063301,
                        "remaining_time": 0.5929393369,
                        "test": [
                          0.5,
                          0.4901877866
                        ]
                      },
                      {
                        "learn": [
                          1,
                          0.3665842313
                        ],
                        "iteration": 27,
                        "passed_time": 0.2271651194,
                        "remaining_time": 0.5841388785,
                        "test": [
                          1,
                          0.465886631
                        ]
                      },
                      {
                        "learn": [
                          1,
                          0.3551960027
                        ],
                        "iteration": 28,
                        "passed_time": 0.2291292525,
                        "remaining_time": 0.5609716181,
                        "test": [
                          0.5,
                          0.4740448067
                        ]
                      },
                      {
                        "learn": [
                          1,
                          0.3465712157
                        ],
                        "iteration": 29,
                        "passed_time": 0.2308428382,
                        "remaining_time": 0.5386332892,
                        "test": [
                          1,
                          0.455619336
                        ]
                      },
                      {
                        "learn": [
                          1,
                          0.3383586414
                        ],
                        "iteration": 30,
                        "passed_time": 0.2400751995,
                        "remaining_time": 0.534360928,
                        "test": [
                          1,
                          0.4598996902
                        ]
                      },
                      {
                        "learn": [
                          1,
                          0.3235220256
                        ],
                        "iteration": 31,
                        "passed_time": 0.2463038952,
                        "remaining_time": 0.5233957774,
                        "test": [
                          1,
                          0.4304346963
                        ]
                      },
                      {
                        "learn": [
                          1,
                          0.314338264
                        ],
                        "iteration": 32,
                        "passed_time": 0.2725354299,
                        "remaining_time": 0.5533295091,
                        "test": [
                          1,
                          0.4252499784
                        ]
                      },
                      {
                        "learn": [
                          1,
                          0.3059071065
                        ],
                        "iteration": 33,
                        "passed_time": 0.2793650981,
                        "remaining_time": 0.5422969552,
                        "test": [
                          1,
                          0.4204488268
                        ]
                      },
                      {
                        "learn": [
                          1,
                          0.2938258573
                        ],
                        "iteration": 34,
                        "passed_time": 0.2812691293,
                        "remaining_time": 0.5223569544,
                        "test": [
                          1,
                          0.4276619557
                        ]
                      },
                      {
                        "learn": [
                          1,
                          0.2820206857
                        ],
                        "iteration": 35,
                        "passed_time": 0.2829834959,
                        "remaining_time": 0.5030817705,
                        "test": [
                          1,
                          0.435087914
                        ]
                      },
                      {
                        "learn": [
                          1,
                          0.2766421895
                        ],
                        "iteration": 36,
                        "passed_time": 0.2935423806,
                        "remaining_time": 0.4998154048,
                        "test": [
                          0.5,
                          0.4372470366
                        ]
                      },
                      {
                        "learn": [
                          1,
                          0.2696623097
                        ],
                        "iteration": 37,
                        "passed_time": 0.303334472,
                        "remaining_time": 0.4949141385,
                        "test": [
                          1,
                          0.4300888735
                        ]
                      },
                      {
                        "learn": [
                          1,
                          0.2633303994
                        ],
                        "iteration": 38,
                        "passed_time": 0.3084330605,
                        "remaining_time": 0.4824209408,
                        "test": [
                          0.5,
                          0.4375277268
                        ]
                      },
                      {
                        "learn": [
                          1,
                          0.2583178228
                        ],
                        "iteration": 39,
                        "passed_time": 0.3230529674,
                        "remaining_time": 0.484579451,
                        "test": [
                          0.5,
                          0.4399729052
                        ]
                      },
                      {
                        "learn": [
                          1,
                          0.2487861861
                        ],
                        "iteration": 40,
                        "passed_time": 0.3348526488,
                        "remaining_time": 0.4818611287,
                        "test": [
                          0.5,
                          0.4475516969
                        ]
                      },
                      {
                        "learn": [
                          1,
                          0.2441795526
                        ],
                        "iteration": 41,
                        "passed_time": 0.3446016478,
                        "remaining_time": 0.475878466,
                        "test": [
                          0.5,
                          0.4499544951
                        ]
                      },
                      {
                        "learn": [
                          1,
                          0.2425408718
                        ],
                        "iteration": 42,
                        "passed_time": 0.355887195,
                        "remaining_time": 0.4717574446,
                        "test": [
                          0.5,
                          0.4491113906
                        ]
                      },
                      {
                        "learn": [
                          1,
                          0.2389696997
                        ],
                        "iteration": 43,
                        "passed_time": 0.3713388278,
                        "remaining_time": 0.4726130535,
                        "test": [
                          0.5,
                          0.4344974276
                        ]
                      },
                      {
                        "learn": [
                          1,
                          0.2356639665
                        ],
                        "iteration": 44,
                        "passed_time": 0.3911336873,
                        "remaining_time": 0.4780522845,
                        "test": [
                          0.5,
                          0.4318927507
                        ]
                      },
                      {
                        "learn": [
                          1,
                          0.2319707689
                        ],
                        "iteration": 45,
                        "passed_time": 0.395825583,
                        "remaining_time": 0.4646648148,
                        "test": [
                          0.5,
                          0.4332454525
                        ]
                      },
                      {
                        "learn": [
                          1,
                          0.230085235
                        ],
                        "iteration": 46,
                        "passed_time": 0.4174573311,
                        "remaining_time": 0.4707497563,
                        "test": [
                          0.5,
                          0.4268110576
                        ]
                      },
                      {
                        "learn": [
                          1,
                          0.2272560116
                        ],
                        "iteration": 47,
                        "passed_time": 0.4213122765,
                        "remaining_time": 0.4564216329,
                        "test": [
                          0.5,
                          0.4139637983
                        ]
                      },
                      {
                        "learn": [
                          1,
                          0.2231125668
                        ],
                        "iteration": 48,
                        "passed_time": 0.4321667617,
                        "remaining_time": 0.4498062214,
                        "test": [
                          0.5,
                          0.4118097816
                        ]
                      },
                      {
                        "learn": [
                          1,
                          0.220084073
                        ],
                        "iteration": 49,
                        "passed_time": 0.4344415039,
                        "remaining_time": 0.4344415039,
                        "test": [
                          0.5,
                          0.412911797
                        ]
                      },
                      {
                        "learn": [
                          1,
                          0.2148098842
                        ],
                        "iteration": 50,
                        "passed_time": 0.4364240709,
                        "remaining_time": 0.4193094015,
                        "test": [
                          0.5,
                          0.41562902
                        ]
                      },
                      {
                        "learn": [
                          1,
                          0.2120636088
                        ],
                        "iteration": 51,
                        "passed_time": 0.4463096633,
                        "remaining_time": 0.4119781507,
                        "test": [
                          0.5,
                          0.4167640201
                        ]
                      },
                      {
                        "learn": [
                          1,
                          0.2094872865
                        ],
                        "iteration": 52,
                        "passed_time": 0.4483591566,
                        "remaining_time": 0.3976015162,
                        "test": [
                          0.5,
                          0.4178144374
                        ]
                      },
                      {
                        "learn": [
                          1,
                          0.2086843603
                        ],
                        "iteration": 53,
                        "passed_time": 0.4546877339,
                        "remaining_time": 0.3873265882,
                        "test": [
                          0.5,
                          0.4174990642
                        ]
                      },
                      {
                        "learn": [
                          1,
                          0.2065785848
                        ],
                        "iteration": 54,
                        "passed_time": 0.4593898467,
                        "remaining_time": 0.37586442,
                        "test": [
                          0.5,
                          0.4153908603
                        ]
                      },
                      {
                        "learn": [
                          1,
                          0.2033864946
                        ],
                        "iteration": 55,
                        "passed_time": 0.4675615578,
                        "remaining_time": 0.3673697954,
                        "test": [
                          0.5,
                          0.4133984054
                        ]
                      },
                      {
                        "learn": [
                          1,
                          0.198617094
                        ],
                        "iteration": 56,
                        "passed_time": 0.4840899857,
                        "remaining_time": 0.365190691,
                        "test": [
                          1,
                          0.4050536142
                        ]
                      },
                      {
                        "learn": [
                          1,
                          0.1967141386
                        ],
                        "iteration": 57,
                        "passed_time": 0.4919405616,
                        "remaining_time": 0.3562328205,
                        "test": [
                          1,
                          0.4050359558
                        ]
                      },
                      {
                        "learn": [
                          1,
                          0.1937917021
                        ],
                        "iteration": 58,
                        "passed_time": 0.502800093,
                        "remaining_time": 0.3494034545,
                        "test": [
                          1,
                          0.4031199775
                        ]
                      },
                      {
                        "learn": [
                          1,
                          0.1918593241
                        ],
                        "iteration": 59,
                        "passed_time": 0.5116444583,
                        "remaining_time": 0.3410963055,
                        "test": [
                          1,
                          0.4038992957
                        ]
                      },
                      {
                        "learn": [
                          1,
                          0.1900325026
                        ],
                        "iteration": 60,
                        "passed_time": 0.5137122274,
                        "remaining_time": 0.3284389651,
                        "test": [
                          1,
                          0.4046199263
                        ]
                      },
                      {
                        "learn": [
                          1,
                          0.1895106589
                        ],
                        "iteration": 61,
                        "passed_time": 0.5178138339,
                        "remaining_time": 0.3173697692,
                        "test": [
                          1,
                          0.4052860999
                        ]
                      },
                      {
                        "learn": [
                          1,
                          0.1878089642
                        ],
                        "iteration": 62,
                        "passed_time": 0.5207065737,
                        "remaining_time": 0.3058117972,
                        "test": [
                          1,
                          0.4059017721
                        ]
                      },
                      {
                        "learn": [
                          1,
                          0.1773630196
                        ],
                        "iteration": 63,
                        "passed_time": 0.5331334205,
                        "remaining_time": 0.299887549,
                        "test": [
                          0.5,
                          0.4121693202
                        ]
                      },
                      {
                        "learn": [
                          1,
                          0.16789178
                        ],
                        "iteration": 64,
                        "passed_time": 0.5350152896,
                        "remaining_time": 0.2880851559,
                        "test": [
                          1,
                          0.3916542773
                        ]
                      },
                      {
                        "learn": [
                          1,
                          0.1592780616
                        ],
                        "iteration": 65,
                        "passed_time": 0.5475963365,
                        "remaining_time": 0.2820950824,
                        "test": [
                          1,
                          0.3900588869
                        ]
                      },
                      {
                        "learn": [
                          1,
                          0.1580083061
                        ],
                        "iteration": 66,
                        "passed_time": 0.5513769168,
                        "remaining_time": 0.2715737053,
                        "test": [
                          1,
                          0.3906560616
                        ]
                      },
                      {
                        "learn": [
                          1,
                          0.1502358912
                        ],
                        "iteration": 67,
                        "passed_time": 0.5557584534,
                        "remaining_time": 0.2615333898,
                        "test": [
                          1,
                          0.3724374828
                        ]
                      },
                      {
                        "learn": [
                          1,
                          0.1431243347
                        ],
                        "iteration": 68,
                        "passed_time": 0.5592554956,
                        "remaining_time": 0.2512597154,
                        "test": [
                          1,
                          0.3555390661
                        ]
                      },
                      {
                        "learn": [
                          1,
                          0.1365995861
                        ],
                        "iteration": 69,
                        "passed_time": 0.562151117,
                        "remaining_time": 0.2409219073,
                        "test": [
                          1,
                          0.3398441375
                        ]
                      },
                      {
                        "learn": [
                          1,
                          0.135644756
                        ],
                        "iteration": 70,
                        "passed_time": 0.5671391133,
                        "remaining_time": 0.2316483702,
                        "test": [
                          1,
                          0.3446631735
                        ]
                      },
                      {
                        "learn": [
                          1,
                          0.134667204
                        ],
                        "iteration": 71,
                        "passed_time": 0.5695223069,
                        "remaining_time": 0.2214808971,
                        "test": [
                          1,
                          0.3453228704
                        ]
                      },
                      {
                        "learn": [
                          1,
                          0.1337307411
                        ],
                        "iteration": 72,
                        "passed_time": 0.5741682821,
                        "remaining_time": 0.2123636112,
                        "test": [
                          1,
                          0.3459371788
                        ]
                      },
                      {
                        "learn": [
                          1,
                          0.1327373224
                        ],
                        "iteration": 73,
                        "passed_time": 0.5794268969,
                        "remaining_time": 0.2035824232,
                        "test": [
                          1,
                          0.3396165671
                        ]
                      },
                      {
                        "learn": [
                          1,
                          0.1318651866
                        ],
                        "iteration": 74,
                        "passed_time": 0.5812477477,
                        "remaining_time": 0.1937492492,
                        "test": [
                          1,
                          0.3394915363
                        ]
                      },
                      {
                        "learn": [
                          1,
                          0.1310277816
                        ],
                        "iteration": 75,
                        "passed_time": 0.5829931971,
                        "remaining_time": 0.1841031149,
                        "test": [
                          1,
                          0.3399457677
                        ]
                      },
                      {
                        "learn": [
                          1,
                          0.1302231363
                        ],
                        "iteration": 76,
                        "passed_time": 0.5847205352,
                        "remaining_time": 0.1746567832,
                        "test": [
                          1,
                          0.3403683752
                        ]
                      },
                      {
                        "learn": [
                          1,
                          0.129449424
                        ],
                        "iteration": 77,
                        "passed_time": 0.5864310646,
                        "remaining_time": 0.1654036336,
                        "test": [
                          1,
                          0.3407614961
                        ]
                      },
                      {
                        "learn": [
                          1,
                          0.12383104
                        ],
                        "iteration": 78,
                        "passed_time": 0.588194918,
                        "remaining_time": 0.1563556111,
                        "test": [
                          1,
                          0.3261469978
                        ]
                      },
                      {
                        "learn": [
                          1,
                          0.1235950694
                        ],
                        "iteration": 79,
                        "passed_time": 0.5900164397,
                        "remaining_time": 0.1475041099,
                        "test": [
                          1,
                          0.3265379138
                        ]
                      },
                      {
                        "learn": [
                          1,
                          0.1184185627
                        ],
                        "iteration": 80,
                        "passed_time": 0.5918910099,
                        "remaining_time": 0.138838632,
                        "test": [
                          1,
                          0.3254393246
                        ]
                      },
                      {
                        "learn": [
                          1,
                          0.1136310065
                        ],
                        "iteration": 81,
                        "passed_time": 0.5936838325,
                        "remaining_time": 0.1303208413,
                        "test": [
                          1,
                          0.3297914463
                        ]
                      },
                      {
                        "learn": [
                          1,
                          0.1091930003
                        ],
                        "iteration": 82,
                        "passed_time": 0.5954963399,
                        "remaining_time": 0.1219691299,
                        "test": [
                          1,
                          0.316967201
                        ]
                      },
                      {
                        "learn": [
                          1,
                          0.1050699414
                        ],
                        "iteration": 83,
                        "passed_time": 0.5972373849,
                        "remaining_time": 0.1137595019,
                        "test": [
                          1,
                          0.3160018608
                        ]
                      },
                      {
                        "learn": [
                          1,
                          0.101231365
                        ],
                        "iteration": 84,
                        "passed_time": 0.598957924,
                        "remaining_time": 0.1056984572,
                        "test": [
                          1,
                          0.3150758755
                        ]
                      },
                      {
                        "learn": [
                          1,
                          0.1006948175
                        ],
                        "iteration": 85,
                        "passed_time": 0.6006560784,
                        "remaining_time": 0.09778122207,
                        "test": [
                          1,
                          0.3156240416
                        ]
                      },
                      {
                        "learn": [
                          1,
                          0.09713704808
                        ],
                        "iteration": 86,
                        "passed_time": 0.6024347023,
                        "remaining_time": 0.0900189785,
                        "test": [
                          1,
                          0.3147400939
                        ]
                      },
                      {
                        "learn": [
                          1,
                          0.09664112036
                        ],
                        "iteration": 87,
                        "passed_time": 0.6041955185,
                        "remaining_time": 0.08239029798,
                        "test": [
                          1,
                          0.3152903276
                        ]
                      },
                      {
                        "learn": [
                          1,
                          0.09616129439
                        ],
                        "iteration": 88,
                        "passed_time": 0.6059282891,
                        "remaining_time": 0.07489001326,
                        "test": [
                          1,
                          0.3158067038
                        ]
                      },
                      {
                        "learn": [
                          1,
                          0.09287591951
                        ],
                        "iteration": 89,
                        "passed_time": 0.6076867045,
                        "remaining_time": 0.06752074495,
                        "test": [
                          1,
                          0.3048812598
                        ]
                      },
                      {
                        "learn": [
                          1,
                          0.09243065526
                        ],
                        "iteration": 90,
                        "passed_time": 0.6118987696,
                        "remaining_time": 0.06051746073,
                        "test": [
                          1,
                          0.3053868403
                        ]
                      },
                      {
                        "learn": [
                          1,
                          0.08937132551
                        ],
                        "iteration": 91,
                        "passed_time": 0.6147999709,
                        "remaining_time": 0.05346086704,
                        "test": [
                          1,
                          0.2950596361
                        ]
                      },
                      {
                        "learn": [
                          1,
                          0.0865010597
                        ],
                        "iteration": 92,
                        "passed_time": 0.6176996886,
                        "remaining_time": 0.04649352495,
                        "test": [
                          1,
                          0.2853179908
                        ]
                      },
                      {
                        "learn": [
                          1,
                          0.08610256763
                        ],
                        "iteration": 93,
                        "passed_time": 0.6207488338,
                        "remaining_time": 0.03962226599,
                        "test": [
                          1,
                          0.2858300567
                        ]
                      },
                      {
                        "learn": [
                          1,
                          0.08571606329
                        ],
                        "iteration": 94,
                        "passed_time": 0.6225416709,
                        "remaining_time": 0.0327653511,
                        "test": [
                          1,
                          0.2857242699
                        ]
                      },
                      {
                        "learn": [
                          1,
                          0.08304714347
                        ],
                        "iteration": 95,
                        "passed_time": 0.6266999639,
                        "remaining_time": 0.0261124985,
                        "test": [
                          1,
                          0.2764796761
                        ]
                      },
                      {
                        "learn": [
                          1,
                          0.08053480919
                        ],
                        "iteration": 96,
                        "passed_time": 0.6301261318,
                        "remaining_time": 0.01948843707,
                        "test": [
                          1,
                          0.2797492683
                        ]
                      },
                      {
                        "learn": [
                          1,
                          0.07816617693
                        ],
                        "iteration": 97,
                        "passed_time": 0.6320266995,
                        "remaining_time": 0.01289850407,
                        "test": [
                          1,
                          0.2830248202
                        ]
                      },
                      {
                        "learn": [
                          1,
                          0.07782931794
                        ],
                        "iteration": 98,
                        "passed_time": 0.6360381386,
                        "remaining_time": 0.006424627662,
                        "test": [
                          1,
                          0.2835737035
                        ]
                      },
                      {
                        "learn": [
                          1,
                          0.07750209503
                        ],
                        "iteration": 99,
                        "passed_time": 0.6389321528,
                        "remaining_time": 0,
                        "test": [
                          1,
                          0.2840922314
                        ]
                      }
                    ],
                    "meta": {
                      "test_sets": [
                        "test"
                      ],
                      "test_metrics": [
                        {
                          "best_value": "Max",
                          "name": "Accuracy"
                        },
                        {
                          "best_value": "Min",
                          "name": "Logloss"
                        }
                      ],
                      "learn_metrics": [
                        {
                          "best_value": "Max",
                          "name": "Accuracy"
                        },
                        {
                          "best_value": "Min",
                          "name": "Logloss"
                        }
                      ],
                      "launch_mode": "Train",
                      "parameters": "",
                      "iteration_count": 100,
                      "learn_sets": [
                        "learn"
                      ],
                      "name": "experiment"
                    }
                  }
                }
              },
              "catboost_info/fold-3": {
                "path": "catboost_info/fold-3",
                "name": "fold-3",
                "content": {
                  "passed_iterations": 99,
                  "total_iterations": 100,
                  "data": {
                    "iterations": [
                      {
                        "learn": [
                          0.6666666667,
                          0.6748947656
                        ],
                        "iteration": 0,
                        "passed_time": 0.002088459426,
                        "remaining_time": 0.2067574832,
                        "test": [
                          0,
                          0.7221122709
                        ]
                      },
                      {
                        "learn": [
                          1,
                          0.6042882239
                        ],
                        "iteration": 1,
                        "passed_time": 0.003898596924,
                        "remaining_time": 0.1910312493,
                        "test": [
                          0.5,
                          0.7250458455
                        ]
                      },
                      {
                        "learn": [
                          1,
                          0.5427618201
                        ],
                        "iteration": 2,
                        "passed_time": 0.005657615905,
                        "remaining_time": 0.1829295809,
                        "test": [
                          0.5,
                          0.7304693849
                        ]
                      },
                      {
                        "learn": [
                          1,
                          0.4695214922
                        ],
                        "iteration": 3,
                        "passed_time": 0.007255776824,
                        "remaining_time": 0.1741386438,
                        "test": [
                          0.5,
                          0.7467720016
                        ]
                      },
                      {
                        "learn": [
                          1,
                          0.4172245814
                        ],
                        "iteration": 4,
                        "passed_time": 0.01734910862,
                        "remaining_time": 0.3296330638,
                        "test": [
                          0.5,
                          0.7691185998
                        ]
                      },
                      {
                        "learn": [
                          1,
                          0.3803786245
                        ],
                        "iteration": 5,
                        "passed_time": 0.01977568551,
                        "remaining_time": 0.309819073,
                        "test": [
                          0.5,
                          0.7819248011
                        ]
                      },
                      {
                        "learn": [
                          1,
                          0.3480801235
                        ],
                        "iteration": 6,
                        "passed_time": 0.02900346059,
                        "remaining_time": 0.3853316908,
                        "test": [
                          0.5,
                          0.8038064318
                        ]
                      },
                      {
                        "learn": [
                          1,
                          0.3138307565
                        ],
                        "iteration": 7,
                        "passed_time": 0.03496548494,
                        "remaining_time": 0.4021030768,
                        "test": [
                          0.5,
                          0.83398551
                        ]
                      },
                      {
                        "learn": [
                          1,
                          0.2892531665
                        ],
                        "iteration": 8,
                        "passed_time": 0.04354194892,
                        "remaining_time": 0.4402574835,
                        "test": [
                          0.5,
                          0.8491591327
                        ]
                      },
                      {
                        "learn": [
                          1,
                          0.2631072098
                        ],
                        "iteration": 9,
                        "passed_time": 0.04948631014,
                        "remaining_time": 0.4453767913,
                        "test": [
                          0.5,
                          0.8811913231
                        ]
                      },
                      {
                        "learn": [
                          1,
                          0.2513187428
                        ],
                        "iteration": 10,
                        "passed_time": 0.05303205003,
                        "remaining_time": 0.4290774957,
                        "test": [
                          0.5,
                          0.8962270718
                        ]
                      },
                      {
                        "learn": [
                          1,
                          0.2256565245
                        ],
                        "iteration": 11,
                        "passed_time": 0.05913364033,
                        "remaining_time": 0.4336466957,
                        "test": [
                          0.5,
                          0.9290980931
                        ]
                      },
                      {
                        "learn": [
                          1,
                          0.2108920635
                        ],
                        "iteration": 12,
                        "passed_time": 0.07063567127,
                        "remaining_time": 0.4727156462,
                        "test": [
                          0.5,
                          0.943967812
                        ]
                      },
                      {
                        "learn": [
                          1,
                          0.1976385391
                        ],
                        "iteration": 13,
                        "passed_time": 0.07449426844,
                        "remaining_time": 0.457607649,
                        "test": [
                          0.5,
                          0.9714140538
                        ]
                      },
                      {
                        "learn": [
                          1,
                          0.1796436462
                        ],
                        "iteration": 14,
                        "passed_time": 0.08035589479,
                        "remaining_time": 0.4553500705,
                        "test": [
                          0.5,
                          1.003553999
                        ]
                      },
                      {
                        "learn": [
                          1,
                          0.169417149
                        ],
                        "iteration": 15,
                        "passed_time": 0.08320506852,
                        "remaining_time": 0.4368266097,
                        "test": [
                          0.5,
                          1.018059401
                        ]
                      },
                      {
                        "learn": [
                          1,
                          0.1640557114
                        ],
                        "iteration": 16,
                        "passed_time": 0.08507304979,
                        "remaining_time": 0.4153566549,
                        "test": [
                          0.5,
                          1.047120573
                        ]
                      },
                      {
                        "learn": [
                          1,
                          0.1551357666
                        ],
                        "iteration": 17,
                        "passed_time": 0.08696202046,
                        "remaining_time": 0.3961603154,
                        "test": [
                          0.5,
                          1.060202628
                        ]
                      },
                      {
                        "learn": [
                          1,
                          0.1427090652
                        ],
                        "iteration": 18,
                        "passed_time": 0.1278230535,
                        "remaining_time": 0.5449298596,
                        "test": [
                          0.5,
                          1.090223853
                        ]
                      },
                      {
                        "learn": [
                          1,
                          0.1318026209
                        ],
                        "iteration": 19,
                        "passed_time": 0.1296202323,
                        "remaining_time": 0.5184809291,
                        "test": [
                          0.5,
                          1.119557752
                        ]
                      },
                      {
                        "learn": [
                          1,
                          0.1221835453
                        ],
                        "iteration": 20,
                        "passed_time": 0.1313637063,
                        "remaining_time": 0.4941777521,
                        "test": [
                          0.5,
                          1.148154454
                        ]
                      },
                      {
                        "learn": [
                          1,
                          0.1136601756
                        ],
                        "iteration": 21,
                        "passed_time": 0.1345588718,
                        "remaining_time": 0.4770723635,
                        "test": [
                          0.5,
                          1.175985659
                        ]
                      },
                      {
                        "learn": [
                          1,
                          0.1089176958
                        ],
                        "iteration": 22,
                        "passed_time": 0.1366246646,
                        "remaining_time": 0.4573956162,
                        "test": [
                          0.5,
                          1.188228363
                        ]
                      },
                      {
                        "learn": [
                          1,
                          0.1044547321
                        ],
                        "iteration": 23,
                        "passed_time": 0.1521145853,
                        "remaining_time": 0.4816961868,
                        "test": [
                          0.5,
                          1.199078555
                        ]
                      },
                      {
                        "learn": [
                          1,
                          0.1003135139
                        ],
                        "iteration": 24,
                        "passed_time": 0.1541439628,
                        "remaining_time": 0.4624318884,
                        "test": [
                          0.5,
                          1.218084789
                        ]
                      },
                      {
                        "learn": [
                          1,
                          0.09539339147
                        ],
                        "iteration": 25,
                        "passed_time": 0.1560554146,
                        "remaining_time": 0.4441577186,
                        "test": [
                          0.5,
                          1.243581889
                        ]
                      },
                      {
                        "learn": [
                          1,
                          0.09185337091
                        ],
                        "iteration": 26,
                        "passed_time": 0.1580898793,
                        "remaining_time": 0.4274281921,
                        "test": [
                          0.5,
                          1.254532331
                        ]
                      },
                      {
                        "learn": [
                          1,
                          0.08858542427
                        ],
                        "iteration": 27,
                        "passed_time": 0.1629860409,
                        "remaining_time": 0.4191069623,
                        "test": [
                          0.5,
                          1.265309983
                        ]
                      },
                      {
                        "learn": [
                          1,
                          0.08445762662
                        ],
                        "iteration": 28,
                        "passed_time": 0.2001978743,
                        "remaining_time": 0.4901396233,
                        "test": [
                          0.5,
                          1.27591848
                        ]
                      },
                      {
                        "learn": [
                          1,
                          0.07980803546
                        ],
                        "iteration": 29,
                        "passed_time": 0.2019809181,
                        "remaining_time": 0.4712888088,
                        "test": [
                          0.5,
                          1.299234388
                        ]
                      },
                      {
                        "learn": [
                          1,
                          0.07647034364
                        ],
                        "iteration": 30,
                        "passed_time": 0.2036148252,
                        "remaining_time": 0.4532071916,
                        "test": [
                          0.5,
                          1.321870252
                        ]
                      },
                      {
                        "learn": [
                          1,
                          0.07338320535
                        ],
                        "iteration": 31,
                        "passed_time": 0.2054140185,
                        "remaining_time": 0.4365047893,
                        "test": [
                          0.5,
                          1.346321878
                        ]
                      },
                      {
                        "learn": [
                          1,
                          0.06971303645
                        ],
                        "iteration": 32,
                        "passed_time": 0.2097559416,
                        "remaining_time": 0.4258681239,
                        "test": [
                          0.5,
                          1.367553466
                        ]
                      },
                      {
                        "learn": [
                          1,
                          0.06705747356
                        ],
                        "iteration": 33,
                        "passed_time": 0.2142189667,
                        "remaining_time": 0.4158368178,
                        "test": [
                          0.5,
                          1.388182527
                        ]
                      },
                      {
                        "learn": [
                          1,
                          0.06519273261
                        ],
                        "iteration": 34,
                        "passed_time": 0.2265680713,
                        "remaining_time": 0.4207692753,
                        "test": [
                          0.5,
                          1.402217502
                        ]
                      },
                      {
                        "learn": [
                          1,
                          0.06342337004
                        ],
                        "iteration": 35,
                        "passed_time": 0.2368324363,
                        "remaining_time": 0.4210354423,
                        "test": [
                          0.5,
                          1.41086246
                        ]
                      },
                      {
                        "learn": [
                          1,
                          0.06167675638
                        ],
                        "iteration": 36,
                        "passed_time": 0.2407768219,
                        "remaining_time": 0.4099713454,
                        "test": [
                          0.5,
                          1.424771759
                        ]
                      },
                      {
                        "learn": [
                          1,
                          0.06004808911
                        ],
                        "iteration": 37,
                        "passed_time": 0.2449672649,
                        "remaining_time": 0.3996834322,
                        "test": [
                          0.5,
                          1.438388082
                        ]
                      },
                      {
                        "learn": [
                          1,
                          0.05852418996
                        ],
                        "iteration": 38,
                        "passed_time": 0.2610544429,
                        "remaining_time": 0.4083159234,
                        "test": [
                          0.5,
                          1.446537909
                        ]
                      },
                      {
                        "learn": [
                          1,
                          0.05603782679
                        ],
                        "iteration": 39,
                        "passed_time": 0.2640343555,
                        "remaining_time": 0.3960515333,
                        "test": [
                          0.5,
                          1.464995154
                        ]
                      },
                      {
                        "learn": [
                          1,
                          0.05467220087
                        ],
                        "iteration": 40,
                        "passed_time": 0.266529995,
                        "remaining_time": 0.3835431635,
                        "test": [
                          0.5,
                          1.477738839
                        ]
                      },
                      {
                        "learn": [
                          1,
                          0.05288374914
                        ],
                        "iteration": 41,
                        "passed_time": 0.2683677535,
                        "remaining_time": 0.3706030881,
                        "test": [
                          0.5,
                          1.485372919
                        ]
                      },
                      {
                        "learn": [
                          1,
                          0.05080266106
                        ],
                        "iteration": 42,
                        "passed_time": 0.2765697365,
                        "remaining_time": 0.3666156972,
                        "test": [
                          0.5,
                          1.502782684
                        ]
                      },
                      {
                        "learn": [
                          1,
                          0.0488637029
                        ],
                        "iteration": 43,
                        "passed_time": 0.2783490358,
                        "remaining_time": 0.3542624092,
                        "test": [
                          0.5,
                          1.519742595
                        ]
                      },
                      {
                        "learn": [
                          1,
                          0.0470536808
                        ],
                        "iteration": 44,
                        "passed_time": 0.2803003256,
                        "remaining_time": 0.3425892868,
                        "test": [
                          0.5,
                          1.536271058
                        ]
                      },
                      {
                        "learn": [
                          1,
                          0.04574708516
                        ],
                        "iteration": 45,
                        "passed_time": 0.2821761266,
                        "remaining_time": 0.3312502356,
                        "test": [
                          0.5,
                          1.552385681
                        ]
                      },
                      {
                        "learn": [
                          1,
                          0.04413643442
                        ],
                        "iteration": 46,
                        "passed_time": 0.2929155815,
                        "remaining_time": 0.33030906,
                        "test": [
                          0.5,
                          1.568103284
                        ]
                      },
                      {
                        "learn": [
                          1,
                          0.04262559018
                        ],
                        "iteration": 47,
                        "passed_time": 0.2957458158,
                        "remaining_time": 0.3203913004,
                        "test": [
                          0.5,
                          1.583439911
                        ]
                      },
                      {
                        "learn": [
                          1,
                          0.04120606821
                        ],
                        "iteration": 48,
                        "passed_time": 0.2980246715,
                        "remaining_time": 0.3101889438,
                        "test": [
                          0.5,
                          1.598410851
                        ]
                      },
                      {
                        "learn": [
                          1,
                          0.03987027982
                        ],
                        "iteration": 49,
                        "passed_time": 0.2998501258,
                        "remaining_time": 0.2998501258,
                        "test": [
                          0.5,
                          1.613030664
                        ]
                      },
                      {
                        "learn": [
                          1,
                          0.03861142072
                        ],
                        "iteration": 50,
                        "passed_time": 0.3017095191,
                        "remaining_time": 0.2898777733,
                        "test": [
                          0.5,
                          1.62731321
                        ]
                      },
                      {
                        "learn": [
                          1,
                          0.03742337547
                        ],
                        "iteration": 51,
                        "passed_time": 0.3047888235,
                        "remaining_time": 0.2813435294,
                        "test": [
                          0.5,
                          1.641271676
                        ]
                      },
                      {
                        "learn": [
                          1,
                          0.03630063519
                        ],
                        "iteration": 52,
                        "passed_time": 0.3138794534,
                        "remaining_time": 0.2783459304,
                        "test": [
                          0.5,
                          1.654918604
                        ]
                      },
                      {
                        "learn": [
                          1,
                          0.03523822651
                        ],
                        "iteration": 53,
                        "passed_time": 0.3158154336,
                        "remaining_time": 0.269027962,
                        "test": [
                          0.5,
                          1.668265929
                        ]
                      },
                      {
                        "learn": [
                          1,
                          0.03423165001
                        ],
                        "iteration": 54,
                        "passed_time": 0.3257377786,
                        "remaining_time": 0.2665127279,
                        "test": [
                          0.5,
                          1.681325
                        ]
                      },
                      {
                        "learn": [
                          1,
                          0.03386876299
                        ],
                        "iteration": 55,
                        "passed_time": 0.3277865583,
                        "remaining_time": 0.2575465815,
                        "test": [
                          0.5,
                          1.685210964
                        ]
                      },
                      {
                        "learn": [
                          1,
                          0.03293231408
                        ],
                        "iteration": 56,
                        "passed_time": 0.329608609,
                        "remaining_time": 0.2486521086,
                        "test": [
                          0.5,
                          1.697892554
                        ]
                      },
                      {
                        "learn": [
                          1,
                          0.03204261624
                        ],
                        "iteration": 57,
                        "passed_time": 0.3598407131,
                        "remaining_time": 0.2605743095,
                        "test": [
                          0.5,
                          1.710310636
                        ]
                      },
                      {
                        "learn": [
                          1,
                          0.03119641271
                        ],
                        "iteration": 58,
                        "passed_time": 0.3613378997,
                        "remaining_time": 0.2510992184,
                        "test": [
                          0.5,
                          1.722474808
                        ]
                      },
                      {
                        "learn": [
                          1,
                          0.0303907322
                        ],
                        "iteration": 59,
                        "passed_time": 0.3628747687,
                        "remaining_time": 0.2419165125,
                        "test": [
                          0.5,
                          1.734394211
                        ]
                      },
                      {
                        "learn": [
                          1,
                          0.02962285909
                        ],
                        "iteration": 60,
                        "passed_time": 0.3653368655,
                        "remaining_time": 0.2335760288,
                        "test": [
                          0.5,
                          1.746077548
                        ]
                      },
                      {
                        "learn": [
                          1,
                          0.02889030729
                        ],
                        "iteration": 61,
                        "passed_time": 0.367855187,
                        "remaining_time": 0.2254596307,
                        "test": [
                          0.5,
                          1.757533113
                        ]
                      },
                      {
                        "learn": [
                          1,
                          0.02819079706
                        ],
                        "iteration": 62,
                        "passed_time": 0.3808124203,
                        "remaining_time": 0.2236517389,
                        "test": [
                          0.5,
                          1.768768807
                        ]
                      },
                      {
                        "learn": [
                          1,
                          0.02752223463
                        ],
                        "iteration": 63,
                        "passed_time": 0.3832277784,
                        "remaining_time": 0.2155656254,
                        "test": [
                          0.5,
                          1.779792164
                        ]
                      },
                      {
                        "learn": [
                          1,
                          0.02688269404
                        ],
                        "iteration": 64,
                        "passed_time": 0.3864675517,
                        "remaining_time": 0.2080979125,
                        "test": [
                          0.5,
                          1.790610369
                        ]
                      },
                      {
                        "learn": [
                          1,
                          0.02627040111
                        ],
                        "iteration": 65,
                        "passed_time": 0.3894088928,
                        "remaining_time": 0.2006045811,
                        "test": [
                          0.5,
                          1.80123028
                        ]
                      },
                      {
                        "learn": [
                          1,
                          0.02568371909
                        ],
                        "iteration": 66,
                        "passed_time": 0.3905222787,
                        "remaining_time": 0.192346794,
                        "test": [
                          0.5,
                          1.81165844
                        ]
                      },
                      {
                        "learn": [
                          1,
                          0.02512113597
                        ],
                        "iteration": 67,
                        "passed_time": 0.3931329338,
                        "remaining_time": 0.1850037336,
                        "test": [
                          0.5,
                          1.821901101
                        ]
                      },
                      {
                        "learn": [
                          1,
                          0.02458125306
                        ],
                        "iteration": 68,
                        "passed_time": 0.3964816713,
                        "remaining_time": 0.1781294465,
                        "test": [
                          0.5,
                          1.831964232
                        ]
                      },
                      {
                        "learn": [
                          1,
                          0.02406277482
                        ],
                        "iteration": 69,
                        "passed_time": 0.4010426653,
                        "remaining_time": 0.171875428,
                        "test": [
                          0.5,
                          1.841853543
                        ]
                      },
                      {
                        "learn": [
                          1,
                          0.02356449973
                        ],
                        "iteration": 70,
                        "passed_time": 0.416341857,
                        "remaining_time": 0.1700551247,
                        "test": [
                          0.5,
                          1.851574491
                        ]
                      },
                      {
                        "learn": [
                          1,
                          0.02308531212
                        ],
                        "iteration": 71,
                        "passed_time": 0.4252061745,
                        "remaining_time": 0.1653579567,
                        "test": [
                          0.5,
                          1.861132299
                        ]
                      },
                      {
                        "learn": [
                          1,
                          0.02262417476
                        ],
                        "iteration": 72,
                        "passed_time": 0.4300429624,
                        "remaining_time": 0.1590569861,
                        "test": [
                          0.5,
                          1.870531964
                        ]
                      },
                      {
                        "learn": [
                          1,
                          0.02218012228
                        ],
                        "iteration": 73,
                        "passed_time": 0.4340096246,
                        "remaining_time": 0.1524898681,
                        "test": [
                          0.5,
                          1.879778273
                        ]
                      },
                      {
                        "learn": [
                          1,
                          0.02175225517
                        ],
                        "iteration": 74,
                        "passed_time": 0.4377791425,
                        "remaining_time": 0.1459263808,
                        "test": [
                          0.5,
                          1.888875809
                        ]
                      },
                      {
                        "learn": [
                          1,
                          0.02133973435
                        ],
                        "iteration": 75,
                        "passed_time": 0.4438721549,
                        "remaining_time": 0.1401701542,
                        "test": [
                          0.5,
                          1.897828969
                        ]
                      },
                      {
                        "learn": [
                          1,
                          0.0209417763
                        ],
                        "iteration": 76,
                        "passed_time": 0.448635604,
                        "remaining_time": 0.1340080376,
                        "test": [
                          0.5,
                          1.906641963
                        ]
                      },
                      {
                        "learn": [
                          1,
                          0.02055764864
                        ],
                        "iteration": 77,
                        "passed_time": 0.4555997893,
                        "remaining_time": 0.1285025047,
                        "test": [
                          0.5,
                          1.915318836
                        ]
                      },
                      {
                        "learn": [
                          1,
                          0.02018666609
                        ],
                        "iteration": 78,
                        "passed_time": 0.4599256657,
                        "remaining_time": 0.1222587213,
                        "test": [
                          0.5,
                          1.923863464
                        ]
                      },
                      {
                        "learn": [
                          1,
                          0.0198281868
                        ],
                        "iteration": 79,
                        "passed_time": 0.4648515464,
                        "remaining_time": 0.1162128866,
                        "test": [
                          0.5,
                          1.932279572
                        ]
                      },
                      {
                        "learn": [
                          1,
                          0.01948160908
                        ],
                        "iteration": 80,
                        "passed_time": 0.4720897365,
                        "remaining_time": 0.1107370987,
                        "test": [
                          0.5,
                          1.940570737
                        ]
                      },
                      {
                        "learn": [
                          1,
                          0.01914636831
                        ],
                        "iteration": 81,
                        "passed_time": 0.4760111227,
                        "remaining_time": 0.1044902465,
                        "test": [
                          0.5,
                          1.948740396
                        ]
                      },
                      {
                        "learn": [
                          1,
                          0.01882193422
                        ],
                        "iteration": 82,
                        "passed_time": 0.4825945518,
                        "remaining_time": 0.09884466724,
                        "test": [
                          0.5,
                          1.956791853
                        ]
                      },
                      {
                        "learn": [
                          1,
                          0.01850780836
                        ],
                        "iteration": 83,
                        "passed_time": 0.4865406492,
                        "remaining_time": 0.09267440936,
                        "test": [
                          0.5,
                          1.964728284
                        ]
                      },
                      {
                        "learn": [
                          1,
                          0.01820352176
                        ],
                        "iteration": 84,
                        "passed_time": 0.487685915,
                        "remaining_time": 0.0860622203,
                        "test": [
                          0.5,
                          1.972552747
                        ]
                      },
                      {
                        "learn": [
                          1,
                          0.01790863287
                        ],
                        "iteration": 85,
                        "passed_time": 0.4992271776,
                        "remaining_time": 0.08126954053,
                        "test": [
                          0.5,
                          1.980268184
                        ]
                      },
                      {
                        "learn": [
                          1,
                          0.01762272558
                        ],
                        "iteration": 86,
                        "passed_time": 0.5071273984,
                        "remaining_time": 0.07577765724,
                        "test": [
                          0.5,
                          1.987877429
                        ]
                      },
                      {
                        "learn": [
                          1,
                          0.01734540747
                        ],
                        "iteration": 87,
                        "passed_time": 0.5136144685,
                        "remaining_time": 0.07003833661,
                        "test": [
                          0.5,
                          1.995383208
                        ]
                      },
                      {
                        "learn": [
                          1,
                          0.01707630815
                        ],
                        "iteration": 88,
                        "passed_time": 0.5148261279,
                        "remaining_time": 0.06363019558,
                        "test": [
                          0.5,
                          2.002788152
                        ]
                      },
                      {
                        "learn": [
                          1,
                          0.0168150778
                        ],
                        "iteration": 89,
                        "passed_time": 0.5176387826,
                        "remaining_time": 0.05751542029,
                        "test": [
                          0.5,
                          2.010094795
                        ]
                      },
                      {
                        "learn": [
                          1,
                          0.01656138574
                        ],
                        "iteration": 90,
                        "passed_time": 0.5257511828,
                        "remaining_time": 0.05199736973,
                        "test": [
                          0.5,
                          2.017305582
                        ]
                      },
                      {
                        "learn": [
                          1,
                          0.01631491922
                        ],
                        "iteration": 91,
                        "passed_time": 0.5286514769,
                        "remaining_time": 0.04596969364,
                        "test": [
                          0.5,
                          2.024422869
                        ]
                      },
                      {
                        "learn": [
                          1,
                          0.01607538217
                        ],
                        "iteration": 92,
                        "passed_time": 0.5298104542,
                        "remaining_time": 0.03987820623,
                        "test": [
                          0.5,
                          2.031448931
                        ]
                      },
                      {
                        "learn": [
                          1,
                          0.01584249416
                        ],
                        "iteration": 93,
                        "passed_time": 0.5333172534,
                        "remaining_time": 0.03404152681,
                        "test": [
                          0.5,
                          2.038385966
                        ]
                      },
                      {
                        "learn": [
                          1,
                          0.01561598942
                        ],
                        "iteration": 94,
                        "passed_time": 0.5371397716,
                        "remaining_time": 0.02827051429,
                        "test": [
                          0.5,
                          2.045236094
                        ]
                      },
                      {
                        "learn": [
                          1,
                          0.01539561586
                        ],
                        "iteration": 95,
                        "passed_time": 0.5399643478,
                        "remaining_time": 0.02249851449,
                        "test": [
                          0.5,
                          2.052001364
                        ]
                      },
                      {
                        "learn": [
                          1,
                          0.01518113423
                        ],
                        "iteration": 96,
                        "passed_time": 0.5411375456,
                        "remaining_time": 0.01673621275,
                        "test": [
                          0.5,
                          2.058683755
                        ]
                      },
                      {
                        "learn": [
                          1,
                          0.01497231734
                        ],
                        "iteration": 97,
                        "passed_time": 0.5447367703,
                        "remaining_time": 0.01111707695,
                        "test": [
                          0.5,
                          2.065285182
                        ]
                      },
                      {
                        "learn": [
                          1,
                          0.01476894933
                        ],
                        "iteration": 98,
                        "passed_time": 0.5486852958,
                        "remaining_time": 0.005542275715,
                        "test": [
                          0.5,
                          2.071807495
                        ]
                      },
                      {
                        "learn": [
                          1,
                          0.01457082494
                        ],
                        "iteration": 99,
                        "passed_time": 0.5531065748,
                        "remaining_time": 0,
                        "test": [
                          0.5,
                          2.078252485
                        ]
                      }
                    ],
                    "meta": {
                      "test_sets": [
                        "test"
                      ],
                      "test_metrics": [
                        {
                          "best_value": "Max",
                          "name": "Accuracy"
                        },
                        {
                          "best_value": "Min",
                          "name": "Logloss"
                        }
                      ],
                      "learn_metrics": [
                        {
                          "best_value": "Max",
                          "name": "Accuracy"
                        },
                        {
                          "best_value": "Min",
                          "name": "Logloss"
                        }
                      ],
                      "launch_mode": "Train",
                      "parameters": "",
                      "iteration_count": 100,
                      "learn_sets": [
                        "learn"
                      ],
                      "name": "experiment"
                    }
                  }
                }
              }
            },
            "layout": "IPY_MODEL_810e763284b74242a93cd8e08ce0b716"
          }
        },
        "762cf2a7e2d0407db8c980dbf8e6b00c": {
          "model_module": "catboost-widget",
          "model_name": "CatboostWidgetModel",
          "model_module_version": "^1.0.0",
          "state": {
            "_dom_classes": [],
            "_model_module": "catboost-widget",
            "_model_module_version": "^1.0.0",
            "_model_name": "CatboostWidgetModel",
            "_view_count": null,
            "_view_module": "catboost-widget",
            "_view_module_version": "^1.0.0",
            "_view_name": "CatboostWidgetView",
            "data": {
              "catboost_info/fold-0": {
                "path": "catboost_info/fold-0",
                "name": "fold-0",
                "content": {
                  "passed_iterations": 99,
                  "total_iterations": 100,
                  "data": {
                    "iterations": [
                      {
                        "learn": [
                          0.6763824783
                        ],
                        "iteration": 0,
                        "passed_time": 0.002283552858,
                        "remaining_time": 0.226071733,
                        "test": [
                          0.6848384748
                        ]
                      },
                      {
                        "learn": [
                          0.6601435207
                        ],
                        "iteration": 1,
                        "passed_time": 0.002671528878,
                        "remaining_time": 0.130904915,
                        "test": [
                          0.6769347765
                        ]
                      },
                      {
                        "learn": [
                          0.6444191895
                        ],
                        "iteration": 2,
                        "passed_time": 0.002985577951,
                        "remaining_time": 0.09653368708,
                        "test": [
                          0.6767941168
                        ]
                      },
                      {
                        "learn": [
                          0.6291919723
                        ],
                        "iteration": 3,
                        "passed_time": 0.003278012196,
                        "remaining_time": 0.07867229271,
                        "test": [
                          0.6692585543
                        ]
                      },
                      {
                        "learn": [
                          0.6144418791
                        ],
                        "iteration": 4,
                        "passed_time": 0.003588680458,
                        "remaining_time": 0.06818492871,
                        "test": [
                          0.6689899765
                        ]
                      },
                      {
                        "learn": [
                          0.6001662537
                        ],
                        "iteration": 5,
                        "passed_time": 0.005405747756,
                        "remaining_time": 0.08469004817,
                        "test": [
                          0.6689801359
                        ]
                      },
                      {
                        "learn": [
                          0.5863367543
                        ],
                        "iteration": 6,
                        "passed_time": 0.005765929127,
                        "remaining_time": 0.07660448698,
                        "test": [
                          0.6617751963
                        ]
                      },
                      {
                        "learn": [
                          0.5729417801
                        ],
                        "iteration": 7,
                        "passed_time": 0.006124950532,
                        "remaining_time": 0.07043693112,
                        "test": [
                          0.6618824969
                        ]
                      },
                      {
                        "learn": [
                          0.5599769205
                        ],
                        "iteration": 8,
                        "passed_time": 0.01121542834,
                        "remaining_time": 0.1134004421,
                        "test": [
                          0.6550004685
                        ]
                      },
                      {
                        "learn": [
                          0.5474096984
                        ],
                        "iteration": 9,
                        "passed_time": 0.01161844483,
                        "remaining_time": 0.1045660035,
                        "test": [
                          0.6552142376
                        ]
                      },
                      {
                        "learn": [
                          0.5352462679
                        ],
                        "iteration": 10,
                        "passed_time": 0.01199787201,
                        "remaining_time": 0.09707369172,
                        "test": [
                          0.6486364839
                        ]
                      },
                      {
                        "learn": [
                          0.5234580338
                        ],
                        "iteration": 11,
                        "passed_time": 0.01234174204,
                        "remaining_time": 0.09050610827,
                        "test": [
                          0.6423596184
                        ]
                      },
                      {
                        "learn": [
                          0.5120381862
                        ],
                        "iteration": 12,
                        "passed_time": 0.01269267368,
                        "remaining_time": 0.08494327768,
                        "test": [
                          0.6425614927
                        ]
                      },
                      {
                        "learn": [
                          0.5009697974
                        ],
                        "iteration": 13,
                        "passed_time": 0.01301721881,
                        "remaining_time": 0.07996291554,
                        "test": [
                          0.6421250279
                        ]
                      },
                      {
                        "learn": [
                          0.4902371615
                        ],
                        "iteration": 14,
                        "passed_time": 0.01334111214,
                        "remaining_time": 0.07559963547,
                        "test": [
                          0.6425128932
                        ]
                      },
                      {
                        "learn": [
                          0.479837507
                        ],
                        "iteration": 15,
                        "passed_time": 0.01367892416,
                        "remaining_time": 0.07181435185,
                        "test": [
                          0.6422749749
                        ]
                      },
                      {
                        "learn": [
                          0.4697518647
                        ],
                        "iteration": 16,
                        "passed_time": 0.01402618864,
                        "remaining_time": 0.06848080334,
                        "test": [
                          0.6422189407
                        ]
                      },
                      {
                        "learn": [
                          0.4599656165
                        ],
                        "iteration": 17,
                        "passed_time": 0.01436570697,
                        "remaining_time": 0.0654437762,
                        "test": [
                          0.6423373265
                        ]
                      },
                      {
                        "learn": [
                          0.4504719377
                        ],
                        "iteration": 18,
                        "passed_time": 0.01468462227,
                        "remaining_time": 0.06260286334,
                        "test": [
                          0.6426229074
                        ]
                      },
                      {
                        "learn": [
                          0.4412531704
                        ],
                        "iteration": 19,
                        "passed_time": 0.01953233439,
                        "remaining_time": 0.07812933755,
                        "test": [
                          0.6431573939
                        ]
                      },
                      {
                        "learn": [
                          0.4323074073
                        ],
                        "iteration": 20,
                        "passed_time": 0.01989567112,
                        "remaining_time": 0.07484561994,
                        "test": [
                          0.6435964896
                        ]
                      },
                      {
                        "learn": [
                          0.4236211032
                        ],
                        "iteration": 21,
                        "passed_time": 0.02023173774,
                        "remaining_time": 0.07173070653,
                        "test": [
                          0.6442731527
                        ]
                      },
                      {
                        "learn": [
                          0.4151814878
                        ],
                        "iteration": 22,
                        "passed_time": 0.02052803824,
                        "remaining_time": 0.06872430192,
                        "test": [
                          0.6382400402
                        ]
                      },
                      {
                        "learn": [
                          0.406972453
                        ],
                        "iteration": 23,
                        "passed_time": 0.02080989733,
                        "remaining_time": 0.06589800822,
                        "test": [
                          0.6389720015
                        ]
                      },
                      {
                        "learn": [
                          0.3990405053
                        ],
                        "iteration": 24,
                        "passed_time": 0.0212429775,
                        "remaining_time": 0.0637289325,
                        "test": [
                          0.6331700311
                        ]
                      },
                      {
                        "learn": [
                          0.3913362324
                        ],
                        "iteration": 25,
                        "passed_time": 0.02153627263,
                        "remaining_time": 0.06129554518,
                        "test": [
                          0.6339517407
                        ]
                      },
                      {
                        "learn": [
                          0.3838484883
                        ],
                        "iteration": 26,
                        "passed_time": 0.02184799086,
                        "remaining_time": 0.05907049381,
                        "test": [
                          0.6283686604
                        ]
                      },
                      {
                        "learn": [
                          0.3765672147
                        ],
                        "iteration": 27,
                        "passed_time": 0.022141126,
                        "remaining_time": 0.05693432399,
                        "test": [
                          0.6229898144
                        ]
                      },
                      {
                        "learn": [
                          0.3694871217
                        ],
                        "iteration": 28,
                        "passed_time": 0.02241787979,
                        "remaining_time": 0.05488515396,
                        "test": [
                          0.6178086029
                        ]
                      },
                      {
                        "learn": [
                          0.3626056463
                        ],
                        "iteration": 29,
                        "passed_time": 0.02272652174,
                        "remaining_time": 0.05302855073,
                        "test": [
                          0.6184827982
                        ]
                      },
                      {
                        "learn": [
                          0.3559123129
                        ],
                        "iteration": 30,
                        "passed_time": 0.02787583876,
                        "remaining_time": 0.06204622175,
                        "test": [
                          0.6186798334
                        ]
                      },
                      {
                        "learn": [
                          0.3494064212
                        ],
                        "iteration": 31,
                        "passed_time": 0.02836787267,
                        "remaining_time": 0.06028172941,
                        "test": [
                          0.6136936864
                        ]
                      },
                      {
                        "learn": [
                          0.3430772722
                        ],
                        "iteration": 32,
                        "passed_time": 0.03029094416,
                        "remaining_time": 0.06149979572,
                        "test": [
                          0.613943784
                        ]
                      },
                      {
                        "learn": [
                          0.3369241804
                        ],
                        "iteration": 33,
                        "passed_time": 0.03062147912,
                        "remaining_time": 0.05944169476,
                        "test": [
                          0.6091388557
                        ]
                      },
                      {
                        "learn": [
                          0.3309387118
                        ],
                        "iteration": 34,
                        "passed_time": 0.03090311641,
                        "remaining_time": 0.0573915019,
                        "test": [
                          0.6097721727
                        ]
                      },
                      {
                        "learn": [
                          0.3251170367
                        ],
                        "iteration": 35,
                        "passed_time": 0.03121820999,
                        "remaining_time": 0.05549903999,
                        "test": [
                          0.6105039442
                        ]
                      },
                      {
                        "learn": [
                          0.3194532394
                        ],
                        "iteration": 36,
                        "passed_time": 0.03151837856,
                        "remaining_time": 0.05366642836,
                        "test": [
                          0.611330257
                        ]
                      },
                      {
                        "learn": [
                          0.3139465898
                        ],
                        "iteration": 37,
                        "passed_time": 0.03180657293,
                        "remaining_time": 0.05189493478,
                        "test": [
                          0.6122473309
                        ]
                      },
                      {
                        "learn": [
                          0.3085849136
                        ],
                        "iteration": 38,
                        "passed_time": 0.03211239588,
                        "remaining_time": 0.05022708073,
                        "test": [
                          0.6125346181
                        ]
                      },
                      {
                        "learn": [
                          0.3033731282
                        ],
                        "iteration": 39,
                        "passed_time": 0.03239524313,
                        "remaining_time": 0.04859286469,
                        "test": [
                          0.6135272542
                        ]
                      },
                      {
                        "learn": [
                          0.2982991487
                        ],
                        "iteration": 40,
                        "passed_time": 0.03277551937,
                        "remaining_time": 0.04716477178,
                        "test": [
                          0.6089165179
                        ]
                      },
                      {
                        "learn": [
                          0.293362096
                        ],
                        "iteration": 41,
                        "passed_time": 0.0330942674,
                        "remaining_time": 0.04570160736,
                        "test": [
                          0.6044517683
                        ]
                      },
                      {
                        "learn": [
                          0.2885578871
                        ],
                        "iteration": 42,
                        "passed_time": 0.03339557139,
                        "remaining_time": 0.04426854812,
                        "test": [
                          0.6001287089
                        ]
                      },
                      {
                        "learn": [
                          0.2838569283
                        ],
                        "iteration": 43,
                        "passed_time": 0.03373849871,
                        "remaining_time": 0.04293990745,
                        "test": [
                          0.6010249823
                        ]
                      },
                      {
                        "learn": [
                          0.2792699188
                        ],
                        "iteration": 44,
                        "passed_time": 0.03403792639,
                        "remaining_time": 0.04160191003,
                        "test": [
                          0.601995379
                        ]
                      },
                      {
                        "learn": [
                          0.274797976
                        ],
                        "iteration": 45,
                        "passed_time": 0.03435460903,
                        "remaining_time": 0.04032932364,
                        "test": [
                          0.6022221106
                        ]
                      },
                      {
                        "learn": [
                          0.2704517543
                        ],
                        "iteration": 46,
                        "passed_time": 0.03469798452,
                        "remaining_time": 0.03912751446,
                        "test": [
                          0.6025267689
                        ]
                      },
                      {
                        "learn": [
                          0.2662106156
                        ],
                        "iteration": 47,
                        "passed_time": 0.03498161811,
                        "remaining_time": 0.03789675295,
                        "test": [
                          0.5983649284
                        ]
                      },
                      {
                        "learn": [
                          0.2620778531
                        ],
                        "iteration": 48,
                        "passed_time": 0.03528155941,
                        "remaining_time": 0.03672162306,
                        "test": [
                          0.5993319735
                        ]
                      },
                      {
                        "learn": [
                          0.2580510974
                        ],
                        "iteration": 49,
                        "passed_time": 0.03556563754,
                        "remaining_time": 0.03556563754,
                        "test": [
                          0.5952995785
                        ]
                      },
                      {
                        "learn": [
                          0.254122749
                        ],
                        "iteration": 50,
                        "passed_time": 0.03586725333,
                        "remaining_time": 0.03446069438,
                        "test": [
                          0.5913856098
                        ]
                      },
                      {
                        "learn": [
                          0.2502831072
                        ],
                        "iteration": 51,
                        "passed_time": 0.03619548018,
                        "remaining_time": 0.03341121247,
                        "test": [
                          0.5923162623
                        ]
                      },
                      {
                        "learn": [
                          0.246543318
                        ],
                        "iteration": 52,
                        "passed_time": 0.03649956136,
                        "remaining_time": 0.03236753554,
                        "test": [
                          0.5925692606
                        ]
                      },
                      {
                        "learn": [
                          0.2428850085
                        ],
                        "iteration": 53,
                        "passed_time": 0.03680047899,
                        "remaining_time": 0.03134855618,
                        "test": [
                          0.5935497556
                        ]
                      },
                      {
                        "learn": [
                          0.2393222898
                        ],
                        "iteration": 54,
                        "passed_time": 0.03711119907,
                        "remaining_time": 0.03036370833,
                        "test": [
                          0.589767864
                        ]
                      },
                      {
                        "learn": [
                          0.2358323559
                        ],
                        "iteration": 55,
                        "passed_time": 0.0374371478,
                        "remaining_time": 0.02941490184,
                        "test": [
                          0.5900480027
                        ]
                      },
                      {
                        "learn": [
                          0.2324290723
                        ],
                        "iteration": 56,
                        "passed_time": 0.03779811097,
                        "remaining_time": 0.02851436441,
                        "test": [
                          0.5863800498
                        ]
                      },
                      {
                        "learn": [
                          0.2291021049
                        ],
                        "iteration": 57,
                        "passed_time": 0.0381239097,
                        "remaining_time": 0.02760696909,
                        "test": [
                          0.5873161869
                        ]
                      },
                      {
                        "learn": [
                          0.2258424535
                        ],
                        "iteration": 58,
                        "passed_time": 0.03845311288,
                        "remaining_time": 0.02672165471,
                        "test": [
                          0.5876201592
                        ]
                      },
                      {
                        "learn": [
                          0.2226631194
                        ],
                        "iteration": 59,
                        "passed_time": 0.03879606748,
                        "remaining_time": 0.02586404498,
                        "test": [
                          0.5840663938
                        ]
                      },
                      {
                        "learn": [
                          0.2195811495
                        ],
                        "iteration": 60,
                        "passed_time": 0.03910123499,
                        "remaining_time": 0.02499915024,
                        "test": [
                          0.5806081862
                        ]
                      },
                      {
                        "learn": [
                          0.2165684327
                        ],
                        "iteration": 61,
                        "passed_time": 0.03943527894,
                        "remaining_time": 0.02417000967,
                        "test": [
                          0.5809036465
                        ]
                      },
                      {
                        "learn": [
                          0.2136166468
                        ],
                        "iteration": 62,
                        "passed_time": 0.03976043951,
                        "remaining_time": 0.02335136923,
                        "test": [
                          0.5817908349
                        ]
                      },
                      {
                        "learn": [
                          0.210730508
                        ],
                        "iteration": 63,
                        "passed_time": 0.04007419222,
                        "remaining_time": 0.02254173313,
                        "test": [
                          0.5821366862
                        ]
                      },
                      {
                        "learn": [
                          0.2079065442
                        ],
                        "iteration": 64,
                        "passed_time": 0.0404446733,
                        "remaining_time": 0.02177790101,
                        "test": [
                          0.5825324449
                        ]
                      },
                      {
                        "learn": [
                          0.2051422
                        ],
                        "iteration": 65,
                        "passed_time": 0.04076195864,
                        "remaining_time": 0.02099858475,
                        "test": [
                          0.5834483578
                        ]
                      },
                      {
                        "learn": [
                          0.2024361864
                        ],
                        "iteration": 66,
                        "passed_time": 0.04106741796,
                        "remaining_time": 0.02022723571,
                        "test": [
                          0.5838888439
                        ]
                      },
                      {
                        "learn": [
                          0.1997886375
                        ],
                        "iteration": 67,
                        "passed_time": 0.04139144856,
                        "remaining_time": 0.01947832874,
                        "test": [
                          0.5848379482
                        ]
                      },
                      {
                        "learn": [
                          0.1971962228
                        ],
                        "iteration": 68,
                        "passed_time": 0.04170167138,
                        "remaining_time": 0.01873553352,
                        "test": [
                          0.5853200215
                        ]
                      },
                      {
                        "learn": [
                          0.194655478
                        ],
                        "iteration": 69,
                        "passed_time": 0.04205602747,
                        "remaining_time": 0.01802401177,
                        "test": [
                          0.5862996031
                        ]
                      },
                      {
                        "learn": [
                          0.1921716109
                        ],
                        "iteration": 70,
                        "passed_time": 0.04236123407,
                        "remaining_time": 0.01730247589,
                        "test": [
                          0.5868203228
                        ]
                      },
                      {
                        "learn": [
                          0.1897384971
                        ],
                        "iteration": 71,
                        "passed_time": 0.04263700153,
                        "remaining_time": 0.01658105615,
                        "test": [
                          0.5835283451
                        ]
                      },
                      {
                        "learn": [
                          0.1873534024
                        ],
                        "iteration": 72,
                        "passed_time": 0.04295979307,
                        "remaining_time": 0.01588923853,
                        "test": [
                          0.5840621089
                        ]
                      },
                      {
                        "learn": [
                          0.1850204393
                        ],
                        "iteration": 73,
                        "passed_time": 0.04325214096,
                        "remaining_time": 0.01519669817,
                        "test": [
                          0.5846349174
                        ]
                      },
                      {
                        "learn": [
                          0.1827346161
                        ],
                        "iteration": 74,
                        "passed_time": 0.04354229709,
                        "remaining_time": 0.01451409903,
                        "test": [
                          0.5814378339
                        ]
                      },
                      {
                        "learn": [
                          0.1804946065
                        ],
                        "iteration": 75,
                        "passed_time": 0.04384154932,
                        "remaining_time": 0.01384469978,
                        "test": [
                          0.5820213956
                        ]
                      },
                      {
                        "learn": [
                          0.1783005446
                        ],
                        "iteration": 76,
                        "passed_time": 0.04411795766,
                        "remaining_time": 0.01317809125,
                        "test": [
                          0.5826410491
                        ]
                      },
                      {
                        "learn": [
                          0.1761492416
                        ],
                        "iteration": 77,
                        "passed_time": 0.04442338608,
                        "remaining_time": 0.012529673,
                        "test": [
                          0.579534096
                        ]
                      },
                      {
                        "learn": [
                          0.1740427464
                        ],
                        "iteration": 78,
                        "passed_time": 0.04472349374,
                        "remaining_time": 0.01188852365,
                        "test": [
                          0.5764961025
                        ]
                      },
                      {
                        "learn": [
                          0.171980463
                        ],
                        "iteration": 79,
                        "passed_time": 0.04503395382,
                        "remaining_time": 0.01125848846,
                        "test": [
                          0.5773456886
                        ]
                      },
                      {
                        "learn": [
                          0.169956468
                        ],
                        "iteration": 80,
                        "passed_time": 0.04536157796,
                        "remaining_time": 0.01064037014,
                        "test": [
                          0.5782259167
                        ]
                      },
                      {
                        "learn": [
                          0.1679736525
                        ],
                        "iteration": 81,
                        "passed_time": 0.04566882905,
                        "remaining_time": 0.01002486491,
                        "test": [
                          0.5752691942
                        ]
                      },
                      {
                        "learn": [
                          0.1660310775
                        ],
                        "iteration": 82,
                        "passed_time": 0.04597520561,
                        "remaining_time": 0.009416608379,
                        "test": [
                          0.5761510549
                        ]
                      },
                      {
                        "learn": [
                          0.1641256735
                        ],
                        "iteration": 83,
                        "passed_time": 0.04630597148,
                        "remaining_time": 0.008820185043,
                        "test": [
                          0.5767154254
                        ]
                      },
                      {
                        "learn": [
                          0.1622595787
                        ],
                        "iteration": 84,
                        "passed_time": 0.0465765509,
                        "remaining_time": 0.008219391335,
                        "test": [
                          0.5738373179
                        ]
                      },
                      {
                        "learn": [
                          0.1604273021
                        ],
                        "iteration": 85,
                        "passed_time": 0.04688565194,
                        "remaining_time": 0.007632547989,
                        "test": [
                          0.5747131695
                        ]
                      },
                      {
                        "learn": [
                          0.1586337015
                        ],
                        "iteration": 86,
                        "passed_time": 0.04721182793,
                        "remaining_time": 0.007054640955,
                        "test": [
                          0.5752807552
                        ]
                      },
                      {
                        "learn": [
                          0.1568729132
                        ],
                        "iteration": 87,
                        "passed_time": 0.04752889146,
                        "remaining_time": 0.006481212472,
                        "test": [
                          0.5758769548
                        ]
                      },
                      {
                        "learn": [
                          0.155144684
                        ],
                        "iteration": 88,
                        "passed_time": 0.04788017945,
                        "remaining_time": 0.005917774989,
                        "test": [
                          0.57650092
                        ]
                      },
                      {
                        "learn": [
                          0.1534541026
                        ],
                        "iteration": 89,
                        "passed_time": 0.04819396581,
                        "remaining_time": 0.00535488509,
                        "test": [
                          0.5773811944
                        ]
                      },
                      {
                        "learn": [
                          0.1517921537
                        ],
                        "iteration": 90,
                        "passed_time": 0.04849626431,
                        "remaining_time": 0.004796333833,
                        "test": [
                          0.5780268239
                        ]
                      },
                      {
                        "learn": [
                          0.1501617953
                        ],
                        "iteration": 91,
                        "passed_time": 0.04892721636,
                        "remaining_time": 0.004254540553,
                        "test": [
                          0.5786980753
                        ]
                      },
                      {
                        "learn": [
                          0.1485646591
                        ],
                        "iteration": 92,
                        "passed_time": 0.04922972122,
                        "remaining_time": 0.003705462888,
                        "test": [
                          0.5793941898
                        ]
                      },
                      {
                        "learn": [
                          0.146995835
                        ],
                        "iteration": 93,
                        "passed_time": 0.04955225187,
                        "remaining_time": 0.003162909694,
                        "test": [
                          0.5802763662
                        ]
                      },
                      {
                        "learn": [
                          0.1454570293
                        ],
                        "iteration": 94,
                        "passed_time": 0.04986923903,
                        "remaining_time": 0.002624696791,
                        "test": [
                          0.5775294056
                        ]
                      },
                      {
                        "learn": [
                          0.1439457014
                        ],
                        "iteration": 95,
                        "passed_time": 0.05018160543,
                        "remaining_time": 0.002090900226,
                        "test": [
                          0.5784108801
                        ]
                      },
                      {
                        "learn": [
                          0.1424636766
                        ],
                        "iteration": 96,
                        "passed_time": 0.0505134249,
                        "remaining_time": 0.001562270873,
                        "test": [
                          0.5790990946
                        ]
                      },
                      {
                        "learn": [
                          0.1410079673
                        ],
                        "iteration": 97,
                        "passed_time": 0.05081690337,
                        "remaining_time": 0.001037079661,
                        "test": [
                          0.5799943394
                        ]
                      },
                      {
                        "learn": [
                          0.1395815685
                        ],
                        "iteration": 98,
                        "passed_time": 0.05113397326,
                        "remaining_time": 0.0005165047804,
                        "test": [
                          0.5809096453
                        ]
                      },
                      {
                        "learn": [
                          0.1381780654
                        ],
                        "iteration": 99,
                        "passed_time": 0.05146690451,
                        "remaining_time": 0,
                        "test": [
                          0.5782458842
                        ]
                      }
                    ],
                    "meta": {
                      "test_sets": [
                        "test"
                      ],
                      "test_metrics": [
                        {
                          "best_value": "Min",
                          "name": "Logloss"
                        }
                      ],
                      "learn_metrics": [
                        {
                          "best_value": "Min",
                          "name": "Logloss"
                        }
                      ],
                      "launch_mode": "Train",
                      "parameters": "",
                      "iteration_count": 100,
                      "learn_sets": [
                        "learn"
                      ],
                      "name": "experiment"
                    }
                  }
                }
              },
              "catboost_info/fold-1": {
                "path": "catboost_info/fold-1",
                "name": "fold-1",
                "content": {
                  "passed_iterations": 99,
                  "total_iterations": 100,
                  "data": {
                    "iterations": [
                      {
                        "learn": [
                          0.6867158683
                        ],
                        "iteration": 0,
                        "passed_time": 0.001271192221,
                        "remaining_time": 0.1258480299,
                        "test": [
                          0.693188484
                        ]
                      },
                      {
                        "learn": [
                          0.6616446161
                        ],
                        "iteration": 1,
                        "passed_time": 0.002413528179,
                        "remaining_time": 0.1182628808,
                        "test": [
                          0.6937455988
                        ]
                      },
                      {
                        "learn": [
                          0.637718386
                        ],
                        "iteration": 2,
                        "passed_time": 0.008900890927,
                        "remaining_time": 0.2877954733,
                        "test": [
                          0.6949214863
                        ]
                      },
                      {
                        "learn": [
                          0.6301203013
                        ],
                        "iteration": 3,
                        "passed_time": 0.01012085372,
                        "remaining_time": 0.2429004894,
                        "test": [
                          0.7026906863
                        ]
                      },
                      {
                        "learn": [
                          0.6115116027
                        ],
                        "iteration": 4,
                        "passed_time": 0.0112220736,
                        "remaining_time": 0.2132193985,
                        "test": [
                          0.7042365814
                        ]
                      },
                      {
                        "learn": [
                          0.5936465211
                        ],
                        "iteration": 5,
                        "passed_time": 0.01426635349,
                        "remaining_time": 0.2235062046,
                        "test": [
                          0.706321754
                        ]
                      },
                      {
                        "learn": [
                          0.572817661
                        ],
                        "iteration": 6,
                        "passed_time": 0.01537612948,
                        "remaining_time": 0.2042828631,
                        "test": [
                          0.7089107486
                        ]
                      },
                      {
                        "learn": [
                          0.5678810484
                        ],
                        "iteration": 7,
                        "passed_time": 0.01647619394,
                        "remaining_time": 0.1894762303,
                        "test": [
                          0.7079348879
                        ]
                      },
                      {
                        "learn": [
                          0.5629551339
                        ],
                        "iteration": 8,
                        "passed_time": 0.01753818314,
                        "remaining_time": 0.1773305184,
                        "test": [
                          0.7088610549
                        ]
                      },
                      {
                        "learn": [
                          0.5469714665
                        ],
                        "iteration": 9,
                        "passed_time": 0.01855306734,
                        "remaining_time": 0.166977606,
                        "test": [
                          0.711879743
                        ]
                      },
                      {
                        "learn": [
                          0.5282572126
                        ],
                        "iteration": 10,
                        "passed_time": 0.01968872894,
                        "remaining_time": 0.159299716,
                        "test": [
                          0.715327798
                        ]
                      },
                      {
                        "learn": [
                          0.5103854823
                        ],
                        "iteration": 11,
                        "passed_time": 0.02088332248,
                        "remaining_time": 0.1531443648,
                        "test": [
                          0.719175106
                        ]
                      },
                      {
                        "learn": [
                          0.5103807243
                        ],
                        "iteration": 12,
                        "passed_time": 0.02465756301,
                        "remaining_time": 0.1650159986,
                        "test": [
                          0.7191048145
                        ]
                      },
                      {
                        "learn": [
                          0.4933106386
                        ],
                        "iteration": 13,
                        "passed_time": 0.02586604432,
                        "remaining_time": 0.1588914151,
                        "test": [
                          0.7233165167
                        ]
                      },
                      {
                        "learn": [
                          0.4882072634
                        ],
                        "iteration": 14,
                        "passed_time": 0.02701304833,
                        "remaining_time": 0.1530739405,
                        "test": [
                          0.7232857723
                        ]
                      },
                      {
                        "learn": [
                          0.4721281229
                        ],
                        "iteration": 15,
                        "passed_time": 0.02803547594,
                        "remaining_time": 0.1471862487,
                        "test": [
                          0.7278109024
                        ]
                      },
                      {
                        "learn": [
                          0.4567622345
                        ],
                        "iteration": 16,
                        "passed_time": 0.03015858891,
                        "remaining_time": 0.1472448753,
                        "test": [
                          0.7326503081
                        ]
                      },
                      {
                        "learn": [
                          0.4420743938
                        ],
                        "iteration": 17,
                        "passed_time": 0.03124622918,
                        "remaining_time": 0.1423439329,
                        "test": [
                          0.7377799231
                        ]
                      },
                      {
                        "learn": [
                          0.430625578
                        ],
                        "iteration": 18,
                        "passed_time": 0.03406217296,
                        "remaining_time": 0.1452124216,
                        "test": [
                          0.7431769936
                        ]
                      },
                      {
                        "learn": [
                          0.4170814894
                        ],
                        "iteration": 19,
                        "passed_time": 0.03520345168,
                        "remaining_time": 0.1408138067,
                        "test": [
                          0.7488200345
                        ]
                      },
                      {
                        "learn": [
                          0.4041252947
                        ],
                        "iteration": 20,
                        "passed_time": 0.03634897209,
                        "remaining_time": 0.1367413712,
                        "test": [
                          0.7546887823
                        ]
                      },
                      {
                        "learn": [
                          0.3917278795
                        ],
                        "iteration": 21,
                        "passed_time": 0.03984485251,
                        "remaining_time": 0.1412681135,
                        "test": [
                          0.7607641479
                        ]
                      },
                      {
                        "learn": [
                          0.3842182099
                        ],
                        "iteration": 22,
                        "passed_time": 0.04098915114,
                        "remaining_time": 0.1372245495,
                        "test": [
                          0.7650060759
                        ]
                      },
                      {
                        "learn": [
                          0.3748618983
                        ],
                        "iteration": 23,
                        "passed_time": 0.04208266579,
                        "remaining_time": 0.133261775,
                        "test": [
                          0.7713794308
                        ]
                      },
                      {
                        "learn": [
                          0.372085669
                        ],
                        "iteration": 24,
                        "passed_time": 0.0431120223,
                        "remaining_time": 0.1293360669,
                        "test": [
                          0.7735788745
                        ]
                      },
                      {
                        "learn": [
                          0.3631762629
                        ],
                        "iteration": 25,
                        "passed_time": 0.04429575524,
                        "remaining_time": 0.1260725341,
                        "test": [
                          0.7801652903
                        ]
                      },
                      {
                        "learn": [
                          0.3545896907
                        ],
                        "iteration": 26,
                        "passed_time": 0.0454884461,
                        "remaining_time": 0.1229872802,
                        "test": [
                          0.7868932285
                        ]
                      },
                      {
                        "learn": [
                          0.3442880146
                        ],
                        "iteration": 27,
                        "passed_time": 0.04655609786,
                        "remaining_time": 0.1197156802,
                        "test": [
                          0.7937487085
                        ]
                      },
                      {
                        "learn": [
                          0.3363612345
                        ],
                        "iteration": 28,
                        "passed_time": 0.04762890765,
                        "remaining_time": 0.1166087049,
                        "test": [
                          0.8007186354
                        ]
                      },
                      {
                        "learn": [
                          0.3284946349
                        ],
                        "iteration": 29,
                        "passed_time": 0.04996192362,
                        "remaining_time": 0.1165778218,
                        "test": [
                          0.7853100992
                        ]
                      },
                      {
                        "learn": [
                          0.3192700493
                        ],
                        "iteration": 30,
                        "passed_time": 0.051042615,
                        "remaining_time": 0.1136109818,
                        "test": [
                          0.7922598982
                        ]
                      },
                      {
                        "learn": [
                          0.3104206914
                        ],
                        "iteration": 31,
                        "passed_time": 0.05878467136,
                        "remaining_time": 0.1249174266,
                        "test": [
                          0.7992993047
                        ]
                      },
                      {
                        "learn": [
                          0.301928348
                        ],
                        "iteration": 32,
                        "passed_time": 0.06025729137,
                        "remaining_time": 0.1223405613,
                        "test": [
                          0.8064178869
                        ]
                      },
                      {
                        "learn": [
                          0.2937757604
                        ],
                        "iteration": 33,
                        "passed_time": 0.06444832891,
                        "remaining_time": 0.1251055796,
                        "test": [
                          0.8136059012
                        ]
                      },
                      {
                        "learn": [
                          0.2919280822
                        ],
                        "iteration": 34,
                        "passed_time": 0.06567921957,
                        "remaining_time": 0.1219756935,
                        "test": [
                          0.810824547
                        ]
                      },
                      {
                        "learn": [
                          0.2841730051
                        ],
                        "iteration": 35,
                        "passed_time": 0.06716007844,
                        "remaining_time": 0.119395695,
                        "test": [
                          0.8179934829
                        ]
                      },
                      {
                        "learn": [
                          0.2782204567
                        ],
                        "iteration": 36,
                        "passed_time": 0.06852564701,
                        "remaining_time": 0.1166788044,
                        "test": [
                          0.825216213
                        ]
                      },
                      {
                        "learn": [
                          0.2710007873
                        ],
                        "iteration": 37,
                        "passed_time": 0.07013399582,
                        "remaining_time": 0.1144291511,
                        "test": [
                          0.8324847961
                        ]
                      },
                      {
                        "learn": [
                          0.2709921983
                        ],
                        "iteration": 38,
                        "passed_time": 0.07123119672,
                        "remaining_time": 0.1114128974,
                        "test": [
                          0.8322090081
                        ]
                      },
                      {
                        "learn": [
                          0.2640518934
                        ],
                        "iteration": 39,
                        "passed_time": 0.07221153101,
                        "remaining_time": 0.1083172965,
                        "test": [
                          0.8395147188
                        ]
                      },
                      {
                        "learn": [
                          0.2586053692
                        ],
                        "iteration": 40,
                        "passed_time": 0.07498468149,
                        "remaining_time": 0.1079047856,
                        "test": [
                          0.8441365814
                        ]
                      },
                      {
                        "learn": [
                          0.2521381875
                        ],
                        "iteration": 41,
                        "passed_time": 0.07615184218,
                        "remaining_time": 0.1051620678,
                        "test": [
                          0.8514937797
                        ]
                      },
                      {
                        "learn": [
                          0.2459145638
                        ],
                        "iteration": 42,
                        "passed_time": 0.07724234055,
                        "remaining_time": 0.1023910096,
                        "test": [
                          0.8588725909
                        ]
                      },
                      {
                        "learn": [
                          0.2410457598
                        ],
                        "iteration": 43,
                        "passed_time": 0.09480998738,
                        "remaining_time": 0.1206672567,
                        "test": [
                          0.8635077757
                        ]
                      },
                      {
                        "learn": [
                          0.2352350095
                        ],
                        "iteration": 44,
                        "passed_time": 0.09681891911,
                        "remaining_time": 0.1183342345,
                        "test": [
                          0.8709126346
                        ]
                      },
                      {
                        "learn": [
                          0.2296374941
                        ],
                        "iteration": 45,
                        "passed_time": 0.09856929107,
                        "remaining_time": 0.1157117765,
                        "test": [
                          0.8783249955
                        ]
                      },
                      {
                        "learn": [
                          0.2253483992
                        ],
                        "iteration": 46,
                        "passed_time": 0.1002632238,
                        "remaining_time": 0.1130627842,
                        "test": [
                          0.8857401648
                        ]
                      },
                      {
                        "learn": [
                          0.2201086141
                        ],
                        "iteration": 47,
                        "passed_time": 0.1019315181,
                        "remaining_time": 0.1104258113,
                        "test": [
                          0.893153795
                        ]
                      },
                      {
                        "learn": [
                          0.2161030559
                        ],
                        "iteration": 48,
                        "passed_time": 0.1036658578,
                        "remaining_time": 0.1078971173,
                        "test": [
                          0.9005618628
                        ]
                      },
                      {
                        "learn": [
                          0.2149248765
                        ],
                        "iteration": 49,
                        "passed_time": 0.1053786072,
                        "remaining_time": 0.1053786072,
                        "test": [
                          0.9031882575
                        ]
                      },
                      {
                        "learn": [
                          0.2137644001
                        ],
                        "iteration": 50,
                        "passed_time": 0.107304295,
                        "remaining_time": 0.1030962834,
                        "test": [
                          0.9057939803
                        ]
                      },
                      {
                        "learn": [
                          0.208935392
                        ],
                        "iteration": 51,
                        "passed_time": 0.1090966194,
                        "remaining_time": 0.1007045717,
                        "test": [
                          0.9131841151
                        ]
                      },
                      {
                        "learn": [
                          0.2042754409
                        ],
                        "iteration": 52,
                        "passed_time": 0.1204991477,
                        "remaining_time": 0.1068577348,
                        "test": [
                          0.9205592662
                        ]
                      },
                      {
                        "learn": [
                          0.1997770892
                        ],
                        "iteration": 53,
                        "passed_time": 0.124490692,
                        "remaining_time": 0.1060476265,
                        "test": [
                          0.9279164424
                        ]
                      },
                      {
                        "learn": [
                          0.1985550902
                        ],
                        "iteration": 54,
                        "passed_time": 0.1256219455,
                        "remaining_time": 0.1027815918,
                        "test": [
                          0.9222113205
                        ]
                      },
                      {
                        "learn": [
                          0.1942530783
                        ],
                        "iteration": 55,
                        "passed_time": 0.1267707904,
                        "remaining_time": 0.09960562101,
                        "test": [
                          0.9295429115
                        ]
                      },
                      {
                        "learn": [
                          0.1909775803
                        ],
                        "iteration": 56,
                        "passed_time": 0.1322782097,
                        "remaining_time": 0.09978882489,
                        "test": [
                          0.9368510453
                        ]
                      },
                      {
                        "learn": [
                          0.1869313345
                        ],
                        "iteration": 57,
                        "passed_time": 0.1335631761,
                        "remaining_time": 0.096718162,
                        "test": [
                          0.9441334172
                        ]
                      },
                      {
                        "learn": [
                          0.1846096347
                        ],
                        "iteration": 58,
                        "passed_time": 0.1347149445,
                        "remaining_time": 0.09361546992,
                        "test": [
                          0.9486371742
                        ]
                      },
                      {
                        "learn": [
                          0.1807752692
                        ],
                        "iteration": 59,
                        "passed_time": 0.135805842,
                        "remaining_time": 0.09053722798,
                        "test": [
                          0.9558743315
                        ]
                      },
                      {
                        "learn": [
                          0.1770669144
                        ],
                        "iteration": 60,
                        "passed_time": 0.1368591996,
                        "remaining_time": 0.087500144,
                        "test": [
                          0.963080627
                        ]
                      },
                      {
                        "learn": [
                          0.1734792714
                        ],
                        "iteration": 61,
                        "passed_time": 0.1380264957,
                        "remaining_time": 0.08459688448,
                        "test": [
                          0.9702543901
                        ]
                      },
                      {
                        "learn": [
                          0.1700073018
                        ],
                        "iteration": 62,
                        "passed_time": 0.1390582958,
                        "remaining_time": 0.08166915786,
                        "test": [
                          0.9773941005
                        ]
                      },
                      {
                        "learn": [
                          0.1680285499
                        ],
                        "iteration": 63,
                        "passed_time": 0.1418482249,
                        "remaining_time": 0.0797896265,
                        "test": [
                          0.9817643744
                        ]
                      },
                      {
                        "learn": [
                          0.164730175
                        ],
                        "iteration": 64,
                        "passed_time": 0.1434709487,
                        "remaining_time": 0.07725358778,
                        "test": [
                          0.9888473637
                        ]
                      },
                      {
                        "learn": [
                          0.1628545527
                        ],
                        "iteration": 65,
                        "passed_time": 0.1446697894,
                        "remaining_time": 0.07452686121,
                        "test": [
                          0.9931674023
                        ]
                      },
                      {
                        "learn": [
                          0.160334329
                        ],
                        "iteration": 66,
                        "passed_time": 0.1459809687,
                        "remaining_time": 0.07190107412,
                        "test": [
                          0.9832028459
                        ]
                      },
                      {
                        "learn": [
                          0.1572767359
                        ],
                        "iteration": 67,
                        "passed_time": 0.1470819085,
                        "remaining_time": 0.06921501579,
                        "test": [
                          0.9901578433
                        ]
                      },
                      {
                        "learn": [
                          0.1543131617
                        ],
                        "iteration": 68,
                        "passed_time": 0.1520523617,
                        "remaining_time": 0.06831337987,
                        "test": [
                          0.9970745604
                        ]
                      },
                      {
                        "learn": [
                          0.1514398566
                        ],
                        "iteration": 69,
                        "passed_time": 0.153359301,
                        "remaining_time": 0.06572541472,
                        "test": [
                          1.003952124
                        ]
                      },
                      {
                        "learn": [
                          0.148653248
                        ],
                        "iteration": 70,
                        "passed_time": 0.1546186418,
                        "remaining_time": 0.06315409312,
                        "test": [
                          1.010789754
                        ]
                      },
                      {
                        "learn": [
                          0.1459499309
                        ],
                        "iteration": 71,
                        "passed_time": 0.155789886,
                        "remaining_time": 0.06058495566,
                        "test": [
                          1.017586761
                        ]
                      },
                      {
                        "learn": [
                          0.1433266594
                        ],
                        "iteration": 72,
                        "passed_time": 0.1568474571,
                        "remaining_time": 0.05801207318,
                        "test": [
                          1.024342538
                        ]
                      },
                      {
                        "learn": [
                          0.1412926527
                        ],
                        "iteration": 73,
                        "passed_time": 0.1579467034,
                        "remaining_time": 0.05549478769,
                        "test": [
                          1.028351268
                        ]
                      },
                      {
                        "learn": [
                          0.1393100934
                        ],
                        "iteration": 74,
                        "passed_time": 0.1636280168,
                        "remaining_time": 0.05454267227,
                        "test": [
                          1.032000229
                        ]
                      },
                      {
                        "learn": [
                          0.1368805281
                        ],
                        "iteration": 75,
                        "passed_time": 0.1665132322,
                        "remaining_time": 0.05258312597,
                        "test": [
                          1.038666438
                        ]
                      },
                      {
                        "learn": [
                          0.134520514
                        ],
                        "iteration": 76,
                        "passed_time": 0.1677064685,
                        "remaining_time": 0.05009413995,
                        "test": [
                          1.045289956
                        ]
                      },
                      {
                        "learn": [
                          0.1327263351
                        ],
                        "iteration": 77,
                        "passed_time": 0.1688232889,
                        "remaining_time": 0.04761682506,
                        "test": [
                          1.051870461
                        ]
                      },
                      {
                        "learn": [
                          0.1304835812
                        ],
                        "iteration": 78,
                        "passed_time": 0.1698329359,
                        "remaining_time": 0.04514546398,
                        "test": [
                          1.058407686
                        ]
                      },
                      {
                        "learn": [
                          0.1292285738
                        ],
                        "iteration": 79,
                        "passed_time": 0.1710401846,
                        "remaining_time": 0.04276004614,
                        "test": [
                          1.062306664
                        ]
                      },
                      {
                        "learn": [
                          0.1270831621
                        ],
                        "iteration": 80,
                        "passed_time": 0.1721288757,
                        "remaining_time": 0.04037590912,
                        "test": [
                          1.068775452
                        ]
                      },
                      {
                        "learn": [
                          0.1254258367
                        ],
                        "iteration": 81,
                        "passed_time": 0.1775421551,
                        "remaining_time": 0.03897266819,
                        "test": [
                          1.07257709
                        ]
                      },
                      {
                        "learn": [
                          0.1233847644
                        ],
                        "iteration": 82,
                        "passed_time": 0.1788218025,
                        "remaining_time": 0.03662615232,
                        "test": [
                          1.078977842
                        ]
                      },
                      {
                        "learn": [
                          0.121398912
                        ],
                        "iteration": 83,
                        "passed_time": 0.1801369216,
                        "remaining_time": 0.0343117946,
                        "test": [
                          1.085334714
                        ]
                      },
                      {
                        "learn": [
                          0.1194663
                        ],
                        "iteration": 84,
                        "passed_time": 0.1812725205,
                        "remaining_time": 0.03198926833,
                        "test": [
                          1.091647671
                        ]
                      },
                      {
                        "learn": [
                          0.1175850349
                        ],
                        "iteration": 85,
                        "passed_time": 0.1826061282,
                        "remaining_time": 0.02972657901,
                        "test": [
                          1.097916715
                        ]
                      },
                      {
                        "learn": [
                          0.116135832
                        ],
                        "iteration": 86,
                        "passed_time": 0.1838691752,
                        "remaining_time": 0.02747470434,
                        "test": [
                          1.101272958
                        ]
                      },
                      {
                        "learn": [
                          0.1143420389
                        ],
                        "iteration": 87,
                        "passed_time": 0.1849160966,
                        "remaining_time": 0.02521583136,
                        "test": [
                          1.107473223
                        ]
                      },
                      {
                        "learn": [
                          0.1129628599
                        ],
                        "iteration": 88,
                        "passed_time": 0.1898090793,
                        "remaining_time": 0.02345954912,
                        "test": [
                          1.110787952
                        ]
                      },
                      {
                        "learn": [
                          0.1112510566
                        ],
                        "iteration": 89,
                        "passed_time": 0.1909987857,
                        "remaining_time": 0.0212220873,
                        "test": [
                          1.116919686
                        ]
                      },
                      {
                        "learn": [
                          0.1095829055
                        ],
                        "iteration": 90,
                        "passed_time": 0.192128642,
                        "remaining_time": 0.01900173382,
                        "test": [
                          1.123007835
                        ]
                      },
                      {
                        "learn": [
                          0.1086600622
                        ],
                        "iteration": 91,
                        "passed_time": 0.1934552017,
                        "remaining_time": 0.01682219145,
                        "test": [
                          1.126584324
                        ]
                      },
                      {
                        "learn": [
                          0.107398739
                        ],
                        "iteration": 92,
                        "passed_time": 0.1945197645,
                        "remaining_time": 0.01464127259,
                        "test": [
                          1.129817131
                        ]
                      },
                      {
                        "learn": [
                          0.1061713737
                        ],
                        "iteration": 93,
                        "passed_time": 0.1955294325,
                        "remaining_time": 0.01248060207,
                        "test": [
                          1.135812981
                        ]
                      },
                      {
                        "learn": [
                          0.1046304479
                        ],
                        "iteration": 94,
                        "passed_time": 0.1974190986,
                        "remaining_time": 0.01039047887,
                        "test": [
                          1.141765768
                        ]
                      },
                      {
                        "learn": [
                          0.1034589095
                        ],
                        "iteration": 95,
                        "passed_time": 0.1985960562,
                        "remaining_time": 0.008274835676,
                        "test": [
                          1.147675698
                        ]
                      },
                      {
                        "learn": [
                          0.1019844235
                        ],
                        "iteration": 96,
                        "passed_time": 0.1997176546,
                        "remaining_time": 0.006176834679,
                        "test": [
                          1.153542992
                        ]
                      },
                      {
                        "learn": [
                          0.1005456501
                        ],
                        "iteration": 97,
                        "passed_time": 0.200839993,
                        "remaining_time": 0.004098775367,
                        "test": [
                          1.159367887
                        ]
                      },
                      {
                        "learn": [
                          0.09914142621
                        ],
                        "iteration": 98,
                        "passed_time": 0.2019831253,
                        "remaining_time": 0.002040233589,
                        "test": [
                          1.165150634
                        ]
                      },
                      {
                        "learn": [
                          0.0977706348
                        ],
                        "iteration": 99,
                        "passed_time": 0.2031010119,
                        "remaining_time": 0,
                        "test": [
                          1.170891495
                        ]
                      }
                    ],
                    "meta": {
                      "test_sets": [
                        "test"
                      ],
                      "test_metrics": [
                        {
                          "best_value": "Min",
                          "name": "Logloss"
                        }
                      ],
                      "learn_metrics": [
                        {
                          "best_value": "Min",
                          "name": "Logloss"
                        }
                      ],
                      "launch_mode": "Train",
                      "parameters": "",
                      "iteration_count": 100,
                      "learn_sets": [
                        "learn"
                      ],
                      "name": "experiment"
                    }
                  }
                }
              }
            },
            "layout": "IPY_MODEL_36be42b8f5ae47498e0181657879b2fd"
          }
        },
        "13a29ceda479462981683f161b0407b7": {
          "model_module": "catboost-widget",
          "model_name": "CatboostWidgetModel",
          "model_module_version": "^1.0.0",
          "state": {
            "_dom_classes": [],
            "_model_module": "catboost-widget",
            "_model_module_version": "^1.0.0",
            "_model_name": "CatboostWidgetModel",
            "_view_count": null,
            "_view_module": "catboost-widget",
            "_view_module_version": "^1.0.0",
            "_view_name": "CatboostWidgetView",
            "data": {
              "catboost_info/fold-0": {
                "path": "catboost_info/fold-0",
                "name": "fold-0",
                "content": {
                  "passed_iterations": 99,
                  "total_iterations": 100,
                  "data": {
                    "iterations": [
                      {
                        "learn": [
                          0.9958810277
                        ],
                        "iteration": 0,
                        "passed_time": 0.0003635067295,
                        "remaining_time": 0.03598716622,
                        "test": [
                          0.584365228
                        ]
                      },
                      {
                        "learn": [
                          0.9640967485
                        ],
                        "iteration": 1,
                        "passed_time": 0.0009570167879,
                        "remaining_time": 0.04689382261,
                        "test": [
                          0.5611486821
                        ]
                      },
                      {
                        "learn": [
                          0.9063834438
                        ],
                        "iteration": 2,
                        "passed_time": 0.001139427861,
                        "remaining_time": 0.03684150083,
                        "test": [
                          0.5004088546
                        ]
                      },
                      {
                        "learn": [
                          0.8529320694
                        ],
                        "iteration": 3,
                        "passed_time": 0.001433817504,
                        "remaining_time": 0.0344116201,
                        "test": [
                          0.4437857325
                        ]
                      },
                      {
                        "learn": [
                          0.8034772646
                        ],
                        "iteration": 4,
                        "passed_time": 0.001661992704,
                        "remaining_time": 0.03157786138,
                        "test": [
                          0.3910217263
                        ]
                      },
                      {
                        "learn": [
                          0.7577707815
                        ],
                        "iteration": 5,
                        "passed_time": 0.006222951326,
                        "remaining_time": 0.09749290411,
                        "test": [
                          0.3418827376
                        ]
                      },
                      {
                        "learn": [
                          0.7155800462
                        ],
                        "iteration": 6,
                        "passed_time": 0.006493759835,
                        "remaining_time": 0.08627423781,
                        "test": [
                          0.2961599116
                        ]
                      },
                      {
                        "learn": [
                          0.6766867867
                        ],
                        "iteration": 7,
                        "passed_time": 0.00670911268,
                        "remaining_time": 0.07715479582,
                        "test": [
                          0.2536736033
                        ]
                      },
                      {
                        "learn": [
                          0.6408857302
                        ],
                        "iteration": 8,
                        "passed_time": 0.006919462033,
                        "remaining_time": 0.06996344945,
                        "test": [
                          0.2142815465
                        ]
                      },
                      {
                        "learn": [
                          0.6079833739
                        ],
                        "iteration": 9,
                        "passed_time": 0.007180290832,
                        "remaining_time": 0.06462261749,
                        "test": [
                          0.1778955659
                        ]
                      },
                      {
                        "learn": [
                          0.5777968381
                        ],
                        "iteration": 10,
                        "passed_time": 0.007381253185,
                        "remaining_time": 0.0597210485,
                        "test": [
                          0.1445169787
                        ]
                      },
                      {
                        "learn": [
                          0.5501528107
                        ],
                        "iteration": 11,
                        "passed_time": 0.007576313891,
                        "remaining_time": 0.0555596352,
                        "test": [
                          0.1143159932
                        ]
                      },
                      {
                        "learn": [
                          0.5248865952
                        ],
                        "iteration": 12,
                        "passed_time": 0.007763140291,
                        "remaining_time": 0.05195332348,
                        "test": [
                          0.08782041389
                        ]
                      },
                      {
                        "learn": [
                          0.5028081635
                        ],
                        "iteration": 13,
                        "passed_time": 0.008315496997,
                        "remaining_time": 0.05108091013,
                        "test": [
                          0.07455945097
                        ]
                      },
                      {
                        "learn": [
                          0.4761266984
                        ],
                        "iteration": 14,
                        "passed_time": 0.008642277519,
                        "remaining_time": 0.04897290594,
                        "test": [
                          0.05527030013
                        ]
                      },
                      {
                        "learn": [
                          0.4614802183
                        ],
                        "iteration": 15,
                        "passed_time": 0.009147504684,
                        "remaining_time": 0.04802439959,
                        "test": [
                          0.04455805534
                        ]
                      },
                      {
                        "learn": [
                          0.4422844346
                        ],
                        "iteration": 16,
                        "passed_time": 0.009470348047,
                        "remaining_time": 0.04623758164,
                        "test": [
                          0.04520289775
                        ]
                      },
                      {
                        "learn": [
                          0.4256800777
                        ],
                        "iteration": 17,
                        "passed_time": 0.009956745758,
                        "remaining_time": 0.04535850845,
                        "test": [
                          0.05662971067
                        ]
                      },
                      {
                        "learn": [
                          0.4092559417
                        ],
                        "iteration": 18,
                        "passed_time": 0.01023028873,
                        "remaining_time": 0.04361333618,
                        "test": [
                          0.07149337842
                        ]
                      },
                      {
                        "learn": [
                          0.3943916705
                        ],
                        "iteration": 19,
                        "passed_time": 0.01051518138,
                        "remaining_time": 0.04206072551,
                        "test": [
                          0.08798854083
                        ]
                      },
                      {
                        "learn": [
                          0.3809500465
                        ],
                        "iteration": 20,
                        "passed_time": 0.01102791378,
                        "remaining_time": 0.04148596136,
                        "test": [
                          0.1045078924
                        ]
                      },
                      {
                        "learn": [
                          0.3679074519
                        ],
                        "iteration": 21,
                        "passed_time": 0.01155501395,
                        "remaining_time": 0.04096777672,
                        "test": [
                          0.1182716838
                        ]
                      },
                      {
                        "learn": [
                          0.3550266973
                        ],
                        "iteration": 22,
                        "passed_time": 0.01210016995,
                        "remaining_time": 0.04050926462,
                        "test": [
                          0.1238187946
                        ]
                      },
                      {
                        "learn": [
                          0.339158999
                        ],
                        "iteration": 23,
                        "passed_time": 0.0124953194,
                        "remaining_time": 0.03956851144,
                        "test": [
                          0.1428489727
                        ]
                      },
                      {
                        "learn": [
                          0.3305860931
                        ],
                        "iteration": 24,
                        "passed_time": 0.01292226793,
                        "remaining_time": 0.03876680378,
                        "test": [
                          0.1514984447
                        ]
                      },
                      {
                        "learn": [
                          0.3208631013
                        ],
                        "iteration": 25,
                        "passed_time": 0.01320046077,
                        "remaining_time": 0.03757054218,
                        "test": [
                          0.1655474982
                        ]
                      },
                      {
                        "learn": [
                          0.3121465703
                        ],
                        "iteration": 26,
                        "passed_time": 0.01347068293,
                        "remaining_time": 0.03642073533,
                        "test": [
                          0.1787661628
                        ]
                      },
                      {
                        "learn": [
                          0.3043501217
                        ],
                        "iteration": 27,
                        "passed_time": 0.01375863458,
                        "remaining_time": 0.03537934606,
                        "test": [
                          0.191176891
                        ]
                      },
                      {
                        "learn": [
                          0.2973920211
                        ],
                        "iteration": 28,
                        "passed_time": 0.01403309662,
                        "remaining_time": 0.03435689172,
                        "test": [
                          0.2028123574
                        ]
                      },
                      {
                        "learn": [
                          0.2865782984
                        ],
                        "iteration": 29,
                        "passed_time": 0.01442099809,
                        "remaining_time": 0.03364899555,
                        "test": [
                          0.2175857589
                        ]
                      },
                      {
                        "learn": [
                          0.2796893553
                        ],
                        "iteration": 30,
                        "passed_time": 0.014956898,
                        "remaining_time": 0.03329116007,
                        "test": [
                          0.2218527929
                        ]
                      },
                      {
                        "learn": [
                          0.2701205239
                        ],
                        "iteration": 31,
                        "passed_time": 0.0153366679,
                        "remaining_time": 0.03259041928,
                        "test": [
                          0.2353792599
                        ]
                      },
                      {
                        "learn": [
                          0.2633487889
                        ],
                        "iteration": 32,
                        "passed_time": 0.01584014784,
                        "remaining_time": 0.03216030016,
                        "test": [
                          0.2395864074
                        ]
                      },
                      {
                        "learn": [
                          0.2549720845
                        ],
                        "iteration": 33,
                        "passed_time": 0.01624045805,
                        "remaining_time": 0.03152559504,
                        "test": [
                          0.2518907825
                        ]
                      },
                      {
                        "learn": [
                          0.247334188
                        ],
                        "iteration": 34,
                        "passed_time": 0.01661436902,
                        "remaining_time": 0.03085525675,
                        "test": [
                          0.2634454498
                        ]
                      },
                      {
                        "learn": [
                          0.2403803732
                        ],
                        "iteration": 35,
                        "passed_time": 0.01694667575,
                        "remaining_time": 0.03012742355,
                        "test": [
                          0.2742927787
                        ]
                      },
                      {
                        "learn": [
                          0.2347877475
                        ],
                        "iteration": 36,
                        "passed_time": 0.01753917583,
                        "remaining_time": 0.0298640021,
                        "test": [
                          0.2771763654
                        ]
                      },
                      {
                        "learn": [
                          0.2295639348
                        ],
                        "iteration": 37,
                        "passed_time": 0.01804517116,
                        "remaining_time": 0.02944212136,
                        "test": [
                          0.2791080848
                        ]
                      },
                      {
                        "learn": [
                          0.2244961744
                        ],
                        "iteration": 38,
                        "passed_time": 0.01852519996,
                        "remaining_time": 0.02897531276,
                        "test": [
                          0.281511584
                        ]
                      },
                      {
                        "learn": [
                          0.2194106169
                        ],
                        "iteration": 39,
                        "passed_time": 0.01903053622,
                        "remaining_time": 0.02854580432,
                        "test": [
                          0.2841244467
                        ]
                      },
                      {
                        "learn": [
                          0.2146498438
                        ],
                        "iteration": 40,
                        "passed_time": 0.01974310009,
                        "remaining_time": 0.02841080257,
                        "test": [
                          0.2863674398
                        ]
                      },
                      {
                        "learn": [
                          0.209882885
                        ],
                        "iteration": 41,
                        "passed_time": 0.02031515714,
                        "remaining_time": 0.02805426462,
                        "test": [
                          0.2888080342
                        ]
                      },
                      {
                        "learn": [
                          0.2054124302
                        ],
                        "iteration": 42,
                        "passed_time": 0.02090251374,
                        "remaining_time": 0.02770798333,
                        "test": [
                          0.2909002888
                        ]
                      },
                      {
                        "learn": [
                          0.2005248396
                        ],
                        "iteration": 43,
                        "passed_time": 0.02141495342,
                        "remaining_time": 0.02725539526,
                        "test": [
                          0.2929321294
                        ]
                      },
                      {
                        "learn": [
                          0.1961782319
                        ],
                        "iteration": 44,
                        "passed_time": 0.02192518226,
                        "remaining_time": 0.02679744498,
                        "test": [
                          0.2951799898
                        ]
                      },
                      {
                        "learn": [
                          0.191507693
                        ],
                        "iteration": 45,
                        "passed_time": 0.02244823345,
                        "remaining_time": 0.02635227405,
                        "test": [
                          0.2966262698
                        ]
                      },
                      {
                        "learn": [
                          0.186995463
                        ],
                        "iteration": 46,
                        "passed_time": 0.02294814986,
                        "remaining_time": 0.02587770091,
                        "test": [
                          0.2980527266
                        ]
                      },
                      {
                        "learn": [
                          0.1830971904
                        ],
                        "iteration": 47,
                        "passed_time": 0.02348980597,
                        "remaining_time": 0.0254472898,
                        "test": [
                          0.2999724956
                        ]
                      },
                      {
                        "learn": [
                          0.1788268477
                        ],
                        "iteration": 48,
                        "passed_time": 0.02396385858,
                        "remaining_time": 0.02494197526,
                        "test": [
                          0.3013684961
                        ]
                      },
                      {
                        "learn": [
                          0.1751341448
                        ],
                        "iteration": 49,
                        "passed_time": 0.02451889339,
                        "remaining_time": 0.02451889339,
                        "test": [
                          0.3032247091
                        ]
                      },
                      {
                        "learn": [
                          0.1710429561
                        ],
                        "iteration": 50,
                        "passed_time": 0.02505530784,
                        "remaining_time": 0.02407274674,
                        "test": [
                          0.3050853977
                        ]
                      },
                      {
                        "learn": [
                          0.1675593959
                        ],
                        "iteration": 51,
                        "passed_time": 0.02556507669,
                        "remaining_time": 0.02359853233,
                        "test": [
                          0.306454984
                        ]
                      },
                      {
                        "learn": [
                          0.1637003597
                        ],
                        "iteration": 52,
                        "passed_time": 0.02602560787,
                        "remaining_time": 0.02307931264,
                        "test": [
                          0.3078163145
                        ]
                      },
                      {
                        "learn": [
                          0.1604003499
                        ],
                        "iteration": 53,
                        "passed_time": 0.02648886898,
                        "remaining_time": 0.0225645921,
                        "test": [
                          0.3095222894
                        ]
                      },
                      {
                        "learn": [
                          0.1568893227
                        ],
                        "iteration": 54,
                        "passed_time": 0.02709841676,
                        "remaining_time": 0.02217143189,
                        "test": [
                          0.3161220939
                        ]
                      },
                      {
                        "learn": [
                          0.1537642289
                        ],
                        "iteration": 55,
                        "passed_time": 0.0276718074,
                        "remaining_time": 0.02174213439,
                        "test": [
                          0.3176975152
                        ]
                      },
                      {
                        "learn": [
                          0.1507878293
                        ],
                        "iteration": 56,
                        "passed_time": 0.02815377524,
                        "remaining_time": 0.0212388129,
                        "test": [
                          0.3190877994
                        ]
                      },
                      {
                        "learn": [
                          0.1479056261
                        ],
                        "iteration": 57,
                        "passed_time": 0.02866235322,
                        "remaining_time": 0.02075549716,
                        "test": [
                          0.3204342789
                        ]
                      },
                      {
                        "learn": [
                          0.1445073482
                        ],
                        "iteration": 58,
                        "passed_time": 0.02911889634,
                        "remaining_time": 0.02023516525,
                        "test": [
                          0.3216272449
                        ]
                      },
                      {
                        "learn": [
                          0.1417788713
                        ],
                        "iteration": 59,
                        "passed_time": 0.02961578647,
                        "remaining_time": 0.01974385765,
                        "test": [
                          0.3229327841
                        ]
                      },
                      {
                        "learn": [
                          0.1391379009
                        ],
                        "iteration": 60,
                        "passed_time": 0.03021879262,
                        "remaining_time": 0.01932021167,
                        "test": [
                          0.3241974515
                        ]
                      },
                      {
                        "learn": [
                          0.1365822311
                        ],
                        "iteration": 61,
                        "passed_time": 0.03076130506,
                        "remaining_time": 0.0188537031,
                        "test": [
                          0.325422601
                        ]
                      },
                      {
                        "learn": [
                          0.134031605
                        ],
                        "iteration": 62,
                        "passed_time": 0.03126901761,
                        "remaining_time": 0.01836434368,
                        "test": [
                          0.3305930551
                        ]
                      },
                      {
                        "learn": [
                          0.1317036577
                        ],
                        "iteration": 63,
                        "passed_time": 0.03175472171,
                        "remaining_time": 0.01786203096,
                        "test": [
                          0.3354684101
                        ]
                      },
                      {
                        "learn": [
                          0.1286576092
                        ],
                        "iteration": 64,
                        "passed_time": 0.03260831786,
                        "remaining_time": 0.017558325,
                        "test": [
                          0.3364625595
                        ]
                      },
                      {
                        "learn": [
                          0.1263924545
                        ],
                        "iteration": 65,
                        "passed_time": 0.03313332354,
                        "remaining_time": 0.01706868182,
                        "test": [
                          0.3374284037
                        ]
                      },
                      {
                        "learn": [
                          0.1235030927
                        ],
                        "iteration": 66,
                        "passed_time": 0.03359751462,
                        "remaining_time": 0.01654802959,
                        "test": [
                          0.338392593
                        ]
                      },
                      {
                        "learn": [
                          0.1213649302
                        ],
                        "iteration": 67,
                        "passed_time": 0.03409694104,
                        "remaining_time": 0.01604561931,
                        "test": [
                          0.3393087334
                        ]
                      },
                      {
                        "learn": [
                          0.1186239939
                        ],
                        "iteration": 68,
                        "passed_time": 0.03461345243,
                        "remaining_time": 0.01555097138,
                        "test": [
                          0.3402432823
                        ]
                      },
                      {
                        "learn": [
                          0.1166142198
                        ],
                        "iteration": 69,
                        "passed_time": 0.03508856592,
                        "remaining_time": 0.01503795682,
                        "test": [
                          0.3410725002
                        ]
                      },
                      {
                        "learn": [
                          0.1140110861
                        ],
                        "iteration": 70,
                        "passed_time": 0.03559524395,
                        "remaining_time": 0.01453890246,
                        "test": [
                          0.341982044
                        ]
                      },
                      {
                        "learn": [
                          0.1121101553
                        ],
                        "iteration": 71,
                        "passed_time": 0.03610679093,
                        "remaining_time": 0.01404152981,
                        "test": [
                          0.3427939742
                        ]
                      },
                      {
                        "learn": [
                          0.1096376525
                        ],
                        "iteration": 72,
                        "passed_time": 0.03665491958,
                        "remaining_time": 0.01355729902,
                        "test": [
                          0.3436786104
                        ]
                      },
                      {
                        "learn": [
                          0.1078395027
                        ],
                        "iteration": 73,
                        "passed_time": 0.03715029339,
                        "remaining_time": 0.01305280579,
                        "test": [
                          0.3444738613
                        ]
                      },
                      {
                        "learn": [
                          0.1054908287
                        ],
                        "iteration": 74,
                        "passed_time": 0.03770097288,
                        "remaining_time": 0.01256699096,
                        "test": [
                          0.3453338165
                        ]
                      },
                      {
                        "learn": [
                          0.1037903233
                        ],
                        "iteration": 75,
                        "passed_time": 0.03820250651,
                        "remaining_time": 0.01206394942,
                        "test": [
                          0.3460906396
                        ]
                      },
                      {
                        "learn": [
                          0.1015620768
                        ],
                        "iteration": 76,
                        "passed_time": 0.03866547399,
                        "remaining_time": 0.0115494273,
                        "test": [
                          0.3469228509
                        ]
                      },
                      {
                        "learn": [
                          0.09995241826
                        ],
                        "iteration": 77,
                        "passed_time": 0.03918823974,
                        "remaining_time": 0.01105309326,
                        "test": [
                          0.347687455
                        ]
                      },
                      {
                        "learn": [
                          0.09839834957
                        ],
                        "iteration": 78,
                        "passed_time": 0.03970957371,
                        "remaining_time": 0.01055570947,
                        "test": [
                          0.3484297624
                        ]
                      },
                      {
                        "learn": [
                          0.09631218296
                        ],
                        "iteration": 79,
                        "passed_time": 0.04026588212,
                        "remaining_time": 0.01006647053,
                        "test": [
                          0.3492409782
                        ]
                      },
                      {
                        "learn": [
                          0.09484188091
                        ],
                        "iteration": 80,
                        "passed_time": 0.04085172058,
                        "remaining_time": 0.009582502359,
                        "test": [
                          0.3499690278
                        ]
                      },
                      {
                        "learn": [
                          0.09342953016
                        ],
                        "iteration": 81,
                        "passed_time": 0.04136446935,
                        "remaining_time": 0.009080005466,
                        "test": [
                          0.3506181165
                        ]
                      },
                      {
                        "learn": [
                          0.09115363272
                        ],
                        "iteration": 82,
                        "passed_time": 0.04194806424,
                        "remaining_time": 0.008591772193,
                        "test": [
                          0.351152924
                        ]
                      },
                      {
                        "learn": [
                          0.08923518655
                        ],
                        "iteration": 83,
                        "passed_time": 0.04244965969,
                        "remaining_time": 0.008085649465,
                        "test": [
                          0.3539323982
                        ]
                      },
                      {
                        "learn": [
                          0.08708206424
                        ],
                        "iteration": 84,
                        "passed_time": 0.04308727665,
                        "remaining_time": 0.007603637056,
                        "test": [
                          0.3544547427
                        ]
                      },
                      {
                        "learn": [
                          0.08499403858
                        ],
                        "iteration": 85,
                        "passed_time": 0.04371827835,
                        "remaining_time": 0.007116929033,
                        "test": [
                          0.3549765989
                        ]
                      },
                      {
                        "learn": [
                          0.08286918759
                        ],
                        "iteration": 86,
                        "passed_time": 0.04432216811,
                        "remaining_time": 0.006622852705,
                        "test": [
                          0.355497306
                        ]
                      },
                      {
                        "learn": [
                          0.08089499283
                        ],
                        "iteration": 87,
                        "passed_time": 0.04491849535,
                        "remaining_time": 0.006125249367,
                        "test": [
                          0.358487901
                        ]
                      },
                      {
                        "learn": [
                          0.07923313269
                        ],
                        "iteration": 88,
                        "passed_time": 0.04568833666,
                        "remaining_time": 0.005646873071,
                        "test": [
                          0.360937582
                        ]
                      },
                      {
                        "learn": [
                          0.07762364694
                        ],
                        "iteration": 89,
                        "passed_time": 0.04635528005,
                        "remaining_time": 0.005150586672,
                        "test": [
                          0.3595540457
                        ]
                      },
                      {
                        "learn": [
                          0.07568305574
                        ],
                        "iteration": 90,
                        "passed_time": 0.04689699433,
                        "remaining_time": 0.004638164275,
                        "test": [
                          0.3600323408
                        ]
                      },
                      {
                        "learn": [
                          0.07390769731
                        ],
                        "iteration": 91,
                        "passed_time": 0.04759538317,
                        "remaining_time": 0.004138728971,
                        "test": [
                          0.362733284
                        ]
                      },
                      {
                        "learn": [
                          0.07206000484
                        ],
                        "iteration": 92,
                        "passed_time": 0.04826095477,
                        "remaining_time": 0.003632544983,
                        "test": [
                          0.3631946418
                        ]
                      },
                      {
                        "learn": [
                          0.0702585047
                        ],
                        "iteration": 93,
                        "passed_time": 0.04881145971,
                        "remaining_time": 0.003115625088,
                        "test": [
                          0.3636525672
                        ]
                      },
                      {
                        "learn": [
                          0.06881620155
                        ],
                        "iteration": 94,
                        "passed_time": 0.04936885173,
                        "remaining_time": 0.002598360617,
                        "test": [
                          0.3624335045
                        ]
                      },
                      {
                        "learn": [
                          0.06745617417
                        ],
                        "iteration": 95,
                        "passed_time": 0.0499448823,
                        "remaining_time": 0.002081036762,
                        "test": [
                          0.3612449185
                        ]
                      },
                      {
                        "learn": [
                          0.06589443843
                        ],
                        "iteration": 96,
                        "passed_time": 0.05050307065,
                        "remaining_time": 0.001561950639,
                        "test": [
                          0.3616765384
                        ]
                      },
                      {
                        "learn": [
                          0.06461579134
                        ],
                        "iteration": 97,
                        "passed_time": 0.05118563722,
                        "remaining_time": 0.001044604841,
                        "test": [
                          0.3636270596
                        ]
                      },
                      {
                        "learn": [
                          0.06313947303
                        ],
                        "iteration": 98,
                        "passed_time": 0.05220270499,
                        "remaining_time": 0.0005273000504,
                        "test": [
                          0.3640436462
                        ]
                      },
                      {
                        "learn": [
                          0.06188791052
                        ],
                        "iteration": 99,
                        "passed_time": 0.05271844276,
                        "remaining_time": 0,
                        "test": [
                          0.3629696158
                        ]
                      }
                    ],
                    "meta": {
                      "test_sets": [
                        "test"
                      ],
                      "test_metrics": [
                        {
                          "best_value": "Min",
                          "name": "RMSE"
                        }
                      ],
                      "learn_metrics": [
                        {
                          "best_value": "Min",
                          "name": "RMSE"
                        }
                      ],
                      "launch_mode": "Train",
                      "parameters": "",
                      "iteration_count": 100,
                      "learn_sets": [
                        "learn"
                      ],
                      "name": "experiment"
                    }
                  }
                }
              },
              "catboost_info/fold-1": {
                "path": "catboost_info/fold-1",
                "name": "fold-1",
                "content": {
                  "passed_iterations": 99,
                  "total_iterations": 100,
                  "data": {
                    "iterations": [
                      {
                        "learn": [
                          0.9320288469
                        ],
                        "iteration": 0,
                        "passed_time": 0.0005920382829,
                        "remaining_time": 0.05861179001,
                        "test": [
                          0.8610136453
                        ]
                      },
                      {
                        "learn": [
                          0.8958319861
                        ],
                        "iteration": 1,
                        "passed_time": 0.001393587762,
                        "remaining_time": 0.06828580033,
                        "test": [
                          0.8532872485
                        ]
                      },
                      {
                        "learn": [
                          0.8424029371
                        ],
                        "iteration": 2,
                        "passed_time": 0.001668415245,
                        "remaining_time": 0.05394542626,
                        "test": [
                          0.8025250928
                        ]
                      },
                      {
                        "learn": [
                          0.7929316927
                        ],
                        "iteration": 3,
                        "passed_time": 0.00209491742,
                        "remaining_time": 0.05027801809,
                        "test": [
                          0.7558942684
                        ]
                      },
                      {
                        "learn": [
                          0.7608634029
                        ],
                        "iteration": 4,
                        "passed_time": 0.002591676649,
                        "remaining_time": 0.04924185632,
                        "test": [
                          0.7207057169
                        ]
                      },
                      {
                        "learn": [
                          0.7348114871
                        ],
                        "iteration": 5,
                        "passed_time": 0.003127343839,
                        "remaining_time": 0.04899505348,
                        "test": [
                          0.6915786866
                        ]
                      },
                      {
                        "learn": [
                          0.6925736244
                        ],
                        "iteration": 6,
                        "passed_time": 0.003403341289,
                        "remaining_time": 0.04521581998,
                        "test": [
                          0.6524043438
                        ]
                      },
                      {
                        "learn": [
                          0.6606221139
                        ],
                        "iteration": 7,
                        "passed_time": 0.003836870533,
                        "remaining_time": 0.04412401113,
                        "test": [
                          0.6215661237
                        ]
                      },
                      {
                        "learn": [
                          0.623920592
                        ],
                        "iteration": 8,
                        "passed_time": 0.004104582768,
                        "remaining_time": 0.04150189243,
                        "test": [
                          0.5879571794
                        ]
                      },
                      {
                        "learn": [
                          0.5961837992
                        ],
                        "iteration": 9,
                        "passed_time": 0.00451051463,
                        "remaining_time": 0.04059463167,
                        "test": [
                          0.5610484148
                        ]
                      },
                      {
                        "learn": [
                          0.5644205784
                        ],
                        "iteration": 10,
                        "passed_time": 0.004818868414,
                        "remaining_time": 0.03898902626,
                        "test": [
                          0.5323974122
                        ]
                      },
                      {
                        "learn": [
                          0.5462185924
                        ],
                        "iteration": 11,
                        "passed_time": 0.005318414834,
                        "remaining_time": 0.03900170878,
                        "test": [
                          0.5114769138
                        ]
                      },
                      {
                        "learn": [
                          0.5181818787
                        ],
                        "iteration": 12,
                        "passed_time": 0.005726148463,
                        "remaining_time": 0.03832114741,
                        "test": [
                          0.4867963614
                        ]
                      },
                      {
                        "learn": [
                          0.492459651
                        ],
                        "iteration": 13,
                        "passed_time": 0.005965808784,
                        "remaining_time": 0.0366471111,
                        "test": [
                          0.4645773826
                        ]
                      },
                      {
                        "learn": [
                          0.4689041968
                        ],
                        "iteration": 14,
                        "passed_time": 0.006212158003,
                        "remaining_time": 0.03520222868,
                        "test": [
                          0.4446575695
                        ]
                      },
                      {
                        "learn": [
                          0.4473751437
                        ],
                        "iteration": 15,
                        "passed_time": 0.006493270758,
                        "remaining_time": 0.03408967148,
                        "test": [
                          0.4268782746
                        ]
                      },
                      {
                        "learn": [
                          0.4350858715
                        ],
                        "iteration": 16,
                        "passed_time": 0.00696868606,
                        "remaining_time": 0.03402358488,
                        "test": [
                          0.4119170395
                        ]
                      },
                      {
                        "learn": [
                          0.4160710404
                        ],
                        "iteration": 17,
                        "passed_time": 0.007242016314,
                        "remaining_time": 0.03299140765,
                        "test": [
                          0.3967322214
                        ]
                      },
                      {
                        "learn": [
                          0.4026728786
                        ],
                        "iteration": 18,
                        "passed_time": 0.007616705447,
                        "remaining_time": 0.03247121796,
                        "test": [
                          0.3838062556
                        ]
                      },
                      {
                        "learn": [
                          0.3900206539
                        ],
                        "iteration": 19,
                        "passed_time": 0.008011757625,
                        "remaining_time": 0.0320470305,
                        "test": [
                          0.3715150841
                        ]
                      },
                      {
                        "learn": [
                          0.3801263104
                        ],
                        "iteration": 20,
                        "passed_time": 0.00851470031,
                        "remaining_time": 0.03203149164,
                        "test": [
                          0.3727262579
                        ]
                      },
                      {
                        "learn": [
                          0.3680149384
                        ],
                        "iteration": 21,
                        "passed_time": 0.008919894012,
                        "remaining_time": 0.03162507877,
                        "test": [
                          0.3612562347
                        ]
                      },
                      {
                        "learn": [
                          0.3544441367
                        ],
                        "iteration": 22,
                        "passed_time": 0.00929547221,
                        "remaining_time": 0.03111962436,
                        "test": [
                          0.3642416764
                        ]
                      },
                      {
                        "learn": [
                          0.3421841155
                        ],
                        "iteration": 23,
                        "passed_time": 0.009530317217,
                        "remaining_time": 0.03017933785,
                        "test": [
                          0.3557789525
                        ]
                      },
                      {
                        "learn": [
                          0.3329734471
                        ],
                        "iteration": 24,
                        "passed_time": 0.01006799435,
                        "remaining_time": 0.03020398305,
                        "test": [
                          0.3469673648
                        ]
                      },
                      {
                        "learn": [
                          0.3227939954
                        ],
                        "iteration": 25,
                        "passed_time": 0.01035594872,
                        "remaining_time": 0.02947462329,
                        "test": [
                          0.3403442578
                        ]
                      },
                      {
                        "learn": [
                          0.3143953374
                        ],
                        "iteration": 26,
                        "passed_time": 0.01092981663,
                        "remaining_time": 0.02955098569,
                        "test": [
                          0.331406397
                        ]
                      },
                      {
                        "learn": [
                          0.3062423885
                        ],
                        "iteration": 27,
                        "passed_time": 0.01141626161,
                        "remaining_time": 0.02935610128,
                        "test": [
                          0.3207674973
                        ]
                      },
                      {
                        "learn": [
                          0.2986168047
                        ],
                        "iteration": 28,
                        "passed_time": 0.01182734514,
                        "remaining_time": 0.02895660362,
                        "test": [
                          0.3124871549
                        ]
                      },
                      {
                        "learn": [
                          0.291626075
                        ],
                        "iteration": 29,
                        "passed_time": 0.01242507417,
                        "remaining_time": 0.02899183972,
                        "test": [
                          0.3142185185
                        ]
                      },
                      {
                        "learn": [
                          0.2840910957
                        ],
                        "iteration": 30,
                        "passed_time": 0.01295294795,
                        "remaining_time": 0.02883075511,
                        "test": [
                          0.3137191925
                        ]
                      },
                      {
                        "learn": [
                          0.2773263723
                        ],
                        "iteration": 31,
                        "passed_time": 0.01353605649,
                        "remaining_time": 0.02876412004,
                        "test": [
                          0.306558619
                        ]
                      },
                      {
                        "learn": [
                          0.2711022319
                        ],
                        "iteration": 32,
                        "passed_time": 0.01410531634,
                        "remaining_time": 0.02863806651,
                        "test": [
                          0.3082663453
                        ]
                      },
                      {
                        "learn": [
                          0.2641306583
                        ],
                        "iteration": 33,
                        "passed_time": 0.01458452608,
                        "remaining_time": 0.02831113886,
                        "test": [
                          0.3107921839
                        ]
                      },
                      {
                        "learn": [
                          0.2565420674
                        ],
                        "iteration": 34,
                        "passed_time": 0.01508308616,
                        "remaining_time": 0.02801144573,
                        "test": [
                          0.3020978091
                        ]
                      },
                      {
                        "learn": [
                          0.2489999651
                        ],
                        "iteration": 35,
                        "passed_time": 0.01560546647,
                        "remaining_time": 0.0277430515,
                        "test": [
                          0.3014424333
                        ]
                      },
                      {
                        "learn": [
                          0.2426214374
                        ],
                        "iteration": 36,
                        "passed_time": 0.01615227606,
                        "remaining_time": 0.0275025241,
                        "test": [
                          0.30086288
                        ]
                      },
                      {
                        "learn": [
                          0.2363993694
                        ],
                        "iteration": 37,
                        "passed_time": 0.01668558968,
                        "remaining_time": 0.02722385685,
                        "test": [
                          0.3002577782
                        ]
                      },
                      {
                        "learn": [
                          0.2305937398
                        ],
                        "iteration": 38,
                        "passed_time": 0.01720247378,
                        "remaining_time": 0.02690643335,
                        "test": [
                          0.3022659232
                        ]
                      },
                      {
                        "learn": [
                          0.2246992758
                        ],
                        "iteration": 39,
                        "passed_time": 0.0177609994,
                        "remaining_time": 0.0266414991,
                        "test": [
                          0.3016847792
                        ]
                      },
                      {
                        "learn": [
                          0.2189882795
                        ],
                        "iteration": 40,
                        "passed_time": 0.01826208214,
                        "remaining_time": 0.02627958162,
                        "test": [
                          0.301153377
                        ]
                      },
                      {
                        "learn": [
                          0.2135974142
                        ],
                        "iteration": 41,
                        "passed_time": 0.0188087481,
                        "remaining_time": 0.02597398548,
                        "test": [
                          0.2960123432
                        ]
                      },
                      {
                        "learn": [
                          0.2081929595
                        ],
                        "iteration": 42,
                        "passed_time": 0.01927650544,
                        "remaining_time": 0.02555257699,
                        "test": [
                          0.2886742535
                        ]
                      },
                      {
                        "learn": [
                          0.2029086512
                        ],
                        "iteration": 43,
                        "passed_time": 0.01973964747,
                        "remaining_time": 0.02512318768,
                        "test": [
                          0.2820914888
                        ]
                      },
                      {
                        "learn": [
                          0.1977885424
                        ],
                        "iteration": 44,
                        "passed_time": 0.02027471467,
                        "remaining_time": 0.02478020682,
                        "test": [
                          0.2815648762
                        ]
                      },
                      {
                        "learn": [
                          0.1930778582
                        ],
                        "iteration": 45,
                        "passed_time": 0.02081034368,
                        "remaining_time": 0.02442953389,
                        "test": [
                          0.277228785
                        ]
                      },
                      {
                        "learn": [
                          0.1881935113
                        ],
                        "iteration": 46,
                        "passed_time": 0.0213739737,
                        "remaining_time": 0.02410256609,
                        "test": [
                          0.2712600066
                        ]
                      },
                      {
                        "learn": [
                          0.1836247749
                        ],
                        "iteration": 47,
                        "passed_time": 0.02187433282,
                        "remaining_time": 0.02369719389,
                        "test": [
                          0.2731181526
                        ]
                      },
                      {
                        "learn": [
                          0.1790773066
                        ],
                        "iteration": 48,
                        "passed_time": 0.02239607769,
                        "remaining_time": 0.02331020331,
                        "test": [
                          0.2749572887
                        ]
                      },
                      {
                        "learn": [
                          0.1745590456
                        ],
                        "iteration": 49,
                        "passed_time": 0.02297048285,
                        "remaining_time": 0.02297048285,
                        "test": [
                          0.2695502784
                        ]
                      },
                      {
                        "learn": [
                          0.1702249681
                        ],
                        "iteration": 50,
                        "passed_time": 0.02343534482,
                        "remaining_time": 0.02251631169,
                        "test": [
                          0.263806289
                        ]
                      },
                      {
                        "learn": [
                          0.1659993429
                        ],
                        "iteration": 51,
                        "passed_time": 0.0239702984,
                        "remaining_time": 0.02212642929,
                        "test": [
                          0.2656023219
                        ]
                      },
                      {
                        "learn": [
                          0.1620502222
                        ],
                        "iteration": 52,
                        "passed_time": 0.02441292283,
                        "remaining_time": 0.02164919572,
                        "test": [
                          0.2625197238
                        ]
                      },
                      {
                        "learn": [
                          0.1580319798
                        ],
                        "iteration": 53,
                        "passed_time": 0.02495058633,
                        "remaining_time": 0.02125420317,
                        "test": [
                          0.2596498983
                        ]
                      },
                      {
                        "learn": [
                          0.1542213469
                        ],
                        "iteration": 54,
                        "passed_time": 0.02550190306,
                        "remaining_time": 0.02086519342,
                        "test": [
                          0.256985151
                        ]
                      },
                      {
                        "learn": [
                          0.1505214269
                        ],
                        "iteration": 55,
                        "passed_time": 0.02602954867,
                        "remaining_time": 0.02045178824,
                        "test": [
                          0.2587747943
                        ]
                      },
                      {
                        "learn": [
                          0.146781204
                        ],
                        "iteration": 56,
                        "passed_time": 0.02658419895,
                        "remaining_time": 0.02005474657,
                        "test": [
                          0.2564130854
                        ]
                      },
                      {
                        "learn": [
                          0.1432723347
                        ],
                        "iteration": 57,
                        "passed_time": 0.02710164848,
                        "remaining_time": 0.01962533166,
                        "test": [
                          0.2581728223
                        ]
                      },
                      {
                        "learn": [
                          0.1398654066
                        ],
                        "iteration": 58,
                        "passed_time": 0.02762323335,
                        "remaining_time": 0.01919580623,
                        "test": [
                          0.256085338
                        ]
                      },
                      {
                        "learn": [
                          0.1365574171
                        ],
                        "iteration": 59,
                        "passed_time": 0.02812188071,
                        "remaining_time": 0.01874792047,
                        "test": [
                          0.2541624117
                        ]
                      },
                      {
                        "learn": [
                          0.1331516623
                        ],
                        "iteration": 60,
                        "passed_time": 0.02858986259,
                        "remaining_time": 0.01827876461,
                        "test": [
                          0.2523968247
                        ]
                      },
                      {
                        "learn": [
                          0.1298344273
                        ],
                        "iteration": 61,
                        "passed_time": 0.02907230587,
                        "remaining_time": 0.01781851005,
                        "test": [
                          0.2507814448
                        ]
                      },
                      {
                        "learn": [
                          0.1266033493
                        ],
                        "iteration": 62,
                        "passed_time": 0.02959228988,
                        "remaining_time": 0.01737959882,
                        "test": [
                          0.2524793935
                        ]
                      },
                      {
                        "learn": [
                          0.123456138
                        ],
                        "iteration": 63,
                        "passed_time": 0.03016358786,
                        "remaining_time": 0.01696701817,
                        "test": [
                          0.2510730951
                        ]
                      },
                      {
                        "learn": [
                          0.1203905729
                        ],
                        "iteration": 64,
                        "passed_time": 0.03067652389,
                        "remaining_time": 0.01651812825,
                        "test": [
                          0.2497961302
                        ]
                      },
                      {
                        "learn": [
                          0.1174045008
                        ],
                        "iteration": 65,
                        "passed_time": 0.03120730304,
                        "remaining_time": 0.01607648944,
                        "test": [
                          0.2486419966
                        ]
                      },
                      {
                        "learn": [
                          0.1144958329
                        ],
                        "iteration": 66,
                        "passed_time": 0.03176706044,
                        "remaining_time": 0.0156464626,
                        "test": [
                          0.2476043447
                        ]
                      },
                      {
                        "learn": [
                          0.111662543
                        ],
                        "iteration": 67,
                        "passed_time": 0.03225883163,
                        "remaining_time": 0.01518062665,
                        "test": [
                          0.2466769885
                        ]
                      },
                      {
                        "learn": [
                          0.1089026648
                        ],
                        "iteration": 68,
                        "passed_time": 0.03274827562,
                        "remaining_time": 0.01471299339,
                        "test": [
                          0.2458539142
                        ]
                      },
                      {
                        "learn": [
                          0.1062142899
                        ],
                        "iteration": 69,
                        "passed_time": 0.03325633724,
                        "remaining_time": 0.01425271596,
                        "test": [
                          0.2451292883
                        ]
                      },
                      {
                        "learn": [
                          0.1035955661
                        ],
                        "iteration": 70,
                        "passed_time": 0.03396503578,
                        "remaining_time": 0.01387304278,
                        "test": [
                          0.2444974638
                        ]
                      },
                      {
                        "learn": [
                          0.1010446946
                        ],
                        "iteration": 71,
                        "passed_time": 0.03449251684,
                        "remaining_time": 0.01341375655,
                        "test": [
                          0.2439529856
                        ]
                      },
                      {
                        "learn": [
                          0.09862293438
                        ],
                        "iteration": 72,
                        "passed_time": 0.03495540524,
                        "remaining_time": 0.01292871153,
                        "test": [
                          0.2454573896
                        ]
                      },
                      {
                        "learn": [
                          0.09627285493
                        ],
                        "iteration": 73,
                        "passed_time": 0.03544331018,
                        "remaining_time": 0.01245305493,
                        "test": [
                          0.2469278452
                        ]
                      },
                      {
                        "learn": [
                          0.09399227182
                        ],
                        "iteration": 74,
                        "passed_time": 0.03589064175,
                        "remaining_time": 0.01196354725,
                        "test": [
                          0.2483649587
                        ]
                      },
                      {
                        "learn": [
                          0.09167104533
                        ],
                        "iteration": 75,
                        "passed_time": 0.03638827368,
                        "remaining_time": 0.01149103379,
                        "test": [
                          0.2479767745
                        ]
                      },
                      {
                        "learn": [
                          0.08950929176
                        ],
                        "iteration": 76,
                        "passed_time": 0.03684593768,
                        "remaining_time": 0.01100592944,
                        "test": [
                          0.247653629
                        ]
                      },
                      {
                        "learn": [
                          0.08741152579
                        ],
                        "iteration": 77,
                        "passed_time": 0.03732882912,
                        "remaining_time": 0.01052864411,
                        "test": [
                          0.2490131512
                        ]
                      },
                      {
                        "learn": [
                          0.08537584836
                        ],
                        "iteration": 78,
                        "passed_time": 0.03781850038,
                        "remaining_time": 0.01005301909,
                        "test": [
                          0.2503411384
                        ]
                      },
                      {
                        "learn": [
                          0.08326153483
                        ],
                        "iteration": 79,
                        "passed_time": 0.0382907585,
                        "remaining_time": 0.009572689624,
                        "test": [
                          0.2501119578
                        ]
                      },
                      {
                        "learn": [
                          0.08133213463
                        ],
                        "iteration": 80,
                        "passed_time": 0.0388230776,
                        "remaining_time": 0.009106647833,
                        "test": [
                          0.2513864524
                        ]
                      },
                      {
                        "learn": [
                          0.0793184556
                        ],
                        "iteration": 81,
                        "passed_time": 0.03928383515,
                        "remaining_time": 0.008623280886,
                        "test": [
                          0.25122114
                        ]
                      },
                      {
                        "learn": [
                          0.07748996671
                        ],
                        "iteration": 82,
                        "passed_time": 0.03977887988,
                        "remaining_time": 0.008147481421,
                        "test": [
                          0.2511005567
                        ]
                      },
                      {
                        "learn": [
                          0.07557213276
                        ],
                        "iteration": 83,
                        "passed_time": 0.04024843808,
                        "remaining_time": 0.007666369158,
                        "test": [
                          0.2510216358
                        ]
                      },
                      {
                        "learn": [
                          0.07383947145
                        ],
                        "iteration": 84,
                        "passed_time": 0.04087781619,
                        "remaining_time": 0.007213732268,
                        "test": [
                          0.2521986221
                        ]
                      },
                      {
                        "learn": [
                          0.07201293297
                        ],
                        "iteration": 85,
                        "passed_time": 0.04146166016,
                        "remaining_time": 0.006749572585,
                        "test": [
                          0.252165939
                        ]
                      },
                      {
                        "learn": [
                          0.07037128192
                        ],
                        "iteration": 86,
                        "passed_time": 0.04206072915,
                        "remaining_time": 0.00628493654,
                        "test": [
                          0.2532926519
                        ]
                      },
                      {
                        "learn": [
                          0.06877877036
                        ],
                        "iteration": 87,
                        "passed_time": 0.04274456568,
                        "remaining_time": 0.005828804411,
                        "test": [
                          0.2532995138
                        ]
                      },
                      {
                        "learn": [
                          0.06707651101
                        ],
                        "iteration": 88,
                        "passed_time": 0.04351753417,
                        "remaining_time": 0.005378571639,
                        "test": [
                          0.2533359756
                        ]
                      },
                      {
                        "learn": [
                          0.06556796472
                        ],
                        "iteration": 89,
                        "passed_time": 0.04410103452,
                        "remaining_time": 0.004900114947,
                        "test": [
                          0.254392237
                        ]
                      },
                      {
                        "learn": [
                          0.06410480097
                        ],
                        "iteration": 90,
                        "passed_time": 0.0446059526,
                        "remaining_time": 0.00441157773,
                        "test": [
                          0.2544590718
                        ]
                      },
                      {
                        "learn": [
                          0.06268573506
                        ],
                        "iteration": 91,
                        "passed_time": 0.04534636022,
                        "remaining_time": 0.003943161758,
                        "test": [
                          0.2554686952
                        ]
                      },
                      {
                        "learn": [
                          0.06113231644
                        ],
                        "iteration": 92,
                        "passed_time": 0.04594358653,
                        "remaining_time": 0.003458119416,
                        "test": [
                          0.2555610454
                        ]
                      },
                      {
                        "learn": [
                          0.05962108235
                        ],
                        "iteration": 93,
                        "passed_time": 0.04651102735,
                        "remaining_time": 0.00296878898,
                        "test": [
                          0.2556739558
                        ]
                      },
                      {
                        "learn": [
                          0.0583090369
                        ],
                        "iteration": 94,
                        "passed_time": 0.04707218107,
                        "remaining_time": 0.002477483214,
                        "test": [
                          0.2558057544
                        ]
                      },
                      {
                        "learn": [
                          0.0570368892
                        ],
                        "iteration": 95,
                        "passed_time": 0.04760360929,
                        "remaining_time": 0.001983483721,
                        "test": [
                          0.2559548651
                        ]
                      },
                      {
                        "learn": [
                          0.05580352372
                        ],
                        "iteration": 96,
                        "passed_time": 0.04811520991,
                        "remaining_time": 0.001488099276,
                        "test": [
                          0.2568591816
                        ]
                      },
                      {
                        "learn": [
                          0.05442367521
                        ],
                        "iteration": 97,
                        "passed_time": 0.0486024576,
                        "remaining_time": 0.0009918868897,
                        "test": [
                          0.2570228002
                        ]
                      },
                      {
                        "learn": [
                          0.05325641609
                        ],
                        "iteration": 98,
                        "passed_time": 0.04909914955,
                        "remaining_time": 0.0004959510056,
                        "test": [
                          0.2578858098
                        ]
                      },
                      {
                        "learn": [
                          0.0519423503
                        ],
                        "iteration": 99,
                        "passed_time": 0.04965738063,
                        "remaining_time": 0,
                        "test": [
                          0.2580609386
                        ]
                      }
                    ],
                    "meta": {
                      "test_sets": [
                        "test"
                      ],
                      "test_metrics": [
                        {
                          "best_value": "Min",
                          "name": "RMSE"
                        }
                      ],
                      "learn_metrics": [
                        {
                          "best_value": "Min",
                          "name": "RMSE"
                        }
                      ],
                      "launch_mode": "Train",
                      "parameters": "",
                      "iteration_count": 100,
                      "learn_sets": [
                        "learn"
                      ],
                      "name": "experiment"
                    }
                  }
                }
              },
              "catboost_info/fold-2": {
                "path": "catboost_info/fold-2",
                "name": "fold-2",
                "content": {
                  "passed_iterations": 99,
                  "total_iterations": 100,
                  "data": {
                    "iterations": [
                      {
                        "learn": [
                          0.7993987009
                        ],
                        "iteration": 0,
                        "passed_time": 0.0004115398818,
                        "remaining_time": 0.0407424483,
                        "test": [
                          1.221414378
                        ]
                      },
                      {
                        "learn": [
                          0.7674947527
                        ],
                        "iteration": 1,
                        "passed_time": 0.001035060888,
                        "remaining_time": 0.05071798351,
                        "test": [
                          1.221414378
                        ]
                      },
                      {
                        "learn": [
                          0.7213791446
                        ],
                        "iteration": 2,
                        "passed_time": 0.00132669152,
                        "remaining_time": 0.04289635916,
                        "test": [
                          1.173828813
                        ]
                      },
                      {
                        "learn": [
                          0.6786583074
                        ],
                        "iteration": 3,
                        "passed_time": 0.001575283401,
                        "remaining_time": 0.03780680162,
                        "test": [
                          1.129498066
                        ]
                      },
                      {
                        "learn": [
                          0.6523749417
                        ],
                        "iteration": 4,
                        "passed_time": 0.002080942371,
                        "remaining_time": 0.03953790505,
                        "test": [
                          1.109324727
                        ]
                      },
                      {
                        "learn": [
                          0.6146609118
                        ],
                        "iteration": 5,
                        "passed_time": 0.00234171208,
                        "remaining_time": 0.03668682259,
                        "test": [
                          1.069815479
                        ]
                      },
                      {
                        "learn": [
                          0.58090892
                        ],
                        "iteration": 6,
                        "passed_time": 0.00268978653,
                        "remaining_time": 0.03573573533,
                        "test": [
                          1.043705077
                        ]
                      },
                      {
                        "learn": [
                          0.5524052557
                        ],
                        "iteration": 7,
                        "passed_time": 0.009713768259,
                        "remaining_time": 0.111708335,
                        "test": [
                          1.008803279
                        ]
                      },
                      {
                        "learn": [
                          0.531625399
                        ],
                        "iteration": 8,
                        "passed_time": 0.01641399665,
                        "remaining_time": 0.1659637439,
                        "test": [
                          0.9919948017
                        ]
                      },
                      {
                        "learn": [
                          0.502554859
                        ],
                        "iteration": 9,
                        "passed_time": 0.0177413227,
                        "remaining_time": 0.1596719043,
                        "test": [
                          0.9607339431
                        ]
                      },
                      {
                        "learn": [
                          0.4891699396
                        ],
                        "iteration": 10,
                        "passed_time": 0.01821212632,
                        "remaining_time": 0.1473526584,
                        "test": [
                          0.9607339431
                        ]
                      },
                      {
                        "learn": [
                          0.4669159086
                        ],
                        "iteration": 11,
                        "passed_time": 0.01861587733,
                        "remaining_time": 0.1365164338,
                        "test": [
                          0.9320340187
                        ]
                      },
                      {
                        "learn": [
                          0.4478219884
                        ],
                        "iteration": 12,
                        "passed_time": 0.01997306251,
                        "remaining_time": 0.1336658799,
                        "test": [
                          0.9176098982
                        ]
                      },
                      {
                        "learn": [
                          0.4249610968
                        ],
                        "iteration": 13,
                        "passed_time": 0.02024060748,
                        "remaining_time": 0.1243351602,
                        "test": [
                          0.8922703816
                        ]
                      },
                      {
                        "learn": [
                          0.4050676096
                        ],
                        "iteration": 14,
                        "passed_time": 0.02062915258,
                        "remaining_time": 0.1168985313,
                        "test": [
                          0.8656179602
                        ]
                      },
                      {
                        "learn": [
                          0.3852187406
                        ],
                        "iteration": 15,
                        "passed_time": 0.02089807478,
                        "remaining_time": 0.1097148926,
                        "test": [
                          0.8432482559
                        ]
                      },
                      {
                        "learn": [
                          0.3670544597
                        ],
                        "iteration": 16,
                        "passed_time": 0.02201718959,
                        "remaining_time": 0.1074956904,
                        "test": [
                          0.8224142997
                        ]
                      },
                      {
                        "learn": [
                          0.354338859
                        ],
                        "iteration": 17,
                        "passed_time": 0.0224376483,
                        "remaining_time": 0.1022159534,
                        "test": [
                          0.8108547053
                        ]
                      },
                      {
                        "learn": [
                          0.3389269238
                        ],
                        "iteration": 18,
                        "passed_time": 0.02270195973,
                        "remaining_time": 0.09678203884,
                        "test": [
                          0.792494535
                        ]
                      },
                      {
                        "learn": [
                          0.3255238481
                        ],
                        "iteration": 19,
                        "passed_time": 0.02310415261,
                        "remaining_time": 0.09241661044,
                        "test": [
                          0.7740499509
                        ]
                      },
                      {
                        "learn": [
                          0.3092858893
                        ],
                        "iteration": 20,
                        "passed_time": 0.02345716782,
                        "remaining_time": 0.08824363134,
                        "test": [
                          0.7734323569
                        ]
                      },
                      {
                        "learn": [
                          0.2956552097
                        ],
                        "iteration": 21,
                        "passed_time": 0.02390606753,
                        "remaining_time": 0.08475787579,
                        "test": [
                          0.7607388177
                        ]
                      },
                      {
                        "learn": [
                          0.2825941193
                        ],
                        "iteration": 22,
                        "passed_time": 0.02435562086,
                        "remaining_time": 0.08153838287,
                        "test": [
                          0.7423582132
                        ]
                      },
                      {
                        "learn": [
                          0.2750229224
                        ],
                        "iteration": 23,
                        "passed_time": 0.02483475241,
                        "remaining_time": 0.07864338264,
                        "test": [
                          0.7309616408
                        ]
                      },
                      {
                        "learn": [
                          0.2631054433
                        ],
                        "iteration": 24,
                        "passed_time": 0.02526626535,
                        "remaining_time": 0.07579879606,
                        "test": [
                          0.7140958936
                        ]
                      },
                      {
                        "learn": [
                          0.2554000421
                        ],
                        "iteration": 25,
                        "passed_time": 0.02576426455,
                        "remaining_time": 0.07332906063,
                        "test": [
                          0.7031406782
                        ]
                      },
                      {
                        "learn": [
                          0.2445689162
                        ],
                        "iteration": 26,
                        "passed_time": 0.02623117464,
                        "remaining_time": 0.07092132402,
                        "test": [
                          0.6877047434
                        ]
                      },
                      {
                        "learn": [
                          0.2329396138
                        ],
                        "iteration": 27,
                        "passed_time": 0.02659974122,
                        "remaining_time": 0.06839933457,
                        "test": [
                          0.6877862958
                        ]
                      },
                      {
                        "learn": [
                          0.2246569611
                        ],
                        "iteration": 28,
                        "passed_time": 0.02685775465,
                        "remaining_time": 0.06575519241,
                        "test": [
                          0.6769816266
                        ]
                      },
                      {
                        "learn": [
                          0.2182934699
                        ],
                        "iteration": 29,
                        "passed_time": 0.02747365769,
                        "remaining_time": 0.06410520128,
                        "test": [
                          0.6769816266
                        ]
                      },
                      {
                        "learn": [
                          0.2112698793
                        ],
                        "iteration": 30,
                        "passed_time": 0.02783826075,
                        "remaining_time": 0.06196258039,
                        "test": [
                          0.6663324931
                        ]
                      },
                      {
                        "learn": [
                          0.2053822925
                        ],
                        "iteration": 31,
                        "passed_time": 0.02836287827,
                        "remaining_time": 0.06027111631,
                        "test": [
                          0.6663324931
                        ]
                      },
                      {
                        "learn": [
                          0.1996640755
                        ],
                        "iteration": 32,
                        "passed_time": 0.02882545576,
                        "remaining_time": 0.05852441017,
                        "test": [
                          0.6569534158
                        ]
                      },
                      {
                        "learn": [
                          0.1944256398
                        ],
                        "iteration": 33,
                        "passed_time": 0.02934751516,
                        "remaining_time": 0.0569687059,
                        "test": [
                          0.6508304518
                        ]
                      },
                      {
                        "learn": [
                          0.1893688146
                        ],
                        "iteration": 34,
                        "passed_time": 0.02987898156,
                        "remaining_time": 0.05548953719,
                        "test": [
                          0.6449653511
                        ]
                      },
                      {
                        "learn": [
                          0.1824196821
                        ],
                        "iteration": 35,
                        "passed_time": 0.03029595038,
                        "remaining_time": 0.05385946734,
                        "test": [
                          0.6342174021
                        ]
                      },
                      {
                        "learn": [
                          0.1756984481
                        ],
                        "iteration": 36,
                        "passed_time": 0.03081299084,
                        "remaining_time": 0.05246536278,
                        "test": [
                          0.632635569
                        ]
                      },
                      {
                        "learn": [
                          0.1714438583
                        ],
                        "iteration": 37,
                        "passed_time": 0.03129187968,
                        "remaining_time": 0.0510551721,
                        "test": [
                          0.6322068871
                        ]
                      },
                      {
                        "learn": [
                          0.1671632342
                        ],
                        "iteration": 38,
                        "passed_time": 0.03207326883,
                        "remaining_time": 0.05016588202,
                        "test": [
                          0.6317236537
                        ]
                      },
                      {
                        "learn": [
                          0.1626991937
                        ],
                        "iteration": 39,
                        "passed_time": 0.03303935535,
                        "remaining_time": 0.04955903303,
                        "test": [
                          0.6320375732
                        ]
                      },
                      {
                        "learn": [
                          0.1567259058
                        ],
                        "iteration": 40,
                        "passed_time": 0.03399546944,
                        "remaining_time": 0.04892030968,
                        "test": [
                          0.6306730901
                        ]
                      },
                      {
                        "learn": [
                          0.150933297
                        ],
                        "iteration": 41,
                        "passed_time": 0.03459455297,
                        "remaining_time": 0.0477734303,
                        "test": [
                          0.6316188722
                        ]
                      },
                      {
                        "learn": [
                          0.1455367681
                        ],
                        "iteration": 42,
                        "passed_time": 0.0350868487,
                        "remaining_time": 0.04651047385,
                        "test": [
                          0.6315143171
                        ]
                      },
                      {
                        "learn": [
                          0.1420069533
                        ],
                        "iteration": 43,
                        "passed_time": 0.03567423348,
                        "remaining_time": 0.04540356988,
                        "test": [
                          0.6313676339
                        ]
                      },
                      {
                        "learn": [
                          0.1384639463
                        ],
                        "iteration": 44,
                        "passed_time": 0.03629115649,
                        "remaining_time": 0.04435585794,
                        "test": [
                          0.6265292708
                        ]
                      },
                      {
                        "learn": [
                          0.1350108756
                        ],
                        "iteration": 45,
                        "passed_time": 0.03684364774,
                        "remaining_time": 0.04325123865,
                        "test": [
                          0.6218145651
                        ]
                      },
                      {
                        "learn": [
                          0.1314572382
                        ],
                        "iteration": 46,
                        "passed_time": 0.03746588333,
                        "remaining_time": 0.04224876205,
                        "test": [
                          0.6220990257
                        ]
                      },
                      {
                        "learn": [
                          0.1280984133
                        ],
                        "iteration": 47,
                        "passed_time": 0.03796576883,
                        "remaining_time": 0.0411295829,
                        "test": [
                          0.6220990257
                        ]
                      },
                      {
                        "learn": [
                          0.1249789998
                        ],
                        "iteration": 48,
                        "passed_time": 0.03849041634,
                        "remaining_time": 0.04006145374,
                        "test": [
                          0.6221301873
                        ]
                      },
                      {
                        "learn": [
                          0.1219396451
                        ],
                        "iteration": 49,
                        "passed_time": 0.03904714383,
                        "remaining_time": 0.03904714383,
                        "test": [
                          0.6221397194
                        ]
                      },
                      {
                        "learn": [
                          0.1188647767
                        ],
                        "iteration": 50,
                        "passed_time": 0.03957854024,
                        "remaining_time": 0.03802644062,
                        "test": [
                          0.6221397194
                        ]
                      },
                      {
                        "learn": [
                          0.1159057888
                        ],
                        "iteration": 51,
                        "passed_time": 0.04052564004,
                        "remaining_time": 0.03740828311,
                        "test": [
                          0.6181545294
                        ]
                      },
                      {
                        "learn": [
                          0.1130808642
                        ],
                        "iteration": 52,
                        "passed_time": 0.04107326234,
                        "remaining_time": 0.03642345905,
                        "test": [
                          0.6181545294
                        ]
                      },
                      {
                        "learn": [
                          0.1101712706
                        ],
                        "iteration": 53,
                        "passed_time": 0.04161696657,
                        "remaining_time": 0.03545149004,
                        "test": [
                          0.6184162941
                        ]
                      },
                      {
                        "learn": [
                          0.1073696641
                        ],
                        "iteration": 54,
                        "passed_time": 0.04215987446,
                        "remaining_time": 0.03449444274,
                        "test": [
                          0.6184162941
                        ]
                      },
                      {
                        "learn": [
                          0.1034701457
                        ],
                        "iteration": 55,
                        "passed_time": 0.04279757505,
                        "remaining_time": 0.03362666611,
                        "test": [
                          0.6178936868
                        ]
                      },
                      {
                        "learn": [
                          0.1008443233
                        ],
                        "iteration": 56,
                        "passed_time": 0.04336509859,
                        "remaining_time": 0.03271402174,
                        "test": [
                          0.618072369
                        ]
                      },
                      {
                        "learn": [
                          0.09829281759
                        ],
                        "iteration": 57,
                        "passed_time": 0.04386988486,
                        "remaining_time": 0.03176784766,
                        "test": [
                          0.618072369
                        ]
                      },
                      {
                        "learn": [
                          0.09581571913
                        ],
                        "iteration": 58,
                        "passed_time": 0.04446991382,
                        "remaining_time": 0.03090282147,
                        "test": [
                          0.6183083951
                        ]
                      },
                      {
                        "learn": [
                          0.09341821562
                        ],
                        "iteration": 59,
                        "passed_time": 0.04504783888,
                        "remaining_time": 0.03003189258,
                        "test": [
                          0.6185389094
                        ]
                      },
                      {
                        "learn": [
                          0.09109777592
                        ],
                        "iteration": 60,
                        "passed_time": 0.04555105155,
                        "remaining_time": 0.02912280345,
                        "test": [
                          0.6187640302
                        ]
                      },
                      {
                        "learn": [
                          0.08885106818
                        ],
                        "iteration": 61,
                        "passed_time": 0.04603399755,
                        "remaining_time": 0.02821438559,
                        "test": [
                          0.6187640302
                        ]
                      },
                      {
                        "learn": [
                          0.08665573224
                        ],
                        "iteration": 62,
                        "passed_time": 0.04649604233,
                        "remaining_time": 0.02730719946,
                        "test": [
                          0.618981021
                        ]
                      },
                      {
                        "learn": [
                          0.0845156136
                        ],
                        "iteration": 63,
                        "passed_time": 0.04697321576,
                        "remaining_time": 0.02642243386,
                        "test": [
                          0.618981021
                        ]
                      },
                      {
                        "learn": [
                          0.08241497273
                        ],
                        "iteration": 64,
                        "passed_time": 0.04741920646,
                        "remaining_time": 0.02553341886,
                        "test": [
                          0.618981021
                        ]
                      },
                      {
                        "learn": [
                          0.0803787997
                        ],
                        "iteration": 65,
                        "passed_time": 0.0479478184,
                        "remaining_time": 0.0247003913,
                        "test": [
                          0.6193533642
                        ]
                      },
                      {
                        "learn": [
                          0.07806086391
                        ],
                        "iteration": 66,
                        "passed_time": 0.04845999264,
                        "remaining_time": 0.02386835458,
                        "test": [
                          0.6194921811
                        ]
                      },
                      {
                        "learn": [
                          0.0761343488
                        ],
                        "iteration": 67,
                        "passed_time": 0.0489716678,
                        "remaining_time": 0.02304549073,
                        "test": [
                          0.6198447144
                        ]
                      },
                      {
                        "learn": [
                          0.07426247845
                        ],
                        "iteration": 68,
                        "passed_time": 0.04944997665,
                        "remaining_time": 0.02221665618,
                        "test": [
                          0.6200409988
                        ]
                      },
                      {
                        "learn": [
                          0.07245079179
                        ],
                        "iteration": 69,
                        "passed_time": 0.05001469754,
                        "remaining_time": 0.02143487038,
                        "test": [
                          0.620232639
                        ]
                      },
                      {
                        "learn": [
                          0.07069741279
                        ],
                        "iteration": 70,
                        "passed_time": 0.05054633576,
                        "remaining_time": 0.02064568644,
                        "test": [
                          0.6204197378
                        ]
                      },
                      {
                        "learn": [
                          0.06894587083
                        ],
                        "iteration": 71,
                        "passed_time": 0.05103866421,
                        "remaining_time": 0.01984836941,
                        "test": [
                          0.6181596531
                        ]
                      },
                      {
                        "learn": [
                          0.06723411217
                        ],
                        "iteration": 72,
                        "passed_time": 0.0515655862,
                        "remaining_time": 0.01907220311,
                        "test": [
                          0.6182907443
                        ]
                      },
                      {
                        "learn": [
                          0.0656164842
                        ],
                        "iteration": 73,
                        "passed_time": 0.052064609,
                        "remaining_time": 0.01829297073,
                        "test": [
                          0.618467846
                        ]
                      },
                      {
                        "learn": [
                          0.06398485264
                        ],
                        "iteration": 74,
                        "passed_time": 0.05252588107,
                        "remaining_time": 0.01750862702,
                        "test": [
                          0.618467846
                        ]
                      },
                      {
                        "learn": [
                          0.06239494486
                        ],
                        "iteration": 75,
                        "passed_time": 0.05304989769,
                        "remaining_time": 0.01675259927,
                        "test": [
                          0.618467846
                        ]
                      },
                      {
                        "learn": [
                          0.06089919926
                        ],
                        "iteration": 76,
                        "passed_time": 0.05428113289,
                        "remaining_time": 0.01621384489,
                        "test": [
                          0.6186342197
                        ]
                      },
                      {
                        "learn": [
                          0.05938357528
                        ],
                        "iteration": 77,
                        "passed_time": 0.05524473585,
                        "remaining_time": 0.01558184857,
                        "test": [
                          0.6186342197
                        ]
                      },
                      {
                        "learn": [
                          0.05791394296
                        ],
                        "iteration": 78,
                        "passed_time": 0.05618340681,
                        "remaining_time": 0.01493482966,
                        "test": [
                          0.6186293795
                        ]
                      },
                      {
                        "learn": [
                          0.05653410614
                        ],
                        "iteration": 79,
                        "passed_time": 0.05683461792,
                        "remaining_time": 0.01420865448,
                        "test": [
                          0.6187859309
                        ]
                      },
                      {
                        "learn": [
                          0.05519892168
                        ],
                        "iteration": 80,
                        "passed_time": 0.05734535856,
                        "remaining_time": 0.0134513804,
                        "test": [
                          0.6189387318
                        ]
                      },
                      {
                        "learn": [
                          0.05390702476
                        ],
                        "iteration": 81,
                        "passed_time": 0.05782170383,
                        "remaining_time": 0.01269256913,
                        "test": [
                          0.6190878677
                        ]
                      },
                      {
                        "learn": [
                          0.05255721467
                        ],
                        "iteration": 82,
                        "passed_time": 0.05837724408,
                        "remaining_time": 0.01195678493,
                        "test": [
                          0.619225542
                        ]
                      },
                      {
                        "learn": [
                          0.05125550177
                        ],
                        "iteration": 83,
                        "passed_time": 0.05893791328,
                        "remaining_time": 0.0112262692,
                        "test": [
                          0.619225542
                        ]
                      },
                      {
                        "learn": [
                          0.04998746946
                        ],
                        "iteration": 84,
                        "passed_time": 0.05944524584,
                        "remaining_time": 0.0104903375,
                        "test": [
                          0.619225542
                        ]
                      },
                      {
                        "learn": [
                          0.04882196629
                        ],
                        "iteration": 85,
                        "passed_time": 0.05997162511,
                        "remaining_time": 0.009762822693,
                        "test": [
                          0.6193633134
                        ]
                      },
                      {
                        "learn": [
                          0.0476537965
                        ],
                        "iteration": 86,
                        "passed_time": 0.06062956512,
                        "remaining_time": 0.009059590191,
                        "test": [
                          0.6193633134
                        ]
                      },
                      {
                        "learn": [
                          0.04645804352
                        ],
                        "iteration": 87,
                        "passed_time": 0.06200060354,
                        "remaining_time": 0.008454627755,
                        "test": [
                          0.619495113
                        ]
                      },
                      {
                        "learn": [
                          0.04529302168
                        ],
                        "iteration": 88,
                        "passed_time": 0.06261869106,
                        "remaining_time": 0.007739388783,
                        "test": [
                          0.6196217522
                        ]
                      },
                      {
                        "learn": [
                          0.04424703619
                        ],
                        "iteration": 89,
                        "passed_time": 0.06311636845,
                        "remaining_time": 0.007012929828,
                        "test": [
                          0.6197479047
                        ]
                      },
                      {
                        "learn": [
                          0.0431356375
                        ],
                        "iteration": 90,
                        "passed_time": 0.0636761104,
                        "remaining_time": 0.006297637292,
                        "test": [
                          0.6197479047
                        ]
                      },
                      {
                        "learn": [
                          0.04205281588
                        ],
                        "iteration": 91,
                        "passed_time": 0.0642599171,
                        "remaining_time": 0.005587818878,
                        "test": [
                          0.6198685777
                        ]
                      },
                      {
                        "learn": [
                          0.04101251142
                        ],
                        "iteration": 92,
                        "passed_time": 0.0648012114,
                        "remaining_time": 0.004877510535,
                        "test": [
                          0.6198685777
                        ]
                      },
                      {
                        "learn": [
                          0.03999921373
                        ],
                        "iteration": 93,
                        "passed_time": 0.0657087578,
                        "remaining_time": 0.00419417603,
                        "test": [
                          0.6198685777
                        ]
                      },
                      {
                        "learn": [
                          0.03901221883
                        ],
                        "iteration": 94,
                        "passed_time": 0.06651912703,
                        "remaining_time": 0.003501006686,
                        "test": [
                          0.6194886572
                        ]
                      },
                      {
                        "learn": [
                          0.03758635371
                        ],
                        "iteration": 95,
                        "passed_time": 0.06708231251,
                        "remaining_time": 0.002795096355,
                        "test": [
                          0.6195569172
                        ]
                      },
                      {
                        "learn": [
                          0.03621942722
                        ],
                        "iteration": 96,
                        "passed_time": 0.06759408039,
                        "remaining_time": 0.002090538569,
                        "test": [
                          0.619888278
                        ]
                      },
                      {
                        "learn": [
                          0.03532750061
                        ],
                        "iteration": 97,
                        "passed_time": 0.06817545444,
                        "remaining_time": 0.001391335805,
                        "test": [
                          0.6195563022
                        ]
                      },
                      {
                        "learn": [
                          0.03445876941
                        ],
                        "iteration": 98,
                        "passed_time": 0.06872871839,
                        "remaining_time": 0.0006942294787,
                        "test": [
                          0.619233351
                        ]
                      },
                      {
                        "learn": [
                          0.03358911108
                        ],
                        "iteration": 99,
                        "passed_time": 0.06939479726,
                        "remaining_time": 0,
                        "test": [
                          0.618919164
                        ]
                      }
                    ],
                    "meta": {
                      "test_sets": [
                        "test"
                      ],
                      "test_metrics": [
                        {
                          "best_value": "Min",
                          "name": "RMSE"
                        }
                      ],
                      "learn_metrics": [
                        {
                          "best_value": "Min",
                          "name": "RMSE"
                        }
                      ],
                      "launch_mode": "Train",
                      "parameters": "",
                      "iteration_count": 100,
                      "learn_sets": [
                        "learn"
                      ],
                      "name": "experiment"
                    }
                  }
                }
              },
              "catboost_info/fold-3": {
                "path": "catboost_info/fold-3",
                "name": "fold-3",
                "content": {
                  "passed_iterations": 99,
                  "total_iterations": 100,
                  "data": {
                    "iterations": [
                      {
                        "learn": [
                          0.931802253
                        ],
                        "iteration": 0,
                        "passed_time": 0.0005403661453,
                        "remaining_time": 0.05349624838,
                        "test": [
                          0.9619999987
                        ]
                      },
                      {
                        "learn": [
                          0.8924324328
                        ],
                        "iteration": 1,
                        "passed_time": 0.001057016615,
                        "remaining_time": 0.05179381412,
                        "test": [
                          0.9174333312
                        ]
                      },
                      {
                        "learn": [
                          0.8380421614
                        ],
                        "iteration": 2,
                        "passed_time": 0.001295743327,
                        "remaining_time": 0.04189570091,
                        "test": [
                          0.8590063301
                        ]
                      },
                      {
                        "learn": [
                          0.7920658018
                        ],
                        "iteration": 3,
                        "passed_time": 0.001858961537,
                        "remaining_time": 0.04461507688,
                        "test": [
                          0.8018642668
                        ]
                      },
                      {
                        "learn": [
                          0.7653397809
                        ],
                        "iteration": 4,
                        "passed_time": 0.002432309453,
                        "remaining_time": 0.0462138796,
                        "test": [
                          0.7623463627
                        ]
                      },
                      {
                        "learn": [
                          0.733999438
                        ],
                        "iteration": 5,
                        "passed_time": 0.003002678364,
                        "remaining_time": 0.04704196104,
                        "test": [
                          0.7244091747
                        ]
                      },
                      {
                        "learn": [
                          0.6907789219
                        ],
                        "iteration": 6,
                        "passed_time": 0.003282396615,
                        "remaining_time": 0.0436089836,
                        "test": [
                          0.6771496883
                        ]
                      },
                      {
                        "learn": [
                          0.6542404664
                        ],
                        "iteration": 7,
                        "passed_time": 0.003828218965,
                        "remaining_time": 0.0440245181,
                        "test": [
                          0.6308662605
                        ]
                      },
                      {
                        "learn": [
                          0.616950533
                        ],
                        "iteration": 8,
                        "passed_time": 0.004077943541,
                        "remaining_time": 0.04123254024,
                        "test": [
                          0.5894022241
                        ]
                      },
                      {
                        "learn": [
                          0.5827773396
                        ],
                        "iteration": 9,
                        "passed_time": 0.004300165277,
                        "remaining_time": 0.03870148749,
                        "test": [
                          0.5508406702
                        ]
                      },
                      {
                        "learn": [
                          0.558593558
                        ],
                        "iteration": 10,
                        "passed_time": 0.004681550579,
                        "remaining_time": 0.03787800014,
                        "test": [
                          0.5213637101
                        ]
                      },
                      {
                        "learn": [
                          0.5375124406
                        ],
                        "iteration": 11,
                        "passed_time": 0.005131125721,
                        "remaining_time": 0.03762825529,
                        "test": [
                          0.4930658284
                        ]
                      },
                      {
                        "learn": [
                          0.5102142154
                        ],
                        "iteration": 12,
                        "passed_time": 0.005530662315,
                        "remaining_time": 0.03701289395,
                        "test": [
                          0.4560500531
                        ]
                      },
                      {
                        "learn": [
                          0.4841921797
                        ],
                        "iteration": 13,
                        "passed_time": 0.005817845803,
                        "remaining_time": 0.03573819565,
                        "test": [
                          0.4254146954
                        ]
                      },
                      {
                        "learn": [
                          0.4605013579
                        ],
                        "iteration": 14,
                        "passed_time": 0.005942289467,
                        "remaining_time": 0.03367297364,
                        "test": [
                          0.3969238126
                        ]
                      },
                      {
                        "learn": [
                          0.4436576462
                        ],
                        "iteration": 15,
                        "passed_time": 0.006178922603,
                        "remaining_time": 0.03243934367,
                        "test": [
                          0.3736035269
                        ]
                      },
                      {
                        "learn": [
                          0.4236247141
                        ],
                        "iteration": 16,
                        "passed_time": 0.00630758978,
                        "remaining_time": 0.03079587952,
                        "test": [
                          0.3485006854
                        ]
                      },
                      {
                        "learn": [
                          0.4045660073
                        ],
                        "iteration": 17,
                        "passed_time": 0.006492203517,
                        "remaining_time": 0.0295755938,
                        "test": [
                          0.3220245531
                        ]
                      },
                      {
                        "learn": [
                          0.3912736362
                        ],
                        "iteration": 18,
                        "passed_time": 0.00666941565,
                        "remaining_time": 0.02843277198,
                        "test": [
                          0.3017002378
                        ]
                      },
                      {
                        "learn": [
                          0.3757321513
                        ],
                        "iteration": 19,
                        "passed_time": 0.006783572339,
                        "remaining_time": 0.02713428935,
                        "test": [
                          0.2809072956
                        ]
                      },
                      {
                        "learn": [
                          0.3587651569
                        ],
                        "iteration": 20,
                        "passed_time": 0.006995084386,
                        "remaining_time": 0.02631484126,
                        "test": [
                          0.2557182148
                        ]
                      },
                      {
                        "learn": [
                          0.3493079786
                        ],
                        "iteration": 21,
                        "passed_time": 0.007251863302,
                        "remaining_time": 0.02571115171,
                        "test": [
                          0.2380461531
                        ]
                      },
                      {
                        "learn": [
                          0.3393975706
                        ],
                        "iteration": 22,
                        "passed_time": 0.00744431772,
                        "remaining_time": 0.02492228106,
                        "test": [
                          0.2210809738
                        ]
                      },
                      {
                        "learn": [
                          0.331307454
                        ],
                        "iteration": 23,
                        "passed_time": 0.007733698417,
                        "remaining_time": 0.02449004499,
                        "test": [
                          0.21835395
                        ]
                      },
                      {
                        "learn": [
                          0.3213594471
                        ],
                        "iteration": 24,
                        "passed_time": 0.008006166878,
                        "remaining_time": 0.02401850063,
                        "test": [
                          0.2024745422
                        ]
                      },
                      {
                        "learn": [
                          0.3079347678
                        ],
                        "iteration": 25,
                        "passed_time": 0.008252850632,
                        "remaining_time": 0.02348888257,
                        "test": [
                          0.1816751426
                        ]
                      },
                      {
                        "learn": [
                          0.3008662303
                        ],
                        "iteration": 26,
                        "passed_time": 0.008528477183,
                        "remaining_time": 0.02305847535,
                        "test": [
                          0.1672628871
                        ]
                      },
                      {
                        "learn": [
                          0.288939659
                        ],
                        "iteration": 27,
                        "passed_time": 0.008715669936,
                        "remaining_time": 0.02241172269,
                        "test": [
                          0.1482665513
                        ]
                      },
                      {
                        "learn": [
                          0.2779071906
                        ],
                        "iteration": 28,
                        "passed_time": 0.008892377538,
                        "remaining_time": 0.02177099328,
                        "test": [
                          0.1303557205
                        ]
                      },
                      {
                        "learn": [
                          0.269048672
                        ],
                        "iteration": 29,
                        "passed_time": 0.009132033314,
                        "remaining_time": 0.02130807773,
                        "test": [
                          0.1138722966
                        ]
                      },
                      {
                        "learn": [
                          0.2632732736
                        ],
                        "iteration": 30,
                        "passed_time": 0.009397283803,
                        "remaining_time": 0.02091653492,
                        "test": [
                          0.102172155
                        ]
                      },
                      {
                        "learn": [
                          0.2581716278
                        ],
                        "iteration": 31,
                        "passed_time": 0.01439923872,
                        "remaining_time": 0.03059838229,
                        "test": [
                          0.09094001909
                        ]
                      },
                      {
                        "learn": [
                          0.2506292695
                        ],
                        "iteration": 32,
                        "passed_time": 0.01473011822,
                        "remaining_time": 0.02990660366,
                        "test": [
                          0.07630378754
                        ]
                      },
                      {
                        "learn": [
                          0.2435832737
                        ],
                        "iteration": 33,
                        "passed_time": 0.01500013402,
                        "remaining_time": 0.02911790722,
                        "test": [
                          0.06239936757
                        ]
                      },
                      {
                        "learn": [
                          0.2378754486
                        ],
                        "iteration": 34,
                        "passed_time": 0.01528036135,
                        "remaining_time": 0.02837781394,
                        "test": [
                          0.06363938398
                        ]
                      },
                      {
                        "learn": [
                          0.2319478898
                        ],
                        "iteration": 35,
                        "passed_time": 0.01554322554,
                        "remaining_time": 0.02763240097,
                        "test": [
                          0.06484839998
                        ]
                      },
                      {
                        "learn": [
                          0.2245915274
                        ],
                        "iteration": 36,
                        "passed_time": 0.01580406434,
                        "remaining_time": 0.02690962307,
                        "test": [
                          0.06484839998
                        ]
                      },
                      {
                        "learn": [
                          0.2209622951
                        ],
                        "iteration": 37,
                        "passed_time": 0.01608434439,
                        "remaining_time": 0.0262428777,
                        "test": [
                          0.06484839998
                        ]
                      },
                      {
                        "learn": [
                          0.2154648431
                        ],
                        "iteration": 38,
                        "passed_time": 0.0163503485,
                        "remaining_time": 0.02557362201,
                        "test": [
                          0.0665708388
                        ]
                      },
                      {
                        "learn": [
                          0.2121850249
                        ],
                        "iteration": 39,
                        "passed_time": 0.01664471905,
                        "remaining_time": 0.02496707858,
                        "test": [
                          0.05848287082
                        ]
                      },
                      {
                        "learn": [
                          0.2068095252
                        ],
                        "iteration": 40,
                        "passed_time": 0.01690173341,
                        "remaining_time": 0.02432200662,
                        "test": [
                          0.0546506211
                        ]
                      },
                      {
                        "learn": [
                          0.202133468
                        ],
                        "iteration": 41,
                        "passed_time": 0.01715530515,
                        "remaining_time": 0.02369065949,
                        "test": [
                          0.05662800439
                        ]
                      },
                      {
                        "learn": [
                          0.1993127231
                        ],
                        "iteration": 42,
                        "passed_time": 0.01740588606,
                        "remaining_time": 0.02307291874,
                        "test": [
                          0.05662800439
                        ]
                      },
                      {
                        "learn": [
                          0.1943662395
                        ],
                        "iteration": 43,
                        "passed_time": 0.0176851016,
                        "remaining_time": 0.02250831113,
                        "test": [
                          0.05873747522
                        ]
                      },
                      {
                        "learn": [
                          0.1895447529
                        ],
                        "iteration": 44,
                        "passed_time": 0.01795106298,
                        "remaining_time": 0.02194018809,
                        "test": [
                          0.06079420928
                        ]
                      },
                      {
                        "learn": [
                          0.1848451491
                        ],
                        "iteration": 45,
                        "passed_time": 0.01822330236,
                        "remaining_time": 0.02139257233,
                        "test": [
                          0.06279952499
                        ]
                      },
                      {
                        "learn": [
                          0.1807774538
                        ],
                        "iteration": 46,
                        "passed_time": 0.01850997313,
                        "remaining_time": 0.02087294843,
                        "test": [
                          0.06475470781
                        ]
                      },
                      {
                        "learn": [
                          0.1784443022
                        ],
                        "iteration": 47,
                        "passed_time": 0.0188313729,
                        "remaining_time": 0.02040065398,
                        "test": [
                          0.06475470781
                        ]
                      },
                      {
                        "learn": [
                          0.1740274809
                        ],
                        "iteration": 48,
                        "passed_time": 0.01911815458,
                        "remaining_time": 0.01989848742,
                        "test": [
                          0.06681848882
                        ]
                      },
                      {
                        "learn": [
                          0.1702957445
                        ],
                        "iteration": 49,
                        "passed_time": 0.01938565319,
                        "remaining_time": 0.01938565319,
                        "test": [
                          0.06327018569
                        ]
                      },
                      {
                        "learn": [
                          0.1665239256
                        ],
                        "iteration": 50,
                        "passed_time": 0.01964886192,
                        "remaining_time": 0.01887831831,
                        "test": [
                          0.06523206751
                        ]
                      },
                      {
                        "learn": [
                          0.1630461567
                        ],
                        "iteration": 51,
                        "passed_time": 0.0199282729,
                        "remaining_time": 0.01839532883,
                        "test": [
                          0.06196195135
                        ]
                      },
                      {
                        "learn": [
                          0.1611712341
                        ],
                        "iteration": 52,
                        "passed_time": 0.02021586456,
                        "remaining_time": 0.01792727612,
                        "test": [
                          0.06196195135
                        ]
                      },
                      {
                        "learn": [
                          0.157187855
                        ],
                        "iteration": 53,
                        "passed_time": 0.02046357465,
                        "remaining_time": 0.01743193396,
                        "test": [
                          0.06396358358
                        ]
                      },
                      {
                        "learn": [
                          0.1554877963
                        ],
                        "iteration": 54,
                        "passed_time": 0.02074897546,
                        "remaining_time": 0.01697643447,
                        "test": [
                          0.06396358358
                        ]
                      },
                      {
                        "learn": [
                          0.1516482911
                        ],
                        "iteration": 55,
                        "passed_time": 0.02100476168,
                        "remaining_time": 0.01650374132,
                        "test": [
                          0.06604304976
                        ]
                      },
                      {
                        "learn": [
                          0.1479059809
                        ],
                        "iteration": 56,
                        "passed_time": 0.0212406003,
                        "remaining_time": 0.01602361075,
                        "test": [
                          0.06807052929
                        ]
                      },
                      {
                        "learn": [
                          0.1464044112
                        ],
                        "iteration": 57,
                        "passed_time": 0.02147853158,
                        "remaining_time": 0.01555341942,
                        "test": [
                          0.06807052929
                        ]
                      },
                      {
                        "learn": [
                          0.1427949118
                        ],
                        "iteration": 58,
                        "passed_time": 0.02174649653,
                        "remaining_time": 0.01511197217,
                        "test": [
                          0.07016402032
                        ]
                      },
                      {
                        "learn": [
                          0.141434955
                        ],
                        "iteration": 59,
                        "passed_time": 0.02198744954,
                        "remaining_time": 0.0146582997,
                        "test": [
                          0.07016402032
                        ]
                      },
                      {
                        "learn": [
                          0.1379513249
                        ],
                        "iteration": 60,
                        "passed_time": 0.02226594965,
                        "remaining_time": 0.01423560715,
                        "test": [
                          0.07231440387
                        ]
                      },
                      {
                        "learn": [
                          0.1345561192
                        ],
                        "iteration": 61,
                        "passed_time": 0.02252084135,
                        "remaining_time": 0.01380309631,
                        "test": [
                          0.07441102783
                        ]
                      },
                      {
                        "learn": [
                          0.1319158528
                        ],
                        "iteration": 62,
                        "passed_time": 0.02275852172,
                        "remaining_time": 0.01336611593,
                        "test": [
                          0.07212043954
                        ]
                      },
                      {
                        "learn": [
                          0.1291805197
                        ],
                        "iteration": 63,
                        "passed_time": 0.02303570005,
                        "remaining_time": 0.01295758128,
                        "test": [
                          0.07411354269
                        ]
                      },
                      {
                        "learn": [
                          0.1265403933
                        ],
                        "iteration": 64,
                        "passed_time": 0.0232810293,
                        "remaining_time": 0.01253593885,
                        "test": [
                          0.07605681826
                        ]
                      },
                      {
                        "learn": [
                          0.1239925829
                        ],
                        "iteration": 65,
                        "passed_time": 0.02351663428,
                        "remaining_time": 0.01211462978,
                        "test": [
                          0.07795151194
                        ]
                      },
                      {
                        "learn": [
                          0.1229726547
                        ],
                        "iteration": 66,
                        "passed_time": 0.02375714458,
                        "remaining_time": 0.01170128017,
                        "test": [
                          0.07795151194
                        ]
                      },
                      {
                        "learn": [
                          0.1199419971
                        ],
                        "iteration": 67,
                        "passed_time": 0.0240143753,
                        "remaining_time": 0.01130088249,
                        "test": [
                          0.0798889207
                        ]
                      },
                      {
                        "learn": [
                          0.1169883187
                        ],
                        "iteration": 68,
                        "passed_time": 0.02426880156,
                        "remaining_time": 0.01090337461,
                        "test": [
                          0.08177789424
                        ]
                      },
                      {
                        "learn": [
                          0.116088736
                        ],
                        "iteration": 69,
                        "passed_time": 0.02450391656,
                        "remaining_time": 0.01050167852,
                        "test": [
                          0.08177789424
                        ]
                      },
                      {
                        "learn": [
                          0.1152546361
                        ],
                        "iteration": 70,
                        "passed_time": 0.02477490506,
                        "remaining_time": 0.01011932742,
                        "test": [
                          0.08177789424
                        ]
                      },
                      {
                        "learn": [
                          0.1144816142
                        ],
                        "iteration": 71,
                        "passed_time": 0.02502039703,
                        "remaining_time": 0.0097301544,
                        "test": [
                          0.08177789424
                        ]
                      },
                      {
                        "learn": [
                          0.1137655138
                        ],
                        "iteration": 72,
                        "passed_time": 0.02525579657,
                        "remaining_time": 0.009341185031,
                        "test": [
                          0.08177789424
                        ]
                      },
                      {
                        "learn": [
                          0.1131024196
                        ],
                        "iteration": 73,
                        "passed_time": 0.03047535336,
                        "remaining_time": 0.01070755659,
                        "test": [
                          0.08177789424
                        ]
                      },
                      {
                        "learn": [
                          0.1103200849
                        ],
                        "iteration": 74,
                        "passed_time": 0.03089007951,
                        "remaining_time": 0.01029669317,
                        "test": [
                          0.08399909509
                        ]
                      },
                      {
                        "learn": [
                          0.1097213757
                        ],
                        "iteration": 75,
                        "passed_time": 0.03123098781,
                        "remaining_time": 0.009862417202,
                        "test": [
                          0.08399909509
                        ]
                      },
                      {
                        "learn": [
                          0.1070247244
                        ],
                        "iteration": 76,
                        "passed_time": 0.03154339693,
                        "remaining_time": 0.009422053627,
                        "test": [
                          0.08623012128
                        ]
                      },
                      {
                        "learn": [
                          0.1049973345
                        ],
                        "iteration": 77,
                        "passed_time": 0.03181463724,
                        "remaining_time": 0.008973359222,
                        "test": [
                          0.08840537182
                        ]
                      },
                      {
                        "learn": [
                          0.1024163587
                        ],
                        "iteration": 78,
                        "passed_time": 0.03457133092,
                        "remaining_time": 0.00918984746,
                        "test": [
                          0.09052624109
                        ]
                      },
                      {
                        "learn": [
                          0.09990134965
                        ],
                        "iteration": 79,
                        "passed_time": 0.03489297614,
                        "remaining_time": 0.008723244034,
                        "test": [
                          0.09259408863
                        ]
                      },
                      {
                        "learn": [
                          0.09803438991
                        ],
                        "iteration": 80,
                        "passed_time": 0.03515634395,
                        "remaining_time": 0.008246549816,
                        "test": [
                          0.09461023998
                        ]
                      },
                      {
                        "learn": [
                          0.09562662461
                        ],
                        "iteration": 81,
                        "passed_time": 0.03555638871,
                        "remaining_time": 0.007805060937,
                        "test": [
                          0.09657598755
                        ]
                      },
                      {
                        "learn": [
                          0.09516516208
                        ],
                        "iteration": 82,
                        "passed_time": 0.03631982566,
                        "remaining_time": 0.007439000437,
                        "test": [
                          0.09657598755
                        ]
                      },
                      {
                        "learn": [
                          0.09283027902
                        ],
                        "iteration": 83,
                        "passed_time": 0.0377191678,
                        "remaining_time": 0.007184603391,
                        "test": [
                          0.09854649037
                        ]
                      },
                      {
                        "learn": [
                          0.09055522449
                        ],
                        "iteration": 84,
                        "passed_time": 0.03802463349,
                        "remaining_time": 0.006710229439,
                        "test": [
                          0.1004677306
                        ]
                      },
                      {
                        "learn": [
                          0.08889353721
                        ],
                        "iteration": 85,
                        "passed_time": 0.03829640106,
                        "remaining_time": 0.006234297847,
                        "test": [
                          0.1023409398
                        ]
                      },
                      {
                        "learn": [
                          0.08671472694
                        ],
                        "iteration": 86,
                        "passed_time": 0.04005836541,
                        "remaining_time": 0.005985732762,
                        "test": [
                          0.1041673189
                        ]
                      },
                      {
                        "learn": [
                          0.0845918084
                        ],
                        "iteration": 87,
                        "passed_time": 0.04032975208,
                        "remaining_time": 0.005499511648,
                        "test": [
                          0.1059480384
                        ]
                      },
                      {
                        "learn": [
                          0.08252340045
                        ],
                        "iteration": 88,
                        "passed_time": 0.04057980392,
                        "remaining_time": 0.005015481384,
                        "test": [
                          0.1076842399
                        ]
                      },
                      {
                        "learn": [
                          0.08050815772
                        ],
                        "iteration": 89,
                        "passed_time": 0.04084806523,
                        "remaining_time": 0.004538673915,
                        "test": [
                          0.1093770364
                        ]
                      },
                      {
                        "learn": [
                          0.07854476968
                        ],
                        "iteration": 90,
                        "passed_time": 0.04173104326,
                        "remaining_time": 0.004127246037,
                        "test": [
                          0.111027513
                        ]
                      },
                      {
                        "learn": [
                          0.07820077113
                        ],
                        "iteration": 91,
                        "passed_time": 0.04345972039,
                        "remaining_time": 0.003779106121,
                        "test": [
                          0.111027513
                        ]
                      },
                      {
                        "learn": [
                          0.07788280127
                        ],
                        "iteration": 92,
                        "passed_time": 0.04375718449,
                        "remaining_time": 0.003293551521,
                        "test": [
                          0.111027513
                        ]
                      },
                      {
                        "learn": [
                          0.07648178859
                        ],
                        "iteration": 93,
                        "passed_time": 0.04401100349,
                        "remaining_time": 0.002809212989,
                        "test": [
                          0.1127195494
                        ]
                      },
                      {
                        "learn": [
                          0.07461664063
                        ],
                        "iteration": 94,
                        "passed_time": 0.04428543644,
                        "remaining_time": 0.002330812444,
                        "test": [
                          0.114369285
                        ]
                      },
                      {
                        "learn": [
                          0.07434197767
                        ],
                        "iteration": 95,
                        "passed_time": 0.04453620826,
                        "remaining_time": 0.001855675344,
                        "test": [
                          0.114369285
                        ]
                      },
                      {
                        "learn": [
                          0.07408824427
                        ],
                        "iteration": 96,
                        "passed_time": 0.04699537421,
                        "remaining_time": 0.001453465182,
                        "test": [
                          0.114369285
                        ]
                      },
                      {
                        "learn": [
                          0.0738539011
                        ],
                        "iteration": 97,
                        "passed_time": 0.04727041987,
                        "remaining_time": 0.0009647024462,
                        "test": [
                          0.114369285
                        ]
                      },
                      {
                        "learn": [
                          0.0725656496
                        ],
                        "iteration": 98,
                        "passed_time": 0.04752651426,
                        "remaining_time": 0.0004800658006,
                        "test": [
                          0.1160844548
                        ]
                      },
                      {
                        "learn": [
                          0.07235844742
                        ],
                        "iteration": 99,
                        "passed_time": 0.04778266592,
                        "remaining_time": 0,
                        "test": [
                          0.1160844548
                        ]
                      }
                    ],
                    "meta": {
                      "test_sets": [
                        "test"
                      ],
                      "test_metrics": [
                        {
                          "best_value": "Min",
                          "name": "RMSE"
                        }
                      ],
                      "learn_metrics": [
                        {
                          "best_value": "Min",
                          "name": "RMSE"
                        }
                      ],
                      "launch_mode": "Train",
                      "parameters": "",
                      "iteration_count": 100,
                      "learn_sets": [
                        "learn"
                      ],
                      "name": "experiment"
                    }
                  }
                }
              },
              "catboost_info/fold-4": {
                "path": "catboost_info/fold-4",
                "name": "fold-4",
                "content": {
                  "passed_iterations": 99,
                  "total_iterations": 100,
                  "data": {
                    "iterations": [
                      {
                        "learn": [
                          0.9437453579
                        ],
                        "iteration": 0,
                        "passed_time": 0.0004516250828,
                        "remaining_time": 0.04471088319,
                        "test": [
                          0.8449999741
                        ]
                      },
                      {
                        "learn": [
                          0.9035602484
                        ],
                        "iteration": 1,
                        "passed_time": 0.0009109972136,
                        "remaining_time": 0.04463886347,
                        "test": [
                          0.7966999735
                        ]
                      },
                      {
                        "learn": [
                          0.8481953781
                        ],
                        "iteration": 2,
                        "passed_time": 0.001071788914,
                        "remaining_time": 0.03465450821,
                        "test": [
                          0.7373904721
                        ]
                      },
                      {
                        "learn": [
                          0.8010621074
                        ],
                        "iteration": 3,
                        "passed_time": 0.001349868121,
                        "remaining_time": 0.0323968349,
                        "test": [
                          0.6791404398
                        ]
                      },
                      {
                        "learn": [
                          0.7733600955
                        ],
                        "iteration": 4,
                        "passed_time": 0.001613052306,
                        "remaining_time": 0.03064799381,
                        "test": [
                          0.6375144873
                        ]
                      },
                      {
                        "learn": [
                          0.7412070085
                        ],
                        "iteration": 5,
                        "passed_time": 0.005040767433,
                        "remaining_time": 0.07897202311,
                        "test": [
                          0.5975535729
                        ]
                      },
                      {
                        "learn": [
                          0.6971010326
                        ],
                        "iteration": 6,
                        "passed_time": 0.00523516634,
                        "remaining_time": 0.06955292423,
                        "test": [
                          0.5495862986
                        ]
                      },
                      {
                        "learn": [
                          0.6595062936
                        ],
                        "iteration": 7,
                        "passed_time": 0.006931761677,
                        "remaining_time": 0.07971525928,
                        "test": [
                          0.5023874825
                        ]
                      },
                      {
                        "learn": [
                          0.6213943174
                        ],
                        "iteration": 8,
                        "passed_time": 0.007139515651,
                        "remaining_time": 0.07218843603,
                        "test": [
                          0.4603091211
                        ]
                      },
                      {
                        "learn": [
                          0.5864371315
                        ],
                        "iteration": 9,
                        "passed_time": 0.007270828206,
                        "remaining_time": 0.06543745385,
                        "test": [
                          0.421176245
                        ]
                      },
                      {
                        "learn": [
                          0.5615195518
                        ],
                        "iteration": 10,
                        "passed_time": 0.0085921717,
                        "remaining_time": 0.06951848012,
                        "test": [
                          0.3898688604
                        ]
                      },
                      {
                        "learn": [
                          0.5396183426
                        ],
                        "iteration": 11,
                        "passed_time": 0.009083734715,
                        "remaining_time": 0.06661405458,
                        "test": [
                          0.3598137713
                        ]
                      },
                      {
                        "learn": [
                          0.5112846239
                        ],
                        "iteration": 12,
                        "passed_time": 0.00945845021,
                        "remaining_time": 0.0632988591,
                        "test": [
                          0.3219526744
                        ]
                      },
                      {
                        "learn": [
                          0.4844924642
                        ],
                        "iteration": 13,
                        "passed_time": 0.009711120154,
                        "remaining_time": 0.05965402381,
                        "test": [
                          0.2908458774
                        ]
                      },
                      {
                        "learn": [
                          0.4600633268
                        ],
                        "iteration": 14,
                        "passed_time": 0.009993503782,
                        "remaining_time": 0.05662985477,
                        "test": [
                          0.2619165562
                        ]
                      },
                      {
                        "learn": [
                          0.4424277783
                        ],
                        "iteration": 15,
                        "passed_time": 0.01141643251,
                        "remaining_time": 0.05993627068,
                        "test": [
                          0.2369795592
                        ]
                      },
                      {
                        "learn": [
                          0.4216745037
                        ],
                        "iteration": 16,
                        "passed_time": 0.0115848449,
                        "remaining_time": 0.05656130157,
                        "test": [
                          0.2114762662
                        ]
                      },
                      {
                        "learn": [
                          0.4016885964
                        ],
                        "iteration": 17,
                        "passed_time": 0.01186127597,
                        "remaining_time": 0.05403470165,
                        "test": [
                          0.1844145638
                        ]
                      },
                      {
                        "learn": [
                          0.3875693035
                        ],
                        "iteration": 18,
                        "passed_time": 0.01208540311,
                        "remaining_time": 0.05152198167,
                        "test": [
                          0.1625776466
                        ]
                      },
                      {
                        "learn": [
                          0.3713405918
                        ],
                        "iteration": 19,
                        "passed_time": 0.01221427483,
                        "remaining_time": 0.0488570993,
                        "test": [
                          0.1414423913
                        ]
                      },
                      {
                        "learn": [
                          0.3533344311
                        ],
                        "iteration": 20,
                        "passed_time": 0.0124297513,
                        "remaining_time": 0.04675954061,
                        "test": [
                          0.1156446738
                        ]
                      },
                      {
                        "learn": [
                          0.3429646712
                        ],
                        "iteration": 21,
                        "passed_time": 0.0129239597,
                        "remaining_time": 0.04582131165,
                        "test": [
                          0.09655855224
                        ]
                      },
                      {
                        "learn": [
                          0.3322138301
                        ],
                        "iteration": 22,
                        "passed_time": 0.01313471176,
                        "remaining_time": 0.04397273069,
                        "test": [
                          0.07823587556
                        ]
                      },
                      {
                        "learn": [
                          0.3242740803
                        ],
                        "iteration": 23,
                        "passed_time": 0.01342776963,
                        "remaining_time": 0.04252127049,
                        "test": [
                          0.06127997783
                        ]
                      },
                      {
                        "learn": [
                          0.3135325284
                        ],
                        "iteration": 24,
                        "passed_time": 0.01369786361,
                        "remaining_time": 0.04109359084,
                        "test": [
                          0.04412995248
                        ]
                      },
                      {
                        "learn": [
                          0.2991058417
                        ],
                        "iteration": 25,
                        "passed_time": 0.01396122325,
                        "remaining_time": 0.03973578924,
                        "test": [
                          0.02284567496
                        ]
                      },
                      {
                        "learn": [
                          0.2911748693
                        ],
                        "iteration": 26,
                        "passed_time": 0.01428008309,
                        "remaining_time": 0.03860911354,
                        "test": [
                          0.00723302175
                        ]
                      },
                      {
                        "learn": [
                          0.2782625978
                        ],
                        "iteration": 27,
                        "passed_time": 0.01448126907,
                        "remaining_time": 0.03723754904,
                        "test": [
                          0.01219458388
                        ]
                      },
                      {
                        "learn": [
                          0.2662581043
                        ],
                        "iteration": 28,
                        "passed_time": 0.01468629949,
                        "remaining_time": 0.03595611254,
                        "test": [
                          0.0305120406
                        ]
                      },
                      {
                        "learn": [
                          0.2565716586
                        ],
                        "iteration": 29,
                        "passed_time": 0.01497696015,
                        "remaining_time": 0.03494624035,
                        "test": [
                          0.04885646593
                        ]
                      },
                      {
                        "learn": [
                          0.2498286744
                        ],
                        "iteration": 30,
                        "passed_time": 0.01525584479,
                        "remaining_time": 0.03395655775,
                        "test": [
                          0.06191570736
                        ]
                      },
                      {
                        "learn": [
                          0.2437615115
                        ],
                        "iteration": 31,
                        "passed_time": 0.01565540502,
                        "remaining_time": 0.03326773566,
                        "test": [
                          0.07445257912
                        ]
                      },
                      {
                        "learn": [
                          0.2336224632
                        ],
                        "iteration": 32,
                        "passed_time": 0.01593485328,
                        "remaining_time": 0.03235258089,
                        "test": [
                          0.09135425459
                        ]
                      },
                      {
                        "learn": [
                          0.2267119127
                        ],
                        "iteration": 33,
                        "passed_time": 0.01612528412,
                        "remaining_time": 0.03130202211,
                        "test": [
                          0.1037006927
                        ]
                      },
                      {
                        "learn": [
                          0.2215105795
                        ],
                        "iteration": 34,
                        "passed_time": 0.01636987248,
                        "remaining_time": 0.03040119174,
                        "test": [
                          0.1161081762
                        ]
                      },
                      {
                        "learn": [
                          0.2166065619
                        ],
                        "iteration": 35,
                        "passed_time": 0.01664853985,
                        "remaining_time": 0.02959740418,
                        "test": [
                          0.1282054725
                        ]
                      },
                      {
                        "learn": [
                          0.2077495519
                        ],
                        "iteration": 36,
                        "passed_time": 0.01691994198,
                        "remaining_time": 0.02880963093,
                        "test": [
                          0.1431103099
                        ]
                      },
                      {
                        "learn": [
                          0.2020270517
                        ],
                        "iteration": 37,
                        "passed_time": 0.01716400308,
                        "remaining_time": 0.02800442608,
                        "test": [
                          0.1533968612
                        ]
                      },
                      {
                        "learn": [
                          0.1948991199
                        ],
                        "iteration": 38,
                        "passed_time": 0.0174475694,
                        "remaining_time": 0.02728978804,
                        "test": [
                          0.1673866364
                        ]
                      },
                      {
                        "learn": [
                          0.1901898691
                        ],
                        "iteration": 39,
                        "passed_time": 0.01771044087,
                        "remaining_time": 0.0265656613,
                        "test": [
                          0.1769783612
                        ]
                      },
                      {
                        "learn": [
                          0.1833619477
                        ],
                        "iteration": 40,
                        "passed_time": 0.01795295838,
                        "remaining_time": 0.02583474498,
                        "test": [
                          0.190097263
                        ]
                      },
                      {
                        "learn": [
                          0.1761111591
                        ],
                        "iteration": 41,
                        "passed_time": 0.01821483078,
                        "remaining_time": 0.02515381394,
                        "test": [
                          0.2025236737
                        ]
                      },
                      {
                        "learn": [
                          0.1692978879
                        ],
                        "iteration": 42,
                        "passed_time": 0.01888863942,
                        "remaining_time": 0.025038429,
                        "test": [
                          0.2143287639
                        ]
                      },
                      {
                        "learn": [
                          0.1657182963
                        ],
                        "iteration": 43,
                        "passed_time": 0.01917296754,
                        "remaining_time": 0.02440195869,
                        "test": [
                          0.2227351301
                        ]
                      },
                      {
                        "learn": [
                          0.159455697
                        ],
                        "iteration": 44,
                        "passed_time": 0.01943487631,
                        "remaining_time": 0.02375373771,
                        "test": [
                          0.2337180524
                        ]
                      },
                      {
                        "learn": [
                          0.1538963446
                        ],
                        "iteration": 45,
                        "passed_time": 0.01968149188,
                        "remaining_time": 0.02310436003,
                        "test": [
                          0.2446711481
                        ]
                      },
                      {
                        "learn": [
                          0.1500806302
                        ],
                        "iteration": 46,
                        "passed_time": 0.01995658936,
                        "remaining_time": 0.02250423906,
                        "test": [
                          0.2535543701
                        ]
                      },
                      {
                        "learn": [
                          0.1470220757
                        ],
                        "iteration": 47,
                        "passed_time": 0.02020865114,
                        "remaining_time": 0.0218927054,
                        "test": [
                          0.2609697116
                        ]
                      },
                      {
                        "learn": [
                          0.1430967899
                        ],
                        "iteration": 48,
                        "passed_time": 0.02045181772,
                        "remaining_time": 0.02128658579,
                        "test": [
                          0.2694454695
                        ]
                      },
                      {
                        "learn": [
                          0.1402972243
                        ],
                        "iteration": 49,
                        "passed_time": 0.02076325323,
                        "remaining_time": 0.02076325323,
                        "test": [
                          0.2763862292
                        ]
                      },
                      {
                        "learn": [
                          0.1353324404
                        ],
                        "iteration": 50,
                        "passed_time": 0.02102596743,
                        "remaining_time": 0.02020141969,
                        "test": [
                          0.2859859569
                        ]
                      },
                      {
                        "learn": [
                          0.1327768371
                        ],
                        "iteration": 51,
                        "passed_time": 0.0212711185,
                        "remaining_time": 0.01963487862,
                        "test": [
                          0.2924689815
                        ]
                      },
                      {
                        "learn": [
                          0.1292606274
                        ],
                        "iteration": 52,
                        "passed_time": 0.0215378844,
                        "remaining_time": 0.01909963334,
                        "test": [
                          0.3001572577
                        ]
                      },
                      {
                        "learn": [
                          0.1260797717
                        ],
                        "iteration": 53,
                        "passed_time": 0.0217949824,
                        "remaining_time": 0.01856609612,
                        "test": [
                          0.307653327
                        ]
                      },
                      {
                        "learn": [
                          0.1227606768
                        ],
                        "iteration": 54,
                        "passed_time": 0.0220378599,
                        "remaining_time": 0.01803097628,
                        "test": [
                          0.3149619945
                        ]
                      },
                      {
                        "learn": [
                          0.120549638
                        ],
                        "iteration": 55,
                        "passed_time": 0.02229461518,
                        "remaining_time": 0.01751719764,
                        "test": [
                          0.3207304926
                        ]
                      },
                      {
                        "learn": [
                          0.1173967244
                        ],
                        "iteration": 56,
                        "passed_time": 0.02256723273,
                        "remaining_time": 0.01702440364,
                        "test": [
                          0.3277122309
                        ]
                      },
                      {
                        "learn": [
                          0.1143428716
                        ],
                        "iteration": 57,
                        "passed_time": 0.02296699386,
                        "remaining_time": 0.01663127142,
                        "test": [
                          0.3345194259
                        ]
                      },
                      {
                        "learn": [
                          0.1123811984
                        ],
                        "iteration": 58,
                        "passed_time": 0.02357589256,
                        "remaining_time": 0.01638324737,
                        "test": [
                          0.3397837572
                        ]
                      },
                      {
                        "learn": [
                          0.1097174759
                        ],
                        "iteration": 59,
                        "passed_time": 0.02387134036,
                        "remaining_time": 0.0159142269,
                        "test": [
                          0.3462891639
                        ]
                      },
                      {
                        "learn": [
                          0.1071813252
                        ],
                        "iteration": 60,
                        "passed_time": 0.02425056754,
                        "remaining_time": 0.01550446121,
                        "test": [
                          0.3526319355
                        ]
                      },
                      {
                        "learn": [
                          0.1042278291
                        ],
                        "iteration": 61,
                        "passed_time": 0.02452459777,
                        "remaining_time": 0.01503120509,
                        "test": [
                          0.3588161378
                        ]
                      },
                      {
                        "learn": [
                          0.1025732271
                        ],
                        "iteration": 62,
                        "passed_time": 0.02478710743,
                        "remaining_time": 0.01455750754,
                        "test": [
                          0.3634527828
                        ]
                      },
                      {
                        "learn": [
                          0.09994274657
                        ],
                        "iteration": 63,
                        "passed_time": 0.02506896835,
                        "remaining_time": 0.0141012947,
                        "test": [
                          0.3693664639
                        ]
                      },
                      {
                        "learn": [
                          0.09722173679
                        ],
                        "iteration": 64,
                        "passed_time": 0.02535228104,
                        "remaining_time": 0.01365122825,
                        "test": [
                          0.375132303
                        ]
                      },
                      {
                        "learn": [
                          0.09526307768
                        ],
                        "iteration": 65,
                        "passed_time": 0.02578286401,
                        "remaining_time": 0.01328208146,
                        "test": [
                          0.3807539961
                        ]
                      },
                      {
                        "learn": [
                          0.09385525643
                        ],
                        "iteration": 66,
                        "passed_time": 0.0275955787,
                        "remaining_time": 0.0135918522,
                        "test": [
                          0.3848548174
                        ]
                      },
                      {
                        "learn": [
                          0.09147174206
                        ],
                        "iteration": 67,
                        "passed_time": 0.02794605399,
                        "remaining_time": 0.01315108423,
                        "test": [
                          0.3902334476
                        ]
                      },
                      {
                        "learn": [
                          0.09019119526
                        ],
                        "iteration": 68,
                        "passed_time": 0.02821226536,
                        "remaining_time": 0.01267507574,
                        "test": [
                          0.3940718164
                        ]
                      },
                      {
                        "learn": [
                          0.08791842079
                        ],
                        "iteration": 69,
                        "passed_time": 0.02854960558,
                        "remaining_time": 0.01223554525,
                        "test": [
                          0.3992200216
                        ]
                      },
                      {
                        "learn": [
                          0.08571725823
                        ],
                        "iteration": 70,
                        "passed_time": 0.02891292413,
                        "remaining_time": 0.01180950422,
                        "test": [
                          0.4042395218
                        ]
                      },
                      {
                        "learn": [
                          0.08358546272
                        ],
                        "iteration": 71,
                        "passed_time": 0.02921236181,
                        "remaining_time": 0.01136036293,
                        "test": [
                          0.4091335344
                        ]
                      },
                      {
                        "learn": [
                          0.08135860286
                        ],
                        "iteration": 72,
                        "passed_time": 0.0294960354,
                        "remaining_time": 0.01090949254,
                        "test": [
                          0.4139051967
                        ]
                      },
                      {
                        "learn": [
                          0.0802872913
                        ],
                        "iteration": 73,
                        "passed_time": 0.02977405461,
                        "remaining_time": 0.01046115432,
                        "test": [
                          0.4172351365
                        ]
                      },
                      {
                        "learn": [
                          0.07831483136
                        ],
                        "iteration": 74,
                        "passed_time": 0.03006660703,
                        "remaining_time": 0.01002220234,
                        "test": [
                          0.4218042588
                        ]
                      },
                      {
                        "learn": [
                          0.07734161555
                        ],
                        "iteration": 75,
                        "passed_time": 0.03031997423,
                        "remaining_time": 0.009574728704,
                        "test": [
                          0.4249210825
                        ]
                      },
                      {
                        "learn": [
                          0.07545768557
                        ],
                        "iteration": 76,
                        "passed_time": 0.03058128483,
                        "remaining_time": 0.009134669495,
                        "test": [
                          0.4292980561
                        ]
                      },
                      {
                        "learn": [
                          0.07457418397
                        ],
                        "iteration": 77,
                        "passed_time": 0.03118451188,
                        "remaining_time": 0.008795631556,
                        "test": [
                          0.432215403
                        ]
                      },
                      {
                        "learn": [
                          0.07277355526
                        ],
                        "iteration": 78,
                        "passed_time": 0.03169586523,
                        "remaining_time": 0.008425483163,
                        "test": [
                          0.4364100186
                        ]
                      },
                      {
                        "learn": [
                          0.071220376
                        ],
                        "iteration": 79,
                        "passed_time": 0.03254156343,
                        "remaining_time": 0.008135390857,
                        "test": [
                          0.4404997688
                        ]
                      },
                      {
                        "learn": [
                          0.0693720444
                        ],
                        "iteration": 80,
                        "passed_time": 0.03284912905,
                        "remaining_time": 0.00770535126,
                        "test": [
                          0.4444872752
                        ]
                      },
                      {
                        "learn": [
                          0.06861772815
                        ],
                        "iteration": 81,
                        "passed_time": 0.03313448714,
                        "remaining_time": 0.007273424007,
                        "test": [
                          0.4470830868
                        ]
                      },
                      {
                        "learn": [
                          0.06719414869
                        ],
                        "iteration": 82,
                        "passed_time": 0.03341749075,
                        "remaining_time": 0.006844546298,
                        "test": [
                          0.4509060103
                        ]
                      },
                      {
                        "learn": [
                          0.06483855449
                        ],
                        "iteration": 83,
                        "passed_time": 0.03369197097,
                        "remaining_time": 0.00641751828,
                        "test": [
                          0.4554339189
                        ]
                      },
                      {
                        "learn": [
                          0.0641863089
                        ],
                        "iteration": 84,
                        "passed_time": 0.03400103655,
                        "remaining_time": 0.006000182921,
                        "test": [
                          0.4577868454
                        ]
                      },
                      {
                        "learn": [
                          0.06195632673
                        ],
                        "iteration": 85,
                        "passed_time": 0.03496318683,
                        "remaining_time": 0.005691681577,
                        "test": [
                          0.4620729759
                        ]
                      },
                      {
                        "learn": [
                          0.06068900375
                        ],
                        "iteration": 86,
                        "passed_time": 0.03524162784,
                        "remaining_time": 0.005265990367,
                        "test": [
                          0.4655211522
                        ]
                      },
                      {
                        "learn": [
                          0.05946549072
                        ],
                        "iteration": 87,
                        "passed_time": 0.03549112606,
                        "remaining_time": 0.004839699008,
                        "test": [
                          0.468883124
                        ]
                      },
                      {
                        "learn": [
                          0.05740729618
                        ],
                        "iteration": 88,
                        "passed_time": 0.03576252274,
                        "remaining_time": 0.00442008708,
                        "test": [
                          0.4728309346
                        ]
                      },
                      {
                        "learn": [
                          0.05543699827
                        ],
                        "iteration": 89,
                        "passed_time": 0.03602155613,
                        "remaining_time": 0.004002395126,
                        "test": [
                          0.4766208328
                        ]
                      },
                      {
                        "learn": [
                          0.05412777767
                        ],
                        "iteration": 90,
                        "passed_time": 0.03626828443,
                        "remaining_time": 0.003586973185,
                        "test": [
                          0.4797053126
                        ]
                      },
                      {
                        "learn": [
                          0.05285895671
                        ],
                        "iteration": 91,
                        "passed_time": 0.03755238446,
                        "remaining_time": 0.003265424735,
                        "test": [
                          0.4827126804
                        ]
                      },
                      {
                        "learn": [
                          0.05105839378
                        ],
                        "iteration": 92,
                        "passed_time": 0.03791006954,
                        "remaining_time": 0.002853446094,
                        "test": [
                          0.4861809325
                        ]
                      },
                      {
                        "learn": [
                          0.0505962479
                        ],
                        "iteration": 93,
                        "passed_time": 0.03815937867,
                        "remaining_time": 0.002435705022,
                        "test": [
                          0.4879792022
                        ]
                      },
                      {
                        "learn": [
                          0.05016656401
                        ],
                        "iteration": 94,
                        "passed_time": 0.03843594156,
                        "remaining_time": 0.002022944293,
                        "test": [
                          0.489705541
                        ]
                      },
                      {
                        "learn": [
                          0.04918861949
                        ],
                        "iteration": 95,
                        "passed_time": 0.03868857423,
                        "remaining_time": 0.001612023926,
                        "test": [
                          0.4924629031
                        ]
                      },
                      {
                        "learn": [
                          0.0480481049
                        ],
                        "iteration": 96,
                        "passed_time": 0.03893233716,
                        "remaining_time": 0.001204092902,
                        "test": [
                          0.4951513312
                        ]
                      },
                      {
                        "learn": [
                          0.04767132016
                        ],
                        "iteration": 97,
                        "passed_time": 0.03930819626,
                        "remaining_time": 0.0008022080869,
                        "test": [
                          0.496726788
                        ]
                      },
                      {
                        "learn": [
                          0.04732141718
                        ],
                        "iteration": 98,
                        "passed_time": 0.03957380128,
                        "remaining_time": 0.0003997353665,
                        "test": [
                          0.4982392266
                        ]
                      },
                      {
                        "learn": [
                          0.04699663819
                        ],
                        "iteration": 99,
                        "passed_time": 0.03982299133,
                        "remaining_time": 0,
                        "test": [
                          0.4996911676
                        ]
                      }
                    ],
                    "meta": {
                      "test_sets": [
                        "test"
                      ],
                      "test_metrics": [
                        {
                          "best_value": "Min",
                          "name": "RMSE"
                        }
                      ],
                      "learn_metrics": [
                        {
                          "best_value": "Min",
                          "name": "RMSE"
                        }
                      ],
                      "launch_mode": "Train",
                      "parameters": "",
                      "iteration_count": 100,
                      "learn_sets": [
                        "learn"
                      ],
                      "name": "experiment"
                    }
                  }
                }
              }
            },
            "layout": "IPY_MODEL_1053e7d98fcd484da0d79d4ecbc26113"
          }
        }
      }
    }
  },
  "cells": [
    {
      "cell_type": "markdown",
      "metadata": {
        "id": "view-in-github",
        "colab_type": "text"
      },
      "source": [
        "<a href=\"https://colab.research.google.com/github/CodeHunterOfficial/A_PythonLibraries/blob/main/NV/CatBoost.ipynb\" target=\"_parent\"><img src=\"https://colab.research.google.com/assets/colab-badge.svg\" alt=\"Open In Colab\"/></a>"
      ]
    },
    {
      "cell_type": "markdown",
      "source": [
        "# Библиотека CatBoost для задач классификации\n",
        "## Введение\n",
        "CatBoost (Categorical Boosting) — это библиотека для градиентного бустинга, разработанная Яндексом. Она предназначена для работы с категориальными данными и обеспечивает высокую производительность при обработке больших наборов данных. В этой лекции мы подробно рассмотрим, как использовать CatBoost для решения задач классификации и регрессии, включая теоретические основы, функции потерь, метрики оценки, примеры использования и лучшие практики.\n",
        "\n",
        "## 1. Основные понятия\n",
        "### 1.1. Градиентный бустинг\n",
        "Градиентный бустинг — это метод ансамблевого обучения, который строит модель, последовательно обучая слабые модели (обычно деревья решений) и корректируя ошибки предыдущих. Каждое новое дерево обучается на градиенте функции потерь от предсказаний предыдущих деревьев.\n",
        "Формально, предсказание $F(x)$ для объекта $x$ можно выразить как:\n",
        "\n",
        "$$\n",
        "F(x) = F_{m-1}(x) + \\nu \\cdot h_m(x)\n",
        "$$\n",
        "\n",
        "где:\n",
        "- $F_{m-1}(x)$ — предсказание предыдущей модели,\n",
        "- $\\nu$ — скорость обучения,\n",
        "- $h_m(x)$ — m-ое дерево решений.\n",
        "\n",
        "### 1.2. Потери для задач классификации\n",
        "\n",
        "Для задач классификации используются различные функции потерь в зависимости от типа задачи:\n",
        "\n",
        "- **Бинарная классификация:** логистическая регрессия. Функция потерь:\n",
        "\n",
        "$$\n",
        "L(y, F(x)) = - \\left( y \\log(\\sigma(F(x))) + (1 - y) \\log(1 - \\sigma(F(x))) \\right)\n",
        "$$\n",
        "\n",
        "где $\\sigma$ — логистическая функция.\n",
        "\n",
        "- **Мультиклассовая классификация:** кросс-энтропия. Функция потерь:\n",
        "\n",
        "$$\n",
        "L(y, F(x)) = - \\sum_{c=1}^{C} y_c \\log(\\sigma(F_c(x)))\n",
        "$$\n",
        "\n",
        "где:\n",
        "- $C$ — количество классов,\n",
        "- $y_c$ — бинарный индикатор (1 или 0) для класса $c$,\n",
        "- $\\sigma(F_c(x))$ — вероятность того, что объект принадлежит классу $c$.\n",
        "\n",
        "## 2. Установка и подготовка к работе с CatBoost\n",
        "\n",
        "Для начала необходимо установить библиотеку. Это можно сделать с помощью pip:"
      ],
      "metadata": {
        "id": "PiqdQwJJbNwi"
      }
    },
    {
      "cell_type": "code",
      "execution_count": null,
      "metadata": {
        "colab": {
          "base_uri": "https://localhost:8080/"
        },
        "id": "gmoAoOIn2PmP",
        "outputId": "74f05c6b-8984-4be8-b302-c9ad5c81260b",
        "collapsed": true
      },
      "outputs": [
        {
          "output_type": "stream",
          "name": "stdout",
          "text": [
            "Collecting catboost\n",
            "  Downloading catboost-1.2.7-cp310-cp310-manylinux2014_x86_64.whl.metadata (1.2 kB)\n",
            "Requirement already satisfied: graphviz in /usr/local/lib/python3.10/dist-packages (from catboost) (0.20.3)\n",
            "Requirement already satisfied: matplotlib in /usr/local/lib/python3.10/dist-packages (from catboost) (3.8.0)\n",
            "Requirement already satisfied: numpy<2.0,>=1.16.0 in /usr/local/lib/python3.10/dist-packages (from catboost) (1.26.4)\n",
            "Requirement already satisfied: pandas>=0.24 in /usr/local/lib/python3.10/dist-packages (from catboost) (2.2.2)\n",
            "Requirement already satisfied: scipy in /usr/local/lib/python3.10/dist-packages (from catboost) (1.13.1)\n",
            "Requirement already satisfied: plotly in /usr/local/lib/python3.10/dist-packages (from catboost) (5.24.1)\n",
            "Requirement already satisfied: six in /usr/local/lib/python3.10/dist-packages (from catboost) (1.17.0)\n",
            "Requirement already satisfied: python-dateutil>=2.8.2 in /usr/local/lib/python3.10/dist-packages (from pandas>=0.24->catboost) (2.8.2)\n",
            "Requirement already satisfied: pytz>=2020.1 in /usr/local/lib/python3.10/dist-packages (from pandas>=0.24->catboost) (2024.2)\n",
            "Requirement already satisfied: tzdata>=2022.7 in /usr/local/lib/python3.10/dist-packages (from pandas>=0.24->catboost) (2024.2)\n",
            "Requirement already satisfied: contourpy>=1.0.1 in /usr/local/lib/python3.10/dist-packages (from matplotlib->catboost) (1.3.1)\n",
            "Requirement already satisfied: cycler>=0.10 in /usr/local/lib/python3.10/dist-packages (from matplotlib->catboost) (0.12.1)\n",
            "Requirement already satisfied: fonttools>=4.22.0 in /usr/local/lib/python3.10/dist-packages (from matplotlib->catboost) (4.55.3)\n",
            "Requirement already satisfied: kiwisolver>=1.0.1 in /usr/local/lib/python3.10/dist-packages (from matplotlib->catboost) (1.4.7)\n",
            "Requirement already satisfied: packaging>=20.0 in /usr/local/lib/python3.10/dist-packages (from matplotlib->catboost) (24.2)\n",
            "Requirement already satisfied: pillow>=6.2.0 in /usr/local/lib/python3.10/dist-packages (from matplotlib->catboost) (11.0.0)\n",
            "Requirement already satisfied: pyparsing>=2.3.1 in /usr/local/lib/python3.10/dist-packages (from matplotlib->catboost) (3.2.0)\n",
            "Requirement already satisfied: tenacity>=6.2.0 in /usr/local/lib/python3.10/dist-packages (from plotly->catboost) (9.0.0)\n",
            "Downloading catboost-1.2.7-cp310-cp310-manylinux2014_x86_64.whl (98.7 MB)\n",
            "\u001b[2K   \u001b[90m━━━━━━━━━━━━━━━━━━━━━━━━━━━━━━━━━━━━━━━━\u001b[0m \u001b[32m98.7/98.7 MB\u001b[0m \u001b[31m6.8 MB/s\u001b[0m eta \u001b[36m0:00:00\u001b[0m\n",
            "\u001b[?25hInstalling collected packages: catboost\n",
            "Successfully installed catboost-1.2.7\n"
          ]
        }
      ],
      "source": [
        "# установка библиотеки\n",
        "!pip install catboost"
      ]
    },
    {
      "cell_type": "markdown",
      "source": [
        "Импортируем необходимые библиотеки:"
      ],
      "metadata": {
        "id": "QeXcRZMJe988"
      }
    },
    {
      "cell_type": "code",
      "source": [
        "# импорт пакетов и дополнительных библиотек\n",
        "import pandas as pd\n",
        "from catboost import CatBoostClassifier, Pool\n",
        "from sklearn.model_selection import train_test_split\n",
        "from sklearn.metrics import accuracy_score, classification_report\n",
        "import matplotlib.pyplot as plt"
      ],
      "metadata": {
        "id": "Cm8YnibV3lo3"
      },
      "execution_count": null,
      "outputs": []
    },
    {
      "cell_type": "markdown",
      "source": [
        "## 3. Пример 1: Бинарная классификация\n",
        "\n",
        "### 3.1. Подготовка данных\n",
        "\n",
        "Рассмотрим набор данных \"Titanic\", в котором мы будем предсказывать выживание пассажиров."
      ],
      "metadata": {
        "id": "nyZnt9fefE6c"
      }
    },
    {
      "cell_type": "code",
      "source": [
        "# импорт файла с данными\n",
        "from google.colab import files\n",
        "uploaded = files.upload()"
      ],
      "metadata": {
        "colab": {
          "base_uri": "https://localhost:8080/",
          "height": 72
        },
        "id": "1c4Qv1n18T5g",
        "outputId": "a75e604b-d0b8-4641-fa1c-e064f3859098"
      },
      "execution_count": null,
      "outputs": [
        {
          "output_type": "display_data",
          "data": {
            "text/plain": [
              "<IPython.core.display.HTML object>"
            ],
            "text/html": [
              "\n",
              "     <input type=\"file\" id=\"files-e81e1049-e7b4-4009-8df6-a840d1c84f88\" name=\"files[]\" multiple disabled\n",
              "        style=\"border:none\" />\n",
              "     <output id=\"result-e81e1049-e7b4-4009-8df6-a840d1c84f88\">\n",
              "      Upload widget is only available when the cell has been executed in the\n",
              "      current browser session. Please rerun this cell to enable.\n",
              "      </output>\n",
              "      <script>// Copyright 2017 Google LLC\n",
              "//\n",
              "// Licensed under the Apache License, Version 2.0 (the \"License\");\n",
              "// you may not use this file except in compliance with the License.\n",
              "// You may obtain a copy of the License at\n",
              "//\n",
              "//      http://www.apache.org/licenses/LICENSE-2.0\n",
              "//\n",
              "// Unless required by applicable law or agreed to in writing, software\n",
              "// distributed under the License is distributed on an \"AS IS\" BASIS,\n",
              "// WITHOUT WARRANTIES OR CONDITIONS OF ANY KIND, either express or implied.\n",
              "// See the License for the specific language governing permissions and\n",
              "// limitations under the License.\n",
              "\n",
              "/**\n",
              " * @fileoverview Helpers for google.colab Python module.\n",
              " */\n",
              "(function(scope) {\n",
              "function span(text, styleAttributes = {}) {\n",
              "  const element = document.createElement('span');\n",
              "  element.textContent = text;\n",
              "  for (const key of Object.keys(styleAttributes)) {\n",
              "    element.style[key] = styleAttributes[key];\n",
              "  }\n",
              "  return element;\n",
              "}\n",
              "\n",
              "// Max number of bytes which will be uploaded at a time.\n",
              "const MAX_PAYLOAD_SIZE = 100 * 1024;\n",
              "\n",
              "function _uploadFiles(inputId, outputId) {\n",
              "  const steps = uploadFilesStep(inputId, outputId);\n",
              "  const outputElement = document.getElementById(outputId);\n",
              "  // Cache steps on the outputElement to make it available for the next call\n",
              "  // to uploadFilesContinue from Python.\n",
              "  outputElement.steps = steps;\n",
              "\n",
              "  return _uploadFilesContinue(outputId);\n",
              "}\n",
              "\n",
              "// This is roughly an async generator (not supported in the browser yet),\n",
              "// where there are multiple asynchronous steps and the Python side is going\n",
              "// to poll for completion of each step.\n",
              "// This uses a Promise to block the python side on completion of each step,\n",
              "// then passes the result of the previous step as the input to the next step.\n",
              "function _uploadFilesContinue(outputId) {\n",
              "  const outputElement = document.getElementById(outputId);\n",
              "  const steps = outputElement.steps;\n",
              "\n",
              "  const next = steps.next(outputElement.lastPromiseValue);\n",
              "  return Promise.resolve(next.value.promise).then((value) => {\n",
              "    // Cache the last promise value to make it available to the next\n",
              "    // step of the generator.\n",
              "    outputElement.lastPromiseValue = value;\n",
              "    return next.value.response;\n",
              "  });\n",
              "}\n",
              "\n",
              "/**\n",
              " * Generator function which is called between each async step of the upload\n",
              " * process.\n",
              " * @param {string} inputId Element ID of the input file picker element.\n",
              " * @param {string} outputId Element ID of the output display.\n",
              " * @return {!Iterable<!Object>} Iterable of next steps.\n",
              " */\n",
              "function* uploadFilesStep(inputId, outputId) {\n",
              "  const inputElement = document.getElementById(inputId);\n",
              "  inputElement.disabled = false;\n",
              "\n",
              "  const outputElement = document.getElementById(outputId);\n",
              "  outputElement.innerHTML = '';\n",
              "\n",
              "  const pickedPromise = new Promise((resolve) => {\n",
              "    inputElement.addEventListener('change', (e) => {\n",
              "      resolve(e.target.files);\n",
              "    });\n",
              "  });\n",
              "\n",
              "  const cancel = document.createElement('button');\n",
              "  inputElement.parentElement.appendChild(cancel);\n",
              "  cancel.textContent = 'Cancel upload';\n",
              "  const cancelPromise = new Promise((resolve) => {\n",
              "    cancel.onclick = () => {\n",
              "      resolve(null);\n",
              "    };\n",
              "  });\n",
              "\n",
              "  // Wait for the user to pick the files.\n",
              "  const files = yield {\n",
              "    promise: Promise.race([pickedPromise, cancelPromise]),\n",
              "    response: {\n",
              "      action: 'starting',\n",
              "    }\n",
              "  };\n",
              "\n",
              "  cancel.remove();\n",
              "\n",
              "  // Disable the input element since further picks are not allowed.\n",
              "  inputElement.disabled = true;\n",
              "\n",
              "  if (!files) {\n",
              "    return {\n",
              "      response: {\n",
              "        action: 'complete',\n",
              "      }\n",
              "    };\n",
              "  }\n",
              "\n",
              "  for (const file of files) {\n",
              "    const li = document.createElement('li');\n",
              "    li.append(span(file.name, {fontWeight: 'bold'}));\n",
              "    li.append(span(\n",
              "        `(${file.type || 'n/a'}) - ${file.size} bytes, ` +\n",
              "        `last modified: ${\n",
              "            file.lastModifiedDate ? file.lastModifiedDate.toLocaleDateString() :\n",
              "                                    'n/a'} - `));\n",
              "    const percent = span('0% done');\n",
              "    li.appendChild(percent);\n",
              "\n",
              "    outputElement.appendChild(li);\n",
              "\n",
              "    const fileDataPromise = new Promise((resolve) => {\n",
              "      const reader = new FileReader();\n",
              "      reader.onload = (e) => {\n",
              "        resolve(e.target.result);\n",
              "      };\n",
              "      reader.readAsArrayBuffer(file);\n",
              "    });\n",
              "    // Wait for the data to be ready.\n",
              "    let fileData = yield {\n",
              "      promise: fileDataPromise,\n",
              "      response: {\n",
              "        action: 'continue',\n",
              "      }\n",
              "    };\n",
              "\n",
              "    // Use a chunked sending to avoid message size limits. See b/62115660.\n",
              "    let position = 0;\n",
              "    do {\n",
              "      const length = Math.min(fileData.byteLength - position, MAX_PAYLOAD_SIZE);\n",
              "      const chunk = new Uint8Array(fileData, position, length);\n",
              "      position += length;\n",
              "\n",
              "      const base64 = btoa(String.fromCharCode.apply(null, chunk));\n",
              "      yield {\n",
              "        response: {\n",
              "          action: 'append',\n",
              "          file: file.name,\n",
              "          data: base64,\n",
              "        },\n",
              "      };\n",
              "\n",
              "      let percentDone = fileData.byteLength === 0 ?\n",
              "          100 :\n",
              "          Math.round((position / fileData.byteLength) * 100);\n",
              "      percent.textContent = `${percentDone}% done`;\n",
              "\n",
              "    } while (position < fileData.byteLength);\n",
              "  }\n",
              "\n",
              "  // All done.\n",
              "  yield {\n",
              "    response: {\n",
              "      action: 'complete',\n",
              "    }\n",
              "  };\n",
              "}\n",
              "\n",
              "scope.google = scope.google || {};\n",
              "scope.google.colab = scope.google.colab || {};\n",
              "scope.google.colab._files = {\n",
              "  _uploadFiles,\n",
              "  _uploadFilesContinue,\n",
              "};\n",
              "})(self);\n",
              "</script> "
            ]
          },
          "metadata": {}
        },
        {
          "output_type": "stream",
          "name": "stdout",
          "text": [
            "Saving Titanic-Dataset.csv to Titanic-Dataset.csv\n"
          ]
        }
      ]
    },
    {
      "cell_type": "code",
      "source": [
        "# Загрузка данных\n",
        "data = pd.read_csv(\"Titanic-Dataset.csv\")\n",
        "\n",
        "# Выбор необходимых столбцов\n",
        "data = data[['Survived', 'Pclass', 'Sex', 'Age', 'SibSp', 'Parch', 'Fare']]\n",
        "\n",
        "# Обработка пропусков\n",
        "data['Age'].fillna(data['Age'].median(), inplace=True)\n",
        "\n",
        "# Кодирование категориальных признаков\n",
        "data['Sex'] = data['Sex'].map({'male': 0, 'female': 1})\n",
        "\n",
        "# Разделение данных на обучающую и тестовую выборки\n",
        "X = data.drop('Survived', axis=1)\n",
        "y = data['Survived']\n",
        "X_train, X_test, y_train, y_test = train_test_split(X, y, test_size=0.2, random_state=42)\n",
        "data"
      ],
      "metadata": {
        "colab": {
          "base_uri": "https://localhost:8080/",
          "height": 564
        },
        "id": "i2zgAXjk3zfv",
        "outputId": "d3b1cc24-dfb8-448e-ba80-0b854382a73d",
        "collapsed": true
      },
      "execution_count": null,
      "outputs": [
        {
          "output_type": "stream",
          "name": "stderr",
          "text": [
            "<ipython-input-4-f1eb8f617e70>:8: FutureWarning: A value is trying to be set on a copy of a DataFrame or Series through chained assignment using an inplace method.\n",
            "The behavior will change in pandas 3.0. This inplace method will never work because the intermediate object on which we are setting values always behaves as a copy.\n",
            "\n",
            "For example, when doing 'df[col].method(value, inplace=True)', try using 'df.method({col: value}, inplace=True)' or df[col] = df[col].method(value) instead, to perform the operation inplace on the original object.\n",
            "\n",
            "\n",
            "  data['Age'].fillna(data['Age'].median(), inplace=True)\n"
          ]
        },
        {
          "output_type": "execute_result",
          "data": {
            "text/plain": [
              "     Survived  Pclass  Sex   Age  SibSp  Parch     Fare\n",
              "0           0       3    0  22.0      1      0   7.2500\n",
              "1           1       1    1  38.0      1      0  71.2833\n",
              "2           1       3    1  26.0      0      0   7.9250\n",
              "3           1       1    1  35.0      1      0  53.1000\n",
              "4           0       3    0  35.0      0      0   8.0500\n",
              "..        ...     ...  ...   ...    ...    ...      ...\n",
              "886         0       2    0  27.0      0      0  13.0000\n",
              "887         1       1    1  19.0      0      0  30.0000\n",
              "888         0       3    1  28.0      1      2  23.4500\n",
              "889         1       1    0  26.0      0      0  30.0000\n",
              "890         0       3    0  32.0      0      0   7.7500\n",
              "\n",
              "[891 rows x 7 columns]"
            ],
            "text/html": [
              "\n",
              "  <div id=\"df-da792c40-b9ad-4337-9f91-56f57c2a0d6b\" class=\"colab-df-container\">\n",
              "    <div>\n",
              "<style scoped>\n",
              "    .dataframe tbody tr th:only-of-type {\n",
              "        vertical-align: middle;\n",
              "    }\n",
              "\n",
              "    .dataframe tbody tr th {\n",
              "        vertical-align: top;\n",
              "    }\n",
              "\n",
              "    .dataframe thead th {\n",
              "        text-align: right;\n",
              "    }\n",
              "</style>\n",
              "<table border=\"1\" class=\"dataframe\">\n",
              "  <thead>\n",
              "    <tr style=\"text-align: right;\">\n",
              "      <th></th>\n",
              "      <th>Survived</th>\n",
              "      <th>Pclass</th>\n",
              "      <th>Sex</th>\n",
              "      <th>Age</th>\n",
              "      <th>SibSp</th>\n",
              "      <th>Parch</th>\n",
              "      <th>Fare</th>\n",
              "    </tr>\n",
              "  </thead>\n",
              "  <tbody>\n",
              "    <tr>\n",
              "      <th>0</th>\n",
              "      <td>0</td>\n",
              "      <td>3</td>\n",
              "      <td>0</td>\n",
              "      <td>22.0</td>\n",
              "      <td>1</td>\n",
              "      <td>0</td>\n",
              "      <td>7.2500</td>\n",
              "    </tr>\n",
              "    <tr>\n",
              "      <th>1</th>\n",
              "      <td>1</td>\n",
              "      <td>1</td>\n",
              "      <td>1</td>\n",
              "      <td>38.0</td>\n",
              "      <td>1</td>\n",
              "      <td>0</td>\n",
              "      <td>71.2833</td>\n",
              "    </tr>\n",
              "    <tr>\n",
              "      <th>2</th>\n",
              "      <td>1</td>\n",
              "      <td>3</td>\n",
              "      <td>1</td>\n",
              "      <td>26.0</td>\n",
              "      <td>0</td>\n",
              "      <td>0</td>\n",
              "      <td>7.9250</td>\n",
              "    </tr>\n",
              "    <tr>\n",
              "      <th>3</th>\n",
              "      <td>1</td>\n",
              "      <td>1</td>\n",
              "      <td>1</td>\n",
              "      <td>35.0</td>\n",
              "      <td>1</td>\n",
              "      <td>0</td>\n",
              "      <td>53.1000</td>\n",
              "    </tr>\n",
              "    <tr>\n",
              "      <th>4</th>\n",
              "      <td>0</td>\n",
              "      <td>3</td>\n",
              "      <td>0</td>\n",
              "      <td>35.0</td>\n",
              "      <td>0</td>\n",
              "      <td>0</td>\n",
              "      <td>8.0500</td>\n",
              "    </tr>\n",
              "    <tr>\n",
              "      <th>...</th>\n",
              "      <td>...</td>\n",
              "      <td>...</td>\n",
              "      <td>...</td>\n",
              "      <td>...</td>\n",
              "      <td>...</td>\n",
              "      <td>...</td>\n",
              "      <td>...</td>\n",
              "    </tr>\n",
              "    <tr>\n",
              "      <th>886</th>\n",
              "      <td>0</td>\n",
              "      <td>2</td>\n",
              "      <td>0</td>\n",
              "      <td>27.0</td>\n",
              "      <td>0</td>\n",
              "      <td>0</td>\n",
              "      <td>13.0000</td>\n",
              "    </tr>\n",
              "    <tr>\n",
              "      <th>887</th>\n",
              "      <td>1</td>\n",
              "      <td>1</td>\n",
              "      <td>1</td>\n",
              "      <td>19.0</td>\n",
              "      <td>0</td>\n",
              "      <td>0</td>\n",
              "      <td>30.0000</td>\n",
              "    </tr>\n",
              "    <tr>\n",
              "      <th>888</th>\n",
              "      <td>0</td>\n",
              "      <td>3</td>\n",
              "      <td>1</td>\n",
              "      <td>28.0</td>\n",
              "      <td>1</td>\n",
              "      <td>2</td>\n",
              "      <td>23.4500</td>\n",
              "    </tr>\n",
              "    <tr>\n",
              "      <th>889</th>\n",
              "      <td>1</td>\n",
              "      <td>1</td>\n",
              "      <td>0</td>\n",
              "      <td>26.0</td>\n",
              "      <td>0</td>\n",
              "      <td>0</td>\n",
              "      <td>30.0000</td>\n",
              "    </tr>\n",
              "    <tr>\n",
              "      <th>890</th>\n",
              "      <td>0</td>\n",
              "      <td>3</td>\n",
              "      <td>0</td>\n",
              "      <td>32.0</td>\n",
              "      <td>0</td>\n",
              "      <td>0</td>\n",
              "      <td>7.7500</td>\n",
              "    </tr>\n",
              "  </tbody>\n",
              "</table>\n",
              "<p>891 rows × 7 columns</p>\n",
              "</div>\n",
              "    <div class=\"colab-df-buttons\">\n",
              "\n",
              "  <div class=\"colab-df-container\">\n",
              "    <button class=\"colab-df-convert\" onclick=\"convertToInteractive('df-da792c40-b9ad-4337-9f91-56f57c2a0d6b')\"\n",
              "            title=\"Convert this dataframe to an interactive table.\"\n",
              "            style=\"display:none;\">\n",
              "\n",
              "  <svg xmlns=\"http://www.w3.org/2000/svg\" height=\"24px\" viewBox=\"0 -960 960 960\">\n",
              "    <path d=\"M120-120v-720h720v720H120Zm60-500h600v-160H180v160Zm220 220h160v-160H400v160Zm0 220h160v-160H400v160ZM180-400h160v-160H180v160Zm440 0h160v-160H620v160ZM180-180h160v-160H180v160Zm440 0h160v-160H620v160Z\"/>\n",
              "  </svg>\n",
              "    </button>\n",
              "\n",
              "  <style>\n",
              "    .colab-df-container {\n",
              "      display:flex;\n",
              "      gap: 12px;\n",
              "    }\n",
              "\n",
              "    .colab-df-convert {\n",
              "      background-color: #E8F0FE;\n",
              "      border: none;\n",
              "      border-radius: 50%;\n",
              "      cursor: pointer;\n",
              "      display: none;\n",
              "      fill: #1967D2;\n",
              "      height: 32px;\n",
              "      padding: 0 0 0 0;\n",
              "      width: 32px;\n",
              "    }\n",
              "\n",
              "    .colab-df-convert:hover {\n",
              "      background-color: #E2EBFA;\n",
              "      box-shadow: 0px 1px 2px rgba(60, 64, 67, 0.3), 0px 1px 3px 1px rgba(60, 64, 67, 0.15);\n",
              "      fill: #174EA6;\n",
              "    }\n",
              "\n",
              "    .colab-df-buttons div {\n",
              "      margin-bottom: 4px;\n",
              "    }\n",
              "\n",
              "    [theme=dark] .colab-df-convert {\n",
              "      background-color: #3B4455;\n",
              "      fill: #D2E3FC;\n",
              "    }\n",
              "\n",
              "    [theme=dark] .colab-df-convert:hover {\n",
              "      background-color: #434B5C;\n",
              "      box-shadow: 0px 1px 3px 1px rgba(0, 0, 0, 0.15);\n",
              "      filter: drop-shadow(0px 1px 2px rgba(0, 0, 0, 0.3));\n",
              "      fill: #FFFFFF;\n",
              "    }\n",
              "  </style>\n",
              "\n",
              "    <script>\n",
              "      const buttonEl =\n",
              "        document.querySelector('#df-da792c40-b9ad-4337-9f91-56f57c2a0d6b button.colab-df-convert');\n",
              "      buttonEl.style.display =\n",
              "        google.colab.kernel.accessAllowed ? 'block' : 'none';\n",
              "\n",
              "      async function convertToInteractive(key) {\n",
              "        const element = document.querySelector('#df-da792c40-b9ad-4337-9f91-56f57c2a0d6b');\n",
              "        const dataTable =\n",
              "          await google.colab.kernel.invokeFunction('convertToInteractive',\n",
              "                                                    [key], {});\n",
              "        if (!dataTable) return;\n",
              "\n",
              "        const docLinkHtml = 'Like what you see? Visit the ' +\n",
              "          '<a target=\"_blank\" href=https://colab.research.google.com/notebooks/data_table.ipynb>data table notebook</a>'\n",
              "          + ' to learn more about interactive tables.';\n",
              "        element.innerHTML = '';\n",
              "        dataTable['output_type'] = 'display_data';\n",
              "        await google.colab.output.renderOutput(dataTable, element);\n",
              "        const docLink = document.createElement('div');\n",
              "        docLink.innerHTML = docLinkHtml;\n",
              "        element.appendChild(docLink);\n",
              "      }\n",
              "    </script>\n",
              "  </div>\n",
              "\n",
              "\n",
              "<div id=\"df-07fe0c6a-171b-4f87-a8c5-2d585b53d629\">\n",
              "  <button class=\"colab-df-quickchart\" onclick=\"quickchart('df-07fe0c6a-171b-4f87-a8c5-2d585b53d629')\"\n",
              "            title=\"Suggest charts\"\n",
              "            style=\"display:none;\">\n",
              "\n",
              "<svg xmlns=\"http://www.w3.org/2000/svg\" height=\"24px\"viewBox=\"0 0 24 24\"\n",
              "     width=\"24px\">\n",
              "    <g>\n",
              "        <path d=\"M19 3H5c-1.1 0-2 .9-2 2v14c0 1.1.9 2 2 2h14c1.1 0 2-.9 2-2V5c0-1.1-.9-2-2-2zM9 17H7v-7h2v7zm4 0h-2V7h2v10zm4 0h-2v-4h2v4z\"/>\n",
              "    </g>\n",
              "</svg>\n",
              "  </button>\n",
              "\n",
              "<style>\n",
              "  .colab-df-quickchart {\n",
              "      --bg-color: #E8F0FE;\n",
              "      --fill-color: #1967D2;\n",
              "      --hover-bg-color: #E2EBFA;\n",
              "      --hover-fill-color: #174EA6;\n",
              "      --disabled-fill-color: #AAA;\n",
              "      --disabled-bg-color: #DDD;\n",
              "  }\n",
              "\n",
              "  [theme=dark] .colab-df-quickchart {\n",
              "      --bg-color: #3B4455;\n",
              "      --fill-color: #D2E3FC;\n",
              "      --hover-bg-color: #434B5C;\n",
              "      --hover-fill-color: #FFFFFF;\n",
              "      --disabled-bg-color: #3B4455;\n",
              "      --disabled-fill-color: #666;\n",
              "  }\n",
              "\n",
              "  .colab-df-quickchart {\n",
              "    background-color: var(--bg-color);\n",
              "    border: none;\n",
              "    border-radius: 50%;\n",
              "    cursor: pointer;\n",
              "    display: none;\n",
              "    fill: var(--fill-color);\n",
              "    height: 32px;\n",
              "    padding: 0;\n",
              "    width: 32px;\n",
              "  }\n",
              "\n",
              "  .colab-df-quickchart:hover {\n",
              "    background-color: var(--hover-bg-color);\n",
              "    box-shadow: 0 1px 2px rgba(60, 64, 67, 0.3), 0 1px 3px 1px rgba(60, 64, 67, 0.15);\n",
              "    fill: var(--button-hover-fill-color);\n",
              "  }\n",
              "\n",
              "  .colab-df-quickchart-complete:disabled,\n",
              "  .colab-df-quickchart-complete:disabled:hover {\n",
              "    background-color: var(--disabled-bg-color);\n",
              "    fill: var(--disabled-fill-color);\n",
              "    box-shadow: none;\n",
              "  }\n",
              "\n",
              "  .colab-df-spinner {\n",
              "    border: 2px solid var(--fill-color);\n",
              "    border-color: transparent;\n",
              "    border-bottom-color: var(--fill-color);\n",
              "    animation:\n",
              "      spin 1s steps(1) infinite;\n",
              "  }\n",
              "\n",
              "  @keyframes spin {\n",
              "    0% {\n",
              "      border-color: transparent;\n",
              "      border-bottom-color: var(--fill-color);\n",
              "      border-left-color: var(--fill-color);\n",
              "    }\n",
              "    20% {\n",
              "      border-color: transparent;\n",
              "      border-left-color: var(--fill-color);\n",
              "      border-top-color: var(--fill-color);\n",
              "    }\n",
              "    30% {\n",
              "      border-color: transparent;\n",
              "      border-left-color: var(--fill-color);\n",
              "      border-top-color: var(--fill-color);\n",
              "      border-right-color: var(--fill-color);\n",
              "    }\n",
              "    40% {\n",
              "      border-color: transparent;\n",
              "      border-right-color: var(--fill-color);\n",
              "      border-top-color: var(--fill-color);\n",
              "    }\n",
              "    60% {\n",
              "      border-color: transparent;\n",
              "      border-right-color: var(--fill-color);\n",
              "    }\n",
              "    80% {\n",
              "      border-color: transparent;\n",
              "      border-right-color: var(--fill-color);\n",
              "      border-bottom-color: var(--fill-color);\n",
              "    }\n",
              "    90% {\n",
              "      border-color: transparent;\n",
              "      border-bottom-color: var(--fill-color);\n",
              "    }\n",
              "  }\n",
              "</style>\n",
              "\n",
              "  <script>\n",
              "    async function quickchart(key) {\n",
              "      const quickchartButtonEl =\n",
              "        document.querySelector('#' + key + ' button');\n",
              "      quickchartButtonEl.disabled = true;  // To prevent multiple clicks.\n",
              "      quickchartButtonEl.classList.add('colab-df-spinner');\n",
              "      try {\n",
              "        const charts = await google.colab.kernel.invokeFunction(\n",
              "            'suggestCharts', [key], {});\n",
              "      } catch (error) {\n",
              "        console.error('Error during call to suggestCharts:', error);\n",
              "      }\n",
              "      quickchartButtonEl.classList.remove('colab-df-spinner');\n",
              "      quickchartButtonEl.classList.add('colab-df-quickchart-complete');\n",
              "    }\n",
              "    (() => {\n",
              "      let quickchartButtonEl =\n",
              "        document.querySelector('#df-07fe0c6a-171b-4f87-a8c5-2d585b53d629 button');\n",
              "      quickchartButtonEl.style.display =\n",
              "        google.colab.kernel.accessAllowed ? 'block' : 'none';\n",
              "    })();\n",
              "  </script>\n",
              "</div>\n",
              "    </div>\n",
              "  </div>\n"
            ],
            "application/vnd.google.colaboratory.intrinsic+json": {
              "type": "dataframe",
              "variable_name": "data",
              "summary": "{\n  \"name\": \"data\",\n  \"rows\": 891,\n  \"fields\": [\n    {\n      \"column\": \"Survived\",\n      \"properties\": {\n        \"dtype\": \"number\",\n        \"std\": 0,\n        \"min\": 0,\n        \"max\": 1,\n        \"num_unique_values\": 2,\n        \"samples\": [\n          1,\n          0\n        ],\n        \"semantic_type\": \"\",\n        \"description\": \"\"\n      }\n    },\n    {\n      \"column\": \"Pclass\",\n      \"properties\": {\n        \"dtype\": \"number\",\n        \"std\": 0,\n        \"min\": 1,\n        \"max\": 3,\n        \"num_unique_values\": 3,\n        \"samples\": [\n          3,\n          1\n        ],\n        \"semantic_type\": \"\",\n        \"description\": \"\"\n      }\n    },\n    {\n      \"column\": \"Sex\",\n      \"properties\": {\n        \"dtype\": \"number\",\n        \"std\": 0,\n        \"min\": 0,\n        \"max\": 1,\n        \"num_unique_values\": 2,\n        \"samples\": [\n          1,\n          0\n        ],\n        \"semantic_type\": \"\",\n        \"description\": \"\"\n      }\n    },\n    {\n      \"column\": \"Age\",\n      \"properties\": {\n        \"dtype\": \"number\",\n        \"std\": 13.019696550973194,\n        \"min\": 0.42,\n        \"max\": 80.0,\n        \"num_unique_values\": 88,\n        \"samples\": [\n          0.75,\n          22.0\n        ],\n        \"semantic_type\": \"\",\n        \"description\": \"\"\n      }\n    },\n    {\n      \"column\": \"SibSp\",\n      \"properties\": {\n        \"dtype\": \"number\",\n        \"std\": 1,\n        \"min\": 0,\n        \"max\": 8,\n        \"num_unique_values\": 7,\n        \"samples\": [\n          1,\n          0\n        ],\n        \"semantic_type\": \"\",\n        \"description\": \"\"\n      }\n    },\n    {\n      \"column\": \"Parch\",\n      \"properties\": {\n        \"dtype\": \"number\",\n        \"std\": 0,\n        \"min\": 0,\n        \"max\": 6,\n        \"num_unique_values\": 7,\n        \"samples\": [\n          0,\n          1\n        ],\n        \"semantic_type\": \"\",\n        \"description\": \"\"\n      }\n    },\n    {\n      \"column\": \"Fare\",\n      \"properties\": {\n        \"dtype\": \"number\",\n        \"std\": 49.693428597180905,\n        \"min\": 0.0,\n        \"max\": 512.3292,\n        \"num_unique_values\": 248,\n        \"samples\": [\n          11.2417,\n          51.8625\n        ],\n        \"semantic_type\": \"\",\n        \"description\": \"\"\n      }\n    }\n  ]\n}"
            }
          },
          "metadata": {},
          "execution_count": 4
        }
      ]
    },
    {
      "cell_type": "markdown",
      "source": [
        "### 3.2. Обучение модели\n",
        "\n",
        "Создаем и обучаем модель CatBoost:"
      ],
      "metadata": {
        "id": "GzYbuC6dfSs1"
      }
    },
    {
      "cell_type": "code",
      "source": [
        "# обучение модели\n",
        "model = CatBoostClassifier(iterations=1000, learning_rate=0.1, depth=6, verbose=100)\n",
        "model.fit(X_train, y_train)"
      ],
      "metadata": {
        "colab": {
          "base_uri": "https://localhost:8080/"
        },
        "id": "NI_mO--U8iYw",
        "outputId": "d4f00cae-0fcd-47f1-8ace-d365a594860f"
      },
      "execution_count": null,
      "outputs": [
        {
          "output_type": "stream",
          "name": "stdout",
          "text": [
            "0:\tlearn: 0.6236302\ttotal: 49ms\tremaining: 49s\n",
            "100:\tlearn: 0.2764237\ttotal: 179ms\tremaining: 1.59s\n",
            "200:\tlearn: 0.1962799\ttotal: 279ms\tremaining: 1.11s\n",
            "300:\tlearn: 0.1547785\ttotal: 386ms\tremaining: 895ms\n",
            "400:\tlearn: 0.1290951\ttotal: 488ms\tremaining: 729ms\n",
            "500:\tlearn: 0.1108922\ttotal: 591ms\tremaining: 589ms\n",
            "600:\tlearn: 0.0958981\ttotal: 696ms\tremaining: 462ms\n",
            "700:\tlearn: 0.0858038\ttotal: 800ms\tremaining: 341ms\n",
            "800:\tlearn: 0.0786892\ttotal: 897ms\tremaining: 223ms\n",
            "900:\tlearn: 0.0733998\ttotal: 994ms\tremaining: 109ms\n",
            "999:\tlearn: 0.0696733\ttotal: 1.1s\tremaining: 0us\n"
          ]
        },
        {
          "output_type": "execute_result",
          "data": {
            "text/plain": [
              "<catboost.core.CatBoostClassifier at 0x7bd492039390>"
            ]
          },
          "metadata": {},
          "execution_count": 5
        }
      ]
    },
    {
      "cell_type": "markdown",
      "source": [
        "### 3.3. Оценка модели\n",
        "\n",
        "Теперь оценим качество модели:"
      ],
      "metadata": {
        "id": "RL_fTttCfXlg"
      }
    },
    {
      "cell_type": "code",
      "source": [
        "# оценка модели\n",
        "y_pred = model.predict(X_test)\n",
        "\n",
        "# Accuracy\n",
        "accuracy = accuracy_score(y_test, y_pred)\n",
        "print(f'Accuracy: {accuracy:.2f}')\n",
        "\n",
        "# Classification report\n",
        "print(classification_report(y_test, y_pred))"
      ],
      "metadata": {
        "colab": {
          "base_uri": "https://localhost:8080/"
        },
        "id": "yuwkTqmN8lvn",
        "outputId": "c465b485-d27f-4982-c815-d0850ea2f182"
      },
      "execution_count": null,
      "outputs": [
        {
          "output_type": "stream",
          "name": "stdout",
          "text": [
            "Accuracy: 0.80\n",
            "              precision    recall  f1-score   support\n",
            "\n",
            "           0       0.82      0.84      0.83       105\n",
            "           1       0.76      0.74      0.75        74\n",
            "\n",
            "    accuracy                           0.80       179\n",
            "   macro avg       0.79      0.79      0.79       179\n",
            "weighted avg       0.80      0.80      0.80       179\n",
            "\n"
          ]
        }
      ]
    },
    {
      "cell_type": "markdown",
      "source": [
        "### 3.4. Важность признаков\n",
        "\n",
        "CatBoost позволяет легко визуализировать важность признаков:"
      ],
      "metadata": {
        "id": "QqkfDwWzfdpn"
      }
    },
    {
      "cell_type": "code",
      "source": [
        "# важность признаков\n",
        "feature_importances = model.get_feature_importance()\n",
        "plt.barh(X.columns, feature_importances)\n",
        "plt.xlabel('Importance')\n",
        "plt.title('Feature Importance')\n",
        "plt.show()"
      ],
      "metadata": {
        "colab": {
          "base_uri": "https://localhost:8080/",
          "height": 472
        },
        "id": "tlKTOQ0E8rxQ",
        "outputId": "aa9f41f8-4746-4854-bd26-89078b43ccde"
      },
      "execution_count": null,
      "outputs": [
        {
          "output_type": "display_data",
          "data": {
            "text/plain": [
              "<Figure size 640x480 with 1 Axes>"
            ],
            "image/png": "[encoded data removed]"
          },
          "metadata": {}
        }
      ]
    },
    {
      "cell_type": "markdown",
      "source": [
        "## 4. Пример 2: Мультиклассовая классификация\n",
        "\n",
        "Рассмотрим набор данных \"Iris\", в котором мы будем предсказывать вид цветка.\n",
        "\n",
        "### 4.1. Подготовка данных\n",
        "\n",
        "\n",
        "\n"
      ],
      "metadata": {
        "id": "hLeOsYxPgwNJ"
      }
    },
    {
      "cell_type": "code",
      "source": [
        "from sklearn.datasets import load_iris\n",
        "\n",
        "# Загрузка данных\n",
        "iris = load_iris()\n",
        "X = iris.data\n",
        "y = iris.target\n",
        "\n",
        "# Разделение данных\n",
        "X_train, X_test, y_train, y_test = train_test_split(X, y, test_size=0.2, random_state=42)"
      ],
      "metadata": {
        "id": "jqENzTQdg2Fx"
      },
      "execution_count": null,
      "outputs": []
    },
    {
      "cell_type": "markdown",
      "source": [
        "### 4.2. Обучение модели"
      ],
      "metadata": {
        "id": "TEORRz_ZhEaj"
      }
    },
    {
      "cell_type": "code",
      "source": [
        "model = CatBoostClassifier(iterations=1000, learning_rate=0.1, depth=6, verbose=100)\n",
        "model.fit(X_train, y_train)"
      ],
      "metadata": {
        "colab": {
          "base_uri": "https://localhost:8080/"
        },
        "id": "tZyAjVn9hQK8",
        "outputId": "a9f55402-24dc-4bd1-dc91-9bb2534f3db3"
      },
      "execution_count": null,
      "outputs": [
        {
          "output_type": "stream",
          "name": "stdout",
          "text": [
            "0:\tlearn: 0.9813365\ttotal: 1.39ms\tremaining: 1.39s\n",
            "100:\tlearn: 0.0482433\ttotal: 48ms\tremaining: 428ms\n",
            "200:\tlearn: 0.0208260\ttotal: 93.7ms\tremaining: 372ms\n",
            "300:\tlearn: 0.0129658\ttotal: 150ms\tremaining: 347ms\n",
            "400:\tlearn: 0.0092262\ttotal: 204ms\tremaining: 305ms\n",
            "500:\tlearn: 0.0071433\ttotal: 259ms\tremaining: 258ms\n",
            "600:\tlearn: 0.0058393\ttotal: 330ms\tremaining: 219ms\n",
            "700:\tlearn: 0.0049524\ttotal: 377ms\tremaining: 161ms\n",
            "800:\tlearn: 0.0043034\ttotal: 430ms\tremaining: 107ms\n",
            "900:\tlearn: 0.0037637\ttotal: 479ms\tremaining: 52.7ms\n",
            "999:\tlearn: 0.0033542\ttotal: 528ms\tremaining: 0us\n"
          ]
        },
        {
          "output_type": "execute_result",
          "data": {
            "text/plain": [
              "<catboost.core.CatBoostClassifier at 0x7bd490b00370>"
            ]
          },
          "metadata": {},
          "execution_count": 9
        }
      ]
    },
    {
      "cell_type": "markdown",
      "source": [
        "### 4.3. Оценка модели"
      ],
      "metadata": {
        "id": "oARwKXhohqUQ"
      }
    },
    {
      "cell_type": "code",
      "source": [
        "y_pred = model.predict(X_test)\n",
        "\n",
        "# Accuracy\n",
        "accuracy = accuracy_score(y_test, y_pred)\n",
        "print(f'Accuracy: {accuracy:.2f}')\n",
        "\n",
        "# Classification report\n",
        "print(classification_report(y_test, y_pred))"
      ],
      "metadata": {
        "colab": {
          "base_uri": "https://localhost:8080/"
        },
        "id": "iio9Nq2Ehs7f",
        "outputId": "401ff484-33ac-47b0-9074-1069128e6742"
      },
      "execution_count": null,
      "outputs": [
        {
          "output_type": "stream",
          "name": "stdout",
          "text": [
            "Accuracy: 1.00\n",
            "              precision    recall  f1-score   support\n",
            "\n",
            "           0       1.00      1.00      1.00        10\n",
            "           1       1.00      1.00      1.00         9\n",
            "           2       1.00      1.00      1.00        11\n",
            "\n",
            "    accuracy                           1.00        30\n",
            "   macro avg       1.00      1.00      1.00        30\n",
            "weighted avg       1.00      1.00      1.00        30\n",
            "\n"
          ]
        }
      ]
    },
    {
      "cell_type": "markdown",
      "source": [
        "### 4.4. Важность признаков"
      ],
      "metadata": {
        "id": "ItjEi2EJh1gw"
      }
    },
    {
      "cell_type": "code",
      "source": [
        "feature_importances = model.get_feature_importance()\n",
        "plt.barh(iris.feature_names, feature_importances)\n",
        "plt.xlabel('Importance')\n",
        "plt.title('Feature Importance')\n",
        "plt.show()"
      ],
      "metadata": {
        "colab": {
          "base_uri": "https://localhost:8080/",
          "height": 472
        },
        "id": "t5nq-6G2h8zJ",
        "outputId": "5eb9f6e8-18df-4f9f-86cf-fc7d70cf4623"
      },
      "execution_count": null,
      "outputs": [
        {
          "output_type": "display_data",
          "data": {
            "text/plain": [
              "<Figure size 640x480 with 1 Axes>"
            ],
            "image/png": "[encoded data removed]"
          },
          "metadata": {}
        }
      ]
    },
    {
      "cell_type": "markdown",
      "source": [
        "## 5. Метрики для оценки качества классификации\n",
        "\n",
        "### 5.1. Accuracy\n",
        "\n",
        "Accuracy (доля правильных предсказаний) определяется как:\n",
        "\n",
        "$$\n",
        "\\text{Accuracy} = \\frac{TP + TN}{TP + TN + FP + FN}\n",
        "$$\n",
        "\n",
        "где:\n",
        "- $TP$ — истинно положительные,\n",
        "- $TN$ — истинно отрицательные,\n",
        "- $FP$ — ложно положительные,\n",
        "- $FN$ — ложно отрицательные.\n",
        "\n",
        "### 5.2. Precision и Recall\n",
        "\n",
        "- **Precision (точность)**:\n",
        "\n",
        "$$\n",
        "\\text{Precision} = \\frac{TP}{TP + FP}\n",
        "$$\n",
        "\n",
        "- **Recall (полнота)**:\n",
        "\n",
        "$$\n",
        "\\text{Recall} = \\frac{TP}{TP + FN}\n",
        "$$\n",
        "\n",
        "### 5.3. F1-score\n",
        "\n",
        "F1-score — гармоническое среднее точности и полноты:\n",
        "\n",
        "$$\n",
        "F1 = 2 \\cdot \\frac{\\text{Precision} \\cdot \\text{Recall}}{\\text{Precision} + \\text{Recall}}\n",
        "$$\n",
        "\n",
        "### 5.4. ROC и AUC\n",
        "\n",
        "- **ROC (Receiver Operating Characteristic)** — кривая, показывающая соотношение между чувствительностью (Recall) и специфичностью (1 - FPR).\n",
        "- **AUC (Area Under the Curve)** — площадь под кривой ROC. Чем выше AUC, тем лучше модель.\n",
        "\n",
        "## 6. Обработка категориальных признаков\n",
        "\n",
        "CatBoost может обрабатывать категориальные данные без необходимости их предварительного кодирования, что позволяет избежать переобучения и потери информации.\n",
        "\n",
        "### Пример обработки категориальных признаков"
      ],
      "metadata": {
        "id": "UzxsStp-iBHS"
      }
    },
    {
      "cell_type": "code",
      "source": [
        "# Пример данных\n",
        "data = pd.DataFrame({\n",
        "    'Category': ['A', 'B', 'A', 'C', 'B', 'C', 'A', 'B'],\n",
        "    'Value': [1, 2, 3, 4, 5, 6, 7, 8],\n",
        "    'Target': [0, 1, 0, 1, 0, 1, 0, 1]\n",
        "})\n",
        "\n",
        "# Определяем категориальные признаки\n",
        "cat_features = ['Category']\n",
        "\n",
        "# Разделяем данные\n",
        "X = data.drop('Target', axis=1)\n",
        "y = data['Target']\n",
        "\n",
        "# Создаем и обучаем модель\n",
        "model = CatBoostClassifier(iterations=100, learning_rate=0.1, depth=3, cat_features=cat_features, verbose=10)\n",
        "model.fit(X, y)"
      ],
      "metadata": {
        "colab": {
          "base_uri": "https://localhost:8080/"
        },
        "id": "3hI0pXRXD3cL",
        "outputId": "81766453-3762-4e12-f786-400b862e5080"
      },
      "execution_count": null,
      "outputs": [
        {
          "output_type": "stream",
          "name": "stdout",
          "text": [
            "0:\tlearn: 0.6868698\ttotal: 1.1ms\tremaining: 109ms\n",
            "10:\tlearn: 0.6289012\ttotal: 2.84ms\tremaining: 23ms\n",
            "20:\tlearn: 0.5732708\ttotal: 4.49ms\tremaining: 16.9ms\n",
            "30:\tlearn: 0.5185352\ttotal: 7.54ms\tremaining: 16.8ms\n",
            "40:\tlearn: 0.4761230\ttotal: 9.58ms\tremaining: 13.8ms\n",
            "50:\tlearn: 0.4339631\ttotal: 11.8ms\tremaining: 11.3ms\n",
            "60:\tlearn: 0.3850446\ttotal: 13.8ms\tremaining: 8.85ms\n",
            "70:\tlearn: 0.3622697\ttotal: 15.9ms\tremaining: 6.47ms\n",
            "80:\tlearn: 0.3358369\ttotal: 17.9ms\tremaining: 4.19ms\n",
            "90:\tlearn: 0.3189215\ttotal: 19.9ms\tremaining: 1.97ms\n",
            "99:\tlearn: 0.3039510\ttotal: 22ms\tremaining: 0us\n"
          ]
        },
        {
          "output_type": "execute_result",
          "data": {
            "text/plain": [
              "<catboost.core.CatBoostClassifier at 0x7bd47dfb6710>"
            ]
          },
          "metadata": {},
          "execution_count": 12
        }
      ]
    },
    {
      "cell_type": "markdown",
      "source": [
        "## 7. Настройка гиперпараметров\n",
        "\n",
        "### Пример настройки гиперпараметров с GridSearchCV"
      ],
      "metadata": {
        "id": "-JHdWCp7iuB4"
      }
    },
    {
      "cell_type": "code",
      "source": [
        "from sklearn.model_selection import GridSearchCV\n",
        "\n",
        "param_grid = {\n",
        "    'iterations': [100, 200],\n",
        "    'depth': [3, 6],\n",
        "    'learning_rate': [0.1, 0.01],\n",
        "}\n",
        "\n",
        "grid_search = GridSearchCV(estimator=CatBoostClassifier(cat_features=cat_features, verbose=0),\n",
        "                           param_grid=param_grid,\n",
        "                           scoring='accuracy',\n",
        "                           cv=3)\n",
        "\n",
        "grid_search.fit(X, y)\n",
        "print(\"Лучшие параметры:\", grid_search.best_params_)"
      ],
      "metadata": {
        "colab": {
          "base_uri": "https://localhost:8080/"
        },
        "id": "dxDJqMsNDZah",
        "outputId": "8f0a9373-15e2-466a-f1bd-1133ed221df7"
      },
      "execution_count": null,
      "outputs": [
        {
          "output_type": "stream",
          "name": "stdout",
          "text": [
            "Лучшие параметры: {'depth': 3, 'iterations': 100, 'learning_rate': 0.1}\n"
          ]
        }
      ]
    },
    {
      "cell_type": "markdown",
      "source": [
        "## 8. Кросс-валидация\n",
        "\n",
        "### Пример кросс-валидации"
      ],
      "metadata": {
        "id": "pUcIVnzJDPnH"
      }
    },
    {
      "cell_type": "code",
      "source": [
        "from catboost import Pool, cv, CatBoostClassifier\n",
        "import pandas as pd\n",
        "\n",
        "# Создаем Pool для кросс-валидации\n",
        "pool = Pool(data=X, label=y, cat_features=cat_features)\n",
        "\n",
        "# Параметры кросс-валидации\n",
        "params = {\n",
        "    'iterations': 100,\n",
        "    'learning_rate': 0.1,\n",
        "    \"verbose\": False,\n",
        "    'depth': 3,\n",
        "    'eval_metric': 'Accuracy',\n",
        "    'loss_function': 'Logloss',  # Добавили loss_function\n",
        "    'random_seed': 42  # Установка случайного сид для воспроизводимости\n",
        "}\n",
        "\n",
        "# Выполняем кросс-валидацию\n",
        "cv_results = cv(pool, params, fold_count=4, shuffle=True, plot=True)"
      ],
      "metadata": {
        "colab": {
          "base_uri": "https://localhost:8080/",
          "height": 364,
          "referenced_widgets": [
            "207eb24d089146f4acf4b1b87bca0da2"
          ]
        },
        "id": "YvO0K2W6nDK-",
        "outputId": "58ef1acf-88dd-4f33-ef4b-7061ec750de8"
      },
      "execution_count": null,
      "outputs": [
        {
          "output_type": "display_data",
          "data": {
            "text/plain": [
              "MetricVisualizer(layout=Layout(align_self='stretch', height='500px'))"
            ],
            "application/vnd.jupyter.widget-view+json": {
              "version_major": 2,
              "version_minor": 0,
              "model_id": "207eb24d089146f4acf4b1b87bca0da2"
            }
          },
          "metadata": {}
        },
        {
          "output_type": "stream",
          "name": "stdout",
          "text": [
            "Training on fold [0/4]\n",
            "\n",
            "bestTest = 1\n",
            "bestIteration = 2\n",
            "\n",
            "Training on fold [1/4]\n",
            "\n",
            "bestTest = 0\n",
            "bestIteration = 0\n",
            "\n",
            "Training on fold [2/4]\n",
            "\n",
            "bestTest = 1\n",
            "bestIteration = 6\n",
            "\n",
            "Training on fold [3/4]\n",
            "\n",
            "bestTest = 0.5\n",
            "bestIteration = 1\n",
            "\n"
          ]
        }
      ]
    },
    {
      "cell_type": "code",
      "source": [
        "from catboost import Pool, cv\n",
        "\n",
        "cv_data = [[\"France\", 1924, 44],\n",
        "           [\"USA\", 1932, 37],\n",
        "           [\"Switzerland\", 1928, 25],\n",
        "           [\"Norway\", 1952, 30],\n",
        "           [\"Japan\", 1972, 35],\n",
        "           [\"Mexico\", 1968, 112]]\n",
        "\n",
        "labels = [1, 1, 0, 0, 0, 1]\n",
        "\n",
        "cat_features = [0]\n",
        "\n",
        "cv_dataset = Pool(data=cv_data,\n",
        "                  label=labels,\n",
        "                  cat_features=cat_features)\n",
        "\n",
        "params = {\"iterations\": 100,\n",
        "          \"depth\": 2,\n",
        "          \"loss_function\": \"Logloss\",\n",
        "          \"verbose\": False}\n",
        "\n",
        "scores = cv(cv_dataset,\n",
        "            params,\n",
        "            fold_count=2,\n",
        "            plot=\"True\")"
      ],
      "metadata": {
        "colab": {
          "base_uri": "https://localhost:8080/",
          "height": 191,
          "referenced_widgets": [
            "762cf2a7e2d0407db8c980dbf8e6b00c"
          ]
        },
        "id": "Dy3ZiMUn4tk2",
        "outputId": "dc60f293-6099-4140-e4ee-7567c53800c4"
      },
      "execution_count": null,
      "outputs": [
        {
          "output_type": "display_data",
          "data": {
            "text/plain": [
              "MetricVisualizer(layout=Layout(align_self='stretch', height='500px'))"
            ],
            "application/vnd.jupyter.widget-view+json": {
              "version_major": 2,
              "version_minor": 0,
              "model_id": "762cf2a7e2d0407db8c980dbf8e6b00c"
            }
          },
          "metadata": {}
        },
        {
          "output_type": "stream",
          "name": "stdout",
          "text": [
            "Training on fold [0/2]\n",
            "\n",
            "bestTest = 0.5738373179\n",
            "bestIteration = 84\n",
            "\n",
            "Training on fold [1/2]\n",
            "\n",
            "bestTest = 0.693188484\n",
            "bestIteration = 0\n",
            "\n"
          ]
        }
      ]
    },
    {
      "cell_type": "markdown",
      "source": [
        "# Задание\n",
        "Для приведенного ниже набора данных создать и обучить модель, оценить ее качество и построить график важности признаков по примерам выше."
      ],
      "metadata": {
        "id": "8fm55G80mlfa"
      }
    },
    {
      "cell_type": "code",
      "source": [
        "# Создаем вымышленный набор данных\n",
        "data = pd.DataFrame({\n",
        "    'CustomerID': range(1, 101),\n",
        "    'Age': [25, 30, 35, 40, 45] * 20,\n",
        "    'Gender': ['Male', 'Female'] * 50,\n",
        "    'Region': ['North', 'South', 'East', 'West'] * 25,\n",
        "    'Churn': [0, 1, 0, 1, 0] * 20\n",
        "})\n",
        "\n",
        "# Кодируем категориальные признаки\n",
        "data['Gender'] = data['Gender'].map({'Male': 0, 'Female': 1})\n",
        "data['Region'] = data['Region'].astype('category')\n",
        "\n",
        "# Разделяем данные\n",
        "X = data.drop(['CustomerID', 'Churn'], axis=1)\n",
        "y = data['Churn']"
      ],
      "metadata": {
        "id": "NO11fEtUnJpf"
      },
      "execution_count": null,
      "outputs": []
    },
    {
      "cell_type": "markdown",
      "source": [
        "Таким образом, мы рассмотрели основные аспекты работы с библиотекой CatBoost для задач классификации. Мы изучили:\n",
        "\n",
        "- Теоретические основы градиентного бустинга и функции потерь для классификации.\n",
        "- Как установить и подготовить библиотеку CatBoost.\n",
        "- Примеры бинарной и мультиклассовой классификации.\n",
        "- Важность признаков и метрики для оценки качества модели.\n",
        "- Обработку категориальных признаков, настройку гиперпараметров и кросс-валидацию."
      ],
      "metadata": {
        "id": "d1gQHYR_TDQY"
      }
    },
    {
      "cell_type": "markdown",
      "source": [
        "# Библиотека CatBoost для задач регрессии\n",
        "\n",
        "\n",
        "## 1. Основные понятия\n",
        "\n",
        "###  Потери для задач регрессии\n",
        "\n",
        "Для задач регрессии используются различные функции потерь в зависимости от задачи:\n",
        "\n",
        "- **Среднеквадратичная ошибка (MSE)**. Функция потерь:\n",
        "\n",
        "$$\n",
        "L(y, F(x)) = \\frac{1}{n} \\sum_{i=1}^{n} (y_i - F(x_i))^2\n",
        "$$\n",
        "\n",
        "где $y$ — истинные значения, $F(x)$ — предсказанные значения.\n",
        "\n",
        "- **Средняя абсолютная ошибка (MAE)**. Функция потерь:\n",
        "\n",
        "$$\n",
        "L(y, F(x)) = \\frac{1}{n} \\sum_{i=1}^{n} |y_i - F(x_i)|\n",
        "$$\n",
        "\n",
        "## 2. Установка и подготовка к работе с CatBoost\n",
        "\n",
        "Для начала необходимо установить библиотеку. Это можно сделать с помощью pip:"
      ],
      "metadata": {
        "id": "ZheYxOkBjPKL"
      }
    },
    {
      "cell_type": "code",
      "source": [
        "!pip install catboost"
      ],
      "metadata": {
        "id": "z66ddN5d2Ybu"
      },
      "execution_count": null,
      "outputs": []
    },
    {
      "cell_type": "markdown",
      "source": [
        "Импортируем необходимые библиотеки:"
      ],
      "metadata": {
        "id": "3W2NtEUe2gA2"
      }
    },
    {
      "cell_type": "code",
      "source": [
        "import pandas as pd\n",
        "from catboost import CatBoostRegressor, Pool\n",
        "from sklearn.model_selection import train_test_split\n",
        "from sklearn.metrics import mean_squared_error, mean_absolute_error"
      ],
      "metadata": {
        "id": "Q2fKXAO4210h"
      },
      "execution_count": null,
      "outputs": []
    },
    {
      "cell_type": "markdown",
      "source": [
        "## 3. Пример 1: Регрессия\n",
        "\n",
        "### 3.1. Подготовка данных\n",
        "\n",
        "Рассмотрим набор данных \"California housing\", в котором мы будем предсказывать среднюю цену жилья."
      ],
      "metadata": {
        "id": "uB_3E4jm25Ng"
      }
    },
    {
      "cell_type": "code",
      "source": [
        "from sklearn.datasets import fetch_california_housing\n",
        "\n",
        "# Загрузка данных\n",
        "data = fetch_california_housing()\n",
        "X = pd.DataFrame(data.data, columns=data.feature_names)\n",
        "y = pd.Series(data.target)\n",
        "\n",
        "# Разделение данных на обучающую и тестовую выборки\n",
        "X_train, X_test, y_train, y_test = train_test_split(X, y, test_size=0.2, random_state=42)"
      ],
      "metadata": {
        "id": "p120a2lH24hS"
      },
      "execution_count": null,
      "outputs": []
    },
    {
      "cell_type": "markdown",
      "source": [
        "### 3.2. Обучение модели\n",
        "\n",
        "Создаем и обучаем модель CatBoost:"
      ],
      "metadata": {
        "id": "f2IuqNMt3aWV"
      }
    },
    {
      "cell_type": "code",
      "source": [
        "model = CatBoostRegressor(iterations=1000, learning_rate=0.1, depth=6, verbose=100)\n",
        "model.fit(X_train, y_train)"
      ],
      "metadata": {
        "colab": {
          "base_uri": "https://localhost:8080/"
        },
        "id": "8abH3Q_53dSN",
        "outputId": "98f31508-a02b-4db2-b3ea-c59388497ca1"
      },
      "execution_count": null,
      "outputs": [
        {
          "output_type": "stream",
          "name": "stdout",
          "text": [
            "0:\tlearn: 1.0916893\ttotal: 6.3ms\tremaining: 6.29s\n",
            "100:\tlearn: 0.4856977\ttotal: 976ms\tremaining: 8.69s\n",
            "200:\tlearn: 0.4317457\ttotal: 2.12s\tremaining: 8.43s\n",
            "300:\tlearn: 0.4010594\ttotal: 3.23s\tremaining: 7.5s\n",
            "400:\tlearn: 0.3779586\ttotal: 3.87s\tremaining: 5.79s\n",
            "500:\tlearn: 0.3608106\ttotal: 4.3s\tremaining: 4.29s\n",
            "600:\tlearn: 0.3459401\ttotal: 4.75s\tremaining: 3.15s\n",
            "700:\tlearn: 0.3332879\ttotal: 5.19s\tremaining: 2.21s\n",
            "800:\tlearn: 0.3220272\ttotal: 5.64s\tremaining: 1.4s\n",
            "900:\tlearn: 0.3119731\ttotal: 6.08s\tremaining: 668ms\n",
            "999:\tlearn: 0.3024983\ttotal: 6.53s\tremaining: 0us\n"
          ]
        },
        {
          "output_type": "execute_result",
          "data": {
            "text/plain": [
              "<catboost.core.CatBoostRegressor at 0x7bd48fc4b490>"
            ]
          },
          "metadata": {},
          "execution_count": 26
        }
      ]
    },
    {
      "cell_type": "markdown",
      "source": [
        "### 3.3. Оценка модели\n",
        "\n",
        "Теперь оценим качество модели:"
      ],
      "metadata": {
        "id": "3E1uYZH43kBk"
      }
    },
    {
      "cell_type": "code",
      "source": [
        "y_pred = model.predict(X_test)\n",
        "\n",
        "# Mean Squared Error\n",
        "mse = mean_squared_error(y_test, y_pred)\n",
        "print(f'Mean Squared Error: {mse:.2f}')\n",
        "\n",
        "# Mean Absolute Error\n",
        "mae = mean_absolute_error(y_test, y_pred)\n",
        "print(f'Mean Absolute Error: {mae:.2f}')"
      ],
      "metadata": {
        "colab": {
          "base_uri": "https://localhost:8080/"
        },
        "id": "eXFgGFRU3m4e",
        "outputId": "33fc578c-2d15-44e7-d9b9-7566a34876d0"
      },
      "execution_count": null,
      "outputs": [
        {
          "output_type": "stream",
          "name": "stdout",
          "text": [
            "Mean Squared Error: 0.19\n",
            "Mean Absolute Error: 0.29\n"
          ]
        }
      ]
    },
    {
      "cell_type": "markdown",
      "source": [
        "### 3.4. Важность признаков\n",
        "\n",
        "CatBoost позволяет легко визуализировать важность признаков:"
      ],
      "metadata": {
        "id": "uerayELD3rSt"
      }
    },
    {
      "cell_type": "code",
      "source": [
        "import matplotlib.pyplot as plt\n",
        "\n",
        "feature_importances = model.get_feature_importance()\n",
        "plt.barh(X.columns, feature_importances)\n",
        "plt.xlabel('Importance')\n",
        "plt.title('Feature Importance')\n",
        "plt.show()"
      ],
      "metadata": {
        "colab": {
          "base_uri": "https://localhost:8080/",
          "height": 472
        },
        "id": "gXugFWPx4eIj",
        "outputId": "79f34273-401f-48a9-f01e-46b55c9971d8"
      },
      "execution_count": null,
      "outputs": [
        {
          "output_type": "display_data",
          "data": {
            "text/plain": [
              "<Figure size 640x480 with 1 Axes>"
            ],
            "image/png": "[encoded data removed]"
          },
          "metadata": {}
        }
      ]
    },
    {
      "cell_type": "markdown",
      "source": [
        "## 4. Метрики для оценки качества регрессии\n",
        "\n",
        "### 4.1. Среднеквадратичная ошибка (MSE)\n",
        "\n",
        "Среднеквадратичная ошибка (MSE) определяется как:\n",
        "\n",
        "$$\n",
        "\\text{MSE} = \\frac{1}{n} \\sum_{i=1}^{n} (y_i - \\hat{y}_i)^2\n",
        "$$\n",
        "\n",
        "где:\n",
        "- $y_i$ — истинные значения,\n",
        "- $\\hat{y}_i$ — предсказанные значения.\n",
        "\n",
        "### 4.2. Средняя абсолютная ошибка (MAE)\n",
        "\n",
        "Средняя абсолютная ошибка (MAE) определяется как:\n",
        "\n",
        "$$\n",
        "\\text{MAE} = \\frac{1}{n} \\sum_{i=1}^{n} |y_i - \\hat{y}_i|\n",
        "$$\n",
        "\n",
        "## 5. Обработка категориальных признаков\n",
        "\n",
        "CatBoost может обрабатывать категориальные данные без необходимости их предварительного кодирования, что позволяет избежать переобучения и потери информации.\n",
        "\n",
        "### Пример обработки категориальных признаков"
      ],
      "metadata": {
        "id": "RYVq8QkBpTUN"
      }
    },
    {
      "cell_type": "code",
      "source": [
        "# Пример данных\n",
        "data = pd.DataFrame({\n",
        "    'Category': ['A', 'B', 'A', 'C', 'B', 'C', 'A', 'B'],\n",
        "    'Value': [1, 2, 3, 4, 5, 6, 7, 8],\n",
        "    'Target': [0.5, 1.0, 0.6, 1.5, 0.9, 1.2, 0.7, 1.0]\n",
        "})\n",
        "\n",
        "# Определяем категориальные признаки\n",
        "cat_features = ['Category']\n",
        "\n",
        "# Разделяем данные\n",
        "X = data.drop('Target', axis=1)\n",
        "y = data['Target']\n",
        "\n",
        "# Создаем и обучаем модель\n",
        "model = CatBoostRegressor(iterations=100, learning_rate=0.1, depth=3, cat_features=cat_features, verbose=10)\n",
        "model.fit(X, y)"
      ],
      "metadata": {
        "colab": {
          "base_uri": "https://localhost:8080/"
        },
        "id": "AIWgiU2_paxt",
        "outputId": "ba44a155-98aa-464c-9773-91cdf39a1be9"
      },
      "execution_count": null,
      "outputs": [
        {
          "output_type": "stream",
          "name": "stdout",
          "text": [
            "0:\tlearn: 0.3001805\ttotal: 400us\tremaining: 39.6ms\n",
            "10:\tlearn: 0.2368799\ttotal: 2.88ms\tremaining: 23.3ms\n",
            "20:\tlearn: 0.1876214\ttotal: 5.17ms\tremaining: 19.5ms\n",
            "30:\tlearn: 0.1525792\ttotal: 7.31ms\tremaining: 16.3ms\n",
            "40:\tlearn: 0.1244594\ttotal: 9.92ms\tremaining: 14.3ms\n",
            "50:\tlearn: 0.1052008\ttotal: 12.4ms\tremaining: 11.9ms\n",
            "60:\tlearn: 0.0875695\ttotal: 14.6ms\tremaining: 9.35ms\n",
            "70:\tlearn: 0.0718613\ttotal: 17.1ms\tremaining: 6.97ms\n",
            "80:\tlearn: 0.0603290\ttotal: 19.4ms\tremaining: 4.55ms\n",
            "90:\tlearn: 0.0539713\ttotal: 21.5ms\tremaining: 2.13ms\n",
            "99:\tlearn: 0.0470806\ttotal: 24.3ms\tremaining: 0us\n"
          ]
        },
        {
          "output_type": "execute_result",
          "data": {
            "text/plain": [
              "<catboost.core.CatBoostRegressor at 0x7bd49197d9c0>"
            ]
          },
          "metadata": {},
          "execution_count": 29
        }
      ]
    },
    {
      "cell_type": "markdown",
      "source": [
        "## 6. Настройка гиперпараметров\n",
        "\n",
        "### Пример настройки гиперпараметров с GridSearchCV"
      ],
      "metadata": {
        "id": "S3YM5JaJpjRP"
      }
    },
    {
      "cell_type": "code",
      "source": [
        "from sklearn.model_selection import GridSearchCV\n",
        "\n",
        "param_grid = {\n",
        "    'iterations': [100, 200],\n",
        "    'depth': [3, 6],\n",
        "    'learning_rate': [0.1, 0.01],\n",
        "}\n",
        "\n",
        "grid_search = GridSearchCV(estimator=CatBoostRegressor(cat_features=cat_features, verbose=0),\n",
        "                           param_grid=param_grid,\n",
        "                           scoring='neg_mean_squared_error',\n",
        "                           cv=3)\n",
        "\n",
        "grid_search.fit(X, y)\n",
        "print(\"Лучшие параметры:\", grid_search.best_params_)"
      ],
      "metadata": {
        "colab": {
          "base_uri": "https://localhost:8080/"
        },
        "id": "UWurwQC3pm41",
        "outputId": "a6ac89cb-a4cd-4b71-fc26-aad3ed534f15"
      },
      "execution_count": null,
      "outputs": [
        {
          "output_type": "stream",
          "name": "stdout",
          "text": [
            "Лучшие параметры: {'depth': 3, 'iterations': 100, 'learning_rate': 0.01}\n"
          ]
        }
      ]
    },
    {
      "cell_type": "markdown",
      "source": [
        "## 7. Кросс-валидация\n",
        "\n",
        "### Пример кросс-валидации"
      ],
      "metadata": {
        "id": "gCqcaScspvGv"
      }
    },
    {
      "cell_type": "code",
      "source": [
        "from catboost import cv, Pool\n",
        "\n",
        "# Создаем Pool для кросс-валидации\n",
        "pool = Pool(X, y, cat_features=cat_features)\n",
        "\n",
        "# Параметры кросс-валидации\n",
        "params = {\n",
        "    'iterations': 100,\n",
        "    'learning_rate': 0.1,\n",
        "    'depth': 3,\n",
        "    'loss_function': 'RMSE',\n",
        "    \"verbose\": False,\n",
        "    'eval_metric': 'RMSE'\n",
        "}\n",
        "\n",
        "# Выполняем кросс-валидацию\n",
        "cv_results = cv(pool, params, fold_count=5, shuffle=True, plot=True)"
      ],
      "metadata": {
        "colab": {
          "base_uri": "https://localhost:8080/",
          "height": 451,
          "referenced_widgets": [
            "13a29ceda479462981683f161b0407b7"
          ]
        },
        "id": "NLK8giiUpx4P",
        "outputId": "f5eba86d-ba4d-4302-b513-ec4ce461e6dd"
      },
      "execution_count": null,
      "outputs": [
        {
          "output_type": "display_data",
          "data": {
            "text/plain": [
              "MetricVisualizer(layout=Layout(align_self='stretch', height='500px'))"
            ],
            "application/vnd.jupyter.widget-view+json": {
              "version_major": 2,
              "version_minor": 0,
              "model_id": "13a29ceda479462981683f161b0407b7"
            }
          },
          "metadata": {}
        },
        {
          "output_type": "stream",
          "name": "stdout",
          "text": [
            "Training on fold [0/5]\n",
            "\n",
            "bestTest = 0.04455805534\n",
            "bestIteration = 15\n",
            "\n",
            "Training on fold [1/5]\n",
            "\n",
            "bestTest = 0.2439529856\n",
            "bestIteration = 71\n",
            "\n",
            "Training on fold [2/5]\n",
            "\n",
            "bestTest = 0.6178936868\n",
            "bestIteration = 55\n",
            "\n",
            "Training on fold [3/5]\n",
            "\n",
            "bestTest = 0.0546506211\n",
            "bestIteration = 40\n",
            "\n",
            "Training on fold [4/5]\n",
            "\n",
            "bestTest = 0.00723302175\n",
            "bestIteration = 26\n",
            "\n"
          ]
        }
      ]
    },
    {
      "cell_type": "markdown",
      "source": [
        "##Обработка категориальных признаков\n",
        "Для приведенного ниже набора данных обучить модель, оценить ее качество и визуалилировать важность признаков, как в предыдущем примере."
      ],
      "metadata": {
        "id": "u8UtcpuL4iYc"
      }
    },
    {
      "cell_type": "code",
      "source": [
        "import numpy as np\n",
        "\n",
        "# Создаем набор данных\n",
        "data = pd.DataFrame({\n",
        "    'Category': ['A', 'B', 'A', 'C', 'B', 'C', 'A', 'B', 'A', 'C'],\n",
        "    'Value': np.random.rand(10) * 10,\n",
        "    'Target': np.random.rand(10) * 100\n",
        "})\n",
        "\n",
        "# Проверяем данные\n",
        "print(data)"
      ],
      "metadata": {
        "colab": {
          "base_uri": "https://localhost:8080/"
        },
        "id": "eluuw4qYebt_",
        "outputId": "8d814170-0c87-4b41-b2d7-b4ae60cf4e82"
      },
      "execution_count": null,
      "outputs": [
        {
          "output_type": "stream",
          "name": "stdout",
          "text": [
            "  Category     Value     Target\n",
            "0        A  4.601971  58.629168\n",
            "1        B  1.153819  42.516467\n",
            "2        A  8.814167  30.443348\n",
            "3        C  9.415321  94.975966\n",
            "4        B  1.096842  52.537055\n",
            "5        C  7.444732  52.191193\n",
            "6        A  4.374002  69.902838\n",
            "7        B  3.666431  22.682669\n",
            "8        A  9.690954  21.668266\n",
            "9        C  7.079386  66.875970\n"
          ]
        }
      ]
    },
    {
      "cell_type": "code",
      "source": [
        "# Определяем категориальные признаки\n",
        "cat_features = ['Category']\n",
        "\n",
        "# Разделяем данные\n",
        "X = data.drop('Target', axis=1)\n",
        "y = data['Target']\n",
        "\n",
        "# Разделяем на обучающую и тестовую выборки\n",
        "X_train, X_test, y_train, y_test = train_test_split(X, y, test_size=0.2, random_state=42)"
      ],
      "metadata": {
        "id": "vfJyEoMreuyC"
      },
      "execution_count": null,
      "outputs": []
    },
    {
      "cell_type": "markdown",
      "source": [
        "### Обучение модели\n",
        "\n",
        "Обучаем модель, указывая, какие признаки являются категориальными."
      ],
      "metadata": {
        "id": "hHH5yvwdqapF"
      }
    },
    {
      "cell_type": "code",
      "source": [
        "# Создаем и обучаем модель\n",
        "model = CatBoostRegressor(iterations=100, learning_rate=0.1, depth=3, cat_features=cat_features, verbose=10)\n",
        "model.fit(X_train, y_train)"
      ],
      "metadata": {
        "colab": {
          "base_uri": "https://localhost:8080/"
        },
        "id": "k_AKiwtsrBiR",
        "outputId": "f1f8251f-4cc7-40d9-d8e3-97a828c02c06"
      },
      "execution_count": null,
      "outputs": [
        {
          "output_type": "stream",
          "name": "stdout",
          "text": [
            "0:\tlearn: 21.0813547\ttotal: 523us\tremaining: 51.8ms\n",
            "10:\tlearn: 18.2471436\ttotal: 3.38ms\tremaining: 27.3ms\n",
            "20:\tlearn: 15.9757834\ttotal: 5.66ms\tremaining: 21.3ms\n",
            "30:\tlearn: 13.5624952\ttotal: 7.93ms\tremaining: 17.6ms\n",
            "40:\tlearn: 11.3357199\ttotal: 10.2ms\tremaining: 14.7ms\n",
            "50:\tlearn: 9.2259131\ttotal: 13ms\tremaining: 12.5ms\n",
            "60:\tlearn: 7.8137436\ttotal: 15.3ms\tremaining: 9.77ms\n",
            "70:\tlearn: 6.5139944\ttotal: 18ms\tremaining: 7.34ms\n",
            "80:\tlearn: 5.6958869\ttotal: 20.4ms\tremaining: 4.78ms\n",
            "90:\tlearn: 4.9472339\ttotal: 22.7ms\tremaining: 2.24ms\n",
            "99:\tlearn: 4.2008280\ttotal: 25.4ms\tremaining: 0us\n"
          ]
        },
        {
          "output_type": "execute_result",
          "data": {
            "text/plain": [
              "<catboost.core.CatBoostRegressor at 0x7bd491ca6710>"
            ]
          },
          "metadata": {},
          "execution_count": 44
        }
      ]
    },
    {
      "cell_type": "markdown",
      "source": [
        "### Оценка модели\n",
        "\n",
        "Оцениваем качество модели, как и в предыдущем примере."
      ],
      "metadata": {
        "id": "4ydcpz_XrELw"
      }
    },
    {
      "cell_type": "code",
      "source": [
        "# Предсказания на тестовой выборке\n",
        "y_pred = model.predict(X_test)\n",
        "\n",
        "# Mean Squared Error\n",
        "mse = mean_squared_error(y_test, y_pred)\n",
        "print(f'Mean Squared Error: {mse:.2f}')\n",
        "\n",
        "# Mean Absolute Error\n",
        "mae = mean_absolute_error(y_test, y_pred)\n",
        "print(f'Mean Absolute Error: {mae:.2f}')"
      ],
      "metadata": {
        "colab": {
          "base_uri": "https://localhost:8080/"
        },
        "id": "dh24a636rHTZ",
        "outputId": "1f26ef05-2036-4b37-c270-ede13945c3bf"
      },
      "execution_count": null,
      "outputs": [
        {
          "output_type": "stream",
          "name": "stdout",
          "text": [
            "Mean Squared Error: 1337.24\n",
            "Mean Absolute Error: 31.94\n"
          ]
        }
      ]
    },
    {
      "cell_type": "markdown",
      "source": [
        "### Важность признаков\n",
        "\n",
        "Визуализируем важность признаков для модели с категориальными данными."
      ],
      "metadata": {
        "id": "BY_EGDYPrKcx"
      }
    },
    {
      "cell_type": "code",
      "source": [
        "# Получаем важность признаков\n",
        "feature_importances = model.get_feature_importance()\n",
        "plt.barh(X.columns, feature_importances)\n",
        "plt.xlabel('Importance')\n",
        "plt.title('Feature Importance')\n",
        "plt.show()"
      ],
      "metadata": {
        "colab": {
          "base_uri": "https://localhost:8080/",
          "height": 472
        },
        "id": "lNkiQzFqrNQR",
        "outputId": "8cf12d1f-1aeb-4a6e-e305-a0d4e04c553a"
      },
      "execution_count": null,
      "outputs": [
        {
          "output_type": "display_data",
          "data": {
            "text/plain": [
              "<Figure size 640x480 with 1 Axes>"
            ],
            "image/png": "[encoded data removed]"
          },
          "metadata": {}
        }
      ]
    },
    {
      "cell_type": "markdown",
      "source": [
        "Таким образом, мы рассмотрели основные аспекты работы с библиотекой CatBoost для задач регрессии. Мы изучили:\n",
        "\n",
        "- Теоретические основы градиентного бустинга и функции потерь для регрессии.\n",
        "- Как установить и подготовить библиотеку CatBoost.\n",
        "- Примеры регрессии на наборе данных California housing.\n",
        "- Важность признаков и метрики для оценки качества модели.\n",
        "- Обработку категориальных признаков, настройку гиперпараметров и кросс-валидацию.\n"
      ],
      "metadata": {
        "id": "kQFkGGe8TJNh"
      }
    }
  ]
}